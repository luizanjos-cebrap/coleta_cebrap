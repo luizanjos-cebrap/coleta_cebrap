{
  "nbformat": 4,
  "nbformat_minor": 0,
  "metadata": {
    "colab": {
      "provenance": [],
      "collapsed_sections": [
        "IVnoucUo1OFC",
        "pWna0sBzbiAd",
        "fAw8XXUWbhZ9",
        "mJ3ORFUgxaUM",
        "8ekPcHrWzgxd",
        "PF-_gzQ7vhJV",
        "cC1HGL5vzkAI",
        "CsW32Fgy3nZ0",
        "lTz1c2SoQocK",
        "-zASKHo-X2Wx",
        "ZKSevQsY7RwH",
        "FtnaPGW1H7ql",
        "n95CXG42eZij",
        "-kucb1dmhw6x",
        "NfpKlxicWnwB",
        "BWO2obxadLzK",
        "s2XbHHgAkERT",
        "t35tfinnjjxN",
        "G_MXyxiemD8A",
        "HPnrdHObkp3t",
        "ylENxfdGdLzP",
        "qhP1sxmopRDq",
        "5yqjmuxX4Ybi",
        "WBVa8JOs9MNK",
        "DU4iOv0BVmpO",
        "9GsVor_XcTK4",
        "Fq3H4VTleFaE",
        "qSUfKL51eHbF",
        "cBf37L5ein3R",
        "LXtqd5wIjuSQ"
      ]
    },
    "kernelspec": {
      "name": "python3",
      "display_name": "Python 3"
    },
    "language_info": {
      "name": "python"
    }
  },
  "cells": [
    {
      "cell_type": "markdown",
      "source": [
        "# Descrição\n",
        "\n",
        "A categoria \"Dimensões\" foi criada com o intuito de proporcionar uma melhor organização e categorização dos indicadores, facilitando a análise e o entendimento dos diversos aspectos abordados. Essa estrutura foi dividida em três grandes temas: Desenvolvimento Social, Desenvolvimento Econômico Integrado e Desenvolvimento Urbano Sustentável.\n",
        "\n",
        "Cada um desses temas aborda áreas essenciais para o desenvolvimento e o bem-estar da sociedade. O tema Desenvolvimento Social reúne indicadores relacionados às ações e estratégias voltadas para a melhoria da qualidade de vida das populações, com foco em questões como saúde, educação, assistência social e segurança. Já o Desenvolvimento Econômico Integrado concentra-se em aspectos ligados ao crescimento das cidades, infraestrutura, mobilidade urbana, e planejamento territorial, buscando otimizar os espaços urbanos para atender as necessidades de uma população crescente. Por fim, o tema Desenvolvimento Urbano Sustentável aborda a adaptação das cidades e comunidades aos impactos das mudanças climáticas, bem como a promoção de práticas sustentáveis para garantir a preservação do meio ambiente e o uso responsável dos recursos naturais.\n",
        "\n",
        "Com essa organização, os indicadores se tornam mais acessíveis e facilitam a análise das diferentes dimensões que impactam o desenvolvimento social, econômico e ambiental, promovendo uma visão integrada e mais eficaz para as tomadas de decisão."
      ],
      "metadata": {
        "id": "LA2fqZ9Zq-ci"
      }
    },
    {
      "cell_type": "markdown",
      "source": [
        "# Celulas Com Dependecias Globais"
      ],
      "metadata": {
        "id": "fSBcCUkgVyLx"
      }
    },
    {
      "cell_type": "markdown",
      "source": [
        "## imports Gerais"
      ],
      "metadata": {
        "id": "zGE9ZkYOrPPT"
      }
    },
    {
      "cell_type": "code",
      "execution_count": 1,
      "metadata": {
        "id": "Ry7c-tpeunMB"
      },
      "outputs": [],
      "source": [
        "from io import BytesIO\n",
        "import tempfile\n",
        "import zipfile\n",
        "import pandas as pd\n",
        "import pyarrow as pa\n",
        "import pyarrow.parquet as pq\n",
        "import requests\n",
        "from tqdm import tqdm\n",
        "from bs4 import BeautifulSoup\n",
        "from pathlib import Path\n",
        "import concurrent.futures\n",
        "from glob import glob\n",
        "import geopandas as gpd\n",
        "from shapely import wkt, Point\n",
        "import pyproj\n",
        "from IPython.display import clear_output\n",
        "import unicodedata\n",
        "import matplotlib.pyplot as plt\n",
        "from shapely.geometry import Polygon\n",
        "import numpy as np\n",
        "from io import StringIO\n",
        "import json\n",
        "import re"
      ]
    },
    {
      "cell_type": "markdown",
      "source": [
        "## Lib para download"
      ],
      "metadata": {
        "id": "0EXqSpoFCGbS"
      }
    },
    {
      "cell_type": "code",
      "source": [
        "!pip install odfpy\n",
        "!pip install datasus-dbc\n",
        "!pip install basedosdados==2.0.0b16\n",
        "clear_output()"
      ],
      "metadata": {
        "id": "-5jmt3IJ6wlI"
      },
      "execution_count": 2,
      "outputs": []
    },
    {
      "cell_type": "markdown",
      "source": [
        "## Constantes Globais\n",
        "\n",
        "> `billing_project_id` deve ser preenchida com seu projeto do Google Cloud. Mais informações de como criar um o que é uma projeto Google Cloud ▶ [Como criar projeto Google Cloud][access_data_bq]\n",
        "\n",
        "[access_data_bq]: https://basedosdados.org/docs/access_data_bq"
      ],
      "metadata": {
        "id": "mM_8pSG2kYcl"
      }
    },
    {
      "cell_type": "code",
      "source": [
        "billing_project_id = \"br-fbsp-absp\" # Define o nome do projeto Google que está vinculado ao email do colab"
      ],
      "metadata": {
        "id": "6hRO4XeXkaKr"
      },
      "execution_count": 3,
      "outputs": []
    },
    {
      "cell_type": "markdown",
      "source": [
        "## Funçoes Globais"
      ],
      "metadata": {
        "id": "UUY3McLOtM10"
      }
    },
    {
      "cell_type": "code",
      "source": [
        "\n",
        "def slugify(s: str,\n",
        "            remove_space: bool=False) -> str:\n",
        "  s = s.strip().lower()\n",
        "  s = unicodedata.normalize(\"NFD\", s)\n",
        "  s = s.encode(\"ascii\", \"ignore\")\n",
        "  s = s.decode(\"utf-8\")\n",
        "  if remove_space:\n",
        "    s = re.sub(r'[\\s_-]+', '', s)\n",
        "  return s\n",
        "\n",
        "\n",
        "def download_and_zip_extraction(url: str) -> None:\n",
        "    \"\"\"\n",
        "    Baixa um arquivo do FTP e retorna seu conteúdo em memória.\n",
        "\n",
        "    Parâmetros:\n",
        "    url (str): URL do arquivo a ser baixado.\n",
        "\n",
        "    Retorna:\n",
        "    Arquivo será baixado e extraido na pasta \"data/input\"\n",
        "    \"\"\"\n",
        "\n",
        "    headers = {\n",
        "      \"User-Agent\": \"Mozilla/5.0 (Windows NT 10.0; Win64; x64; rv:136.0) Gecko/20100101 Firefox/136.0\",\n",
        "      \"Accept\": \"text/html,application/xhtml+xml,application/xml;q=0.9,*/*;q=0.8\",\n",
        "      \"Accept-Language\": \"pt-BR,pt;q=0.8,en-US;q=0.5,en;q=0.3\",\n",
        "    }\n",
        "\n",
        "    base_path = Path(\"data\")\n",
        "    path_input = base_path / \"input\"\n",
        "\n",
        "    response = requests.get(url, headers=headers, stream=True)\n",
        "    response.raise_for_status()\n",
        "\n",
        "    save_path = path_input / url.split('/')[-1]\n",
        "\n",
        "    path_input.mkdir(parents=True, exist_ok=True)\n",
        "\n",
        "    with open(save_path, \"wb\") as fd:\n",
        "        for chunk in response.iter_content(chunk_size=128):\n",
        "            fd.write(chunk)\n",
        "\n",
        "    with zipfile.ZipFile(save_path) as z:\n",
        "        z.extractall(path_input)\n",
        "\n",
        "\n",
        "def overlap_percentage(outer_polygon, inner_polygon) -> float:\n",
        "    \"\"\"Calcula a porcentagem de um polígono que se sobrepõe a outro polígono.\"\"\"\n",
        "    try:\n",
        "      outer_polygon = Polygon(outer_polygon)\n",
        "      inner_polygon = Polygon(inner_polygon)\n",
        "\n",
        "      ratio = outer_polygon.intersection(inner_polygon).area / inner_polygon.area\n",
        "\n",
        "      return round(ratio * 100, 2)\n",
        "    except:\n",
        "      return np.nan\n",
        "\n",
        "\n",
        "def get_population_close_to_object(df_with_object: gpd.GeoDataFrame,\n",
        "                                   columns_object_name: str = '1 km de equipamentos',\n",
        "                                   columns_with_population: str = 'V0001',\n",
        "                                   buffer: int = 1000) -> gpd.GeoDataFrame:\n",
        "\n",
        "  df_object_to_buffer = df_with_object.copy()\n",
        "\n",
        "  # Transformar longitue e latitude em Point objeto\n",
        "\n",
        "  df_object_to_buffer['geometry'] = df_object_to_buffer['geometry'].astype(str).apply(wkt.loads)\n",
        "\n",
        "  geo_df_object_to_buffer = gpd.GeoDataFrame(df_object_to_buffer, geometry='geometry', crs=\"EPSG:31983\")\n",
        "\n",
        "  target_crs = pyproj.CRS.from_epsg(4326)\n",
        "\n",
        "  geo_df_object_to_buffer = geo_df_object_to_buffer.to_crs(target_crs)\n",
        "\n",
        "  geo_df_object_to_buffer = geo_df_object_to_buffer.sjoin(distritos_sp, how='left', predicate='within')\n",
        "\n",
        "  object_without_buffer = gpd.GeoDataFrame(geo_df_object_to_buffer, geometry=\"geometry\", crs=4326).to_crs(3003)\n",
        "  object_with_buffer = object_without_buffer.copy()\n",
        "  object_with_buffer.geometry = object_without_buffer.geometry.buffer(buffer)\n",
        "  object_with_buffer = object_with_buffer.to_crs(4326)\n",
        "\n",
        "  df_to_union = object_with_buffer.reset_index()[['geometry']]\n",
        "  uniao_df = df_to_union.sjoin(df_to_union, how='left', predicate='intersects')\n",
        "  over_lay_view = uniao_df.dissolve().explode().reset_index(drop=True)\n",
        "\n",
        "  # Verificação Setores Interceptado\n",
        "\n",
        "  setores_maps['geometry_to_calculete'] = setores_maps.geometry\n",
        "  distritos_sp['geometry_to_calculete'] = distritos_sp.geometry\n",
        "\n",
        "  # Realizar o spatial join\n",
        "  result = gpd.sjoin(\n",
        "      over_lay_view,\n",
        "      setores_maps,\n",
        "      how='inner',\n",
        "      predicate='intersects',\n",
        "      lsuffix='_overlay',\n",
        "      rsuffix='_setor'\n",
        "  )\n",
        "\n",
        "  result.geometry_to_calculete = result.geometry_to_calculete.to_crs(4326)\n",
        "  result.geometry = result.geometry.to_crs(4326)\n",
        "\n",
        "  # Calcular porcentagens\n",
        "\n",
        "  result['area_coberta_corredor'] = result.apply(\n",
        "      lambda x: overlap_percentage(x.geometry, x.geometry_to_calculete) ,axis=1\n",
        "  )\n",
        "\n",
        "  df_populacao_distrital_porcent = result.copy()\n",
        "  df_populacao_distrital_porcent[columns_with_population] = df_populacao_distrital_porcent[columns_with_population].astype(int)\n",
        "\n",
        "  object_final_porcent = df_populacao_distrital_porcent.groupby(['NM_DIST', 'CD_SETOR', columns_with_population], as_index=False).area_coberta_corredor.sum()\n",
        "  object_final_porcent[f'Pessoas {columns_object_name}'] = (object_final_porcent['area_coberta_corredor'] / 100) * object_final_porcent[columns_with_population]\n",
        "  object_final_porcent[f'Pessoas {columns_object_name}'] = object_final_porcent[f'Pessoas {columns_object_name}'].round(3)\n",
        "\n",
        "  object_final_porcent = object_final_porcent.groupby('NM_DIST')[f'Pessoas {columns_object_name}'].sum().to_frame(f'Pessoas {columns_object_name}')\n",
        "\n",
        "  total_populacao_porcent = setores_maps.groupby('NM_DIST')[columns_with_population].sum().to_frame('Total População')\n",
        "\n",
        "  object_final_porcent = pd.concat([object_final_porcent, total_populacao_porcent], axis=1)\n",
        "  object_final_porcent[f'% da população distrital a até {columns_object_name}'] = ((object_final_porcent[f'Pessoas {columns_object_name}'] / object_final_porcent['Total População']) * 100).round(3)\n",
        "  object_final_porcent.fillna(0, inplace=True)\n",
        "\n",
        "  return object_final_porcent"
      ],
      "metadata": {
        "id": "oGRl8GgVtRer"
      },
      "execution_count": 4,
      "outputs": []
    },
    {
      "cell_type": "markdown",
      "source": [
        "# Verificar IP\n",
        "\n",
        "> Alguns sites tem restriçoes de IP. Recomendo sempre verificar se o IP da sessão é do Estados Unidos."
      ],
      "metadata": {
        "id": "3ohxj8qpCD2i"
      }
    },
    {
      "cell_type": "code",
      "source": [
        "r = requests.get('https://api.myip.com/')\n",
        "r.text"
      ],
      "metadata": {
        "id": "dl-JmX9EB_9_",
        "colab": {
          "base_uri": "https://localhost:8080/",
          "height": 555
        },
        "outputId": "081b0f63-76d2-480c-9044-287bac4c1c01"
      },
      "execution_count": 5,
      "outputs": [
        {
          "output_type": "execute_result",
          "data": {
            "text/plain": [
              "'{\"ip\":\"34.82.176.213\",\"country\":\"United States\",\"cc\":\"US\"}'"
            ],
            "application/vnd.google.colaboratory.intrinsic+json": {
              "type": "string"
            }
          },
          "metadata": {},
          "execution_count": 5
        }
      ]
    },
    {
      "cell_type": "markdown",
      "source": [
        "# [Censo][censo-2022]\n",
        "\n",
        "Indicadores:\n",
        "\n",
        "- % de pessoas de 65 anos ou mais - Censo 2022\n",
        "- % Pessoa responsável pelo domicílio, Sexo feminino, 15 anos ou mais, Morador não sabe ler e escrever - Censo 2022\n",
        "- Proporção de pessoas responsáveis de 12 a 24 anos - Censo 2022\n",
        "- Proporção de mulheres reponsáveis com menos de 15 a 29 anos - Censo 2022\n",
        "- Proporção de pessoas responsáveis não alfabetizadas 15 anos ou mais - Censo 2022\n",
        "- Proporção que vive em domicílios urbanos com o serviço de coleta de lixo - Censo 2022\n",
        "\n",
        "\n",
        "[censo-2022]: https://www.ibge.gov.br/estatisticas/sociais/trabalho/22827-censo-demografico-2022.html?=&t=downloads\n"
      ],
      "metadata": {
        "id": "IVnoucUo1OFC"
      }
    },
    {
      "cell_type": "markdown",
      "source": [
        "## Funçoes"
      ],
      "metadata": {
        "id": "pWna0sBzbiAd"
      }
    },
    {
      "cell_type": "code",
      "execution_count": 6,
      "metadata": {
        "id": "t-lsQrF8axI5"
      },
      "outputs": [],
      "source": [
        "class Indicador:\n",
        "\n",
        "  def __init__(self,\n",
        "               nome_indicador: str,\n",
        "               numerador: str,\n",
        "               denominador: str,\n",
        "               base: pd.DataFrame) -> None:\n",
        "\n",
        "     self.nome_indicador = nome_indicador\n",
        "     self.numerador = numerador\n",
        "     self.denominador = denominador\n",
        "     self.base = base\n",
        "\n",
        "  def form_value_by_sum(self,\n",
        "                        *args,\n",
        "                        denominador: bool = False) -> None:\n",
        "\n",
        "    valores = list(args)\n",
        "\n",
        "    value_to_form = self.denominador if denominador else self.numerador\n",
        "\n",
        "    self.base[valores] = self.base[valores].astype(float)\n",
        "    self.base[value_to_form] = self.base[valores].sum(axis=1)\n",
        "\n",
        "\n",
        "  def form_indicador(self, multiplicador: int = 100) ->  pd.DataFrame:\n",
        "\n",
        "    columns_str_to_int = [self.numerador, self.denominador]\n",
        "\n",
        "    self.base[columns_str_to_int] = self.base[columns_str_to_int].astype(float)\n",
        "\n",
        "    self.base.set_index(self.base.columns[0], inplace=True)\n",
        "\n",
        "    self.base = (\n",
        "        (self.base[self.numerador] / self.base[self.denominador]) * multiplicador\n",
        "        ).round(3).to_frame(self.nome_indicador)\n",
        "\n",
        "    return self.base\n",
        "\n",
        "def get_sp_distrito_from_csv(path_csv: str) -> pd.DataFrame:\n",
        "\n",
        "  name_file = path_csv.split('/')[-1]\n",
        "\n",
        "  temp_df = pd.read_csv(path_csv, encoding='iso-8859-1', sep=\";\", dtype=str)\n",
        "\n",
        "  df_sp_distritos = temp_df[temp_df.CD_DIST.str.contains(\"3550308\")]\n",
        "\n",
        "  return df_sp_distritos\n",
        "\n",
        "def get_sp_setor_from_csv(path_csv: str, ids_seto: list) -> pd.DataFrame:\n",
        "\n",
        "  name_file = path_csv.split('/')[-1]\n",
        "\n",
        "  temp_df = pd.read_csv(path_csv, encoding='iso-8859-1', sep=\";\", dtype=str)\n",
        "\n",
        "  temp_df.columns = temp_df.columns.str.upper()\n",
        "\n",
        "  df_sp_distritos = temp_df[temp_df.CD_SETOR.isin(ids_seto)]\n",
        "\n",
        "  return df_sp_distritos\n",
        "\n",
        "def excel_sheet_to_df( path_dicionario: str, sheet_name: str) -> pd.DataFrame:\n",
        "\n",
        "  temp_df_sheet = pd.read_excel(path_dicionario, sheet_name=sheet_name)\n",
        "\n",
        "  temp_df_sheet = temp_df_sheet[['Variável', 'Descrição']]\n",
        "\n",
        "  return temp_df_sheet"
      ]
    },
    {
      "cell_type": "markdown",
      "source": [
        "## Download"
      ],
      "metadata": {
        "id": "fAw8XXUWbhZ9"
      }
    },
    {
      "cell_type": "code",
      "source": [
        "url_agregados_por_distrito_csv = 'http://ftp.ibge.gov.br/Censos/Censo_Demografico_2022/Agregados_por_Setores_Censitarios/Agregados_por_Distrito_csv/'\n",
        "url_sp_distrito_geo = 'http://ftp.ibge.gov.br/Censos/Censo_Demografico_2022/Agregados_por_Setores_Censitarios/malha_com_atributos/distritos/shp/UF/SP/SP_distritos_CD2022.zip'\n",
        "url_dicionario_de_dados = 'http://ftp.ibge.gov.br/Censos/Censo_Demografico_2022/Agregados_por_Setores_Censitarios/dicionario_de_dados_agregados_por_setores_censitarios_20250417.xlsx'\n",
        "\n",
        "response = requests.get(url_agregados_por_distrito_csv)\n",
        "\n",
        "soup = BeautifulSoup(response.text)\n",
        "\n",
        "links_agregados_por_distrito_csv = [url_agregados_por_distrito_csv + a.get('href') for a in soup.select('td a') if a.get('href').count('zip')] # Coleta o link dos Arquivos\n",
        "\n",
        "links_agregados_por_distrito_csv.extend([url_sp_distrito_geo, url_dicionario_de_dados]) # Adicionando tabela Distrito Geografico e Dicionario a lista de download\n",
        "\n",
        "with concurrent.futures.ThreadPoolExecutor() as executor:\n",
        "  executor.map(download_and_zip_extraction, links_agregados_por_distrito_csv)\n",
        "\n"
      ],
      "metadata": {
        "id": "JTiSv7hFcsmc"
      },
      "execution_count": 7,
      "outputs": []
    },
    {
      "cell_type": "markdown",
      "source": [
        "## Preparar DataFrame - [Censo 2022][censo-2022]\n",
        "\n",
        "[censo-2022]: https://www.ibge.gov.br/estatisticas/sociais/trabalho/22827-censo-demografico-2022.html?=&t=downloads"
      ],
      "metadata": {
        "id": "mJ3ORFUgxaUM"
      }
    },
    {
      "cell_type": "code",
      "source": [
        "# Define tabela com as GeoGrafias\n",
        "geo_df_sp = gpd.read_file('/content/data/input/SP_distritos_CD2022.shp', columns=['CD_DIST', 'NM_DIST', 'geometry'])\n",
        "geo_df_sp = geo_df_sp[geo_df_sp.CD_DIST.str.contains(\"3550308\")]\n",
        "\n",
        "# Carrega o Dicionario e Prepara ele para o Rename\n",
        "path_dicionario = '/content/data/input/dicionario_de_dados_agregados_por_setores_censitarios_20250417.xlsx'\n",
        "sheet_names = ['Dicionário Básico', 'Dicionário não PCT', 'Dicionário PCT - Indígenas', 'Dicionário PCT - Quilombolas']\n",
        "\n",
        "df_dicionario = pd.concat([excel_sheet_to_df(path_dicionario, sheet_name) for sheet_name in sheet_names])\n",
        "\n",
        "dicionario_to_rename = dict(zip(df_dicionario.Variável, df_dicionario.Descrição))\n",
        "\n",
        "# Carrega e trata tabela final\n",
        "\n",
        "regex_glob = '/content/data/input/Agregados_por_distritos*.csv'\n",
        "\n",
        "csv_files = glob(regex_glob)\n",
        "\n",
        "temp_dfs = [get_sp_distrito_from_csv(csv_path) for csv_path in csv_files]\n",
        "\n",
        "temp_dfs.append(geo_df_sp) # Adicionando tabela Distrito Geografico\n",
        "\n",
        "first_temp_df = temp_dfs.pop(0) # Seleciona primeira tabela e remove ela da lista\n",
        "\n",
        "for temp_df in temp_dfs:\n",
        "\n",
        "  temp_df.drop('NM_DIST', axis=1, inplace=True)\n",
        "\n",
        "  first_temp_df = pd.merge(\n",
        "      first_temp_df,\n",
        "      temp_df,\n",
        "      how=\"left\",\n",
        "      on=\"CD_DIST\"\n",
        "  )\n",
        "\n",
        "first_temp_df.columns = first_temp_df.columns.str.upper() # Coloca todas as colunas como Upper para manipulação de nomes\n",
        "\n",
        "# Tratar ordem e nome das colunas\n",
        "columns_to_sorted = first_temp_df.columns[first_temp_df.columns.str.startswith('V')].sort_values().tolist()\n",
        "first_columns = first_temp_df.columns[~first_temp_df.columns.str.startswith('V')].tolist()\n",
        "column_order = first_columns + columns_to_sorted\n",
        "\n",
        "first_temp_df = first_temp_df[column_order]"
      ],
      "metadata": {
        "id": "voaqLrPiiemk"
      },
      "execution_count": 8,
      "outputs": []
    },
    {
      "cell_type": "code",
      "source": [
        "# Selecionando coluna do indicador de 'Total de pessoas' e o nome do distrito.\n",
        "populacao_censo_2022 = first_temp_df[['NM_DIST', 'V0001']]\n",
        "populacao_censo_2022.index = populacao_censo_2022.NM_DIST\n",
        "populacao_censo_2022 = populacao_censo_2022['V0001'].astype(int)"
      ],
      "metadata": {
        "id": "N5I-JROo9JY2"
      },
      "execution_count": 9,
      "outputs": []
    },
    {
      "cell_type": "markdown",
      "source": [
        "## Indicadores - [Censo 2022][censo-2022]\n",
        "\n",
        "[censo-2022]: https://www.ibge.gov.br/estatisticas/sociais/trabalho/22827-censo-demografico-2022.html?=&t=downloads"
      ],
      "metadata": {
        "id": "ned6tcbpG1Qh"
      }
    },
    {
      "cell_type": "markdown",
      "source": [
        "### % de pessoas de 65 anos ou mais - Censo 2022\n",
        "Formula:\n",
        "\n",
        "$\\text{%} = \\frac{\\text{Total de Pessoas De 65 Mais}}{\\text{Total De Pessoas}} \\times 100$\n",
        "\n",
        "Indicadores resultante desse codigo:\n",
        "- % de pessoas de 65 anos ou mais - Censo 2022\n",
        "\n",
        "\n",
        "\n"
      ],
      "metadata": {
        "id": "8ekPcHrWzgxd"
      }
    },
    {
      "cell_type": "code",
      "source": [
        "# >>_% de pessoas de 65 anos ou mais - Censo 2022_<<\n",
        "\n",
        "# V0001: Total de pessoas\n",
        "# V00654: 65 a 69 anos\n",
        "# V00655: 70 a 79 anos\n",
        "# V00656: 80 anos ou mais\n",
        "\n",
        "# Importante que a primeira coluna seja a com fome dos distritos\n",
        "\n",
        "temp_df = first_temp_df[['NM_DIST', 'V0001', 'V00654','V00655','V00656']].copy()\n",
        "\n",
        "pessoas_65_censo_2022 = Indicador(\n",
        "    nome_indicador='% de pessoas de 65 anos ou mais - Censo 2022',\n",
        "    numerador='total de pessoas de 65 anos ou mais',\n",
        "    denominador='V0001',\n",
        "    base=temp_df\n",
        ")\n",
        "pessoas_65_censo_2022.form_value_by_sum('V00654','V00655','V00656')\n",
        "\n",
        "pessoas_65_censo_2022 = pessoas_65_censo_2022.form_indicador()"
      ],
      "metadata": {
        "id": "jBIrJRPRzvMP"
      },
      "execution_count": 10,
      "outputs": []
    },
    {
      "cell_type": "markdown",
      "source": [
        "### % Pessoa responsável pelo domicílio, Sexo feminino, 15 anos ou mais, Morador não sabe ler e escrever\n",
        "\n",
        "$\\text{% Pessoa responsável pelo domicílio, Sexo feminino, 15 anos ou mais, Morador não sabe ler e escrever} = \\frac{\\text{ Pessoa responsável pelo domicílio, Sexo feminino, 15 anos ou mais, Morador não sabe ler e escrever}}{\\text{Pessoa responsável pelo domicílio, Sexo feminino}} \\times 100$\n",
        "\n",
        "Indicadores resultante desse codigo:\n",
        "- % Pessoa responsável pelo domicílio, Sexo feminino, 15 anos ou mais, Morador não sabe ler e escrever - Censo 2022"
      ],
      "metadata": {
        "id": "asIcppjP882W"
      }
    },
    {
      "cell_type": "code",
      "source": [
        "# >>_% Pessoa responsável pelo domicílio, Sexo feminino, 15 anos ou mais, Morador não sabe ler e escrever - Censo 2022_<<\n",
        "\n",
        "# V00989: Pessoa responsável pelo domicílio, Sexo feminino, 15 anos ou mais, Morador não sabe ler e escrever\n",
        "# V01063: Pessoa responsável pelo domicílio, Sexo feminino\n",
        "\n",
        "\n",
        "nome_indicador = '% Pessoa responsável pelo domicílio, Sexo feminino, 15 anos ou mais, Morador não sabe ler e escrever - Censo 2022'\n",
        "\n",
        "temp_df = first_temp_df[['NM_DIST', 'V00989', 'V01063']].copy()\n",
        "\n",
        "responsavel_feminino_ler_escrever = Indicador(\n",
        "    nome_indicador=nome_indicador,\n",
        "    numerador='V00989',\n",
        "    denominador='V01063',\n",
        "    base=temp_df\n",
        ")\n",
        "\n",
        "responsavel_feminino_ler_escrever = responsavel_feminino_ler_escrever.form_indicador()"
      ],
      "metadata": {
        "id": "FnnyLDXy8-CF"
      },
      "execution_count": 11,
      "outputs": []
    },
    {
      "cell_type": "markdown",
      "source": [
        "### Proporção de pessoas responsáveis de 12 a 24 anos\n",
        "\n",
        "A fórmula :\n",
        "\n",
        "\n",
        "$\\text{Proporção de pessoas responsáveis de 12 a 24 anos} = \\frac{\\text{ pessoas responsáveis de 12\n",
        " a 24 anos}}{\\text{Pessoas Responsáveis}} \\times 100$\n",
        "\n",
        "\n",
        " Indicadores resultante desse codigo:\n",
        "- Proporção de pessoas responsáveis de 12 a 24 anos - Censo 2022\n",
        "\n"
      ],
      "metadata": {
        "id": "iLHtxICXF1wj"
      }
    },
    {
      "cell_type": "code",
      "source": [
        "# >>_Proporção de pessoas responsáveis de 12 a 24 anos - Censo 2022_<<\n",
        "\n",
        "\n",
        "# V01042: Pessoa responsável pelo domicílio\n",
        "# V0001: Total de pessoas\n",
        "# V01064: Pessoa responsável pelo domicílio, 12 a 17 anos\n",
        "# V01065: Pessoa responsável pelo domicílio, 18 a 24 anos\n",
        "\n",
        "\n",
        "nome_indicador = 'Proporção de pessoas responsáveis de 12 a 24 anos - Censo 2022'\n",
        "\n",
        "temp_df = first_temp_df[['NM_DIST', 'V01042', 'V01064', 'V01065']].copy()\n",
        "\n",
        "pessoas_responsaveis_10_24 = Indicador(\n",
        "    nome_indicador=nome_indicador,\n",
        "    numerador='Pessoa responsável pelo domicílio, 12 a 24 anos',\n",
        "    denominador='V01042',\n",
        "    base=temp_df\n",
        ")\n",
        "\n",
        "pessoas_responsaveis_10_24.form_value_by_sum('V01064', 'V01065')\n",
        "pessoas_responsaveis_10_24 = pessoas_responsaveis_10_24.form_indicador()"
      ],
      "metadata": {
        "id": "lFUxMup5F1wm"
      },
      "execution_count": 12,
      "outputs": []
    },
    {
      "cell_type": "markdown",
      "source": [
        "### Proporção de mulheres reponsáveis com menos de 15 a 29 anos\n",
        "\n",
        "A fórmula :\n",
        "\n",
        "\n",
        "$\\text{Proporção de mulheres reponsáveis com menos de 15 a 29 anos} = \\frac{\\text{ mulheres reponsáveis com menos de 15 a 29 anos}}{\\text{Total de pessoas}} \\times 100$\n",
        "\n",
        "\n",
        " Indicadores resultante desse codigo:\n",
        "- Proporção de mulheres reponsáveis com menos de 15 a 29 anos - Censo 2022\n",
        "\n"
      ],
      "metadata": {
        "id": "lTz1c2SoQocK"
      }
    },
    {
      "cell_type": "code",
      "source": [
        "# >>_Proporção de mulheres reponsáveis com menos de 15 a 29 anos - Censo 2022_<<\n",
        "\n",
        "\n",
        "# V0001: Total de pessoas\n",
        "# V01063: Pessoa responsável pelo domicílio, Sexo feminino\n",
        "# V00978: Pessoa responsável pelo domicílio, Sexo feminino, 15 a 29 anos, Morador sabe ler e escrever\n",
        "# V00979: Pessoa responsável pelo domicílio, Sexo feminino, 15 a 29 anos, Morador não sabe ler e escrever\n",
        "\n",
        "# V01042 para fazer a divisão\n",
        "\n",
        "nome_indicador = 'Proporção de mulheres reponsáveis com menos de 15 a 29 anos - Censo 2022'\n",
        "\n",
        "temp_df = first_temp_df[['NM_DIST', 'V01042', 'V00978', 'V00979']].copy()\n",
        "\n",
        "mulheres_reponsaveis_menor_29 = Indicador(\n",
        "    nome_indicador=nome_indicador,\n",
        "    numerador='Pessoa responsável pelo domicílio, Sexo feminino, 15 a 29 anos',\n",
        "    denominador='V01042',\n",
        "    base=temp_df\n",
        ")\n",
        "\n",
        "mulheres_reponsaveis_menor_29.form_value_by_sum('V00978', 'V00979')\n",
        "mulheres_reponsaveis_menor_29 = mulheres_reponsaveis_menor_29.form_indicador()"
      ],
      "metadata": {
        "id": "zkxQ5RLiQocL"
      },
      "execution_count": 13,
      "outputs": []
    },
    {
      "cell_type": "markdown",
      "source": [
        "### Proporção de pessoas responsáveis não alfabetizadas 15 anos ou mais\n",
        "\n",
        "A fórmula :\n",
        "\n",
        "\n",
        "$\\text{Proporção de pessoas responsáveis não alfabetizadas 15 anos ou mais} = \\frac{\\text{pessoas responsáveis não alfabetizadas 15 anos ou mais}}{\\text{pessoas responsáveis 15 anos ou mais}} \\times 100$\n",
        "\n",
        "\n",
        " Indicadores resultante desse codigo:\n",
        "- Proporção de pessoas responsáveis não alfabetizadas 15 anos ou mais - Censo 2022\n"
      ],
      "metadata": {
        "id": "-zASKHo-X2Wx"
      }
    },
    {
      "cell_type": "code",
      "source": [
        "# >>_Proporção de pessoas responsáveis não alfabetizadas 15 anos ou mais - Censo 2022_<<\n",
        "\n",
        "\n",
        "# V00984: Pessoa responsável pelo domicílio, 15 anos ou mais, Morador sabe ler e escrever\n",
        "# V00985: Pessoa responsável pelo domicílio, 15 anos ou mais, Morador não sabe ler e escrever\n",
        "\n",
        "nome_indicador = 'Proporção de pessoas responsáveis não alfabetizadas 15 anos ou mais - Censo 2022'\n",
        "\n",
        "temp_df = first_temp_df[['NM_DIST', 'V00984', 'V00985']].copy()\n",
        "\n",
        "responsaveis_nao_alfabetizadas_15 = Indicador(\n",
        "    nome_indicador=nome_indicador,\n",
        "    numerador='V00985',\n",
        "    denominador='Pessoa responsável pelo domicílio, 15 anos ou mais',\n",
        "    base=temp_df\n",
        ")\n",
        "\n",
        "responsaveis_nao_alfabetizadas_15.form_value_by_sum(\"V00984\", \"V00985\", denominador=True)\n",
        "responsaveis_nao_alfabetizadas_15 = responsaveis_nao_alfabetizadas_15.form_indicador()"
      ],
      "metadata": {
        "id": "H7u1MsaFX2W0"
      },
      "execution_count": 14,
      "outputs": []
    },
    {
      "cell_type": "markdown",
      "source": [
        "### % da população que vive em domicílios urbanos com o serviço de coleta de lixo\n",
        "\n",
        "A fórmula :\n",
        "\n",
        "$\\text{% da população que vive em domicílios urbanos com o serviço de coleta de lixo} = \\frac{\\text{população que vive em domicílios urbanos com o serviço de coleta de lixo}}{\\text{Total de pessoas}} \\times 100$\n",
        "\n",
        " Indicadores resultante desse codigo:\n",
        "- Proporção que vive em domicílios urbanos com o serviço de coleta de lixo - Censo 2022\n"
      ],
      "metadata": {
        "id": "j9tKAV8qvaEW"
      }
    },
    {
      "cell_type": "code",
      "source": [
        "# >>_Proporção que vive em domicílios urbanos com o serviço de coleta de lixo - Censo 2022_<<\n",
        "\n",
        "\n",
        "# V0007: Total de pessoas\n",
        "\n",
        "nome_indicador = 'Proporção que vive em domicílios urbanos com o serviço de coleta de lixo - Censo 2022'\n",
        "\n",
        "temp_df = first_temp_df[['NM_DIST', 'V0007', 'V00397', 'V00398']].copy()\n",
        "\n",
        "coleta_lixo = Indicador(\n",
        "    nome_indicador=nome_indicador,\n",
        "    numerador='coleta_lixo',\n",
        "    denominador='V0007',\n",
        "    base=temp_df\n",
        ")\n",
        "\n",
        "coleta_lixo.form_value_by_sum('V00397', 'V00398')\n",
        "coleta_lixo = coleta_lixo.form_indicador()"
      ],
      "metadata": {
        "id": "gyMIqrScvZav"
      },
      "execution_count": 15,
      "outputs": []
    },
    {
      "cell_type": "markdown",
      "source": [
        "# Datasus ( [SIM 2022][ms_sim])\n",
        "\n",
        "- Mortalidade materna - SIM 2022\n",
        "- Mortalidade até 1 ano de idade - SIM 2022\n",
        "- % Óbitos Evitáveis - SIM 2022\n",
        "\n",
        "\n",
        "[sinasc]: https://basedosdados.org/dataset/48ccef51-8207-40ee-af5b-134c8ac3fb8c?table=80359f9a-8189-4693-bdf7-ebf7be0d2fff\n",
        "\n",
        "[ms_sim]: https://basedosdados.org/dataset/5beeec93-cbf3-43f6-9eea-9bee6a0d1683?table=dea823a5-cad7-4014-b77c-4aa33b3b0541\n"
      ],
      "metadata": {
        "id": "n61vHY7ZSAgy"
      }
    },
    {
      "cell_type": "markdown",
      "source": [
        "## Querys e constantes\n",
        "\n",
        "Caso você não tenha um projeto google configurado.\n",
        "\n",
        "Verifique a documentação: [primeiros-passos][primeiros-passos]\n",
        "\n",
        "[primeiros-passos]: https://basedosdados.github.io/sdk/access_data_bq/#primeiros-passos"
      ],
      "metadata": {
        "id": "1kGLx-QoUgD6"
      }
    },
    {
      "cell_type": "code",
      "source": [
        "query_ms_sim = \"\"\"\n",
        "SELECT\n",
        "  *\n",
        "FROM `basedosdados.br_ms_sim.microdados` AS dados\n",
        "where ano = 2022 and id_municipio_ocorrencia = '3550308' and codigo_estabelecimento is not null\n",
        "\"\"\""
      ],
      "metadata": {
        "id": "K78ToSJBUN5K"
      },
      "execution_count": 16,
      "outputs": []
    },
    {
      "cell_type": "markdown",
      "source": [
        "## Download [CNES][cnes] Estabelecimentos e [Censo][censo] 2020 geometry\n",
        "\n",
        "[cnes]: https://dados.gov.br/dados/conjuntos-dados/cnes-cadastro-nacional-de-estabelecimentos-de-saude\n",
        "[censo]: http://ftp.ibge.gov.br/Censos/Censo_Demografico_2022/Agregados_por_Setores_Censitarios/malha_com_atributos/distritos/shp/UF/SP"
      ],
      "metadata": {
        "id": "LDVH4K-I7Jx3"
      }
    },
    {
      "cell_type": "code",
      "source": [
        "url = 'https://s3.sa-east-1.amazonaws.com/ckan.saude.gov.br/CNES/cnes_estabelecimentos.zip'\n",
        "url_sp_distrito_geo = 'http://ftp.ibge.gov.br/Censos/Censo_Demografico_2022/Agregados_por_Setores_Censitarios/malha_com_atributos/distritos/shp/UF/SP/SP_distritos_CD2022.zip'\n",
        "\n",
        "urls = [url, url_sp_distrito_geo]\n",
        "\n",
        "with concurrent.futures.ThreadPoolExecutor() as executor:\n",
        "  executor.map(download_and_zip_extraction, urls)"
      ],
      "metadata": {
        "id": "edqfI6H-3WJ2"
      },
      "execution_count": 17,
      "outputs": []
    },
    {
      "cell_type": "markdown",
      "source": [
        "## Ler [CNES][cnes] estabelecimentos\n",
        "\n",
        "[cnes]: https://dados.gov.br/dados/conjuntos-dados/cnes-cadastro-nacional-de-estabelecimentos-de-saude"
      ],
      "metadata": {
        "id": "xPWoVZuD75yQ"
      }
    },
    {
      "cell_type": "code",
      "source": [
        "cnes_estabelecimentos = pd.read_csv('/content/data/input/cnes_estabelecimentos.csv', dtype=str, sep=';',\n",
        "                                    encoding='latin-1', usecols=['CO_CNES', 'CO_UNIDADE', 'CO_IBGE', 'NU_LATITUDE', 'NU_LONGITUDE'])\n",
        "\n",
        "cnes_estabelecimentos_sp = cnes_estabelecimentos[cnes_estabelecimentos.CO_IBGE == '355030']\n",
        "\n",
        "# Transformar longitue e latitude em Point objeto\n",
        "cnes_estabelecimentos_sp['point'] = cnes_estabelecimentos_sp.apply(lambda row: Point(row.NU_LONGITUDE, row.NU_LATITUDE), axis=1)\n",
        "\n",
        "cnes_estabelecimentos_sp_geo_df = gpd.GeoDataFrame(cnes_estabelecimentos_sp, geometry='point')\n",
        "\n",
        "cnes_estabelecimentos_sp_geo_df.crs = 'EPSG:4674' # igular CRS"
      ],
      "metadata": {
        "id": "gs5Dnwd-8DmM",
        "colab": {
          "base_uri": "https://localhost:8080/"
        },
        "outputId": "a71d802e-ec13-46b1-ea01-329382f616b3"
      },
      "execution_count": 18,
      "outputs": [
        {
          "output_type": "stream",
          "name": "stderr",
          "text": [
            "<ipython-input-18-57d3f635c143>:7: SettingWithCopyWarning: \n",
            "A value is trying to be set on a copy of a slice from a DataFrame.\n",
            "Try using .loc[row_indexer,col_indexer] = value instead\n",
            "\n",
            "See the caveats in the documentation: https://pandas.pydata.org/pandas-docs/stable/user_guide/indexing.html#returning-a-view-versus-a-copy\n",
            "  cnes_estabelecimentos_sp['point'] = cnes_estabelecimentos_sp.apply(lambda row: Point(row.NU_LONGITUDE, row.NU_LATITUDE), axis=1)\n"
          ]
        }
      ]
    },
    {
      "cell_type": "markdown",
      "source": [
        "## Ler geometry do [Censo 2022][censo]\n",
        "\n",
        "[censo]: http://ftp.ibge.gov.br/Censos/Censo_Demografico_2022/Agregados_por_Setores_Censitarios/malha_com_atributos/distritos/shp/UF/SP"
      ],
      "metadata": {
        "id": "-uKaaTaWJ2F5"
      }
    },
    {
      "cell_type": "code",
      "source": [
        "geo_df_sp = gpd.read_file('/content/data/input/SP_distritos_CD2022.shp', columns=['CD_DIST', 'NM_DIST', 'geometry'])\n",
        "geo_df_sp = geo_df_sp[geo_df_sp.CD_DIST.str.contains(\"3550308\")]"
      ],
      "metadata": {
        "id": "rpzJesFw8NAl"
      },
      "execution_count": 19,
      "outputs": []
    },
    {
      "cell_type": "markdown",
      "source": [
        "## Juntas [CENSO][censo] Geometry com Point de [CNES][cnes]\n",
        "\n",
        "[cnes]: https://dados.gov.br/dados/conjuntos-dados/cnes-cadastro-nacional-de-estabelecimentos-de-saude\n",
        "[censo]: http://ftp.ibge.gov.br/Censos/Censo_Demografico_2022/Agregados_por_Setores_Censitarios/malha_com_atributos/distritos/shp/UF/SP"
      ],
      "metadata": {
        "id": "Dm91c7RSPkfI"
      }
    },
    {
      "cell_type": "code",
      "source": [
        "cnes_sp_distrito_geo_df = geo_df_sp.sjoin(cnes_estabelecimentos_sp_geo_df, how='left', predicate='contains')"
      ],
      "metadata": {
        "id": "uroMBeIkMShS"
      },
      "execution_count": 20,
      "outputs": []
    },
    {
      "cell_type": "markdown",
      "source": [
        "## Puxar dados [ms_sim][ms_sim] Microdados\n",
        "\n",
        "[ms_sim]: https://basedosdados.org/dataset/5beeec93-cbf3-43f6-9eea-9bee6a0d1683?table=dea823a5-cad7-4014-b77c-4aa33b3b0541"
      ],
      "metadata": {
        "id": "n95CXG42eZij"
      }
    },
    {
      "cell_type": "code",
      "source": [
        "import basedosdados as bd\n",
        "\n",
        "df_ms_sim = bd.read_sql(\n",
        "      query_ms_sim,\n",
        "      billing_project_id=billing_project_id,\n",
        "  )\n",
        "\n",
        "df_ms_sim.codigo_estabelecimento = df_ms_sim.codigo_estabelecimento.str.rstrip('.0') # Limpando zero a esquerda"
      ],
      "metadata": {
        "id": "t9-FtXI7eu5-",
        "colab": {
          "base_uri": "https://localhost:8080/"
        },
        "outputId": "1b2f149f-4903-4377-b81e-30de84197e62"
      },
      "execution_count": 21,
      "outputs": [
        {
          "output_type": "stream",
          "name": "stdout",
          "text": [
            "Downloading: 100%|\u001b[32m██████████\u001b[0m|\n"
          ]
        }
      ]
    },
    {
      "cell_type": "markdown",
      "source": [
        "## Juntar [MS_SIM][ms_sim] com [CNES][cnes] com distritos\n",
        "\n",
        "[ms_sim]: https://basedosdados.org/dataset/5beeec93-cbf3-43f6-9eea-9bee6a0d1683?table=dea823a5-cad7-4014-b77c-4aa33b3b0541\n",
        "[cnes]: https://dados.gov.br/dados/conjuntos-dados/cnes-cadastro-nacional-de-estabelecimentos-de-saude"
      ],
      "metadata": {
        "id": "-kucb1dmhw6x"
      }
    },
    {
      "cell_type": "code",
      "source": [
        "df_ms_sim_with_distritos =  df_ms_sim.merge(cnes_sp_distrito_geo_df, how='left', left_on='codigo_estabelecimento', right_on='CO_CNES')"
      ],
      "metadata": {
        "id": "mCM2ZNeshkLX"
      },
      "execution_count": 22,
      "outputs": []
    },
    {
      "cell_type": "markdown",
      "source": [
        "## Indicadores vindo de [MS_SIM][ms_sim]\n",
        "\n",
        "[ms_sim]: https://basedosdados.org/dataset/5beeec93-cbf3-43f6-9eea-9bee6a0d1683?table=dea823a5-cad7-4014-b77c-4aa33b3b0541"
      ],
      "metadata": {
        "id": "CbYOPC8KPrUj"
      }
    },
    {
      "cell_type": "markdown",
      "source": [
        "### Mortalidade materna\n",
        "\n",
        "Seguinte fórmula:\n",
        "\n",
        "$\\text{\n",
        "Mortalidade materna} = \\frac{\\text{Número de óbitos maternos}}{\\text{Número de óbitos}} \\times 1000$\n",
        "\n",
        "Indicadores resultante desse codigo:\n",
        "- Mortalidade materna - SIM 2022"
      ],
      "metadata": {
        "id": "6lKhpWDsPzpZ"
      }
    },
    {
      "cell_type": "code",
      "source": [
        "# >>_Mortalidade materna - SIM 2022_<<\n",
        "\n",
        "\n",
        "indicador_name = 'Mortalidade materna - SIM 2022'\n",
        "selected = (df_ms_sim_with_distritos.sexo == '2') & (df_ms_sim_with_distritos.obito_gravidez.isin(['3.0', '2.0', '1.0']))\n",
        "df_ms_sim_with_mortalidade_materna = df_ms_sim_with_distritos[selected]\n",
        "df_ms_sim_with_mortalidade_materna = df_ms_sim_with_mortalidade_materna.groupby('NM_DIST').data_obito.count().to_frame('morte_maternas')\n",
        "\n",
        "total_mortes = df_ms_sim_with_distritos.groupby('NM_DIST').data_obito.count().to_frame('mortes_totais')\n",
        "\n",
        "df_ms_sim_with_mortalidade_materna = pd.concat([total_mortes, df_ms_sim_with_mortalidade_materna], axis=1)\n",
        "df_ms_sim_with_mortalidade_materna.fillna(0, inplace=True)\n",
        "\n",
        "df_ms_sim_with_mortalidade_materna = ((df_ms_sim_with_mortalidade_materna.morte_maternas / df_ms_sim_with_mortalidade_materna.mortes_totais) * 1000).round(3).to_frame(indicador_name)\n"
      ],
      "metadata": {
        "id": "68ekvBXcPwgs"
      },
      "execution_count": 23,
      "outputs": []
    },
    {
      "cell_type": "markdown",
      "source": [
        "### Mortalidade até 1 ano de idade | Mortalidade infantil (óbitos por 1.000 nascidos vivos)\n",
        "\n",
        "Seguinte fórmula:\n",
        "\n",
        "$\\text{\n",
        "Mortalidade infantil (óbitos por 1.000 nascidos vivos)} = \\frac{\\text{mortes_infantil}}{\\text{mortes_totais}} \\times 1000$\n",
        "\n",
        "Indicadores resultante desse codigo:\n",
        "- Mortalidade até 1 ano de idade - SIM 2022\n",
        "\n"
      ],
      "metadata": {
        "id": "UP6YZdiPlj4o"
      }
    },
    {
      "cell_type": "code",
      "source": [
        "# >>_Mortalidade infantil (óbitos por 1.000 nascidos vivos) - SIM 2022_<<\n",
        "\n",
        "indicador_name = 'Mortalidade infantil (óbitos por 1.000 nascidos vivos) - SIM 2022'\n",
        "\n",
        "selected = (df_ms_sim_with_distritos.idade <= 1)\n",
        "df_ms_sim_mortalidade_one_year = df_ms_sim_with_distritos[selected]\n",
        "df_ms_sim_mortalidade_one_year = df_ms_sim_mortalidade_one_year.groupby('NM_DIST').data_obito.count().to_frame('mortes_infantil')\n",
        "\n",
        "total_mortes = df_ms_sim_with_distritos.groupby('NM_DIST').data_obito.count().to_frame('mortes_totais')\n",
        "\n",
        "df_ms_sim_mortalidade_one_year = pd.concat([total_mortes, df_ms_sim_mortalidade_one_year], axis=1)\n",
        "df_ms_sim_mortalidade_one_year.fillna(0, inplace=True)\n",
        "\n",
        "df_ms_sim_mortalidade_one_year = ((df_ms_sim_mortalidade_one_year.mortes_infantil / df_ms_sim_mortalidade_one_year.mortes_totais) * 1000).round(3).to_frame(indicador_name)"
      ],
      "metadata": {
        "id": "mowg4ABnc5ws"
      },
      "execution_count": 24,
      "outputs": []
    },
    {
      "cell_type": "markdown",
      "source": [
        "### Óbitos Evitáveis\n",
        "\n",
        "Seguinte fórmula:\n",
        "\n",
        "$\\text{\n",
        "% Óbitos Evitáveis - SIM 2022} = \\frac{\\text{Óbitos evitáveis no distrito}}{\\text{Total de óbitos}} \\times 100$\n",
        "\n",
        "Indicadores resultante desse codigo:\n",
        "- % Óbitos Evitáveis - SIM 2022\n"
      ],
      "metadata": {
        "id": "VEFNQjZkESko"
      }
    },
    {
      "cell_type": "code",
      "source": [
        "cids = ['A02','A04','A08','A09','A15','A16','A17','A18','A19','A22','A26','A27','A31','A39','A41','A44','A46','A48','A49','A77','A81','A86','A87','A90','A91','A92','A94','A98','A99','B00','B02','B16','B17','B18','B19','B20','B21','B22','B23','B24','B25','B33','B34','B37','B44','B45','B54','B57','B58','B59','B65','B69','B77','B87','B90','B94','C00','C01','C02','C03','C04','C05','C06','C07','C08','C09','C10','C11','C12','C13','C14','C15','C16','C17','C18','C19','C20','C21','C22','C23','C24','C25','C26','C30','C31','C32','C33','C34','C37','C38','C39','C40','C41','C43','C44','C45','C47','C48','C49','C50','C51','C52','C53','C54','C55','C56','C57','C58','C60','C61','C62','C64','C65','C66','C67','C68','C69','C70','C71','C72','C73','C74','C75','C76','C77','C78','C79','C80','C81','C82','C83','C84','C85','C88','C90','C91','C92','C93','C94','C95','C96','C97','D00','D01','D02','D13','D15','D18','D25','D26','D32','D33','D35','D36','D37','D38','D39','D40','D41','D42','D43','D44','D45','D46','D47','D48','D53','D56','D57','D58','D59','D60','D61','D62','D64','D65','D68','D69','D70','D71','D72','D73','D75','D76','D82','D84','D86','E03','E05','E07','E10','E11','E12','E14','E15','E16','E20','E21','E23','E24','E27','E41','E43','E46','E51','E66','E72','E74','E75','E76','E78','E83','E84','E85','E86','E87','E88','F01','F03','F05','F10','F14','F17','F19','F20','F31','F32','F44','F50','F71','F79','F84','G00','G03','G04','G06','G09','G10','G11','G12','G20','G23','G30','G31','G35','G36','G37','G40','G41','G45','G61','G62','G70','G71','G72','G80','G82','G83','G90','G91','G92','G93','G95','G96','G98','H60','H66','H70','I01','I02','I05','I06','I07','I08','I09','I10','I11','I12','I13','I20','I21','I24','I25','I26','I27','I28','I30','I31','I33','I34','I35','I38','I40','I42','I44','I46','I47','I48','I49','I50','I51','I60','I61','I62','I63','I64','I67','I69','I70','I71','I72','I73','I74','I77','I80','I81','I82','I83','I85','I86','I87','I89','I95','I99','J01','J02','J03','J06','J10','J11','J12','J15','J16','J18','J21','J22','J32','J35','J36','J38','J39','J40','J42','J43','J44','J45','J46','J47','J61','J62','J63','J64','J65','J67','J68','J69','J80','J81','J84','J85','J86','J90','J93','J94','J96','J98','K08','K13','K20','K22','K25','K26','K27','K28','K29','K31','K35','K37','K38','K40','K41','K42','K43','K44','K46','K50','K51','K52','K55','K56','K57','K59','K62','K63','K65','K66','K70','K71','K72','K73','K74','K75','K76','K80','K81','K82','K83','K85','K86','K90','K92','L02','L03','L08','L10','L13','L27','L51','L53','L88','L89','L95','L97','L98','M00','M05','M06','M16','M17','M19','M25','M30','M31','M32','M33','M34','M35','M45','M46','M47','M48','M50','M51','M60','M62','M72','M84','M86','M87','M89','N00','N03','N04','N10','N11','N12','N13','N15','N17','N18','N19','N20','N21','N26','N28','N30','N31','N32','N34','N36','N39','N40','N41','N42','N45','N48','N49','N61','N70','N73','N76','N81','N83','N85','N92','O00','O05','O06','O14','O15','O21','O26','O34','O41','O45','O46','O62','O71','O72','O75','O90','O95','O96','O98','O99','P20','P21','P27','P36','Q01','Q02','Q03','Q04','Q05','Q07','Q20','Q21','Q22','Q24','Q27','Q28','Q30','Q33','Q34','Q43','Q44','Q61','Q63','Q64','Q78','Q81','Q85','Q87','Q90','Q91','Q93','Q99','R04','R09','R10','R16','R19','R53','R54','R56','R57','R58','R68','R90','R96','R98','R99','V02','V03','V04','V05','V09','V12','V13','V14','V18','V19','V20','V22','V23','V24','V27','V28','V29','V42','V43','V44','V47','V48','V49','V54','V64','V67','V68','V69','V74','V85','V87','V89','V91','V95','W01','W06','W07','W10','W12','W13','W17','W18','W19','W20','W21','W22','W25','W31','W34','W36','W39','W44','W49','W54','W67','W68','W69','W70','W73','W74','W76','W78','W79','W80','W84','W85','W87','W89','X09','X18','X36','X42','X59','X61','X64','X67','X68','X69','X70','X72','X74','X78','X79','X80','X81','X82','X84','X91','X93','X94','X95','X96','X97','X99','Y00','Y01','Y03','Y04','Y09','Y11','Y12','Y13','Y16','Y18','Y19','Y20','Y21','Y22','Y24','Y26','Y27','Y28','Y29','Y30','Y32','Y33','Y34','Y35','Y40','Y44','Y45','Y46','Y48','Y49','Y51','Y57','Y71','Y83','Y84','Y85','Y89']"
      ],
      "metadata": {
        "id": "lFnYPCdeESks"
      },
      "execution_count": 25,
      "outputs": []
    },
    {
      "cell_type": "code",
      "source": [
        "def is_obito_evitavel(atestado: str) -> bool:\n",
        "\n",
        "  palavras = []\n",
        "  partes = atestado.split('/')\n",
        "  for parte in partes:\n",
        "      palavras.extend(parte.split())\n",
        "\n",
        "  # Verificamos cada palavra\n",
        "  for palavra in palavras:\n",
        "    for cid in cids:\n",
        "      if palavra == cid:\n",
        "        return True\n",
        "\n",
        "  return False"
      ],
      "metadata": {
        "id": "3HijqhZ8ESkt"
      },
      "execution_count": 26,
      "outputs": []
    },
    {
      "cell_type": "code",
      "source": [
        "# >>_% Óbitos Evitáveis - SIM 2022_<<\n",
        "\n",
        "\n",
        "indicador_name = '% Óbitos Evitáveis - SIM 2022'\n",
        "\n",
        "\n",
        "df_ms_sim_with_distritos_obito_evitavel = df_ms_sim_with_distritos.copy()\n",
        "df_ms_sim_with_distritos_obito_evitavel['obito_evitavel'] = df_ms_sim_with_distritos_obito_evitavel.atestado.apply(is_obito_evitavel)\n",
        "df_ms_sim_with_distritos_obito_evitavel = df_ms_sim_with_distritos_obito_evitavel[df_ms_sim_with_distritos_obito_evitavel.obito_evitavel == True]\n",
        "df_ms_sim_with_distritos_obito_evitavel = df_ms_sim_with_distritos_obito_evitavel.groupby('NM_DIST').ano.size().to_frame('Óbitos Evitáveis - SIM 2022')\n",
        "\n",
        "df_ms_sim_with_distritos_obitos_totais = df_ms_sim_with_distritos.copy()\n",
        "df_ms_sim_with_distritos_obitos_totais = df_ms_sim_with_distritos_obitos_totais.groupby('NM_DIST').ano.size().to_frame('Total de óbitos - SIM 2022')\n",
        "\n",
        "indicador_obito_evitaveis = pd.concat([df_ms_sim_with_distritos_obitos_totais, df_ms_sim_with_distritos_obito_evitavel], axis=1)\n",
        "indicador_obito_evitaveis.fillna(0, inplace=True)\n",
        "indicador_obito_evitaveis = ((indicador_obito_evitaveis['Óbitos Evitáveis - SIM 2022'] / indicador_obito_evitaveis['Total de óbitos - SIM 2022']) * 100).round(3).to_frame(indicador_name)"
      ],
      "metadata": {
        "id": "qibRhb35ESku"
      },
      "execution_count": 27,
      "outputs": []
    },
    {
      "cell_type": "markdown",
      "source": [
        "# Indicadores vindo de [INEP Censo Escolar 2023][inep_escola]\n",
        "\n",
        "- Taxa de matrículas de crianças pardas - INEP 2023/Censo 2022\n",
        "- Taxa de matrículas de crianças pretas - INEP 2023/Censo 2022\n",
        "- Quantidade de equipamentos educacionais por número de alunos matriculados - INEP 2023\n",
        "- Taxa de matrículas na pre-escola e creche - INEP 2023/Censo 2022\n",
        "\n",
        "[inep_escola]: https://basedosdados.org/dataset/dae21af4-4b6a-42f4-b94a-4c2061ea9de5?table=15e428cb-cce2-41f8-aec5-066d685b5bd5\n"
      ],
      "metadata": {
        "id": "BWO2obxadLzK"
      }
    },
    {
      "cell_type": "markdown",
      "source": [
        "## Querys e constantes\n",
        "\n",
        "Caso você não tenha um projeto google configurado.\n",
        "\n",
        "Verifique a documentação: [primeiros-passos][primeiros-passos]\n",
        "\n",
        "[primeiros-passos]: https://basedosdados.github.io/sdk/access_data_bq/#primeiros-passos"
      ],
      "metadata": {
        "id": "s2XbHHgAkERT"
      }
    },
    {
      "cell_type": "code",
      "source": [
        "# Camadas de Distritos extraida do GEOSAMPA pelo projeto SLUI\n",
        "url_slui_dev = 'http://geoserver.slui.dev/geoserver/slui/ows?service=WFS&version=1.0.0&request=GetFeature&typeName=slui%3Adistrito_municipal&maxFeatures=100&outputFormat=CSV'\n",
        "\n",
        "# Query para pegar os colegios do datalake BD\n",
        "query = \"\"\"\n",
        "with dados_2023 as (\n",
        "  SELECT\n",
        "    *\n",
        "FROM `basedosdados.br_inep_censo_escolar.escola`\n",
        "where ano=2023 and sigla_uf=\"SP\" and id_municipio=\"3550308\"\n",
        "),\n",
        "localiza as (\n",
        "  SELECT\n",
        "    *\n",
        "FROM `basedosdados.br_bd_diretorios_brasil.escola`\n",
        "), tabela_log_lat as (\n",
        "  select ano, dados_2023.sigla_uf, dados_2023.id_municipio, dados_2023.id_escola, endereco,\n",
        "  quantidade_matricula_fundamental_integral,\n",
        "  quantidade_matricula_fundamental,\n",
        "  quantidade_matricula_educacao_basica,\n",
        "  quantidade_matricula_parda,\n",
        "  quantidade_matricula_preta,\n",
        "  quantidade_matricula_branca,\n",
        "  quantidade_matricula_amarela,\n",
        "  quantidade_matricula_indigena,\n",
        "  quantidade_matricula_infantil_creche,\n",
        "  quantidade_matricula_infantil_pre_escola,\n",
        "  safe_cast(latitude as float64) as latitude,\n",
        "  safe_cast(longitude as float64) as longitude,\n",
        "  from dados_2023\n",
        "  left join localiza ON dados_2023.id_escola = localiza.id_escola\n",
        ")\n",
        "\n",
        "select *, ST_GEOGPOINT(longitude, latitude) as point from tabela_log_lat\n",
        "\"\"\""
      ],
      "metadata": {
        "id": "X4OTCrnIdLzP"
      },
      "execution_count": 28,
      "outputs": []
    },
    {
      "cell_type": "markdown",
      "source": [
        "## Puxar dados [INEP Censo Escolar 2023][inep_escola]\n",
        "\n",
        "\n",
        "[inep_escola]: https://basedosdados.org/dataset/dae21af4-4b6a-42f4-b94a-4c2061ea9de5?table=15e428cb-cce2-41f8-aec5-066d685b5bd5"
      ],
      "metadata": {
        "id": "t35tfinnjjxN"
      }
    },
    {
      "cell_type": "code",
      "source": [
        "import basedosdados as bd\n",
        "\n",
        "df_escolas = bd.read_sql(\n",
        "      query,\n",
        "      billing_project_id=billing_project_id,\n",
        "  )"
      ],
      "metadata": {
        "id": "9ZGmE2Ywi2i1",
        "colab": {
          "base_uri": "https://localhost:8080/"
        },
        "outputId": "71874e60-92c8-4507-f96b-d6b5caa96c9f"
      },
      "execution_count": 29,
      "outputs": [
        {
          "output_type": "stream",
          "name": "stdout",
          "text": [
            "Downloading: 100%|\u001b[32m██████████\u001b[0m|\n"
          ]
        }
      ]
    },
    {
      "cell_type": "markdown",
      "source": [
        "## Juntar [INEP Censo Escolar 2023][inep_escola] e geometry do [GeoSampa][geoSampa]\n",
        "\n",
        "[inep_escola]: https://basedosdados.org/dataset/dae21af4-4b6a-42f4-b94a-4c2061ea9de5?table=15e428cb-cce2-41f8-aec5-066d685b5bd5\n",
        "[geoSampa]: https://geosampa.prefeitura.sp.gov.br/PaginasPublicas/_SBC.aspx"
      ],
      "metadata": {
        "id": "G_MXyxiemD8A"
      }
    },
    {
      "cell_type": "code",
      "source": [
        "# Fazer GeoDataFrame dos distritos\n",
        "distrito_municipal = pd.read_csv(url_slui_dev) # Pegar CSV\n",
        "distrito_municipal['geometry'] = distrito_municipal['geometry'].apply(wkt.loads)\n",
        "geopd_distrito_municipal = gpd.GeoDataFrame(distrito_municipal, geometry='geometry', crs=\"EPSG:31983\")\n",
        "\n",
        "# Transformar de EPSG:31983 para EPSG:4326\n",
        "target_crs = pyproj.CRS.from_epsg(4326)\n",
        "geopd_distrito_municipal = geopd_distrito_municipal.to_crs(target_crs)\n",
        "\n",
        "\n",
        "# Transformar Tabela Escola para o um GeoDataFrame\n",
        "df_escolas.point = df_escolas.point.apply(wkt.loads)\n",
        "geo_df_escolas = gpd.GeoDataFrame(df_escolas, geometry='point', crs=\"EPSG:4326\")\n",
        "\n",
        "escolas_distritos = geopd_distrito_municipal.sjoin(geo_df_escolas, how='left', predicate='contains')\n"
      ],
      "metadata": {
        "id": "TSjKRxkfi3Fd"
      },
      "execution_count": 30,
      "outputs": []
    },
    {
      "cell_type": "markdown",
      "source": [
        "## Indicadores vindo de [INEP Censo Escolar 2023][inep_escola]\n",
        "\n",
        "\n",
        "[inep_escola]: https://basedosdados.org/dataset/dae21af4-4b6a-42f4-b94a-4c2061ea9de5?table=15e428cb-cce2-41f8-aec5-066d685b5bd5\n",
        "\n"
      ],
      "metadata": {
        "id": "HPnrdHObkp3t"
      }
    },
    {
      "cell_type": "markdown",
      "source": [
        "### Taxa de matrículas de crianças por raça e cor (pessoas pardas matriculadas / total de pessoas pardas em idade escolar no distrito)\n",
        "\n",
        "Seguinte fórmula:\n",
        "\n",
        "$\\text{Taxa de matrículas de crianças pardas} = \\frac{\\text{Quantidade Matriculas Parda}}{\\text{0 a 29 anos, Cor ou raça é parda}} \\times 100$\n",
        "\n",
        "Indicadores resultante desse codigo:\n",
        "- Taxa de matrículas de crianças pardas - INEP 2023/Censo 2022\n",
        "\n",
        "\n",
        "> Censo 2022 só disponibiliza duas faixa que podem ser consideradas de idade escola 0 a 14 e 15 a 29. Usei apenas a 0 a 14, porém acabou tendo mais matriculas do que população parda."
      ],
      "metadata": {
        "id": "VrjAg-3V8WhQ"
      }
    },
    {
      "cell_type": "code",
      "source": [
        "# >>_Taxa de matrículas de crianças pardas - INEP 2023/Censo 2022_<<\n",
        "\n",
        "\n",
        "# V01375: 0 a 14 anos, Cor ou raça é parda\n",
        "# V01380: 15 a 29 anos, Cor ou raça é parda\n",
        "\n",
        "# Colunas que vão ser transformadas em INT\n",
        "\n",
        "columns_str_to_int: list[str] = ['V01375', 'V01380']\n",
        "\n",
        "indicador_name = 'Taxa de matrículas de crianças pardas - INEP 2023/Censo 2022'\n",
        "\n",
        "pardos_idade_escolar = first_temp_df[['NM_DIST', 'V01375', 'V01380']].copy()\n",
        "pardos_idade_escolar.index = pardos_idade_escolar.NM_DIST\n",
        "pardos_idade_escolar[columns_str_to_int] = pardos_idade_escolar[columns_str_to_int].astype(int)\n",
        "pardos_idade_escolar = pardos_idade_escolar.V01375\n",
        "\n",
        "matriculas_pardas = escolas_distritos.groupby('nm_distrito_municipal').quantidade_matricula_parda.sum()\n",
        "\n",
        "for df in [matriculas_pardas, pardos_idade_escolar]:\n",
        "  df.index = [slugify(temp_index) for temp_index in df.index]\n",
        "\n",
        "pardos_idade_escolar = pd.concat([matriculas_pardas, pardos_idade_escolar], axis=1)\n",
        "\n",
        "pardos_idade_escolar = ((pardos_idade_escolar['quantidade_matricula_parda'] / pardos_idade_escolar['V01375']) * 100).round(3).to_frame(indicador_name)\n",
        "\n",
        "pardos_idade_escolar.replace([np.inf, -np.inf], 0, inplace=True)"
      ],
      "metadata": {
        "id": "SL1jYBjO8b5h"
      },
      "execution_count": 31,
      "outputs": []
    },
    {
      "cell_type": "markdown",
      "source": [
        "### Taxa de matrículas de crianças por raça e cor (pessoas pretas matriculadas / total de pessoas pretas em idade escolar no distrito)\n",
        "\n",
        "Seguinte fórmula:\n",
        "\n",
        "$\\text{Taxa de matrículas de crianças preta} = \\frac{\\text{Quantidade Matriculas preta}}{\\text{0 a 29 anos, Cor ou raça é preta}} \\times 100$\n",
        "\n",
        "Indicadores resultante desse codigo:\n",
        "\n",
        "- Taxa de matrículas de crianças pretas - INEP 2023/Censo 2022\n",
        "\n"
      ],
      "metadata": {
        "id": "RApEUj3TDihv"
      }
    },
    {
      "cell_type": "code",
      "source": [
        "# >>_Taxa de matrículas de crianças pretas - INEP 2023/Censo 2022_<<\n",
        "\n",
        "\n",
        "# V01373: 0 a 14 anos, Cor ou raça é preta\n",
        "# V01378: 15 a 29 anos, Cor ou raça é preta\n",
        "\n",
        "# Colunas que vão ser transformadas em INT\n",
        "columns_str_to_int: list[str] = ['V01373', 'V01380']\n",
        "\n",
        "indicador_name = 'Taxa de matrículas de crianças pretas - INEP 2023/Censo 2022'\n",
        "\n",
        "pretos_idade_escolar = first_temp_df[['NM_DIST', 'V01373', 'V01380']].copy()\n",
        "pretos_idade_escolar.index = pretos_idade_escolar.NM_DIST\n",
        "pretos_idade_escolar[columns_str_to_int] = pretos_idade_escolar[columns_str_to_int].astype(int)\n",
        "pretos_idade_escolar = pretos_idade_escolar.V01373\n",
        "\n",
        "matriculas_pretas = escolas_distritos.groupby('nm_distrito_municipal').quantidade_matricula_preta.sum()\n",
        "\n",
        "for df in [matriculas_pretas, pretos_idade_escolar]:\n",
        "  df.index = [slugify(temp_index) for temp_index in df.index]\n",
        "\n",
        "pretos_idade_escolar = pd.concat([matriculas_pretas, pretos_idade_escolar], axis=1)\n",
        "\n",
        "\n",
        "pretos_idade_escolar = ((pretos_idade_escolar['quantidade_matricula_preta'] / pretos_idade_escolar['V01373']) * 100).round(3).to_frame(indicador_name)\n",
        "\n",
        "pretos_idade_escolar.replace([np.inf, -np.inf], 0, inplace=True)"
      ],
      "metadata": {
        "id": "ypaaBixlDihv"
      },
      "execution_count": 32,
      "outputs": []
    },
    {
      "cell_type": "markdown",
      "source": [
        "### Quantidade de equipamentos educacionais por número de alunos matriculados"
      ],
      "metadata": {
        "id": "IgsqbLMq5uUd"
      }
    },
    {
      "cell_type": "code",
      "source": [
        "# >>_Quantidade de equipamentos educacionais por número de alunos matriculados - INEP 2023_<<\n",
        "\n",
        "\n",
        "nome_indicador = 'Quantidade de equipamentos educacionais por número de alunos matriculados - INEP 2023'\n",
        "quantidade_matricula_educacao_basica = escolas_distritos.groupby('nm_distrito_municipal').quantidade_matricula_educacao_basica.sum()\n",
        "quantidade_escolas = escolas_distritos.groupby('nm_distrito_municipal').id.size().to_frame(\"Quantatidade de escolas\")\n",
        "indicador_numero_escolas = pd.concat([quantidade_escolas, quantidade_matricula_educacao_basica], axis=1)\n",
        "indicador_numero_escolas[nome_indicador] = indicador_numero_escolas['Quantatidade de escolas']/indicador_numero_escolas['quantidade_matricula_educacao_basica']\n",
        "indicador_numero_escolas = indicador_numero_escolas[nome_indicador]"
      ],
      "metadata": {
        "id": "vRi3gtn_5uUi"
      },
      "execution_count": 33,
      "outputs": []
    },
    {
      "cell_type": "markdown",
      "source": [
        "### % de crianças de 0 a 5 anos que não frequentam a escola"
      ],
      "metadata": {
        "id": "lKRdNIwNXhvl"
      }
    },
    {
      "cell_type": "code",
      "source": [
        "# >>_Taxa de matrículas na pre-escola e creche - INEP 2023/Censo 2022_<<\n",
        "\n",
        "\n",
        "# V01031: 0 a 4 anos\n",
        "\n",
        "matriculas_pre_escola_creche = escolas_distritos[['nm_distrito_municipal', 'quantidade_matricula_infantil_creche', 'quantidade_matricula_infantil_pre_escola']].copy()\n",
        "matriculas_pre_escola_creche['creche_pre_escola'] = matriculas_pre_escola_creche.quantidade_matricula_infantil_creche + matriculas_pre_escola_creche.quantidade_matricula_infantil_pre_escola\n",
        "\n",
        "# Censo\n",
        "columns_str_to_int: list[str] = ['V01031']\n",
        "\n",
        "popolucao_zero_quadro = first_temp_df[['NM_DIST', 'V01031']].copy()\n",
        "popolucao_zero_quadro.index = popolucao_zero_quadro.NM_DIST\n",
        "popolucao_zero_quadro[columns_str_to_int] = popolucao_zero_quadro[columns_str_to_int].astype(int)\n",
        "\n",
        "matriculas_pre_escola_creche = matriculas_pre_escola_creche.groupby('nm_distrito_municipal').creche_pre_escola.sum()\n",
        "\n",
        "# Juntar\n",
        "for df in [matriculas_pre_escola_creche, popolucao_zero_quadro]:\n",
        "  df.index = [slugify(temp_index) for temp_index in df.index]\n",
        "\n",
        "indicador_matriculas_pre_escola_creche = pd.concat([matriculas_pre_escola_creche, popolucao_zero_quadro], axis=1)\n",
        "\n",
        "nome_indicador = 'Taxa de matrículas na pre-escola e creche - INEP 2023/Censo 2022'\n",
        "\n",
        "indicador_matriculas_pre_escola_creche[nome_indicador] = (indicador_matriculas_pre_escola_creche['creche_pre_escola'] / indicador_matriculas_pre_escola_creche['V01031']).round(3)\n",
        "indicador_matriculas_pre_escola_creche[nome_indicador] = indicador_matriculas_pre_escola_creche[nome_indicador] * 100\n",
        "indicador_matriculas_pre_escola_creche.replace([np.inf, -np.inf], 0, inplace=True)\n",
        "indicador_matriculas_pre_escola_creche.set_index('NM_DIST', inplace=True)\n",
        "indicador_matriculas_pre_escola_creche = indicador_matriculas_pre_escola_creche[nome_indicador]"
      ],
      "metadata": {
        "id": "RMkxsRJBY9dM"
      },
      "execution_count": 34,
      "outputs": []
    },
    {
      "cell_type": "markdown",
      "source": [
        "# Indicadores Espaciais\n",
        "\n",
        "Indicadores:\n",
        "- [x] % da população distrital a até 1 km de uma UBS -> [Codigo][indicadores_12]\n",
        "- [x] % da população distrital a até 5 km de um Hospital -> [Codigo][indicadores_13]\n",
        "\n",
        "<!-- % da população distrital a até 1 km de uma UBS -->\n",
        "[indicadores_12]: https://colab.research.google.com/drive/14jIloiip7s8xnTffYS55Q0lF8Etwz5W5#scrollTo=cBf37L5ein3R\n",
        "\n",
        "<!-- % da população distrital a até 5 km de um Hospital -->\n",
        "[indicadores_13]: https://colab.research.google.com/drive/14jIloiip7s8xnTffYS55Q0lF8Etwz5W5#scrollTo=zuqhT1AXfgcL"
      ],
      "metadata": {
        "id": "DU4iOv0BVmpO"
      }
    },
    {
      "cell_type": "markdown",
      "source": [
        "## Download"
      ],
      "metadata": {
        "id": "Fq3H4VTleFaE"
      }
    },
    {
      "cell_type": "code",
      "source": [
        "url_agregados_por_distrito_csv = 'http://ftp.ibge.gov.br/Censos/Censo_Demografico_2022/Agregados_por_Setores_Censitarios/Agregados_por_Setor_csv/'\n",
        "url_sp_distrito_geo_setores = 'http://ftp.ibge.gov.br/Censos/Censo_Demografico_2022/Agregados_por_Setores_Censitarios/malha_com_atributos/setores/shp/UF/SP/SP_setores_CD2022.zip'\n",
        "url_sp_distrito_geo = 'http://ftp.ibge.gov.br/Censos/Censo_Demografico_2022/Agregados_por_Setores_Censitarios/malha_com_atributos/distritos/shp/UF/SP/SP_distritos_CD2022.zip'\n",
        "url_dicionario_de_dados = 'http://ftp.ibge.gov.br/Censos/Censo_Demografico_2022/Agregados_por_Setores_Censitarios/dicionario_de_dados_agregados_por_setores_censitarios.xlsx'\n",
        "url_cnes = 'https://s3.sa-east-1.amazonaws.com/ckan.saude.gov.br/CNES/cnes_estabelecimentos.zip'\n",
        "geosampa_saude = 'https://download.geosampa.prefeitura.sp.gov.br/PaginasPublicas/downloadArquivo.aspx?orig=DownloadCamadas&arq=03_Equipamentos%5C%5CSa%FAde_INTER%5C%5CShapefile%5C%5CSIRGAS_SHP_abrangenciaunidadebasicasaude&arqTipo=Shapefile'\n",
        "\n",
        "response = requests.get(url_agregados_por_distrito_csv)\n",
        "\n",
        "soup = BeautifulSoup(response.text)\n",
        "\n",
        "links_agregados_por_distrito_csv = [url_agregados_por_distrito_csv + a.get('href') for a in soup.select('td a') if a.get('href').count('zip')] # Coleta o link dos Arquivos\n",
        "\n",
        "links_agregados_por_distrito_csv.extend([geosampa_saude, url_cnes, url_sp_distrito_geo_setores, url_sp_distrito_geo, url_dicionario_de_dados]) # Adicionando tabela Distrito Geografico e Dicionario a lista de download\n",
        "\n",
        "with concurrent.futures.ThreadPoolExecutor() as executor:\n",
        "  executor.map(download_and_zip_extraction, links_agregados_por_distrito_csv)\n",
        "\n"
      ],
      "metadata": {
        "id": "9aPgOblGQsbt"
      },
      "execution_count": 35,
      "outputs": []
    },
    {
      "cell_type": "markdown",
      "source": [
        "## Censo 2022 Setores"
      ],
      "metadata": {
        "id": "qSUfKL51eHbF"
      }
    },
    {
      "cell_type": "code",
      "source": [
        "# Define tabela com as GeoGrafias\n",
        "geo_df_sp = gpd.read_file('/content/data/input/SP_setores_CD2022.shp', columns=['CD_SETOR', 'CD_DIST', 'NM_DIST', 'geometry'])\n",
        "geo_df_sp = geo_df_sp[geo_df_sp.CD_DIST.str.contains(\"3550308\")]\n",
        "\n",
        "\n",
        "ids_seto_sp = geo_df_sp.CD_SETOR.values.tolist()\n",
        "# Carrega o Dicionario e Prepara ele para o Rename\n",
        "path_dicionario = '/content/data/input/dicionario_de_dados_agregados_por_setores_censitarios_20250417.xlsx'\n",
        "sheet_names = ['Dicionário Básico', 'Dicionário não PCT', 'Dicionário PCT - Indígenas', 'Dicionário PCT - Quilombolas']\n",
        "\n",
        "df_dicionario = pd.concat([excel_sheet_to_df(path_dicionario, sheet_name) for sheet_name in sheet_names])\n",
        "\n",
        "dicionario_to_rename = dict(zip(df_dicionario.Variável, df_dicionario.Descrição))\n",
        "\n",
        "\n",
        "# Carrega e trata tabela final\n",
        "\n",
        "regex_glob = '/content/data/input/Agregados_por_distritos*.csv'\n",
        "\n",
        "csv_files = [\n",
        "    '/content/data/input/Agregados_por_setores_basico_BR_20250417.csv',\n",
        "    '/content/data/input/Agregados_por_setores_cor_ou_raca_BR.csv'\n",
        "]\n",
        "\n",
        "temp_dfs = [get_sp_setor_from_csv(csv_path, ids_seto_sp) for csv_path in csv_files]\n",
        "\n",
        "temp_dfs.append(geo_df_sp) # Adicionando tabela Distrito Geografico\n",
        "\n",
        "first_temp_df_setores = temp_dfs.pop(0) # Seleciona primeira tabela e remove ela da lista\n",
        "\n",
        "for temp_df in temp_dfs:\n",
        "\n",
        "  try:\n",
        "    temp_df.drop('NM_DIST', axis=1, inplace=True)\n",
        "\n",
        "  except:\n",
        "    pass\n",
        "  first_temp_df_setores = pd.merge(\n",
        "      first_temp_df_setores,\n",
        "      temp_df,\n",
        "      how=\"left\",\n",
        "      on=\"CD_SETOR\"\n",
        "  )\n",
        "\n",
        "first_temp_df_setores.columns = first_temp_df_setores.columns.str.upper() # Coloca todas as colunas como Upper para manipulação de nomes\n",
        "\n",
        "# Tratar ordem e nome das colunas\n",
        "columns_to_sorted = first_temp_df_setores.columns[first_temp_df_setores.columns.str.startswith('V')].sort_values().tolist()\n",
        "first_columns = first_temp_df_setores.columns[~first_temp_df_setores.columns.str.startswith('V')].tolist()\n",
        "column_order = first_columns + columns_to_sorted\n",
        "\n",
        "first_temp_df_setores = first_temp_df_setores[column_order]\n",
        "\n",
        "first_temp_df_setores.V0001 = first_temp_df_setores.V0001.astype(int)\n",
        "\n",
        "setores_maps = gpd.GeoDataFrame(first_temp_df_setores, geometry='GEOMETRY', crs=4326)\n",
        "\n",
        "setores_maps.fillna(0, inplace=True)\n",
        "setores_maps.replace('X', '0', inplace=True)\n",
        "setores_maps[['V01318', 'V01320']] = setores_maps[['V01318', 'V01320']].astype(int)\n",
        "setores_maps['pretos_pardos'] = setores_maps['V01318'] + setores_maps['V01320']"
      ],
      "metadata": {
        "id": "uhHxN3faRQC0"
      },
      "execution_count": 36,
      "outputs": []
    },
    {
      "cell_type": "markdown",
      "source": [
        "## GEOMETRY Distrito"
      ],
      "metadata": {
        "id": "ZcCUleF2Ui1q"
      }
    },
    {
      "cell_type": "code",
      "source": [
        "distritos_sp = gpd.read_file('/content/data/input/SP_distritos_CD2022.shp', columns=['CD_DIST', 'NM_DIST', 'geometry'])\n",
        "distritos_sp = distritos_sp[distritos_sp.CD_DIST.str.contains(\"3550308\")]\n",
        "distritos_sp = distritos_sp.to_crs(4326)"
      ],
      "metadata": {
        "id": "iStet5aOUkuU"
      },
      "execution_count": 37,
      "outputs": []
    },
    {
      "cell_type": "markdown",
      "source": [
        "## Ler [CNES][cnes] estabelecimentos - Indicador UBS\n",
        "\n",
        "> Tipos de unicadade foi retirado da API: https://apidadosabertos.saude.gov.br/cnes/tipounidades\n",
        "\n",
        "[cnes]: https://dados.gov.br/dados/conjuntos-dados/cnes-cadastro-nacional-de-estabelecimentos-de-saude"
      ],
      "metadata": {
        "id": "DJ2c9nOmfpqA"
      }
    },
    {
      "cell_type": "code",
      "source": [
        "cnes_estabelecimentos = pd.read_csv('/content/data/input/cnes_estabelecimentos.csv', dtype=str, sep=';',\n",
        "                                    encoding='latin-1', usecols=['CO_CNES', 'CO_UNIDADE', 'CO_IBGE', 'TP_UNIDADE', 'NU_LATITUDE', 'NU_LONGITUDE'])\n",
        "\n",
        "filter = (cnes_estabelecimentos.CO_IBGE == '355030') & (cnes_estabelecimentos.TP_UNIDADE == '2')\n",
        "cnes_estabelecimentos_sp = cnes_estabelecimentos[filter].copy()\n",
        "\n",
        "# Transformar longitue e latitude em Point objeto\n",
        "cnes_estabelecimentos_sp['point'] = cnes_estabelecimentos_sp.apply(lambda row: Point(row.NU_LONGITUDE, row.NU_LATITUDE), axis=1)\n",
        "\n",
        "cnes_estabelecimentos_sp_geo_df = gpd.GeoDataFrame(cnes_estabelecimentos_sp, geometry='point', crs=4326)\n",
        "\n",
        "cnes_sp_distrito_geo_df = distritos_sp.sjoin(cnes_estabelecimentos_sp_geo_df, how='left', predicate='contains')\n",
        "cnes_sp_distrito_geo_df['point'] = cnes_sp_distrito_geo_df.apply(lambda row: Point(row.NU_LONGITUDE, row.NU_LATITUDE), axis=1)"
      ],
      "metadata": {
        "id": "UVqkMPYFfpqB"
      },
      "execution_count": 38,
      "outputs": []
    },
    {
      "cell_type": "markdown",
      "source": [
        "### Aplicar buffer"
      ],
      "metadata": {
        "id": "orsxNeC2tyft"
      }
    },
    {
      "cell_type": "code",
      "source": [
        "cnes_to_buffer = cnes_sp_distrito_geo_df.drop('geometry', axis=1)\n",
        "cnes_without_buffer = gpd.GeoDataFrame(cnes_to_buffer, geometry=\"point\", crs=4326).to_crs(3003)\n",
        "cnes_with_buffer = cnes_without_buffer.copy()\n",
        "cnes_with_buffer.point = cnes_without_buffer.point.buffer(1000)\n",
        "cnes_with_buffer = cnes_with_buffer.to_crs(4326)"
      ],
      "metadata": {
        "id": "wrp5E0HD9ctM"
      },
      "execution_count": 39,
      "outputs": []
    },
    {
      "cell_type": "markdown",
      "source": [
        "### dissolve dos buffer das UBS"
      ],
      "metadata": {
        "id": "R7nxJhOniigg"
      }
    },
    {
      "cell_type": "code",
      "source": [
        "df_to_union = cnes_with_buffer.reset_index()[['point']]\n",
        "uniao_df = df_to_union.sjoin(df_to_union, how='left', predicate='intersects')\n",
        "over_lay_view = uniao_df.dissolve().explode().reset_index(drop=True)"
      ],
      "metadata": {
        "id": "VS1wzXM86hil"
      },
      "execution_count": 40,
      "outputs": []
    },
    {
      "cell_type": "markdown",
      "source": [
        "### Criar Indicadores com porcentagem das areas"
      ],
      "metadata": {
        "id": "tzsHKzxNXFKq"
      }
    },
    {
      "cell_type": "code",
      "source": [
        "# Verificação Setores Interceptado\n",
        "\n",
        "populacao_distrital: list = []\n",
        "porcentagem_coberturas: list = []\n",
        "for row in over_lay_view.itertuples():\n",
        "  for row_setores in setores_maps.itertuples():\n",
        "    if row.point.intersects(row_setores.GEOMETRY):\n",
        "      populacao_distrital.append(row_setores)\n",
        "      porcentagem_coberturas.append(overlap_percentage(row.point, row_setores.GEOMETRY))"
      ],
      "metadata": {
        "id": "4nV_P8G32JYC"
      },
      "execution_count": 41,
      "outputs": []
    },
    {
      "cell_type": "markdown",
      "source": [
        "### % da população distrital a até 1 km de uma UBS\n",
        "Seguinte fórmula:\n",
        "\n",
        "$\\text{\n",
        "% da população distrital a até 1 km de uma UBS} = \\frac{\\text{Pessoas dentro de 1km da UBS}}{\\text{Total População}} \\times 100$\n",
        "\n",
        "Indicadores resultante desse codigo:\n",
        "- % da população distrital a até 1 km de um UBS\n"
      ],
      "metadata": {
        "id": "cBf37L5ein3R"
      }
    },
    {
      "cell_type": "code",
      "source": [
        "# >>_% da população distrital a até 1 km de uma UBS - Censo 2022|CNES 2025_<<\n",
        "\n",
        "indicador_name = '% da população distrital a até 1 km de uma UBS - Censo 2022|CNES 2025'\n",
        "\n",
        "df_populacao_distrital_porcent = pd.DataFrame(populacao_distrital)\n",
        "df_populacao_distrital_porcent['area_coberta_ubs'] = porcentagem_coberturas\n",
        "df_populacao_distrital_porcent.V0001 = df_populacao_distrital_porcent.V0001.astype(int)\n",
        "\n",
        "indicador_populacao_distrital_final_porcent = df_populacao_distrital_porcent.groupby(['NM_DIST', 'CD_SETOR', 'V0001'], as_index=False).area_coberta_ubs.sum()\n",
        "indicador_populacao_distrital_final_porcent['Pessoas dentro de 1km da UBS'] = (indicador_populacao_distrital_final_porcent['area_coberta_ubs'] / 100) * indicador_populacao_distrital_final_porcent.V0001\n",
        "indicador_populacao_distrital_final_porcent['Pessoas dentro de 1km da UBS'] = indicador_populacao_distrital_final_porcent['Pessoas dentro de 1km da UBS'].round(3)\n",
        "\n",
        "indicador_populacao_distrital_final_porcent = indicador_populacao_distrital_final_porcent.groupby('NM_DIST')['Pessoas dentro de 1km da UBS'].sum().to_frame('Pessoas dentro de 1km da UBS')\n",
        "\n",
        "total_populacao_porcent = setores_maps.groupby('NM_DIST').V0001.sum().to_frame('Total População')\n",
        "\n",
        "indicador_populacao_distrital_final_porcent = pd.concat([indicador_populacao_distrital_final_porcent, total_populacao_porcent], axis=1)\n",
        "indicador_populacao_distrital_final_porcent = ((indicador_populacao_distrital_final_porcent['Pessoas dentro de 1km da UBS'] / indicador_populacao_distrital_final_porcent['Total População']) * 100).round(3).to_frame(indicador_name)\n"
      ],
      "metadata": {
        "id": "06iDsq82XH5Z"
      },
      "execution_count": 42,
      "outputs": []
    },
    {
      "cell_type": "markdown",
      "source": [
        "## Ler [CNES][cnes] estabelecimentos - Indicador Hospitais\n",
        "\n",
        "> Tipos de unicadade foi retirado da API: https://apidadosabertos.saude.gov.br/cnes/tipounidades\n",
        "\n",
        "[cnes]: https://dados.gov.br/dados/conjuntos-dados/cnes-cadastro-nacional-de-estabelecimentos-de-saude\n",
        "\n"
      ],
      "metadata": {
        "id": "LXtqd5wIjuSQ"
      }
    },
    {
      "cell_type": "code",
      "source": [
        "hospitais_cnes_estabelecimentos = pd.read_csv('/content/data/input/cnes_estabelecimentos.csv', dtype=str, sep=';',\n",
        "                                    encoding='latin-1', usecols=['CO_CNES', 'CO_UNIDADE', 'CO_IBGE', 'TP_UNIDADE', 'NU_LATITUDE', 'NU_LONGITUDE'])\n",
        "\n",
        "hospitais_filter = (hospitais_cnes_estabelecimentos.CO_IBGE == '355030') & (hospitais_cnes_estabelecimentos.TP_UNIDADE.isin(['62', '5', '7']))\n",
        "hospitais_cnes_estabelecimentos_sp = hospitais_cnes_estabelecimentos[hospitais_filter]\n",
        "\n",
        "# Transformar longitue e latitude em Point objeto\n",
        "hospitais_cnes_estabelecimentos_sp['point'] = hospitais_cnes_estabelecimentos_sp.apply(lambda row: Point(row.NU_LONGITUDE, row.NU_LATITUDE), axis=1)\n",
        "\n",
        "hospitais_cnes_estabelecimentos_sp_geo_df = gpd.GeoDataFrame(hospitais_cnes_estabelecimentos_sp, geometry='point', crs=4326)\n",
        "\n",
        "hospitais_cnes_sp_distrito_geo_df = distritos_sp.sjoin(hospitais_cnes_estabelecimentos_sp_geo_df, how='left', predicate='contains')\n",
        "hospitais_cnes_sp_distrito_geo_df['point'] = hospitais_cnes_sp_distrito_geo_df.apply(lambda row: Point(row.NU_LONGITUDE, row.NU_LATITUDE), axis=1)\n"
      ],
      "metadata": {
        "id": "qVuHvBQPjuSR"
      },
      "execution_count": 43,
      "outputs": []
    },
    {
      "cell_type": "markdown",
      "source": [
        "### Aplicar buffer"
      ],
      "metadata": {
        "id": "thd4791NjuSR"
      }
    },
    {
      "cell_type": "code",
      "source": [
        "hospitais_cnes_to_buffer = hospitais_cnes_sp_distrito_geo_df.drop('geometry', axis=1)\n",
        "hospitais_cnes_without_buffer = gpd.GeoDataFrame(hospitais_cnes_to_buffer, geometry=\"point\", crs=4326).to_crs(3003)\n",
        "hospitais_cnes_with_buffer = hospitais_cnes_without_buffer.copy()\n",
        "hospitais_cnes_with_buffer.point = hospitais_cnes_with_buffer.point.buffer(5000) # 5 Quilometros\n",
        "hospitais_cnes_with_buffer = hospitais_cnes_with_buffer.to_crs(4326)"
      ],
      "metadata": {
        "id": "F4Hkg_jAjuSS"
      },
      "execution_count": 44,
      "outputs": []
    },
    {
      "cell_type": "markdown",
      "source": [
        "### dissolve dos buffer das Hospitais"
      ],
      "metadata": {
        "id": "Y1jwmqVkjuST"
      }
    },
    {
      "cell_type": "code",
      "source": [
        "hospitais_df_to_union = hospitais_cnes_with_buffer.reset_index()[['point']]\n",
        "hospitais_uniao_df = hospitais_df_to_union.sjoin(hospitais_df_to_union, how='left', predicate='intersects')\n",
        "hospitais_over_lay_view = hospitais_uniao_df.dissolve().explode().reset_index(drop=True)"
      ],
      "metadata": {
        "id": "jJKtNBHpjuST"
      },
      "execution_count": 45,
      "outputs": []
    },
    {
      "cell_type": "markdown",
      "source": [
        "### Visualizar buffer"
      ],
      "metadata": {
        "id": "5n0kO7fWjuSS"
      }
    },
    {
      "cell_type": "code",
      "source": [
        "gdf2 = setores_maps.copy()\n",
        "gdf5 = hospitais_cnes_to_buffer.copy()\n",
        "gdf6 = hospitais_cnes_with_buffer.copy()\n",
        "over_lay_view_plot = hospitais_over_lay_view.copy()\n",
        "fig, ax = plt.subplots(figsize=(10, 10))\n",
        "\n",
        "gdf2.GEOMETRY.plot(ax=ax, color='blue', alpha=1, label='Primeira Camada')\n",
        "gdf5.point.plot(ax=ax, color='yellow', alpha=1, label='Segunda Camada')\n",
        "# gdf6.point.plot(ax=ax, color='pink', alpha=0.5, label='Terceira Camada')\n",
        "over_lay_view_plot.plot(ax=ax, color='pink', alpha=0.5, label='Terceira Camada')\n",
        "plt.legend()\n",
        "plt.show()"
      ],
      "metadata": {
        "id": "wbW7xShnjuST",
        "colab": {
          "base_uri": "https://localhost:8080/",
          "height": 830
        },
        "outputId": "6a0ea726-63c3-4a51-b98e-5eb8cab6a26b"
      },
      "execution_count": 46,
      "outputs": [
        {
          "output_type": "display_data",
          "data": {
            "text/plain": [
              "<Figure size 1000x1000 with 1 Axes>"
            ],
            "image/png": "[encoded data removed]"
          },
          "metadata": {}
        }
      ]
    },
    {
      "cell_type": "markdown",
      "source": [
        "### Criar Indicadores com porcentagem das areas"
      ],
      "metadata": {
        "id": "DnWtC8I8juSU"
      }
    },
    {
      "cell_type": "code",
      "source": [
        "# Verificação Setores Interceptado\n",
        "\n",
        "hospitais_populacao_distrital: list = []\n",
        "hospitais_porcentagem_coberturas: list = []\n",
        "for row in hospitais_over_lay_view.itertuples():\n",
        "  for row_setores in setores_maps.itertuples():\n",
        "    if row.point.intersects(row_setores.GEOMETRY):\n",
        "      hospitais_populacao_distrital.append(row_setores)\n",
        "      hospitais_porcentagem_coberturas.append(overlap_percentage(row.point, row_setores.GEOMETRY))"
      ],
      "metadata": {
        "id": "8JbrpkIyjuSV"
      },
      "execution_count": 47,
      "outputs": []
    },
    {
      "cell_type": "markdown",
      "source": [
        "### % da população distrital a até 5 km de um Hospital\n",
        "\n",
        "Seguinte fórmula:\n",
        "\n",
        "$\\text{\n",
        "% da população distrital a até 5 km de um Hospital} = \\frac{\\text{Pessoas dentro de 5km da Hospital}}{\\text{Total População}} \\times 100$\n",
        "\n",
        "Indicadores resultante desse codigo:\n",
        "- % da população distrital a até 5 km de um Hospital\n"
      ],
      "metadata": {
        "id": "zuqhT1AXfgcL"
      }
    },
    {
      "cell_type": "code",
      "source": [
        "# >>_% da população distrital a até 5 km de um Hospital - Censo 2022|CNES 2025_<<\n",
        "\n",
        "\n",
        "nome_indicador = '% da população distrital a até 5 km de um Hospital - Censo 2022|CNES 2025'\n",
        "\n",
        "hospitais_df_populacao_distrital_porcent = pd.DataFrame(hospitais_populacao_distrital)\n",
        "hospitais_df_populacao_distrital_porcent['area_coberta_hospital'] = hospitais_porcentagem_coberturas\n",
        "hospitais_df_populacao_distrital_porcent.V0001 = hospitais_df_populacao_distrital_porcent.V0001.astype(int)\n",
        "\n",
        "hospitais_indicador_populacao_distrital_final_porcent = hospitais_df_populacao_distrital_porcent.groupby(['NM_DIST', 'CD_SETOR', 'V0001'], as_index=False).area_coberta_hospital.sum()\n",
        "hospitais_indicador_populacao_distrital_final_porcent[nome_indicador] = (hospitais_indicador_populacao_distrital_final_porcent['area_coberta_hospital'] / 100) * hospitais_indicador_populacao_distrital_final_porcent.V0001\n",
        "hospitais_indicador_populacao_distrital_final_porcent[nome_indicador] = hospitais_indicador_populacao_distrital_final_porcent[nome_indicador].round(3)\n",
        "\n",
        "hospitais_indicador_populacao_distrital_final_porcent = hospitais_indicador_populacao_distrital_final_porcent.groupby('NM_DIST')[nome_indicador].sum().to_frame(nome_indicador)\n",
        "\n",
        "hospitais_total_populacao_porcent = setores_maps.groupby('NM_DIST').V0001.sum().to_frame('Total População')\n",
        "\n",
        "hospitais_indicador_populacao_distrital_final_porcent = pd.concat([hospitais_indicador_populacao_distrital_final_porcent, hospitais_total_populacao_porcent], axis=1)\n",
        "hospitais_indicador_populacao_distrital_final_porcent = ((hospitais_indicador_populacao_distrital_final_porcent[nome_indicador] / hospitais_indicador_populacao_distrital_final_porcent['Total População']) * 100).round(3).to_frame(nome_indicador)"
      ],
      "metadata": {
        "id": "MQWQxgoFjuSW"
      },
      "execution_count": 48,
      "outputs": []
    },
    {
      "cell_type": "markdown",
      "source": [
        "# ObservaSampa\n",
        "\n",
        "- Taxa de distorção da idade-ano para o ano no Ensino Fundamental nos anos iniciais (%) - ObservaSampa 2023\n",
        "- Taxa de distorção da idade-ano para o ano no Ensino Fundamental nos anos finais (%) - ObservaSampa 2023\n"
      ],
      "metadata": {
        "id": "ft7SFmVp0rsy"
      }
    },
    {
      "cell_type": "markdown",
      "source": [
        "## Taxa de distorção da idade-ano para o ano no Ensino Fundamental nos anos iniciais (%)\n",
        "\n",
        "Indicadores resultante desse codigo:\n",
        "- Taxa de distorção da idade-ano para o ano no Ensino Fundamental nos anos iniciais (%) - ObservaSampa 2023"
      ],
      "metadata": {
        "id": "1u6FFtTho9go"
      }
    },
    {
      "cell_type": "code",
      "source": [
        "# >>_Taxa de distorção da idade-ano para o ano no Ensino Fundamental nos anos iniciais (%) - ObservaSampa 2023_<<\n",
        "\n",
        "\n",
        "url = 'https://observasampa.prefeitura.sp.gov.br/arquivo.php?cd_indicador=572'\n",
        "distorcao_ensino_fundamental_iniciais = pd.read_csv(url, sep=';')\n",
        "selected_distrito = distorcao_ensino_fundamental_iniciais.nivel_regional == 'Distrito'\n",
        "distorcao_ensino_fundamental_iniciais = distorcao_ensino_fundamental_iniciais[selected_distrito]\n",
        "distorcao_ensino_fundamental_iniciais.index = distorcao_ensino_fundamental_iniciais['região']\n",
        "distorcao_ensino_fundamental_iniciais = distorcao_ensino_fundamental_iniciais['2023'].to_frame('Taxa de distorção da idade-ano para o ano no Ensino Fundamental nos anos iniciais (%) - ObservaSampa 2023')"
      ],
      "metadata": {
        "id": "gAebiUlCo9gq"
      },
      "execution_count": 49,
      "outputs": []
    },
    {
      "cell_type": "markdown",
      "source": [
        "## Taxa de distorção da idade-ano para o ano no Ensino Fundamental nos anos finais (%)\n",
        "\n",
        "Indicadores resultante desse codigo:\n",
        "- Taxa de distorção da idade-ano para o ano no Ensino Fundamental nos anos finais (%) - ObservaSampa 2023"
      ],
      "metadata": {
        "id": "MzIlOccupFTA"
      }
    },
    {
      "cell_type": "code",
      "source": [
        "# >>_Taxa de distorção da idade-ano para o ano no Ensino Fundamental nos anos finais (%) - ObservaSampa 2023_<<\n",
        "\n",
        "\n",
        "url = 'https://observasampa.prefeitura.sp.gov.br/arquivo.php?cd_indicador=573'\n",
        "distorcao_ensino_fundamental_finais = pd.read_csv(url, sep=';')\n",
        "selected_distrito = distorcao_ensino_fundamental_finais.nivel_regional == 'Distrito'\n",
        "distorcao_ensino_fundamental_finais = distorcao_ensino_fundamental_finais[selected_distrito]\n",
        "distorcao_ensino_fundamental_finais.index = distorcao_ensino_fundamental_finais['região']\n",
        "distorcao_ensino_fundamental_finais = distorcao_ensino_fundamental_finais['2023'].to_frame('Taxa de distorção da idade-ano para o ano no Ensino Fundamental nos anos finais (%) - ObservaSampa 2023')"
      ],
      "metadata": {
        "id": "7aDTrY-DpFTB"
      },
      "execution_count": 50,
      "outputs": []
    },
    {
      "cell_type": "markdown",
      "source": [
        "# [Tabnet DATASUS][tabnet]\n",
        "\n",
        "Indicadores:\n",
        "\n",
        "- [x] Proporção de nascidos vivos de mães que fizeram 7 ou mais consultas de pré natal - Tabnet DATASUS 2024 -> [Codigo][indicadores_21]\n",
        "- [x] Proporção de bebês com baixo peso ao nascer (menos de 2,5 kg) - Tabnet DATASUS 2024 -> [Codigo][indicadores_22]\n",
        "- [x] Proporção de bebês nascidos vivos de mães adolescentes (10 a 19 anos) - Tabnet DATASUS 2024 -> [Codigo][indicadores_23]\n",
        "\n",
        "[tabnet]: https://capital.sp.gov.br/web/saude/tabnet/\n",
        "\n",
        "<!-- Proporção de nascidos vivos de mães que fizeram 7 ou mais consultas de pré natal - Tabnet DATASUS 2024 -->\n",
        "[indicadores_21]: https://colab.research.google.com/drive/14jIloiip7s8xnTffYS55Q0lF8Etwz5W5#scrollTo=uAGYq3rLwomF&uniqifier=1\n",
        "\n",
        "<!-- Proporção de bebês com baixo peso ao nascer (menos de 2,5 kg) - Tabnet DATASUS 2024 -->\n",
        "[indicadores_22]: https://colab.research.google.com/drive/14jIloiip7s8xnTffYS55Q0lF8Etwz5W5#scrollTo=Sfeenf2N7Zfr&uniqifier=1\n",
        "\n",
        "<!-- Proporção de bebês nascidos vivos de mães adolescentes (10 a 19 anos) - Tabnet DATASUS 2024 -->\n",
        "[indicadores_23]: https://colab.research.google.com/drive/14jIloiip7s8xnTffYS55Q0lF8Etwz5W5#scrollTo=IlPIvhaDMOGv&uniqifier=1"
      ],
      "metadata": {
        "id": "kPlMhZfvqrK0"
      }
    },
    {
      "cell_type": "markdown",
      "source": [
        "## Proporção de nascidos vivos de mães que fizeram 7 ou mais consultas de pré natal\n",
        "\n",
        "Seguinte fórmula:\n",
        "\n",
        "$\\text{\n",
        "Proporção de nascidos vivos de mães que fizeram 7 ou mais consultas de pré natal} = \\frac{\\text{nascidos vivos de mães que fizeram 7 ou mais consultas de pré natal}}{\\text{Total de Nascidos Vivos}} \\times 100$\n",
        "\n",
        "Indicadores resultante desse codigo:\n",
        "\n",
        "- Proporção de nascidos vivos de mães que fizeram 7 ou mais consultas de pré natal - Tabnet DATASUS 2024\n"
      ],
      "metadata": {
        "id": "Mh157c0hwvq2"
      }
    },
    {
      "cell_type": "code",
      "source": [
        "# >>_Proporção de nascidos vivos de mães que fizeram 7 ou mais consultas de pré natal - Tabnet DATASUS 2024_<<\n",
        "\n",
        "\n",
        "indicador_name = 'Proporção de nascidos vivos de mães que fizeram 7 ou mais consultas de pré natal - Tabnet DATASUS 2024'\n",
        "\n",
        "attrs = {'class': 'tabdados'}\n",
        "\n",
        "columns = ['Distritos', 'Nenhuma', '1 a 3 consultas',\n",
        "       '4 a 6 consultas', '7 consultas e +', 'Ignorado', 'Total']\n",
        "\n",
        "columns_final = ['Nascidos vivos de mães que fizeram 7 ou mais consultas de pré natal - Tabnet DATASUS 2024',\n",
        "                 'Total nascidos vivos - Tabnet DATASUS 2024',\n",
        "                 f'{indicador_name} - Tabnet DATASUS 2024']\n",
        "\n",
        "\n",
        "conteudo = 'NV_de_partos_ocorridos_MSP' # NV de partos ocorridos MSP por Consulta pré-natal segundo Distrito Administ. residência Período: 2024\n",
        "conteudo = 'NV_parturientes_residentes_MSP' # NV parturientes residentes MSP por Consulta pré-natal segundo Distrito Administ. residência Período: 2024\n",
        "\n",
        "data = f\"Linha=Distrito_Administ._resid%EAncia&Coluna=Consulta_pr%E9-natal&Incremento={conteudo}&Arquivos=dnsp24.dbf&pesqmes1=Digite+o+texto+e+ache+f%E1cil&SAno_nascimento=TODAS_AS_CATEGORIAS__&pesqmes2=Digite+o+texto+e+ache+f%E1cil&SM%EAs_nascimento=TODAS_AS_CATEGORIAS__&pesqmes3=Digite+o+texto+e+ache+f%E1cil&SM%EAs%2FAno_nascimento=TODAS_AS_CATEGORIAS__&pesqmes4=Digite+o+texto+e+ache+f%E1cil&SDistrito_Administ._resid%EAncia=TODAS_AS_CATEGORIAS__&pesqmes5=Digite+o+texto+e+ache+f%E1cil&SSubPrefeitura_resid%EAncia=TODAS_AS_CATEGORIAS__&pesqmes6=Digite+o+texto+e+ache+f%E1cil&SSupervis%E3o_T._Sa%FAde_resid%EAncia=TODAS_AS_CATEGORIAS__&SCoord._Reg._Sa%FAde_resid%EAncia=TODAS_AS_CATEGORIAS__&pesqmes8=Digite+o+texto+e+ache+f%E1cil&SMunic%EDpio_resid%EAncia=TODAS_AS_CATEGORIAS__&SMunic_SP_resid_s%2Fn=TODAS_AS_CATEGORIAS__&pesqmes10=Digite+o+texto+e+ache+f%E1cil&SSubPrefeitura_ocorr%EAncia=TODAS_AS_CATEGORIAS__&pesqmes11=Digite+o+texto+e+ache+f%E1cil&SSupervis%E3o_T._Sa%FAde_ocorr%EAncia=TODAS_AS_CATEGORIAS__&SCoord._Reg._Sa%FAde_ocorr%EAncia=TODAS_AS_CATEGORIAS__&pesqmes13=Digite+o+texto+e+ache+f%E1cil&SMunic%EDpio_ocorr%EAncia=TODAS_AS_CATEGORIAS__&SMunic_SP_ocorr_s%2Fn=TODAS_AS_CATEGORIAS__&SLocal_ocorr%EAncia=TODAS_AS_CATEGORIAS__&pesqmes16=Digite+o+texto+e+ache+f%E1cil&SHosp._ocorr%EAncia_munic%EDpio_SP=TODAS_AS_CATEGORIAS__&pesqmes17=Digite+o+texto+e+ache+f%E1cil&SHospital_por_tipo_gest%E3o=TODAS_AS_CATEGORIAS__&SSexo=TODAS_AS_CATEGORIAS__&pesqmes19=Digite+o+texto+e+ache+f%E1cil&SPeso_ao_nascer=TODAS_AS_CATEGORIAS__&SApgar_1%BA_min_faixa=TODAS_AS_CATEGORIAS__&SApgar_5%BA_min_faixa=TODAS_AS_CATEGORIAS__&pesqmes22=Digite+o+texto+e+ache+f%E1cil&SApgar_1%BA_min_detalhado=TODAS_AS_CATEGORIAS__&pesqmes23=Digite+o+texto+e+ache+f%E1cil&SApgar_5%BA_min_detalhado=TODAS_AS_CATEGORIAS__&SPresen%E7a_anomalia_cong%EAnita=TODAS_AS_CATEGORIAS__&pesqmes25=Digite+o+texto+e+ache+f%E1cil&SAnomalia_01_CID_3C=TODAS_AS_CATEGORIAS__&pesqmes26=Digite+o+texto+e+ache+f%E1cil&SAnomalia_02_CID_3C=TODAS_AS_CATEGORIAS__&pesqmes27=Digite+o+texto+e+ache+f%E1cil&SAnomalia_03_CID_3C=TODAS_AS_CATEGORIAS__&pesqmes28=Digite+o+texto+e+ache+f%E1cil&SAnomalia_04_CID_3C=TODAS_AS_CATEGORIAS__&pesqmes29=Digite+o+texto+e+ache+f%E1cil&SAnomalia_05_CID_3C=TODAS_AS_CATEGORIAS__&pesqmes30=Digite+o+texto+e+ache+f%E1cil&SAnomalia_06_CID_3C=TODAS_AS_CATEGORIAS__&pesqmes31=Digite+o+texto+e+ache+f%E1cil&SAnomalia_07_CID_3C=TODAS_AS_CATEGORIAS__&pesqmes32=Digite+o+texto+e+ache+f%E1cil&SAnomalia_08_CID_3C=TODAS_AS_CATEGORIAS__&pesqmes33=Digite+o+texto+e+ache+f%E1cil&SAnomalia_09_CID_3C=TODAS_AS_CATEGORIAS__&pesqmes34=Digite+o+texto+e+ache+f%E1cil&SAnomalia_10_CID_3C=TODAS_AS_CATEGORIAS__&pesqmes35=Digite+o+texto+e+ache+f%E1cil&SAnomalia_11_CID_3C=TODAS_AS_CATEGORIAS__&pesqmes36=Digite+o+texto+e+ache+f%E1cil&SAnomalia_12_CID_3C=TODAS_AS_CATEGORIAS__&SDura%E7%E3o_gesta%E7%E3o=TODAS_AS_CATEGORIAS__&pesqmes38=Digite+o+texto+e+ache+f%E1cil&SIdade_Gestacional*=TODAS_AS_CATEGORIAS__&SIdade_Gestacional_faixa*=TODAS_AS_CATEGORIAS__&SConsulta_pr%E9-natal=TODAS_AS_CATEGORIAS__&pesqmes41=Digite+o+texto+e+ache+f%E1cil&SM%EAs_1%AA_consulta*=TODAS_AS_CATEGORIAS__&STipo_de_gravidez=TODAS_AS_CATEGORIAS__&SApresenta%E7%E3o_fetal*=TODAS_AS_CATEGORIAS__&SIndu%E7%E3o_ao_trabalho_parto*=TODAS_AS_CATEGORIAS__&STipo_de_parto=TODAS_AS_CATEGORIAS__&SCes%E1rea_e_trabalho_parto_%28TP%29*=TODAS_AS_CATEGORIAS__&SGesta%E7%F5es_anteriores*=TODAS_AS_CATEGORIAS__&pesqmes48=Digite+o+texto+e+ache+f%E1cil&SPartos_vaginais_anteriores*=TODAS_AS_CATEGORIAS__&pesqmes49=Digite+o+texto+e+ache+f%E1cil&SPartos_ces%E1reos_anteriores*=TODAS_AS_CATEGORIAS__&pesqmes50=Digite+o+texto+e+ache+f%E1cil&SGrupos_de_Robson*=TODAS_AS_CATEGORIAS__&pesqmes51=Digite+o+texto+e+ache+f%E1cil&SFaixa_et%E1ria_m%E3e=TODAS_AS_CATEGORIAS__&pesqmes52=Digite+o+texto+e+ache+f%E1cil&SNacionalidade_m%E3e_%28pa%EDs%29*=TODAS_AS_CATEGORIAS__&pesqmes53=Digite+o+texto+e+ache+f%E1cil&SNaturalidade_m%E3e_%28estado%29*=TODAS_AS_CATEGORIAS__&pesqmes54=Digite+o+texto+e+ache+f%E1cil&SMunic%EDpio_naturalidade_m%E3e*=TODAS_AS_CATEGORIAS__&SEscolaridade_m%E3e=TODAS_AS_CATEGORIAS__&SRaca%2Fcor_m%E3e_*=TODAS_AS_CATEGORIAS__&SSitua%E7%E3o_conjugal_m%E3e=TODAS_AS_CATEGORIAS__&pesqmes58=Digite+o+texto+e+ache+f%E1cil&SFaixa_et%E1ria_pai*=TODAS_AS_CATEGORIAS__&formato=table&mostre=Mostra\"\n",
        "\n",
        "url = \"http://tabnet.saude.prefeitura.sp.gov.br/cgi/tabcgi.exe?secretarias/saude/TABNET/sinasc/nascido.def\"\n",
        "\n",
        "tabnet_post = requests.post(url=url, data=data)\n",
        "\n",
        "tabnet_pre_natal = pd.read_html(StringIO(tabnet_post.text), attrs=attrs)[0]\n",
        "\n",
        "tabnet_pre_natal.columns = columns\n",
        "tabnet_pre_natal = tabnet_pre_natal.iloc[1:-2]\n",
        "tabnet_pre_natal.index = tabnet_pre_natal.Distritos\n",
        "tabnet_pre_natal[['7 consultas e +', 'Total']] =  tabnet_pre_natal[['7 consultas e +', 'Total']].map(lambda row: row.replace('.', ''))\n",
        "tabnet_pre_natal[['7 consultas e +', 'Total']] =  tabnet_pre_natal[['7 consultas e +', 'Total']].astype(int)\n",
        "\n",
        "tabnet_pre_natal = ((tabnet_pre_natal['7 consultas e +'] / tabnet_pre_natal['Total']) * 100).round(3).to_frame(indicador_name)"
      ],
      "metadata": {
        "id": "uAGYq3rLwomF"
      },
      "execution_count": 51,
      "outputs": []
    },
    {
      "cell_type": "markdown",
      "source": [
        "## Proporção de bebês com baixo peso ao nascer (menos de 2,5 kg)\n",
        "\n",
        "Seguinte fórmula:\n",
        "\n",
        "$\\text{\n",
        "Proporção de bebês com baixo peso ao nascer (menos de 2,5 kg)} = \\frac{\\text{bebês com baixo peso ao nascer (menos de 2,5 kg)}}{\\text{Total de Nascidos Vivos}} \\times 100$\n",
        "\n",
        "Indicadores resultante desse codigo:\n",
        "- Proporção de bebês com baixo peso ao nascer (menos de 2,5 kg) - Tabnet DATASUS 2024"
      ],
      "metadata": {
        "id": "23NIxmSLxgQl"
      }
    },
    {
      "cell_type": "code",
      "source": [
        "# >>_Proporção de bebês com baixo peso ao nascer (menos de 2,5 kg) - Tabnet DATASUS 2024_<<\n",
        "\n",
        "\n",
        "\n",
        "indicador_name = 'Proporção de bebês com baixo peso ao nascer (menos de 2,5 kg) - Tabnet DATASUS 2024'\n",
        "\n",
        "attrs = {'class': 'tabdados'}\n",
        "\n",
        "columns = ['Distritos',\n",
        "          '< 500g',\n",
        "          '500g a 999g',\n",
        "          '1000g a 1499g',\n",
        "           '1500g a 1999g',\n",
        "           '2000g a 2499g',\n",
        "           '2500g a 2999g',\n",
        "           '3000g a 3499g',\n",
        "           '3500g a 3999g',\n",
        "           '4000g e +',\n",
        "           'Total']\n",
        "\n",
        "conteudo = 'NV_de_partos_ocorridos_MSP' # NV de partos ocorridos MSP por Consulta pré-natal segundo Distrito Administ. residência Período: 2024\n",
        "conteudo = 'NV_parturientes_residentes_MSP' # NV parturientes residentes MSP por Consulta pré-natal segundo Distrito Administ. residência Período: 2024\n",
        "\n",
        "coluna = 'Peso_ao_nascer'\n",
        "\n",
        "data = f\"Linha=Distrito_Administ._resid%EAncia&Coluna={coluna}&Incremento={conteudo}&Arquivos=dnsp24.dbf&pesqmes1=Digite+o+texto+e+ache+f%E1cil&SAno_nascimento=TODAS_AS_CATEGORIAS__&pesqmes2=Digite+o+texto+e+ache+f%E1cil&SM%EAs_nascimento=TODAS_AS_CATEGORIAS__&pesqmes3=Digite+o+texto+e+ache+f%E1cil&SM%EAs%2FAno_nascimento=TODAS_AS_CATEGORIAS__&pesqmes4=Digite+o+texto+e+ache+f%E1cil&SDistrito_Administ._resid%EAncia=TODAS_AS_CATEGORIAS__&pesqmes5=Digite+o+texto+e+ache+f%E1cil&SSubPrefeitura_resid%EAncia=TODAS_AS_CATEGORIAS__&pesqmes6=Digite+o+texto+e+ache+f%E1cil&SSupervis%E3o_T._Sa%FAde_resid%EAncia=TODAS_AS_CATEGORIAS__&SCoord._Reg._Sa%FAde_resid%EAncia=TODAS_AS_CATEGORIAS__&pesqmes8=Digite+o+texto+e+ache+f%E1cil&SMunic%EDpio_resid%EAncia=TODAS_AS_CATEGORIAS__&SMunic_SP_resid_s%2Fn=TODAS_AS_CATEGORIAS__&pesqmes10=Digite+o+texto+e+ache+f%E1cil&SSubPrefeitura_ocorr%EAncia=TODAS_AS_CATEGORIAS__&pesqmes11=Digite+o+texto+e+ache+f%E1cil&SSupervis%E3o_T._Sa%FAde_ocorr%EAncia=TODAS_AS_CATEGORIAS__&SCoord._Reg._Sa%FAde_ocorr%EAncia=TODAS_AS_CATEGORIAS__&pesqmes13=Digite+o+texto+e+ache+f%E1cil&SMunic%EDpio_ocorr%EAncia=TODAS_AS_CATEGORIAS__&SMunic_SP_ocorr_s%2Fn=TODAS_AS_CATEGORIAS__&SLocal_ocorr%EAncia=TODAS_AS_CATEGORIAS__&pesqmes16=Digite+o+texto+e+ache+f%E1cil&SHosp._ocorr%EAncia_munic%EDpio_SP=TODAS_AS_CATEGORIAS__&pesqmes17=Digite+o+texto+e+ache+f%E1cil&SHospital_por_tipo_gest%E3o=TODAS_AS_CATEGORIAS__&SSexo=TODAS_AS_CATEGORIAS__&pesqmes19=Digite+o+texto+e+ache+f%E1cil&SPeso_ao_nascer=TODAS_AS_CATEGORIAS__&SApgar_1%BA_min_faixa=TODAS_AS_CATEGORIAS__&SApgar_5%BA_min_faixa=TODAS_AS_CATEGORIAS__&pesqmes22=Digite+o+texto+e+ache+f%E1cil&SApgar_1%BA_min_detalhado=TODAS_AS_CATEGORIAS__&pesqmes23=Digite+o+texto+e+ache+f%E1cil&SApgar_5%BA_min_detalhado=TODAS_AS_CATEGORIAS__&SPresen%E7a_anomalia_cong%EAnita=TODAS_AS_CATEGORIAS__&pesqmes25=Digite+o+texto+e+ache+f%E1cil&SAnomalia_01_CID_3C=TODAS_AS_CATEGORIAS__&pesqmes26=Digite+o+texto+e+ache+f%E1cil&SAnomalia_02_CID_3C=TODAS_AS_CATEGORIAS__&pesqmes27=Digite+o+texto+e+ache+f%E1cil&SAnomalia_03_CID_3C=TODAS_AS_CATEGORIAS__&pesqmes28=Digite+o+texto+e+ache+f%E1cil&SAnomalia_04_CID_3C=TODAS_AS_CATEGORIAS__&pesqmes29=Digite+o+texto+e+ache+f%E1cil&SAnomalia_05_CID_3C=TODAS_AS_CATEGORIAS__&pesqmes30=Digite+o+texto+e+ache+f%E1cil&SAnomalia_06_CID_3C=TODAS_AS_CATEGORIAS__&pesqmes31=Digite+o+texto+e+ache+f%E1cil&SAnomalia_07_CID_3C=TODAS_AS_CATEGORIAS__&pesqmes32=Digite+o+texto+e+ache+f%E1cil&SAnomalia_08_CID_3C=TODAS_AS_CATEGORIAS__&pesqmes33=Digite+o+texto+e+ache+f%E1cil&SAnomalia_09_CID_3C=TODAS_AS_CATEGORIAS__&pesqmes34=Digite+o+texto+e+ache+f%E1cil&SAnomalia_10_CID_3C=TODAS_AS_CATEGORIAS__&pesqmes35=Digite+o+texto+e+ache+f%E1cil&SAnomalia_11_CID_3C=TODAS_AS_CATEGORIAS__&pesqmes36=Digite+o+texto+e+ache+f%E1cil&SAnomalia_12_CID_3C=TODAS_AS_CATEGORIAS__&SDura%E7%E3o_gesta%E7%E3o=TODAS_AS_CATEGORIAS__&pesqmes38=Digite+o+texto+e+ache+f%E1cil&SIdade_Gestacional*=TODAS_AS_CATEGORIAS__&SIdade_Gestacional_faixa*=TODAS_AS_CATEGORIAS__&SConsulta_pr%E9-natal=TODAS_AS_CATEGORIAS__&pesqmes41=Digite+o+texto+e+ache+f%E1cil&SM%EAs_1%AA_consulta*=TODAS_AS_CATEGORIAS__&STipo_de_gravidez=TODAS_AS_CATEGORIAS__&SApresenta%E7%E3o_fetal*=TODAS_AS_CATEGORIAS__&SIndu%E7%E3o_ao_trabalho_parto*=TODAS_AS_CATEGORIAS__&STipo_de_parto=TODAS_AS_CATEGORIAS__&SCes%E1rea_e_trabalho_parto_%28TP%29*=TODAS_AS_CATEGORIAS__&SGesta%E7%F5es_anteriores*=TODAS_AS_CATEGORIAS__&pesqmes48=Digite+o+texto+e+ache+f%E1cil&SPartos_vaginais_anteriores*=TODAS_AS_CATEGORIAS__&pesqmes49=Digite+o+texto+e+ache+f%E1cil&SPartos_ces%E1reos_anteriores*=TODAS_AS_CATEGORIAS__&pesqmes50=Digite+o+texto+e+ache+f%E1cil&SGrupos_de_Robson*=TODAS_AS_CATEGORIAS__&pesqmes51=Digite+o+texto+e+ache+f%E1cil&SFaixa_et%E1ria_m%E3e=TODAS_AS_CATEGORIAS__&pesqmes52=Digite+o+texto+e+ache+f%E1cil&SNacionalidade_m%E3e_%28pa%EDs%29*=TODAS_AS_CATEGORIAS__&pesqmes53=Digite+o+texto+e+ache+f%E1cil&SNaturalidade_m%E3e_%28estado%29*=TODAS_AS_CATEGORIAS__&pesqmes54=Digite+o+texto+e+ache+f%E1cil&SMunic%EDpio_naturalidade_m%E3e*=TODAS_AS_CATEGORIAS__&SEscolaridade_m%E3e=TODAS_AS_CATEGORIAS__&SRaca%2Fcor_m%E3e_*=TODAS_AS_CATEGORIAS__&SSitua%E7%E3o_conjugal_m%E3e=TODAS_AS_CATEGORIAS__&pesqmes58=Digite+o+texto+e+ache+f%E1cil&SFaixa_et%E1ria_pai*=TODAS_AS_CATEGORIAS__&formato=table&mostre=Mostra\"\n",
        "\n",
        "url = \"http://tabnet.saude.prefeitura.sp.gov.br/cgi/tabcgi.exe?secretarias/saude/TABNET/sinasc/nascido.def\"\n",
        "\n",
        "tabnet_post = requests.post(url=url, data=data)\n",
        "\n",
        "tabnet_baixo_peso = pd.read_html(StringIO(tabnet_post.text), attrs=attrs)[0]\n",
        "\n",
        "tabnet_baixo_peso = tabnet_baixo_peso.iloc[1:-2, :-1]\n",
        "tabnet_baixo_peso.columns = columns\n",
        "tabnet_baixo_peso.index = tabnet_baixo_peso.Distritos\n",
        "tabnet_baixo_peso.drop('Distritos', inplace=True, axis=1)\n",
        "\n",
        "tabnet_baixo_peso = tabnet_baixo_peso.map(lambda row: row.replace('-', '0'))\n",
        "tabnet_baixo_peso = tabnet_baixo_peso.map(lambda row: row.replace('.', ''))\n",
        "tabnet_baixo_peso = tabnet_baixo_peso.astype(int)\n",
        "\n",
        "tabnet_baixo_peso[\"Bebês com baixo peso ao nascer (menos de 2,5 kg) - Tabnet DATASUS 2024\"] = tabnet_baixo_peso.iloc[:, :5].sum(axis=1)\n",
        "tabnet_baixo_peso = ((tabnet_baixo_peso['Bebês com baixo peso ao nascer (menos de 2,5 kg) - Tabnet DATASUS 2024'] / tabnet_baixo_peso['Total']) * 100).round(3).to_frame(indicador_name)"
      ],
      "metadata": {
        "id": "Sfeenf2N7Zfr"
      },
      "execution_count": 52,
      "outputs": []
    },
    {
      "cell_type": "markdown",
      "source": [
        "## Proporção de bebês nascidos vivos de mães adolescentes (10 a 19 anos)\n",
        "\n",
        "Seguinte fórmula:\n",
        "\n",
        "$\\text{\n",
        "Proporção de bebês nascidos vivos de mães adolescentes (10 a 19 anos)} = \\frac{\\text{Nascidos vivos de mães adolescentes (10 a 19 anos)}}{\\text{Total de Nascidos Vivos}} \\times 100$\n",
        "\n",
        "Indicadores resultante desse codigo:\n",
        "- Bebês nascidos vivos de mães adolescentes (10 a 19 anos) - Tabnet DATASUS 2024\n"
      ],
      "metadata": {
        "id": "qbmXFXcoI1Gr"
      }
    },
    {
      "cell_type": "code",
      "source": [
        "# >>_Proporção de bebês nascidos vivos de mães adolescentes (10 a 19 anos) - Tabnet DATASUS 2024_<<\n",
        "\n",
        "\n",
        "\n",
        "indicador_name = 'Proporção de bebês nascidos vivos de mães adolescentes (10 a 19 anos) - Tabnet DATASUS 2024'\n",
        "\n",
        "attrs = {'class': 'tabdados'}\n",
        "\n",
        "columns = ['Distritos', '10 a 14', '15 a 19', '20 a 24', '25 a 29', '30 a 34', '35 a 39', '40 a 44', '45 a 49', '50 a 54', '55 a 59', '60 e mais', 'Total']\n",
        "\n",
        "conteudo = 'NV_de_partos_ocorridos_MSP' # NV de partos ocorridos MSP por Consulta pré-natal segundo Distrito Administ. residência Período: 2024\n",
        "conteudo = 'NV_parturientes_residentes_MSP' # NV parturientes residentes MSP por Consulta pré-natal segundo Distrito Administ. residência Período: 2024\n",
        "\n",
        "coluna = 'Faixa_et%E1ria_m%E3e'\n",
        "\n",
        "data = f\"Linha=Distrito_Administ._resid%EAncia&Coluna={coluna}&Incremento={conteudo}&Arquivos=dnsp24.dbf&pesqmes1=Digite+o+texto+e+ache+f%E1cil&SAno_nascimento=TODAS_AS_CATEGORIAS__&pesqmes2=Digite+o+texto+e+ache+f%E1cil&SM%EAs_nascimento=TODAS_AS_CATEGORIAS__&pesqmes3=Digite+o+texto+e+ache+f%E1cil&SM%EAs%2FAno_nascimento=TODAS_AS_CATEGORIAS__&pesqmes4=Digite+o+texto+e+ache+f%E1cil&SDistrito_Administ._resid%EAncia=TODAS_AS_CATEGORIAS__&pesqmes5=Digite+o+texto+e+ache+f%E1cil&SSubPrefeitura_resid%EAncia=TODAS_AS_CATEGORIAS__&pesqmes6=Digite+o+texto+e+ache+f%E1cil&SSupervis%E3o_T._Sa%FAde_resid%EAncia=TODAS_AS_CATEGORIAS__&SCoord._Reg._Sa%FAde_resid%EAncia=TODAS_AS_CATEGORIAS__&pesqmes8=Digite+o+texto+e+ache+f%E1cil&SMunic%EDpio_resid%EAncia=TODAS_AS_CATEGORIAS__&SMunic_SP_resid_s%2Fn=TODAS_AS_CATEGORIAS__&pesqmes10=Digite+o+texto+e+ache+f%E1cil&SSubPrefeitura_ocorr%EAncia=TODAS_AS_CATEGORIAS__&pesqmes11=Digite+o+texto+e+ache+f%E1cil&SSupervis%E3o_T._Sa%FAde_ocorr%EAncia=TODAS_AS_CATEGORIAS__&SCoord._Reg._Sa%FAde_ocorr%EAncia=TODAS_AS_CATEGORIAS__&pesqmes13=Digite+o+texto+e+ache+f%E1cil&SMunic%EDpio_ocorr%EAncia=TODAS_AS_CATEGORIAS__&SMunic_SP_ocorr_s%2Fn=TODAS_AS_CATEGORIAS__&SLocal_ocorr%EAncia=TODAS_AS_CATEGORIAS__&pesqmes16=Digite+o+texto+e+ache+f%E1cil&SHosp._ocorr%EAncia_munic%EDpio_SP=TODAS_AS_CATEGORIAS__&pesqmes17=Digite+o+texto+e+ache+f%E1cil&SHospital_por_tipo_gest%E3o=TODAS_AS_CATEGORIAS__&SSexo=TODAS_AS_CATEGORIAS__&pesqmes19=Digite+o+texto+e+ache+f%E1cil&SPeso_ao_nascer=TODAS_AS_CATEGORIAS__&SApgar_1%BA_min_faixa=TODAS_AS_CATEGORIAS__&SApgar_5%BA_min_faixa=TODAS_AS_CATEGORIAS__&pesqmes22=Digite+o+texto+e+ache+f%E1cil&SApgar_1%BA_min_detalhado=TODAS_AS_CATEGORIAS__&pesqmes23=Digite+o+texto+e+ache+f%E1cil&SApgar_5%BA_min_detalhado=TODAS_AS_CATEGORIAS__&SPresen%E7a_anomalia_cong%EAnita=TODAS_AS_CATEGORIAS__&pesqmes25=Digite+o+texto+e+ache+f%E1cil&SAnomalia_01_CID_3C=TODAS_AS_CATEGORIAS__&pesqmes26=Digite+o+texto+e+ache+f%E1cil&SAnomalia_02_CID_3C=TODAS_AS_CATEGORIAS__&pesqmes27=Digite+o+texto+e+ache+f%E1cil&SAnomalia_03_CID_3C=TODAS_AS_CATEGORIAS__&pesqmes28=Digite+o+texto+e+ache+f%E1cil&SAnomalia_04_CID_3C=TODAS_AS_CATEGORIAS__&pesqmes29=Digite+o+texto+e+ache+f%E1cil&SAnomalia_05_CID_3C=TODAS_AS_CATEGORIAS__&pesqmes30=Digite+o+texto+e+ache+f%E1cil&SAnomalia_06_CID_3C=TODAS_AS_CATEGORIAS__&pesqmes31=Digite+o+texto+e+ache+f%E1cil&SAnomalia_07_CID_3C=TODAS_AS_CATEGORIAS__&pesqmes32=Digite+o+texto+e+ache+f%E1cil&SAnomalia_08_CID_3C=TODAS_AS_CATEGORIAS__&pesqmes33=Digite+o+texto+e+ache+f%E1cil&SAnomalia_09_CID_3C=TODAS_AS_CATEGORIAS__&pesqmes34=Digite+o+texto+e+ache+f%E1cil&SAnomalia_10_CID_3C=TODAS_AS_CATEGORIAS__&pesqmes35=Digite+o+texto+e+ache+f%E1cil&SAnomalia_11_CID_3C=TODAS_AS_CATEGORIAS__&pesqmes36=Digite+o+texto+e+ache+f%E1cil&SAnomalia_12_CID_3C=TODAS_AS_CATEGORIAS__&SDura%E7%E3o_gesta%E7%E3o=TODAS_AS_CATEGORIAS__&pesqmes38=Digite+o+texto+e+ache+f%E1cil&SIdade_Gestacional*=TODAS_AS_CATEGORIAS__&SIdade_Gestacional_faixa*=TODAS_AS_CATEGORIAS__&SConsulta_pr%E9-natal=TODAS_AS_CATEGORIAS__&pesqmes41=Digite+o+texto+e+ache+f%E1cil&SM%EAs_1%AA_consulta*=TODAS_AS_CATEGORIAS__&STipo_de_gravidez=TODAS_AS_CATEGORIAS__&SApresenta%E7%E3o_fetal*=TODAS_AS_CATEGORIAS__&SIndu%E7%E3o_ao_trabalho_parto*=TODAS_AS_CATEGORIAS__&STipo_de_parto=TODAS_AS_CATEGORIAS__&SCes%E1rea_e_trabalho_parto_%28TP%29*=TODAS_AS_CATEGORIAS__&SGesta%E7%F5es_anteriores*=TODAS_AS_CATEGORIAS__&pesqmes48=Digite+o+texto+e+ache+f%E1cil&SPartos_vaginais_anteriores*=TODAS_AS_CATEGORIAS__&pesqmes49=Digite+o+texto+e+ache+f%E1cil&SPartos_ces%E1reos_anteriores*=TODAS_AS_CATEGORIAS__&pesqmes50=Digite+o+texto+e+ache+f%E1cil&SGrupos_de_Robson*=TODAS_AS_CATEGORIAS__&pesqmes51=Digite+o+texto+e+ache+f%E1cil&SFaixa_et%E1ria_m%E3e=TODAS_AS_CATEGORIAS__&pesqmes52=Digite+o+texto+e+ache+f%E1cil&SNacionalidade_m%E3e_%28pa%EDs%29*=TODAS_AS_CATEGORIAS__&pesqmes53=Digite+o+texto+e+ache+f%E1cil&SNaturalidade_m%E3e_%28estado%29*=TODAS_AS_CATEGORIAS__&pesqmes54=Digite+o+texto+e+ache+f%E1cil&SMunic%EDpio_naturalidade_m%E3e*=TODAS_AS_CATEGORIAS__&SEscolaridade_m%E3e=TODAS_AS_CATEGORIAS__&SRaca%2Fcor_m%E3e_*=TODAS_AS_CATEGORIAS__&SSitua%E7%E3o_conjugal_m%E3e=TODAS_AS_CATEGORIAS__&pesqmes58=Digite+o+texto+e+ache+f%E1cil&SFaixa_et%E1ria_pai*=TODAS_AS_CATEGORIAS__&formato=table&mostre=Mostra\"\n",
        "\n",
        "url = \"http://tabnet.saude.prefeitura.sp.gov.br/cgi/tabcgi.exe?secretarias/saude/TABNET/sinasc/nascido.def\"\n",
        "\n",
        "tabnet_post = requests.post(url=url, data=data)\n",
        "\n",
        "tabnet_maes_adolescentes = pd.read_html(StringIO(tabnet_post.text), attrs=attrs)[0]\n",
        "\n",
        "tabnet_maes_adolescentes = tabnet_maes_adolescentes.iloc[1:-2, :-2]\n",
        "tabnet_maes_adolescentes.columns = columns\n",
        "tabnet_maes_adolescentes.index = tabnet_maes_adolescentes.Distritos\n",
        "tabnet_maes_adolescentes.drop('Distritos', inplace=True, axis=1)\n",
        "\n",
        "tabnet_maes_adolescentes = tabnet_maes_adolescentes.map(lambda row: row.replace('-', '0'))\n",
        "tabnet_maes_adolescentes = tabnet_maes_adolescentes.map(lambda row: row.replace('.', ''))\n",
        "tabnet_maes_adolescentes = tabnet_maes_adolescentes.astype(int)\n",
        "\n",
        "tabnet_maes_adolescentes[\"Bebês nascidos vivos de mães adolescentes (10 a 19 anos) - Tabnet DATASUS 2024\"] = tabnet_maes_adolescentes.iloc[:, :2].sum(axis=1)\n",
        "tabnet_maes_adolescentes = ((tabnet_maes_adolescentes['Bebês nascidos vivos de mães adolescentes (10 a 19 anos) - Tabnet DATASUS 2024'] / tabnet_maes_adolescentes['Total']) * 100).round(3).to_frame(indicador_name)"
      ],
      "metadata": {
        "id": "IlPIvhaDMOGv"
      },
      "execution_count": 53,
      "outputs": []
    },
    {
      "cell_type": "markdown",
      "source": [
        "## Anos Potenciais de Vida Perdidos (APVP)"
      ],
      "metadata": {
        "id": "3bhzESs4ikqB"
      }
    },
    {
      "cell_type": "code",
      "source": [
        "# >>_Anos Potenciais de Vida Perdidos(APVP) - Tabnet 2020_<<\n",
        "\n",
        "\n",
        "indicador_name = 'Anos Potenciais de Vida Perdidos(APVP) - Tabnet 2020'\n",
        "\n",
        "attrs = {'class': 'tabdados'}\n",
        "\n",
        "columns = ['Distritos', indicador_name]\n",
        "\n",
        "data = f\"Linha=Subpref%2FDist_Adm_resid%EAncia&Coluna=--N%E3o-Ativa--&Incremento=APVP_at%E9_70a&Arquivos=apvp20.dbf&pesqmes1=Digite+o+texto+e+ache+f%E1cil&SCausas_espec%EDficas=TODAS_AS_CATEGORIAS__&pesqmes2=Digite+o+texto+e+ache+f%E1cil&SCausa_%28Cap_CID10%29=TODAS_AS_CATEGORIAS__&SSexo=TODAS_AS_CATEGORIAS__&SRa%E7a%2FCor=TODAS_AS_CATEGORIAS__&pesqmes5=Digite+o+texto+e+ache+f%E1cil&SDist_Adm_Resid=TODAS_AS_CATEGORIAS__&pesqmes6=Digite+o+texto+e+ache+f%E1cil&SSubprefeitura_resid=TODAS_AS_CATEGORIAS__&pesqmes7=Digite+o+texto+e+ache+f%E1cil&SSuperv_T%E9c_Sa%FAde_%28STS%29_resid=TODAS_AS_CATEGORIAS__&SCoord_Reg_Sa%FAde_%28CRS%29_resid=TODAS_AS_CATEGORIAS__&SLocal_Ocorr%EAncia=TODAS_AS_CATEGORIAS__&formato=table&mostre=Mostra\"\n",
        "\n",
        "url = \"http://tabnet.saude.prefeitura.sp.gov.br/cgi/tabcgi.exe?secretarias/saude/TABNET/apvp/apvp.def\"\n",
        "\n",
        "tabnet_post = requests.post(url=url, data=data)\n",
        "\n",
        "vida_perdidos  = pd.read_html(StringIO(tabnet_post.text), attrs=attrs, thousands='.', decimal=',')[0]\n",
        "\n",
        "vida_perdidos = vida_perdidos.iloc[1:-2, :2]\n",
        "vida_perdidos.columns = columns\n",
        "\n",
        "vida_perdidos = vida_perdidos[~vida_perdidos.Distritos.str.contains('/')]\n",
        "vida_perdidos = vida_perdidos[~vida_perdidos.Distritos.str.contains('\\\\* ')]\n",
        "\n",
        "vida_perdidos.set_index('Distritos', inplace=True)\n"
      ],
      "metadata": {
        "id": "3AKk6Pa1im3d"
      },
      "execution_count": 54,
      "outputs": []
    },
    {
      "cell_type": "markdown",
      "source": [
        "# [Secretaria Municipal de Assistência e Desenvolvimento Social - Censo de População de Rua][desenvolvimento_social]\n",
        "\n",
        "\n",
        "[desenvolvimento_social]: https://capital.sp.gov.br/web/assistencia_social/w/observatorio_socioassistencial/pesquisas/364984\n",
        "\n",
        "Indicadores resultante desse codigo:\n",
        "- Incidência distrital da presença da população de rua na cidade de São Paulo - Censo de População de Rua 2021 -> [Codigo][indicadores_25]\n",
        "\n",
        "<!-- Incidência distrital da presença da população de rua na cidade de São Paulo - Censo de População de Rua 2021 -->\n",
        "[indicadores_25]: https://colab.research.google.com/drive/14jIloiip7s8xnTffYS55Q0lF8Etwz5W5#scrollTo=syJ5oEww15YV"
      ],
      "metadata": {
        "id": "vEJ4Qv4N1dBX"
      }
    },
    {
      "cell_type": "markdown",
      "source": [
        "## Incidência distrital da presença da população de rua na cidade de São Paulo (número absoluto)"
      ],
      "metadata": {
        "id": "KDtO1zfu18Im"
      }
    },
    {
      "cell_type": "code",
      "source": [
        "# >>_Incidência distrital da presença da população de rua na cidade de São Paulo - Censo de População de Rua 2021_<<\n",
        "\n",
        "\n",
        "url = 'https://www.prefeitura.sp.gov.br/cidade/secretarias/upload/assistencia_social/Lorenzo/A_Censo%20-%20Base%20de%20dados%20-%20Entrega_ods.ods'\n",
        "populacao_rua = pd.read_excel(url, engine=\"odf\")\n",
        "indicaodor_populacao_rua = populacao_rua.groupby('Distrito').ID.count().to_frame('Incidência distrital da presença da população de rua na cidade de São Paulo - Censo de População de Rua 2021')"
      ],
      "metadata": {
        "id": "syJ5oEww15YV"
      },
      "execution_count": 55,
      "outputs": []
    },
    {
      "cell_type": "markdown",
      "source": [
        "# Secretaria da Segurança Pública\n",
        "\n",
        "Indicadores resultante desse codigo:\n",
        "- Taxa de homicídio por 100 mil hab - Secretaria da Segurança Pública 2024\n",
        "- Taxa de crimes de oportunidade por 100 mil hab - Secretaria da Segurança Pública 2024\n"
      ],
      "metadata": {
        "id": "Vf9KYGMqBD5G"
      }
    },
    {
      "cell_type": "code",
      "source": [
        "def get_data_distrito_ssp(link: str, departamento: str) -> list:\n",
        "\n",
        "  dados_response = requests.get(link, verify=False)\n",
        "  data_distrito: dict = json.loads(dados_response.text)\n",
        "\n",
        "  one_distrito: list[dict] = [ano for ano in data_distrito['data'] if ano['ano'] == 2024][0] # Seleciona o ano\n",
        "\n",
        "  dados: list[dict] =  [{\n",
        "                         'delito': delito['delito']['delito'],\n",
        "                         'departamento': departamento,\n",
        "                         'total': delito['total']} for delito in one_distrito['listaDados']]\n",
        "\n",
        "  return dados"
      ],
      "metadata": {
        "id": "juJ1-C0bDM38"
      },
      "execution_count": 56,
      "outputs": []
    },
    {
      "cell_type": "code",
      "source": [
        "geo_sampa_delegacias = gpd.read_file('/content/SIRGAS_SHP_TEMA_-_SEGURANCA_POLICIA_CIVIL.shp')\n",
        "geo_sampa_delegacias = geo_sampa_delegacias[(geo_sampa_delegacias.eq_nome.str.contains('º'))].copy()\n",
        "geo_sampa_delegacias['departamento'] = geo_sampa_delegacias.eq_nome.apply(lambda row: f'{row.split(\"º\")[0]} DP')"
      ],
      "metadata": {
        "id": "tKys6qCVC9rL"
      },
      "execution_count": 57,
      "outputs": []
    },
    {
      "cell_type": "code",
      "source": [
        "distritos_sp = gpd.read_file('/content/data/input/SP_distritos_CD2022.shp')\n",
        "distritos_sp = distritos_sp[distritos_sp.CD_DIST.str.contains(\"3550308\")]\n",
        "distritos_sp = distritos_sp.to_crs(4326)"
      ],
      "metadata": {
        "id": "0ifTMe1nGOSM"
      },
      "execution_count": 58,
      "outputs": []
    },
    {
      "cell_type": "code",
      "source": [
        "geo_sampa_delegacias['geometry'] = geo_sampa_delegacias['geometry'].astype(str).apply(wkt.loads)\n",
        "\n",
        "geo_sampa_delegacias_geo_df = gpd.GeoDataFrame(geo_sampa_delegacias, geometry='geometry', crs=\"EPSG:31983\")\n",
        "\n",
        "target_crs = pyproj.CRS.from_epsg(4326)\n",
        "geo_sampa_delegacias_geo_df = geo_sampa_delegacias_geo_df.to_crs(target_crs)\n",
        "\n",
        "geo_sampa_delegacias_geo_df = geo_sampa_delegacias_geo_df.sjoin(distritos_sp, how='left', predicate='within')"
      ],
      "metadata": {
        "id": "2HRw9xPsKvlu"
      },
      "execution_count": 59,
      "outputs": []
    },
    {
      "cell_type": "code",
      "source": [
        "url = 'https://www.ssp.sp.gov.br/v1/Distritos/RecuperaDistritos'\n",
        "url_ssp_distritos = 'https://www.ssp.sp.gov.br/v1/OcorrenciasMensais/RecuperaDadosMensaisAgrupados?ano=0&grupoDelito=6&tipoGrupo=DISTRITO&idGrupo={id_distrito}'\n",
        "\n",
        "reponse_ssp = requests.get(url, verify=False)\n",
        "json_ssp = json.loads(reponse_ssp.text)\n",
        "\n",
        "df_ssp = pd.DataFrame(json_ssp['data'], dtype=str)\n",
        "\n",
        "mark_ssp = (df_ssp.idMunicipio == '565') & (df_ssp.sigla.str.contains('DP -'))\n",
        "\n",
        "df_ssp_distritos = df_ssp[mark_ssp].copy()\n",
        "\n",
        "df_ssp_distritos['link'] = df_ssp_distritos.idDistrito.apply(lambda row: url_ssp_distritos.format(id_distrito=row))\n",
        "df_ssp_distritos['departamento'] = df_ssp_distritos.sigla.apply(lambda sigla: sigla.split(' - ')[0].strip('0'))"
      ],
      "metadata": {
        "id": "O5CmgOVm6-gF"
      },
      "execution_count": 61,
      "outputs": []
    },
    {
      "cell_type": "code",
      "source": [
        "with concurrent.futures.ThreadPoolExecutor() as executor:\n",
        "  dados_ssp = executor.map(get_data_distrito_ssp, df_ssp_distritos.link, df_ssp_distritos.departamento)\n",
        "  dados_ssp = [row for result in dados_ssp for row in result]"
      ],
      "metadata": {
        "id": "qof8_cwOJXFe"
      },
      "execution_count": 62,
      "outputs": []
    },
    {
      "cell_type": "markdown",
      "source": [
        "## Taxa de homicídio por 100 mil hab - Secretaria da Segurança Pública 2024\n",
        "\n",
        "Seguinte fórmula:\n",
        "\n",
        "$\\text{\n",
        "Taxa de homicídio por 100 mil hab} = \\frac{\\text{Homicídios no distrito}}{\\text{População no distrito}} \\times 100000$\n"
      ],
      "metadata": {
        "id": "UA7-sPq3V2qq"
      }
    },
    {
      "cell_type": "code",
      "source": [
        "# >>_Taxa de homicídio por 100 mil hab - Secretaria da Segurança Pública 2024_<<\n",
        "\n",
        "\n",
        "columns_homicidios = [\n",
        "    'HOMICÍDIO DOLOSO (2)',\n",
        "    'HOMICÍDIO CULPOSO POR ACIDENTE DE TRÂNSITO',\n",
        "    'HOMICÍDIO CULPOSO OUTROS'\n",
        "]\n",
        "\n",
        "indicador_name = 'Taxa de homicídio por 100 mil hab - Secretaria da Segurança Pública 2024'\n",
        "columns_to_int: list[str] = ['V0001', 'homicidios']\n",
        "\n",
        "ocorrencias = pd.DataFrame(dados_ssp)\n",
        "indicador_ocorrencias = pd.merge(ocorrencias, geo_sampa_delegacias_geo_df, right_on='departamento', left_on='departamento')\n",
        "\n",
        "mark_indicador_ocorrencias = indicador_ocorrencias.delito.isin(columns_homicidios)\n",
        "indicador_homicidios = indicador_ocorrencias[mark_indicador_ocorrencias].groupby('NM_DIST').total.sum().to_frame('homicidios')\n",
        "\n",
        "dfs_indicadores = [populacao_censo_2022, indicador_homicidios]\n",
        "\n",
        "indicador_homicidios = pd.concat(dfs_indicadores, axis=1)\n",
        "\n",
        "indicador_homicidios.fillna(0, inplace=True)\n",
        "\n",
        "indicador_homicidios[columns_to_int] = indicador_homicidios[columns_to_int].astype(int)\n",
        "\n",
        "indicador_homicidios = ((indicador_homicidios['homicidios'] / indicador_homicidios['V0001']) * 100000).round(3).to_frame(indicador_name)"
      ],
      "metadata": {
        "id": "z3yKSAMJLtOC"
      },
      "execution_count": 63,
      "outputs": []
    },
    {
      "cell_type": "markdown",
      "source": [
        "## Taxa de crimes de oportunidade por 100 mil hab - Secretaria da Segurança Pública 2024\n",
        "\n",
        "Seguinte fórmula:\n",
        "\n",
        "$\\text{\n",
        "Taxa de crimes de oportunidade por 100 mil hab} = \\frac{\\text{crimes de oportunidade no distrito}}{\\text{População no distrito}} \\times 100000$\n"
      ],
      "metadata": {
        "id": "jqk2mA2L22Zz"
      }
    },
    {
      "cell_type": "code",
      "source": [
        "# >>_Taxa de crimes de oportunidade por 100 mil hab - Secretaria da Segurança Pública 2024_<<\n",
        "\n",
        "\n",
        "columns_crimes_oportunidade = [\n",
        "    'TOTAL DE ROUBO - OUTROS (1)',\n",
        "    'ROUBO DE VEÍCULO',\n",
        "    'FURTO - OUTROS',\n",
        "    'FURTO DE VEÍCULO'\n",
        "]\n",
        "\n",
        "indicador_name = 'Taxa de crimes de oportunidade por 100 mil hab - Secretaria da Segurança Pública 2024'\n",
        "columns_to_int: list[str] = ['V0001', 'crimes_oportunidade']\n",
        "\n",
        "ocorrencias = pd.DataFrame(dados_ssp)\n",
        "indicador_ocorrencias = pd.merge(ocorrencias, geo_sampa_delegacias_geo_df, right_on='departamento', left_on='departamento')\n",
        "\n",
        "mark_indicador_ocorrencias = indicador_ocorrencias.delito.isin(columns_crimes_oportunidade)\n",
        "indicador_crimes_oportunidade = indicador_ocorrencias[mark_indicador_ocorrencias].groupby('NM_DIST').total.sum().to_frame('crimes_oportunidade')\n",
        "\n",
        "dfs_indicadores = [populacao_censo_2022, indicador_crimes_oportunidade]\n",
        "\n",
        "indicador_crimes_oportunidade = pd.concat(dfs_indicadores, axis=1)\n",
        "\n",
        "indicador_crimes_oportunidade.fillna(0, inplace=True)\n",
        "\n",
        "indicador_crimes_oportunidade[columns_to_int] = indicador_crimes_oportunidade[columns_to_int].astype(int)\n",
        "\n",
        "indicador_crimes_oportunidade = ((indicador_crimes_oportunidade['crimes_oportunidade'] / indicador_crimes_oportunidade['V0001']) * 100000).round(3).to_frame(indicador_name)"
      ],
      "metadata": {
        "id": "g1vaewjt23Qx"
      },
      "execution_count": 64,
      "outputs": []
    },
    {
      "cell_type": "markdown",
      "source": [
        "# [Origem Destino][origem_destino]\n",
        "\n",
        "[origem_destino]: https://transparencia.metrosp.com.br/dataset/pesquisa-origem-e-destino-2023-anexos\n",
        "\n",
        "> Download demora de 5 - 8 minutos\n",
        "\n",
        "Indicadores resultante desse codigo:\n",
        "- % de 18 a 22 anos com médio completo - Origem Destino 2023 -> [Codigo][indicadores_28]\n",
        "\n",
        "<!-- % de 18 a 22 anos com médio completo - Origem Destino 2023 -->\n",
        "[indicadores_28]: https://colab.research.google.com/drive/14jIloiip7s8xnTffYS55Q0lF8Etwz5W5#scrollTo=plOBATJm6v8t"
      ],
      "metadata": {
        "id": "Fxi1-8Ugb3Yj"
      }
    },
    {
      "cell_type": "markdown",
      "source": [
        "### Download"
      ],
      "metadata": {
        "id": "mU_-qejYnSCb"
      }
    },
    {
      "cell_type": "code",
      "source": [
        "url_download = 'https://transparencia.metrosp.com.br/sites/default/files/Site_190225_PesquisaOD2023.zip'\n",
        "\n",
        "download_and_zip_extraction(url_download)"
      ],
      "metadata": {
        "id": "OwXl5t-6b5us"
      },
      "execution_count": 65,
      "outputs": []
    },
    {
      "cell_type": "code",
      "source": [
        "# Lendo Arquivos\n",
        "\n",
        "df_od = gpd.read_file('/content/data/input/Site_190225/Banco2023_divulgacao_190225.dbf')\n",
        "\n",
        "# Lendo as zonas\n",
        "\n",
        "od_zonas = gpd.read_file('/content/data/input/Site_190225/002_Site Metro Mapas_190225/Shape/Zonas_2023.shp')\n",
        "od_zonas = od_zonas[od_zonas.NumeroMuni == 36].copy()"
      ],
      "metadata": {
        "id": "sfyiNUpaUqnu"
      },
      "execution_count": 66,
      "outputs": []
    },
    {
      "cell_type": "markdown",
      "source": [
        "## '% de 18 a 22 anos com médio completo - Origem Destino 2023\n",
        "\n",
        "Seguinte fórmula:\n",
        "\n",
        "$\\text{\n",
        "% de 18 a 20 anos com médio completo} = \\frac{\\text{População de 18 a 22 anos com médio completo no distrito}}{\\text{População de 18 a 22 anos no distrito}} \\times 100$"
      ],
      "metadata": {
        "id": "FI8dsAmy3Ctw"
      }
    },
    {
      "cell_type": "markdown",
      "source": [
        "### Filtrar por Municipio de São Paulo, idade e escolaridade"
      ],
      "metadata": {
        "id": "y8iXSklKnIRR"
      }
    },
    {
      "cell_type": "code",
      "source": [
        "df_od = gpd.read_file('/content/data/input/Site_190225/Banco2023_divulgacao_190225.dbf')\n",
        "mark_od = (df_od.GRAU_INS == 4) & (df_od.IDADE >= 18) & (df_od.IDADE <= 22) & (df_od.MUNI_DOM == 36) & ((df_od.F_PESS == 1))\n",
        "indicador_od = df_od[mark_od].copy()\n",
        "indicador_od = indicador_od[['ZONA', 'MUNI_DOM', 'IDADE', 'GRAU_INS', 'FE_PESS']]"
      ],
      "metadata": {
        "id": "fP3slJUxfnch"
      },
      "execution_count": 67,
      "outputs": []
    },
    {
      "cell_type": "markdown",
      "source": [
        "### Pegar Zona com seus distritos"
      ],
      "metadata": {
        "id": "Xg6Ma_BkoXme"
      }
    },
    {
      "cell_type": "code",
      "source": [
        "indicador_od = pd.merge(indicador_od, od_zonas, right_on='NumeroZona', left_on='ZONA')\n",
        "indicador_od = indicador_od.groupby('NomeDistri').FE_PESS.sum().to_frame('Medio completo de 18 a 22 anos')"
      ],
      "metadata": {
        "id": "aVrf8Dnaneyr"
      },
      "execution_count": 68,
      "outputs": []
    },
    {
      "cell_type": "markdown",
      "source": [
        "### População Origem Destino"
      ],
      "metadata": {
        "id": "Qt9lCjYuuDRl"
      }
    },
    {
      "cell_type": "code",
      "source": [
        "od_populucao = pd.read_excel('/content/data/input/Site_190225/Tabelas_Site_OD2023_REV_190225.xlsx', sheet_name='Tab2', header=7, skiprows=[8], skipfooter=4)\n",
        "od_populucao = od_populucao[['Residência', '18 a 22']].copy()\n",
        "\n",
        "od_populucao_distritos = pd.merge(od_zonas, od_populucao, right_on='Residência', left_on='NumeroZona')\n",
        "od_populucao_distritos['18 a 22'] = od_populucao_distritos['18 a 22'].replace('-', '0.0').astype(float)\n",
        "\n",
        "od_populucao_distritos = od_populucao_distritos.groupby('NomeDistri')['18 a 22'].sum()"
      ],
      "metadata": {
        "id": "fTip3GvhuGhz"
      },
      "execution_count": 69,
      "outputs": []
    },
    {
      "cell_type": "markdown",
      "source": [
        "### Juntar população e indicador"
      ],
      "metadata": {
        "id": "zjq6dZF13tZI"
      }
    },
    {
      "cell_type": "code",
      "source": [
        "indicador_od_medio = pd.concat([od_populucao_distritos, indicador_od], axis=1)"
      ],
      "metadata": {
        "id": "zV3MsStb4DO2"
      },
      "execution_count": 70,
      "outputs": []
    },
    {
      "cell_type": "markdown",
      "source": [
        "### Calculo final do indicador"
      ],
      "metadata": {
        "id": "WSQ6QHf36fW_"
      }
    },
    {
      "cell_type": "code",
      "source": [
        "# >>_% de 18 a 22 anos com médio completo - Origem Destino 2023_<<\n",
        "\n",
        "indicador_name = '% de 18 a 22 anos com médio completo - Origem Destino 2023'\n",
        "\n",
        "indicador_od_medio = ((indicador_od_medio['Medio completo de 18 a 22 anos'] / indicador_od_medio['18 a 22']) * 100).round(3).to_frame(indicador_name)"
      ],
      "metadata": {
        "id": "plOBATJm6v8t"
      },
      "execution_count": 71,
      "outputs": []
    },
    {
      "cell_type": "markdown",
      "source": [
        "# Datasus\n",
        "\n",
        "[origem_destino]: https://transparencia.metrosp.com.br/dataset/pesquisa-origem-e-destino-2023-anexos\n",
        "\n",
        "Indicadores resultante desse codigo:\n",
        "- [x] Número de registro de agravos de notificação de violência contra a mulher por 100 mil mulheres - SINAN 2023 -> [Codigo][indicadores_30]\n",
        "- [x] Número de registro de agravos de notificação de violência contra a pretos por 100 mil pessoas pretas - SINAN 2023 -> [Codigo][indicadores_31]\n",
        "\n",
        "<!-- Número de registro de agravos de notificação de violência contra a mulher por 100 mil mulheres - SINAN 2023 -->\n",
        "[indicadores_30]: https://colab.research.google.com/drive/14jIloiip7s8xnTffYS55Q0lF8Etwz5W5#scrollTo=s_wgCAfRBO0Z\n",
        "\n",
        "<!-- Número de registro de agravos de notificação de violência contra a pretos por 100 mil pessoas pretas - SINAN 2023 -->\n",
        "[indicadores_31]: https://colab.research.google.com/drive/14jIloiip7s8xnTffYS55Q0lF8Etwz5W5#scrollTo=fV8UxE8lcTb-"
      ],
      "metadata": {
        "id": "TE6K8ZRf7LEy"
      }
    },
    {
      "cell_type": "markdown",
      "source": [
        "### Download Sinan"
      ],
      "metadata": {
        "id": "MzKuT0tEtU71"
      }
    },
    {
      "cell_type": "code",
      "source": [
        "import ftplib\n",
        "from pathlib import Path\n",
        "import os\n",
        "\n",
        "# https://datasus.saude.gov.br/mortalidade-desde-1996-pela-cid-10/\n",
        "\n",
        "def conectar_ftp(host='ftp.datasus.gov.br', usuario='', senha=''):\n",
        "    \"\"\"\n",
        "    Conecta ao servidor FTP do DATASUS\n",
        "    \"\"\"\n",
        "    try:\n",
        "        # Criar conexão FTP\n",
        "        ftp = ftplib.FTP(host)\n",
        "\n",
        "        # Configurar codificação UTF-8\n",
        "        ftp.encoding = 'utf-8'\n",
        "\n",
        "        # Fazer login (anônimo se não fornecidas credenciais)\n",
        "        ftp.login(user=usuario, passwd=senha)\n",
        "\n",
        "        print(f\"Conexão estabelecida com sucesso!\")\n",
        "        return ftp\n",
        "    except Exception as e:\n",
        "        print(f\"Erro ao conectar: {e}\")\n",
        "        return None\n",
        "\n",
        "def listar_arquivos(ftp, diretorio='/'):\n",
        "    \"\"\"\n",
        "    Lista os arquivos em um diretório específico\n",
        "    \"\"\"\n",
        "    try:\n",
        "        ftp.cwd(diretorio)\n",
        "        return ftp.nlst()\n",
        "    except Exception as e:\n",
        "        print(f\"Erro ao listar arquivos: {e}\")\n",
        "        return []\n",
        "\n",
        "def baixar_arquivo(ftp, nome_arquivo, caminho_local='.'):\n",
        "    \"\"\"\n",
        "    Baixa um arquivo do FTP para um diretório local\n",
        "    \"\"\"\n",
        "    try:\n",
        "        # Criar caminho local se não existir\n",
        "        Path(caminho_local).mkdir(parents=True, exist_ok=True)\n",
        "\n",
        "        # Caminho completo do arquivo local\n",
        "        caminho_completo = os.path.join(caminho_local, nome_arquivo)\n",
        "\n",
        "        # Baixar o arquivo\n",
        "        with open(caminho_completo, 'wb') as arquivo:\n",
        "            ftp.retrbinary(f'RETR {nome_arquivo}', arquivo.write)\n",
        "\n",
        "        print(f\"Arquivo {nome_arquivo} baixado com sucesso!\")\n",
        "        return True\n",
        "    except Exception as e:\n",
        "        print(f\"Erro ao baixar arquivo: {e}\")\n",
        "        return False\n",
        "\n",
        "def fechar_conexao(ftp):\n",
        "    \"\"\"\n",
        "    Fecha a conexão FTP\n",
        "    \"\"\"\n",
        "    try:\n",
        "        ftp.quit()\n",
        "        print(\"Conexão FTP fechada com sucesso!\")\n",
        "    except:\n",
        "        print(\"Erro ao fechar conexão FTP\")\n",
        "\n",
        "# Exemplo de uso (comentado para não executar operações reais)\n",
        "print(\"=== Exemplo de uso do cliente FTP DATASUS ===\")\n",
        "print(\"\\n1. Conectar ao servidor:\")\n",
        "ftp = conectar_ftp()\n",
        "\n",
        "print(\"\\n2. Listar arquivos em um diretório:\")\n",
        "arquivos = listar_arquivos(ftp, 'dissemin/publicos/SINAN/DADOS/PRELIM/')\n",
        "print(\"Arquivos encontrados:\", arquivos)\n",
        "\n",
        "print(\"\\n3. Baixar um arquivo específico:\")\n",
        "baixar_arquivo(ftp, 'VIOLBR24.dbc', './downloads')\n",
        "\n",
        "print(\"\\n4. Fechar a conexão:\")\n",
        "fechar_conexao(ftp)\n",
        "\n",
        "print(\"\\nObservações importantes:\")\n",
        "print(\"- O servidor FTP do DATASUS é ftp.datasus.gov.br\")\n"
      ],
      "metadata": {
        "id": "g9PgSFTWu9H5",
        "colab": {
          "base_uri": "https://localhost:8080/"
        },
        "outputId": "b49faac4-b38d-4f87-fb74-0e5e49b2e5ee"
      },
      "execution_count": 72,
      "outputs": [
        {
          "output_type": "stream",
          "name": "stdout",
          "text": [
            "=== Exemplo de uso do cliente FTP DATASUS ===\n",
            "\n",
            "1. Conectar ao servidor:\n",
            "Conexão estabelecida com sucesso!\n",
            "\n",
            "2. Listar arquivos em um diretório:\n",
            "Arquivos encontrados: ['ACBIBR20.dbc', 'ACBIBR21.dbc', 'ACBIBR22.dbc', 'ACBIBR23.dbc', 'ACBIBR24.dbc', 'ACBIBR25.dbc', 'ACGRBR20.dbc', 'ACGRBR21.dbc', 'ACGRBR22.dbc', 'ACGRBR23.dbc', 'ACGRBR24.dbc', 'ACGRBR25.dbc', 'AIDABR07.dbc', 'AIDABR08.dbc', 'AIDABR09.dbc', 'AIDABR10.dbc', 'AIDABR11.dbc', 'AIDABR12.dbc', 'AIDABR13.dbc', 'AIDABR14.dbc', 'AIDABR15.dbc', 'AIDABR16.dbc', 'AIDABR17.dbc', 'AIDABR18.dbc', 'AIDABR19.dbc', 'AIDABR20.dbc', 'AIDABR21.dbc', 'AIDABR22.dbc', 'AIDABR23.dbc', 'AIDABR24.dbc', 'AIDCBR07.dbc', 'AIDCBR08.dbc', 'AIDCBR09.dbc', 'AIDCBR10.dbc', 'AIDCBR11.dbc', 'AIDCBR12.dbc', 'AIDCBR13.dbc', 'AIDCBR14.dbc', 'AIDCBR15.dbc', 'AIDCBR16.dbc', 'AIDCBR17.dbc', 'AIDCBR18.dbc', 'AIDCBR19.dbc', 'AIDCBR20.dbc', 'AIDCBR21.dbc', 'AIDCBR22.dbc', 'AIDCBR23.dbc', 'AIDCBR24.dbc', 'ANIMBR20.dbc', 'ANIMBR21.dbc', 'ANIMBR22.dbc', 'ANIMBR23.dbc', 'ANIMBR24.dbc', 'ANTRBR24.dbc', 'BOTUBR20.dbc', 'BOTUBR21.dbc', 'BOTUBR22.dbc', 'BOTUBR23.dbc', 'BOTUBR24.dbc', 'CANCBR20.dbc', 'CANCBR21.dbc', 'CANCBR22.dbc', 'CANCBR23.dbc', 'CANCBR24.dbc', 'CANCBR25.dbc', 'CHAGBR23.dbc', 'CHIKBR24.dbc', 'CHIKBR25.dbc', 'COLEBR20.dbc', 'COLEBR21.dbc', 'COLEBR22.dbc', 'COLEBR23.dbc', 'COLEBR24.dbc', 'COQUBR21.dbc', 'COQUBR22.dbc', 'COQUBR23.dbc', 'COQUBR24.dbc', 'COQUBR25.dbc', 'DENGBR24.dbc', 'DENGBR25.dbc', 'DERMBR20.dbc', 'DERMBR21.dbc', 'DERMBR22.dbc', 'DERMBR23.dbc', 'DERMBR24.dbc', 'DERMBR25.dbc', 'DIFTBR21.dbc', 'DIFTBR22.dbc', 'ESQUBR20.dbc', 'ESQUBR21.dbc', 'ESQUBR22.dbc', 'ESQUBR23.dbc', 'EXANBR07.dbc', 'EXANBR08.dbc', 'EXANBR09.dbc', 'EXANBR10.dbc', 'EXANBR11.dbc', 'EXANBR12.dbc', 'EXANBR13.dbc', 'EXANBR14.dbc', 'EXANBR15.dbc', 'EXANBR16.dbc', 'EXANBR17.dbc', 'EXANBR18.dbc', 'EXANBR19.dbc', 'EXANBR20.dbc', 'EXANBR21.dbc', 'EXANBR22.dbc', 'EXANBR23.dbc', 'EXANBR24.dbc', 'FMACBR22.dbc', 'FMACBR23.dbc', 'FTIFBR24.dbc', 'HANSBR24.dbc', 'HANSBR25.dbc', 'HANTBR00.dbc', 'HANTBR01.dbc', 'HANTBR02.dbc', 'HANTBR03.dbc', 'HANTBR04.dbc', 'HANTBR05.dbc', 'HANTBR06.dbc', 'HANTBR18.dbc', 'HANTBR19.dbc', 'HANTBR20.dbc', 'HANTBR21.dbc', 'HANTBR22.dbc', 'HANTBR23.dbc', 'HANTBR99.dbc', 'HEPABR07.dbc', 'HEPABR08.dbc', 'HEPABR09.dbc', 'HEPABR10.dbc', 'HEPABR11.dbc', 'HEPABR12.dbc', 'HEPABR13.dbc', 'HEPABR14.dbc', 'HEPABR15.dbc', 'HEPABR16.dbc', 'HEPABR17.dbc', 'HEPABR18.dbc', 'HEPABR19.dbc', 'HEPABR20.dbc', 'HEPABR21.dbc', 'HEPABR22.dbc', 'HEPABR23.dbc', 'HIVABR07.dbc', 'HIVABR08.dbc', 'HIVABR09.dbc', 'HIVABR10.dbc', 'HIVABR11.dbc', 'HIVABR12.dbc', 'HIVABR13.dbc', 'HIVABR14.dbc', 'HIVABR15.dbc', 'HIVABR16.dbc', 'HIVABR17.dbc', 'HIVABR18.dbc', 'HIVABR19.dbc', 'HIVABR20.dbc', 'HIVABR21.dbc', 'HIVABR22.dbc', 'HIVABR23.dbc', 'HIVABR24.dbc', 'HIVCBR07.dbc', 'HIVCBR08.dbc', 'HIVCBR09.dbc', 'HIVCBR10.dbc', 'HIVCBR11.dbc', 'HIVCBR12.dbc', 'HIVCBR13.dbc', 'HIVCBR14.dbc', 'HIVCBR15.dbc', 'HIVCBR16.dbc', 'HIVCBR17.dbc', 'HIVCBR18.dbc', 'HIVCBR19.dbc', 'HIVCBR20.dbc', 'HIVCBR21.dbc', 'HIVCBR22.dbc', 'HIVCBR23.dbc', 'HIVCBR24.dbc', 'HIVEBR15.dbc', 'HIVEBR16.dbc', 'HIVEBR17.dbc', 'HIVEBR18.dbc', 'HIVEBR19.dbc', 'HIVEBR20.dbc', 'HIVEBR21.dbc', 'HIVEBR22.dbc', 'HIVEBR23.dbc', 'HIVEBR24.dbc', 'HIVGBR07.dbc', 'HIVGBR08.dbc', 'HIVGBR09.dbc', 'HIVGBR10.dbc', 'HIVGBR11.dbc', 'HIVGBR12.dbc', 'HIVGBR13.dbc', 'HIVGBR14.dbc', 'HIVGBR15.dbc', 'HIVGBR16.dbc', 'HIVGBR17.dbc', 'HIVGBR18.dbc', 'HIVGBR19.dbc', 'HIVGBR20.dbc', 'HIVGBR21.dbc', 'HIVGBR22.dbc', 'HIVGBR23.dbc', 'HIVGBR24.dbc', 'IEXOBR20.dbc', 'IEXOBR21.dbc', 'IEXOBR22.dbc', 'IEXOBR23.dbc', 'IEXOBR24.dbc', 'IEXOBR25.dbc', 'LEIVBR24.dbc', 'LEPTBR24.dbc', 'LERDBR20.dbc', 'LERDBR21.dbc', 'LERDBR22.dbc', 'LERDBR23.dbc', 'LERDBR24.dbc', 'LERDBR25.dbc', 'LTANBR24.dbc', 'MALABR20.dbc', 'MALABR21.dbc', 'MALABR22.dbc', 'MALABR23.dbc', 'MENIBR19.dbc', 'MENIBR20.dbc', 'MENIBR21.dbc', 'MENIBR22.dbc', 'MENIBR23.dbc', 'MENIBR24.dbc', 'MENTBR20.dbc', 'MENTBR21.dbc', 'MENTBR22.dbc', 'MENTBR23.dbc', 'MENTBR24.dbc', 'MENTBR25.dbc', 'NTRABR19.dbc', 'NTRABR20.dbc', 'NTRABR21.dbc', 'NTRABR22.dbc', 'PAIRBR20.dbc', 'PAIRBR21.dbc', 'PAIRBR22.dbc', 'PAIRBR23.dbc', 'PAIRBR24.dbc', 'PAIRBR25.dbc', 'PESTBR18.dbc', 'PESTBR19.dbc', 'PESTBR20.dbc', 'PFANBR20.dbc', 'PFANBR21.dbc', 'PNEUBR20.dbc', 'PNEUBR21.dbc', 'PNEUBR22.dbc', 'PNEUBR23.dbc', 'PNEUBR24.dbc', 'PNEUBR25.dbc', 'ROTABR24.dbc', 'SDTABR19.dbc', 'SDTABR20.dbc', 'SDTABR21.dbc', 'SDTABR22.dbc', 'SDTABR23.dbc', 'SIFABR10.dbc', 'SIFABR11.dbc', 'SIFABR12.dbc', 'SIFABR13.dbc', 'SIFABR14.dbc', 'SIFABR15.dbc', 'SIFABR16.dbc', 'SIFABR17.dbc', 'SIFABR18.dbc', 'SIFABR19.dbc', 'SIFABR20.dbc', 'SIFABR21.dbc', 'SIFABR22.dbc', 'SIFABR23.dbc', 'SIFABR24.dbc', 'SIFCBR07.dbc', 'SIFCBR08.dbc', 'SIFCBR09.dbc', 'SIFCBR10.dbc', 'SIFCBR11.dbc', 'SIFCBR12.dbc', 'SIFCBR13.dbc', 'SIFCBR14.dbc', 'SIFCBR15.dbc', 'SIFCBR16.dbc', 'SIFCBR17.dbc', 'SIFCBR18.dbc', 'SIFCBR19.dbc', 'SIFCBR20.dbc', 'SIFCBR21.dbc', 'SIFCBR22.dbc', 'SIFCBR23.dbc', 'SIFCBR24.dbc', 'SIFGBR07.dbc', 'SIFGBR08.dbc', 'SIFGBR09.dbc', 'SIFGBR10.dbc', 'SIFGBR11.dbc', 'SIFGBR12.dbc', 'SIFGBR13.dbc', 'SIFGBR14.dbc', 'SIFGBR15.dbc', 'SIFGBR16.dbc', 'SIFGBR17.dbc', 'SIFGBR18.dbc', 'SIFGBR19.dbc', 'SIFGBR20.dbc', 'SIFGBR21.dbc', 'SIFGBR22.dbc', 'SIFGBR23.dbc', 'SIFGBR24.dbc', 'SRCBR07.dbc', 'SRCBR08.dbc', 'SRCBR09.dbc', 'SRCBR10.dbc', 'SRCBR11.dbc', 'SRCBR12.dbc', 'SRCBR13.dbc', 'SRCBR14.dbc', 'SRCBR15.dbc', 'SRCBR16.dbc', 'SRCBR17.dbc', 'SRCBR18.dbc', 'SRCBR19.dbc', 'SRCBR20.dbc', 'SRCBR21.dbc', 'SRCBR22.dbc', 'TETABR21.dbc', 'TETABR22.dbc', 'TETNBR20.dbc', 'TETNBR21.dbc', 'TOXCBR21.dbc', 'TOXCBR22.dbc', 'TOXCBR23.dbc', 'TOXCBR24.dbc', 'TOXGBR21.dbc', 'TOXGBR22.dbc', 'TOXGBR23.dbc', 'TOXGBR24.dbc', 'TRACBR19.dbc', 'TRACBR20.dbc', 'TRACBR21.dbc', 'TRACBR22.dbc', 'TUBEBR20.dbc', 'TUBEBR21.dbc', 'TUBEBR22.dbc', 'TUBEBR23.dbc', 'TUBEBR24.dbc', 'VARCBR07.dbc', 'VARCBR08.dbc', 'VARCBR09.dbc', 'VARCBR10.dbc', 'VARCBR11.dbc', 'VARCBR12.dbc', 'VARCBR13.dbc', 'VARCBR14.dbc', 'VARCBR15.dbc', 'VARCBR16.dbc', 'VARCBR17.dbc', 'VARCBR18.dbc', 'VARCBR19.dbc', 'VARCBR20.dbc', 'VARCBR21.dbc', 'VARCBR22.dbc', 'VARCBR23.dbc', 'VIOLBR24.dbc', 'ZIKABR24.dbc', 'ZIKABR25.dbc']\n",
            "\n",
            "3. Baixar um arquivo específico:\n",
            "Arquivo VIOLBR24.dbc baixado com sucesso!\n",
            "\n",
            "4. Fechar a conexão:\n",
            "Conexão FTP fechada com sucesso!\n",
            "\n",
            "Observações importantes:\n",
            "- O servidor FTP do DATASUS é ftp.datasus.gov.br\n"
          ]
        }
      ]
    },
    {
      "cell_type": "code",
      "source": [
        "import datasus_dbc\n",
        "\n",
        "datasus_dbc.decompress(\"/content/downloads/VIOLBR24.dbc\", \"/content/downloads/VIOLBR24.dbf\")\n",
        "\n",
        "# 2. Ler arquivo .dbf com geopandas\n",
        "\n",
        "violencia = gpd.read_file(\"/content/downloads/VIOLBR24.dbf\")"
      ],
      "metadata": {
        "id": "tZWHrZQl1Tlc"
      },
      "execution_count": 73,
      "outputs": []
    },
    {
      "cell_type": "markdown",
      "source": [
        "## Número de registro de agravos de notificação de violência contra a mulher (todas as violências) / 100 mil mulheres\n",
        "\n",
        "Seguinte fórmula:\n",
        "\n",
        "$\\text{\n",
        "Número de registro de agravos de notificação de violência contra a mulher} = \\frac{\\text{Registros de violência contra a mulher no distrito}}{\\text{População feminina}} \\times 100000$\n"
      ],
      "metadata": {
        "id": "rprZY_Wcbyi-"
      }
    },
    {
      "cell_type": "code",
      "source": [
        "# >>_Número de registro de agravos de notificação de violência contra a mulher por 100 mil mulheres - SINAN 2024_<<\n",
        "\n",
        "\n",
        "numerador = 'Número de registro de agravos de notificação de violência contra a mulher - SINAN 2024'\n",
        "\n",
        "columns_to_int: list[str] = [numerador, 'V01008']\n",
        "indicador_name = 'Número de registro de agravos de notificação de violência contra a mulher por 100 mil mulheres - SINAN 2024'\n",
        "\n",
        "violencia_sp = violencia[violencia.ID_MUNICIP == '355030']\n",
        "\n",
        "violencia_mulheres = violencia_sp[violencia.CS_SEXO == 'F']\n",
        "violencia_mulheres = violencia_mulheres.merge(cnes_sp_distrito_geo_df, how='left', left_on='ID_UNIDADE', right_on='CO_CNES')\n",
        "violencia_mulheres = violencia_mulheres.groupby('NM_DIST').TP_NOT.size().to_frame(numerador)\n",
        "\n",
        "populacao_mulher_censo_2022 = first_temp_df[['NM_DIST', 'V01008']]\n",
        "populacao_mulher_censo_2022.index = populacao_mulher_censo_2022.NM_DIST\n",
        "populacao_mulher_censo_2022 = populacao_mulher_censo_2022['V01008']\n",
        "\n",
        "\n",
        "indicador_violencia_mulheres = pd.concat([violencia_mulheres, populacao_mulher_censo_2022], axis=1)\n",
        "indicador_violencia_mulheres.fillna(0, inplace=True)\n",
        "indicador_violencia_mulheres[columns_to_int] = indicador_violencia_mulheres[columns_to_int].astype(int)\n",
        "indicador_violencia_mulheres = ((indicador_violencia_mulheres[numerador] / indicador_violencia_mulheres['V01008']) * 100000).round(3).to_frame(indicador_name)"
      ],
      "metadata": {
        "id": "s_wgCAfRBO0Z"
      },
      "execution_count": 74,
      "outputs": []
    },
    {
      "cell_type": "markdown",
      "source": [
        "## Número de registro de agravos de notificação de violência contra pessoas negras (todas as violências) / 100 mil pessoas negras\n",
        "\n",
        "\n",
        "\n",
        "\n"
      ],
      "metadata": {
        "id": "Ip3pJioEb09A"
      }
    },
    {
      "cell_type": "code",
      "source": [
        "# >>_Número de registro de agravos de notificação de violência contra pessoas negras por 100 mil pessoas negras - SINAN 2024_<<\n",
        "\n",
        "\n",
        "numerador = 'Número de registro de agravos de notificação de violência contra pretos - SINAN 2024'\n",
        "\n",
        "indicador_name = 'Número de registro de agravos de notificação de violência contra pessoas negras por 100 mil pessoas negras - SINAN 2024'\n",
        "\n",
        "violencia_sp = violencia[violencia.ID_MUNICIP == '355030']\n",
        "\n",
        "violencia_pretos = violencia_sp[violencia.CS_RACA.isin(['2', '4'])]\n",
        "violencia_pretos = violencia_pretos.merge(cnes_sp_distrito_geo_df, how='left', left_on='ID_UNIDADE', right_on='CO_CNES')\n",
        "violencia_pretos = violencia_pretos.groupby('NM_DIST').TP_NOT.size().to_frame(numerador)\n",
        "\n",
        "populacao_negros_censo_2022 = first_temp_df[['NM_DIST', 'V01318', 'V01320']]\n",
        "populacao_negros_censo_2022.index = populacao_negros_censo_2022.NM_DIST\n",
        "populacao_negros_censo_2022[['V01318', 'V01320']] = populacao_negros_censo_2022[['V01318', 'V01320']].astype(int)\n",
        "populacao_negros_censo_2022['negros'] = populacao_negros_censo_2022.V01318 + populacao_negros_censo_2022.V01320\n",
        "populacao_negros_censo_2022 = populacao_negros_censo_2022['negros']\n",
        "\n",
        "indicador_violencia_pretos = pd.concat([violencia_pretos, populacao_negros_censo_2022], axis=1)\n",
        "indicador_violencia_pretos.fillna(0, inplace=True)\n",
        "indicador_violencia_pretos[numerador] = indicador_violencia_pretos[numerador].astype(int)\n",
        "indicador_violencia_pretos = ((indicador_violencia_pretos[numerador] / indicador_violencia_pretos['negros']) * 100000).round(3).to_frame(indicador_name)"
      ],
      "metadata": {
        "id": "fV8UxE8lcTb-"
      },
      "execution_count": 75,
      "outputs": []
    },
    {
      "cell_type": "markdown",
      "source": [
        "# Indicadores ainda não classificados"
      ],
      "metadata": {
        "id": "_lWie2M6tsk6"
      }
    },
    {
      "cell_type": "markdown",
      "source": [
        "## Óbitos no trânsito por 100 mil habitantes\n",
        "\n",
        "Indicadores resultante desse codigo:\n",
        "\n",
        "- Óbitos no trânsito por 100 mil habitantes - Censo 2022|Infosiga 2024"
      ],
      "metadata": {
        "id": "EnUEQ6qZ_hTV"
      }
    },
    {
      "cell_type": "code",
      "source": [
        "# Selecionando coluna do indicador de 'Total de pessoas' e o nome do distrito.\n",
        "populacao_censo_2022 = first_temp_df[['NM_DIST', 'V0001']]\n",
        "populacao_censo_2022.index = populacao_censo_2022.NM_DIST\n",
        "populacao_censo_2022 = populacao_censo_2022['V0001'].astype(int)"
      ],
      "metadata": {
        "id": "w1yS3_MSbzye"
      },
      "execution_count": 76,
      "outputs": []
    },
    {
      "cell_type": "code",
      "source": [
        "geo_df_sp = gpd.read_file('/content/data/input/SP_distritos_CD2022.shp', columns=['CD_DIST', 'NM_DIST', 'geometry'])\n",
        "geo_df_sp = geo_df_sp[geo_df_sp.CD_DIST.str.contains(\"3550308\")]"
      ],
      "metadata": {
        "id": "GqtBKbvUaByN"
      },
      "execution_count": 77,
      "outputs": []
    },
    {
      "cell_type": "code",
      "source": [
        "# Fonte https://www.infosiga.sp.gov.br/#referencia\n",
        "\n",
        "url_infosiga_dados_abertos_antigos = 'https://www.infosiga.sp.gov.br/rest/painel/download/5'\n",
        "url_infosiga_dados_abertos = 'https://www.infosiga.sp.gov.br/rest/painel/download/4'\n",
        "\n",
        "download_and_zip_extraction(url_infosiga_dados_abertos)"
      ],
      "metadata": {
        "id": "FppquG3y0qIK"
      },
      "execution_count": 78,
      "outputs": []
    },
    {
      "cell_type": "code",
      "source": [
        "# Ler arquivo\n",
        "\n",
        "df_obito_transito = pd.read_csv('/content/data/input/pessoas_2022-2025.csv', encoding='iso-8859-1', sep=';', dtype=str)\n",
        "df_sinistro_transito = pd.read_csv('/content/data/input/sinistros_2022-2025.csv', encoding='iso-8859-1', sep=';', dtype=str)"
      ],
      "metadata": {
        "id": "f93i_z4aF-u6"
      },
      "execution_count": 79,
      "outputs": []
    },
    {
      "cell_type": "code",
      "source": [
        "# Fazer merge dos dados de obitos e sinistro para consegui a localização dos obitos\n",
        "\n",
        "df_obito_transito_sp = df_obito_transito[df_obito_transito.municipio == 'SAO PAULO'].copy()\n",
        "df_sinistro_transito_sp = df_sinistro_transito[df_sinistro_transito.municipio == 'SAO PAULO'].copy()\n",
        "\n",
        "df_indicador_obito_transito = pd.merge(df_obito_transito_sp, df_sinistro_transito_sp, how='left', right_on='id_sinistro', left_on='id_sinistro')\n",
        "\n",
        "mark = (df_indicador_obito_transito.gravidade_lesao == 'FATAL') & (df_indicador_obito_transito.ano_obito == '2024')\n",
        "df_indicador_obito_transito = df_indicador_obito_transito[mark]"
      ],
      "metadata": {
        "id": "UV3gwm_T-Jhl"
      },
      "execution_count": 80,
      "outputs": []
    },
    {
      "cell_type": "code",
      "source": [
        "columns_selected = ['gravidade_lesao', 'data_obito', 'latitude', 'longitude']\n",
        "\n",
        "df_indicador_obito_transito = df_indicador_obito_transito[columns_selected].copy() # Selecionar apenas colunas\n",
        "\n",
        "df_indicador_obito_transito = df_indicador_obito_transito[df_indicador_obito_transito.latitude.notna()].copy() # Eliminar linhas que não conseguimos a localização\n",
        "\n",
        "df_indicador_obito_transito.latitude = df_indicador_obito_transito.latitude.apply(lambda row: row.replace(',', '.'))\n",
        "\n",
        "df_indicador_obito_transito.longitude = df_indicador_obito_transito.longitude.apply(lambda row: row.replace(',', '.'))"
      ],
      "metadata": {
        "id": "0M-_Sb5PGk0W"
      },
      "execution_count": 81,
      "outputs": []
    },
    {
      "cell_type": "code",
      "source": [
        "df_indicador_obito_transito['point'] = df_indicador_obito_transito.apply(lambda row: Point(row.longitude, row.latitude), axis=1)\n",
        "\n",
        "df_indicador_obito_transito = gpd.GeoDataFrame(df_indicador_obito_transito, geometry='point')\n",
        "\n",
        "df_indicador_obito_transito.crs = 'EPSG:4674' # igular CRS"
      ],
      "metadata": {
        "id": "cMn1WIHzR0Ge"
      },
      "execution_count": 82,
      "outputs": []
    },
    {
      "cell_type": "code",
      "source": [
        "# >>_Óbitos no trânsito por 100 mil habitantes - Censo 2022|Infosiga 2024_<<\n",
        "\n",
        "\n",
        "df_indicador_obito_transito = df_indicador_obito_transito.sjoin(geo_df_sp, how='left', predicate='within') # join para pegar os distritos\n",
        "\n",
        "df_indicador_obito_transito = df_indicador_obito_transito.groupby('NM_DIST').gravidade_lesao.size().to_frame('obitos_transito')\n",
        "\n",
        "\n",
        "indicador_name = 'Óbitos no trânsito por 100 mil habitantes - Censo 2022|Infosiga 2024'\n",
        "\n",
        "df_indicador_obito_transito = pd.concat([df_indicador_obito_transito, populacao_censo_2022], axis=1)\n",
        "\n",
        "df_indicador_obito_transito.fillna(0, inplace=True)\n",
        "\n",
        "df_indicador_obito_transito = ((df_indicador_obito_transito.obitos_transito / df_indicador_obito_transito.V0001) * 100000).round(3).to_frame(indicador_name)"
      ],
      "metadata": {
        "id": "n1hrcxqBUqqm"
      },
      "execution_count": 83,
      "outputs": []
    },
    {
      "cell_type": "markdown",
      "source": [
        "## % Oferta de emprego formal por distrito (empregos / habitante)\n",
        "\n",
        "Indicadores resultante desse codigo:\n",
        "\n",
        "- % Oferta de emprego formal por distrito - RAIS 2021"
      ],
      "metadata": {
        "id": "d-nCXVRQ1BBC"
      }
    },
    {
      "cell_type": "code",
      "source": [
        "query_oferta_emprego = \"\"\"\n",
        "with dicionario_distritos as (\n",
        "  SELECT * FROM `basedosdados.br_me_rais.dicionario`\n",
        "    WHERE nome_coluna = 'distritos_sp'AND id_tabela = 'microdados_vinculos'\n",
        "),\n",
        "tabela as\n",
        "(\n",
        "  SELECT\n",
        "  distritos_sp,\n",
        "  count(*) as empregos,\n",
        "  FROM `basedosdados.br_me_rais.microdados_vinculos`\n",
        "  where ano=2021 and distritos_sp is not null and vinculo_ativo_3112='1'\n",
        "  group by distritos_sp\n",
        ")\n",
        "select\n",
        "dicionario_distritos.valor as distrito,\n",
        "empregos\n",
        "from tabela\n",
        "left join dicionario_distritos on tabela.distritos_sp = dicionario_distritos.chave\n",
        "order by empregos desc\n",
        "\"\"\""
      ],
      "metadata": {
        "id": "vn8R3tDW1J_7"
      },
      "execution_count": 84,
      "outputs": []
    },
    {
      "cell_type": "code",
      "source": [
        "colunas_rename = {'ITAIM BIBI': 'Itaim Bibi',\n",
        " 'S DOMINGOS': 'São Domingos',\n",
        " 'LAJEADO': 'Lajeado',\n",
        " 'SAUDE': 'Saúde',\n",
        " 'E MATARAZZO': 'Ermelino Matarazzo',\n",
        " 'PINHEIROS': 'Pinheiros',\n",
        " 'SE': 'Sé',\n",
        " 'JAGUARA': 'Jaguara',\n",
        " 'JABAQUARA': 'Jabaquara',\n",
        " 'BELEM': 'Belém',\n",
        " 'REPUBLICA': 'República',\n",
        " 'ITAQUERA': 'Itaquera',\n",
        " 'S AMARO': 'Santo Amaro',\n",
        " 'JD PAULISTA': 'Jardim Paulista',\n",
        " 'B VISTA': 'Bela Vista',\n",
        " 'PIRITUBA': 'Pirituba',\n",
        " 'VL MARIANA': 'Vila Mariana',\n",
        " 'B FUNDA': 'Barra Funda',\n",
        " 'MORUMBI': 'Morumbi',\n",
        " 'SAPOPEMBA': 'Sapopemba',\n",
        " 'VL GUILHERM': 'Vila Guilherme',\n",
        " 'BUTANTA': 'Butantã',\n",
        " 'AT PINHEIRO': 'Alto de Pinheiros',\n",
        " 'LIBERDADE': 'Liberdade',\n",
        " 'CPO GRANDE': 'Campo Grande',\n",
        " 'VL LEOPOLDI': 'Vila Leopoldina',\n",
        " 'ANHANGUERA': 'Anhanguera',\n",
        " 'LAPA': 'Lapa',\n",
        " 'CONSOLACAO': 'Consolação',\n",
        " 'C VERDE': 'Casa Verde',\n",
        " 'MOEMA': 'Moema',\n",
        " 'JAGUARE': 'Jaguaré',\n",
        " 'B RETIRO': 'Bom Retiro',\n",
        " 'PTE RASA': 'Ponte Rasa',\n",
        " 'CAMBUCI': 'Cambuci',\n",
        " 'S LUIS': 'Jardim São Luís',\n",
        " 'PRQ CARMO': 'Parque do Carmo',\n",
        " 'PERDIZES': 'Perdizes',\n",
        " 'SACOMA': 'Sacomã',\n",
        " 'SOCORRO': 'Socorro',\n",
        " 'IPIRANGA': 'Ipiranga',\n",
        " 'CPO BELO': 'Campo Belo',\n",
        " 'JARAGUA': 'Jaraguá',\n",
        " 'S CECILIA': 'Santa Cecília',\n",
        " 'MANDAQUI': 'Mandaqui',\n",
        " 'C ADEMAR': 'Cidade Ademar',\n",
        " 'VL MARIA': 'Vila Maria',\n",
        " 'VL ANDRADE': 'Vila Andrade',\n",
        " 'VL JACUI': 'Vila Jacuí',\n",
        " 'CURSINO': 'Cursino',\n",
        " 'LIMAO': 'Limão',\n",
        " 'JD HELENA': 'Jardim Helena',\n",
        " 'VL PRUDENTE': 'Vila Prudente',\n",
        " 'SANTANA': 'Santana',\n",
        " 'TATUAPE': 'Tatuapé',\n",
        " 'PARELHEIROS': 'Parelheiros',\n",
        " 'S RAFAEL': 'São Rafael',\n",
        " 'J BONIFACIO': 'José Bonifácio',\n",
        " 'S MATEUS': 'São Mateus',\n",
        " 'A RASA': 'Água Rasa',\n",
        " 'BRAS': 'Brás',\n",
        " 'TUCURUVI': 'Tucuruvi',\n",
        " 'R TAVARES': 'Raposo Tavares',\n",
        " 'VL MEDEIROS': 'Vila Medeiros',\n",
        " 'C TIRADENTE': 'Cidade Tiradentes',\n",
        " 'ARICANDUVA': 'Aricanduva',\n",
        " 'MOOCA': 'Mooca',\n",
        " 'N CACHOEIRI': 'Cachoeirinha',\n",
        " 'VL SONIA': 'Vila Sônia',\n",
        " 'VL CURUCA': 'Vila Curuçá',\n",
        " 'C DUTRA': 'Cidade Dutra',\n",
        " 'FREGUESIA D': 'Freguesia do Ó',\n",
        " 'GRAJAU': 'Grajaú',\n",
        " 'PENHA': 'Penha',\n",
        " 'CANGAIBA': 'Cangaiba',\n",
        " 'S LUCAS': 'São Lucas',\n",
        " 'PARI': 'Pari',\n",
        " 'TREMEMBE': 'Tremembé',\n",
        " 'R PEQUENO': 'Rio Pequeno',\n",
        " 'VL FORMOSA': 'Vila Formosa',\n",
        " 'JACANA': 'Jaçanã',\n",
        " 'MARSILAC': 'Marsilac',\n",
        " 'JD ANGELA': 'Jardim Ângela',\n",
        " 'PERUS': 'Perus',\n",
        " 'S MIGUEL': 'São Miguel',\n",
        " 'CARRAO': 'Carrão',\n",
        " 'CPO LIMPO': 'Campo Limpo',\n",
        " 'ITAIM PAULI': 'Itaim Paulista',\n",
        " 'IGUATEMI': 'Iguatemi',\n",
        " 'C REDONDO': 'Capão Redondo',\n",
        " 'GUAIANAZES': 'Guaianases',\n",
        " 'VL MATILDE': 'Vila Matilde',\n",
        " 'C LIDER': 'Cidade Lider',\n",
        " 'BRASILANDIA': 'Brasilândia',\n",
        " 'A ALVIM': 'Artur Alvim',\n",
        " 'PEDREIRA': 'Pedreira'}"
      ],
      "metadata": {
        "id": "CvZhabsNaeOn"
      },
      "execution_count": 85,
      "outputs": []
    },
    {
      "cell_type": "code",
      "source": [
        "# >>_% Oferta de emprego formal por distrito - RAIS 2021_<<\n",
        "\n",
        "\n",
        "import basedosdados as bd\n",
        "\n",
        "oferta_emprego = bd.read_sql(query_oferta_emprego, billing_project_id=billing_project_id)\n",
        "\n",
        "oferta_emprego.distrito = oferta_emprego.distrito.replace(colunas_rename)\n",
        "oferta_emprego.index = oferta_emprego.distrito\n",
        "oferta_emprego = oferta_emprego.empregos\n",
        "\n",
        "# Selecionando coluna do indicador de 'Total de pessoas' e o nome do distrito.\n",
        "populacao_censo_2022 = first_temp_df[['NM_DIST', 'V0001']]\n",
        "populacao_censo_2022.index = populacao_censo_2022.NM_DIST\n",
        "populacao_censo_2022 = populacao_censo_2022['V0001'].astype(int)\n",
        "\n",
        "indicador_emprego_formal = pd.concat([oferta_emprego, populacao_censo_2022], axis=1)\n",
        "\n",
        "indicador_emprego_formal['% Oferta de emprego formal por distrito - RAIS 2021'] = ((indicador_emprego_formal['empregos'] / indicador_emprego_formal['V0001']) * 100).round(3)\n",
        "\n",
        "indicador_emprego_formal = indicador_emprego_formal['% Oferta de emprego formal por distrito - RAIS 2021']"
      ],
      "metadata": {
        "id": "pUaAK0bNbOmK",
        "colab": {
          "base_uri": "https://localhost:8080/"
        },
        "outputId": "c62c2202-0083-404e-c89d-c11ea3288d4a"
      },
      "execution_count": 86,
      "outputs": [
        {
          "output_type": "stream",
          "name": "stdout",
          "text": [
            "Downloading: 100%|\u001b[32m██████████\u001b[0m|\n"
          ]
        }
      ]
    },
    {
      "cell_type": "markdown",
      "source": [
        "## % de empregados sem carteira - PEA\n",
        "\n",
        "Indicadores resultante desse codigo:\n",
        "\n",
        "- % De Empregados Sem Carteira - Origem Destino 2023"
      ],
      "metadata": {
        "id": "_wWpAlA_1JID"
      }
    },
    {
      "cell_type": "code",
      "source": [
        "# >>_% De Empregados Sem Carteira - Origem Destino 2023_<<\n",
        "\n",
        "\n",
        "mark_od = mark_od = (df_od.VINC1.isin([2, 4, 5, 6, 7, 8, 9]))  & (df_od.MUNI_DOM == 36) & (df_od.F_PESS==1) # Filtro\n",
        "\n",
        "indicador_od_sem_carteira = df_od[mark_od].copy()\n",
        "indicador_od_sem_carteira = indicador_od_sem_carteira[['ZONA', 'MUNI_DOM', 'IDADE', 'GRAU_INS', 'FE_PESS']]\n",
        "\n",
        "mark_od = (df_od.CD_ATIVI.isin([1, 2, 3]))  & (df_od.MUNI_DOM == 36) & (df_od.F_PESS==1) # Filtro\n",
        "\n",
        "indicador_trabalho= df_od[mark_od].copy()\n",
        "indicador_trabalho = indicador_trabalho[['ZONA', 'MUNI_DOM', 'IDADE', 'GRAU_INS', 'FE_PESS']]\n",
        "\n",
        "indicador_od_trabalho = pd.merge(indicador_trabalho, od_zonas, right_on='NumeroZona', left_on='ZONA')\n",
        "indicador_od_trabalho = indicador_od_trabalho.groupby('NomeDistri').FE_PESS.sum().to_frame('Trabalham')\n",
        "\n",
        "indicador_od_sem_carteira = pd.merge(indicador_od_sem_carteira, od_zonas, right_on='NumeroZona', left_on='ZONA')\n",
        "indicador_od_sem_carteira = indicador_od_sem_carteira.groupby('NomeDistri').FE_PESS.sum().to_frame('Empregados Sem Carteira')\n",
        "\n",
        "indicador_od_trabalho_porcao = pd.concat([indicador_od_sem_carteira, indicador_od_trabalho], axis=1)\n",
        "indicador_od_trabalho_porcao.fillna(0, inplace=True)\n",
        "\n",
        "indicador_od_trabalho_porcao['% De Empregados Sem Carteira - Origem Destino 2023'] = ((indicador_od_trabalho_porcao['Empregados Sem Carteira'] / indicador_od_trabalho_porcao['Trabalham']) * 100).round(3)\n",
        "indicador_od_trabalho_porcao = indicador_od_trabalho_porcao['% De Empregados Sem Carteira - Origem Destino 2023']"
      ],
      "metadata": {
        "id": "jZGrhX3qTjd8"
      },
      "execution_count": 87,
      "outputs": []
    },
    {
      "cell_type": "markdown",
      "source": [
        "## % de pessoas com até 30 minutos de viagem casa x trabalho\n",
        "\n",
        "Indicadores resultante desse codigo:\n",
        "\n",
        "- % De Pessoas Com Até 30 Minutos De Viagem Casa X Trabalho - Origem Destino 2023"
      ],
      "metadata": {
        "id": "2D83LMBq1L2a"
      }
    },
    {
      "cell_type": "code",
      "source": [
        "# >>_% De Pessoas Com Até 30 Minutos De Viagem Casa X Trabalho - Origem Destino 2023_<<\n",
        "\n",
        "\n",
        "mark_od = (df_od.MUNI_DOM == 36) & (df_od.DURACAO <= 30) & (df_od.MOTIVO.isin([1, 2, 3]))\n",
        "\n",
        "indicador_od_minutos_viagem = df_od[mark_od].copy()\n",
        "indicador_od_minutos_viagem = indicador_od_minutos_viagem[['ZONA', 'MUNI_DOM', 'IDADE', 'GRAU_INS', 'FE_VIA']]\n",
        "\n",
        "indicador_od_minutos_viagem = pd.merge(indicador_od_minutos_viagem, od_zonas, right_on='NumeroZona', left_on='ZONA')\n",
        "indicador_od_minutos_viagem = indicador_od_minutos_viagem.groupby('NomeDistri').FE_VIA.sum().to_frame('até 30 minutos de viagem casa x trabalho')\n",
        "\n",
        "mark_od = (df_od.CD_ATIVI.isin([1, 2, 3]))  & (df_od.MUNI_DOM == 36)\n",
        "\n",
        "indicador_trabalho= df_od[mark_od].copy()\n",
        "indicador_trabalho = indicador_trabalho[['ZONA', 'MUNI_DOM', 'IDADE', 'GRAU_INS', 'FE_VIA']]\n",
        "\n",
        "indicador_od_trabalho = pd.merge(indicador_trabalho, od_zonas, right_on='NumeroZona', left_on='ZONA')\n",
        "indicador_od_trabalho = indicador_od_trabalho.groupby('NomeDistri').FE_VIA.sum().to_frame('Trabalham')\n",
        "\n",
        "indicador_od_minutos_viagem = pd.concat([indicador_od_minutos_viagem, indicador_od_trabalho], axis=1)\n",
        "indicador_od_minutos_viagem.fillna(0, inplace=True)\n",
        "\n",
        "nome_indicador = '% de pessoas com até 30 minutos de viagem casa x trabalho - Origem Destino 2023'.title()\n",
        "indicador_od_minutos_viagem[nome_indicador] = ((indicador_od_minutos_viagem['até 30 minutos de viagem casa x trabalho'] / indicador_od_minutos_viagem['Trabalham']) * 100).round(3)\n",
        "\n",
        "indicador_od_minutos_viagem = indicador_od_minutos_viagem['% De Pessoas Com Até 30 Minutos De Viagem Casa X Trabalho - Origem Destino 2023']"
      ],
      "metadata": {
        "id": "YoYNieWX1Per"
      },
      "execution_count": 88,
      "outputs": []
    },
    {
      "cell_type": "markdown",
      "source": [
        "## % de pessoas com até 30 minutos de viagem casa x educação\n",
        "\n",
        "Indicadores resultante desse codigo:\n",
        "\n",
        "- % De Pessoas Com Até 30 Minutos De Viagem Casa X Educação - Origem Destino 2023"
      ],
      "metadata": {
        "id": "45Ds3VHHvmD2"
      }
    },
    {
      "cell_type": "code",
      "source": [
        "# >>_% De Pessoas Com Até 30 Minutos De Viagem Casa X Educação - Origem Destino 2023_<<\n",
        "\n",
        "\n",
        "mark_od = (df_od.MUNI_DOM == 36) & (df_od.DURACAO <= 30) & (df_od.MOTIVO.isin([4])) & (df_od.ESTUDA != 1)\n",
        "\n",
        "indicador_od_minutos_viagem_educacao = df_od[mark_od].copy()\n",
        "indicador_od_minutos_viagem_educacao = indicador_od_minutos_viagem_educacao[['ZONA', 'MUNI_DOM', 'IDADE', 'GRAU_INS', 'FE_VIA']]\n",
        "\n",
        "indicador_od_minutos_viagem_educacao = pd.merge(indicador_od_minutos_viagem_educacao, od_zonas, right_on='NumeroZona', left_on='ZONA')\n",
        "indicador_od_minutos_viagem_educacao = indicador_od_minutos_viagem_educacao.groupby('NomeDistri').FE_VIA.sum().to_frame('até 30 minutos de viagem casa x educação')\n",
        "\n",
        "mark_od = (df_od.MUNI_DOM == 36) & (df_od.ESTUDA != 1)\n",
        "\n",
        "indicador_estudam= df_od[mark_od].copy()\n",
        "indicador_estudam = indicador_estudam[['ZONA', 'MUNI_DOM', 'IDADE', 'GRAU_INS', 'FE_PESS', 'FE_VIA']]\n",
        "\n",
        "indicador_od_estudam = pd.merge(indicador_estudam, od_zonas, right_on='NumeroZona', left_on='ZONA')\n",
        "indicador_od_estudam = indicador_od_estudam.groupby('NomeDistri').FE_VIA.sum().to_frame('estudam')\n",
        "\n",
        "indicador_od_minutos_viagem_educacao = pd.concat([indicador_od_minutos_viagem_educacao, indicador_od_estudam], axis=1)\n",
        "indicador_od_minutos_viagem_educacao.fillna(0, inplace=True)\n",
        "\n",
        "nome_indicador = '% de pessoas com até 30 minutos de viagem casa x educação - Origem Destino 2023'.title()\n",
        "indicador_od_minutos_viagem_educacao[nome_indicador] = ((indicador_od_minutos_viagem_educacao['até 30 minutos de viagem casa x educação'] / indicador_od_minutos_viagem_educacao['estudam']) * 100).round(3)\n",
        "indicador_od_minutos_viagem_educacao = indicador_od_minutos_viagem_educacao[nome_indicador]"
      ],
      "metadata": {
        "id": "t1Di0t2pvr4W"
      },
      "execution_count": 89,
      "outputs": []
    },
    {
      "cell_type": "markdown",
      "source": [
        "## % de pessoas com até 30 minutos de viagem casa x saúde\n",
        "\n",
        "Indicadores resultante desse codigo:\n",
        "\n",
        "- % De Pessoas Com Até 30 Minutos De Viagem Casa X Saúde - Origem Destino 2023"
      ],
      "metadata": {
        "id": "baw_lE6B3OLW"
      }
    },
    {
      "cell_type": "code",
      "source": [
        "# >>_% De Pessoas Com Até 30 Minutos De Viagem Casa X Saúde - Origem Destino 2023_<<\n",
        "\n",
        "\n",
        "mark_od = (df_od.MUNI_DOM == 36) & (df_od.DURACAO <= 30) & (df_od.MOTIVO.isin([6]))\n",
        "\n",
        "indicador_od_minutos_viagem_saude = df_od[mark_od].copy()\n",
        "indicador_od_minutos_viagem_saude = indicador_od_minutos_viagem_saude[['ZONA', 'MUNI_DOM', 'IDADE', 'GRAU_INS', 'FE_VIA']]\n",
        "\n",
        "indicador_od_minutos_viagem_saude = pd.merge(indicador_od_minutos_viagem_saude, od_zonas, right_on='NumeroZona', left_on='ZONA')\n",
        "indicador_od_minutos_viagem_saude = indicador_od_minutos_viagem_saude.groupby('NomeDistri').FE_VIA.sum().to_frame('até 30 minutos de viagem casa x saúde')\n",
        "\n",
        "mark_od = (df_od.MUNI_DOM == 36) & (df_od.F_PESS == 1)\n",
        "\n",
        "indicador_saude= df_od[mark_od].copy()\n",
        "indicador_saude = indicador_saude[['ZONA', 'MUNI_DOM', 'IDADE', 'GRAU_INS', 'FE_VIA', 'FE_PESS']]\n",
        "\n",
        "indicador_od_saude = pd.merge(indicador_saude, od_zonas, right_on='NumeroZona', left_on='ZONA')\n",
        "indicador_od_saude = indicador_od_saude.groupby('NomeDistri').FE_PESS.sum().to_frame('populacão')\n",
        "\n",
        "indicador_od_minutos_viagem_saude = pd.concat([indicador_od_minutos_viagem_saude, indicador_od_saude], axis=1)\n",
        "indicador_od_minutos_viagem_saude.fillna(0, inplace=True)\n",
        "\n",
        "nome_indicador = '% de pessoas com até 30 minutos de viagem casa x saúde - Origem Destino 2023'.title()\n",
        "indicador_od_minutos_viagem_saude[nome_indicador] = ((indicador_od_minutos_viagem_saude['até 30 minutos de viagem casa x saúde'] / indicador_od_minutos_viagem_saude['populacão']) * 100).round(3)\n",
        "indicador_od_minutos_viagem_saude = indicador_od_minutos_viagem_saude[nome_indicador]"
      ],
      "metadata": {
        "id": "NUv8zieN3TNm"
      },
      "execution_count": 90,
      "outputs": []
    },
    {
      "cell_type": "markdown",
      "source": [
        "## % de população a até 1 km de equipamentos de cultura\n",
        "\n",
        "Indicadores resultante desse codigo:\n",
        "\n",
        "- % da população distrital a até 1 km de uma equipamentos de cultura - Censo 2022|GeoSampa 2025"
      ],
      "metadata": {
        "id": "ZpzhstyT1PK-"
      }
    },
    {
      "cell_type": "code",
      "source": [
        "# url_equipamentos_cultura = 'https://geosampa.prefeitura.sp.gov.br/PaginasPublicas/downloadIfr.aspx?orig=DownloadCamadas&arq=03_Equipamentos\\\\Cultura\\\\Shapefile\\\\EQUIPAMENTOS_SHP_TEMA_CULTURA&arqTipo=Shapefile'\n",
        "\n",
        "# download_and_zip_extraction(url_equipamentos_cultura)\n"
      ],
      "metadata": {
        "id": "aAqOyq4z1Sik"
      },
      "execution_count": 91,
      "outputs": []
    },
    {
      "cell_type": "code",
      "source": [
        "equipamentos_cultura = gpd.read_file('/content/data/input/SIRGAS_SHP_TEMA_CULTURA.shp')\n",
        "\n",
        "# Transformar longitue e latitude em Point objeto\n",
        "equipamentos_cultura['geometry'] = equipamentos_cultura['geometry'].astype(str).apply(wkt.loads)\n",
        "\n",
        "equipamentos_cultura_geo_df = gpd.GeoDataFrame(equipamentos_cultura, geometry='geometry', crs=\"EPSG:31983\")\n",
        "\n",
        "target_crs = pyproj.CRS.from_epsg(4326)\n",
        "equipamentos_cultura_geo_df = equipamentos_cultura_geo_df.to_crs(target_crs)\n",
        "\n",
        "equipamentos_cultura_geo_df = equipamentos_cultura_geo_df.sjoin(distritos_sp, how='left', predicate='within')\n",
        "\n"
      ],
      "metadata": {
        "id": "fgRgn_hmV2MK"
      },
      "execution_count": 92,
      "outputs": []
    },
    {
      "cell_type": "code",
      "source": [
        "equipamentos_cultura_without_buffer = gpd.GeoDataFrame(equipamentos_cultura_geo_df, geometry=\"geometry\", crs=4326).to_crs(3003)\n",
        "equipamentos_cultura_with_buffer = equipamentos_cultura_without_buffer.copy()\n",
        "equipamentos_cultura_with_buffer.geometry = equipamentos_cultura_without_buffer.geometry.buffer(1000)\n",
        "equipamentos_cultura_with_buffer = equipamentos_cultura_with_buffer.to_crs(4326)\n",
        "\n",
        "df_to_union = equipamentos_cultura_with_buffer.reset_index()[['geometry']]\n",
        "uniao_df = df_to_union.sjoin(df_to_union, how='left', predicate='intersects')\n",
        "over_lay_view = uniao_df.dissolve().explode().reset_index(drop=True)\n",
        "\n",
        "# Verificação Setores Interceptado\n",
        "\n",
        "populacao_distrital: list = []\n",
        "porcentagem_coberturas: list = []\n",
        "for row in over_lay_view.itertuples():\n",
        "  for row_setores in setores_maps.itertuples():\n",
        "    if row.geometry.intersects(row_setores.GEOMETRY):\n",
        "      populacao_distrital.append(row_setores)\n",
        "      porcentagem_coberturas.append(overlap_percentage(row.geometry, row_setores.GEOMETRY))"
      ],
      "metadata": {
        "id": "zcY33-h0X8Jz"
      },
      "execution_count": 93,
      "outputs": []
    },
    {
      "cell_type": "code",
      "source": [
        "# >>_% da população distrital a até 1 km de uma equipamentos de cultura - Censo 2022|GeoSampa 2025_<<\n",
        "\n",
        "\n",
        "df_populacao_distrital_porcent = pd.DataFrame(populacao_distrital)\n",
        "df_populacao_distrital_porcent['area_coberta_equipamentos_cultura'] = porcentagem_coberturas\n",
        "df_populacao_distrital_porcent.V0001 = df_populacao_distrital_porcent.V0001.astype(int)\n",
        "\n",
        "equipamentos_cultura_final_porcent = df_populacao_distrital_porcent.groupby(['NM_DIST', 'CD_SETOR', 'V0001'], as_index=False).area_coberta_equipamentos_cultura.sum()\n",
        "equipamentos_cultura_final_porcent['Pessoas 1 km de uma equipamentos de cultura'] = (equipamentos_cultura_final_porcent['area_coberta_equipamentos_cultura'] / 100) * equipamentos_cultura_final_porcent.V0001\n",
        "equipamentos_cultura_final_porcent['Pessoas 1 km de uma equipamentos de cultura'] = equipamentos_cultura_final_porcent['Pessoas 1 km de uma equipamentos de cultura'].round(3)\n",
        "\n",
        "equipamentos_cultura_final_porcent = equipamentos_cultura_final_porcent.groupby('NM_DIST')['Pessoas 1 km de uma equipamentos de cultura'].sum().to_frame('Pessoas 1 km de uma equipamentos de cultura')\n",
        "\n",
        "total_populacao_porcent = setores_maps.groupby('NM_DIST').V0001.sum().to_frame('Total População')\n",
        "\n",
        "equipamentos_cultura_final_porcent = pd.concat([equipamentos_cultura_final_porcent, total_populacao_porcent], axis=1)\n",
        "equipamentos_cultura_final_porcent['% da população distrital a até 1 km de uma equipamentos de cultura - Censo 2022|GeoSampa 2025'] = ((equipamentos_cultura_final_porcent['Pessoas 1 km de uma equipamentos de cultura'] / equipamentos_cultura_final_porcent['Total População']) * 100).round(3)\n",
        "equipamentos_cultura_final_porcent.fillna(0, inplace=True)\n",
        "\n",
        "equipamentos_cultura_final_porcent = equipamentos_cultura_final_porcent['% da população distrital a até 1 km de uma equipamentos de cultura - Censo 2022|GeoSampa 2025']"
      ],
      "metadata": {
        "id": "4k37zMm9YT-9"
      },
      "execution_count": 94,
      "outputs": []
    },
    {
      "cell_type": "markdown",
      "source": [
        "## % de pessoas no distrito a até 1 km de uma estação de metrô\n",
        "\n",
        "Indicadores resultante desse codigo:\n",
        "\n",
        "- % da população distrital a até 1 km de uma estação de metrô - Censo 2022| GeoSampa 2025"
      ],
      "metadata": {
        "id": "xiZH0T-z1SuD"
      }
    },
    {
      "cell_type": "code",
      "source": [
        "url_estacao_metro = 'https://download.geosampa.prefeitura.sp.gov.br/PaginasPublicas/downloadArquivo.aspx?orig=DownloadCamadas&arq=04_Transporte%5C%5CMetr%F4%20Esta%E7%E3o%5C%5CShapefile%5C%5CSIRGAS_SHP_estacaometro&arqTipo=Shapefile'\n",
        "\n",
        "download_and_zip_extraction(url_estacao_metro)"
      ],
      "metadata": {
        "id": "r8zKCBCM1WfD"
      },
      "execution_count": 95,
      "outputs": []
    },
    {
      "cell_type": "code",
      "source": [
        "# >>_% da população distrital a até 1 km de uma estação de metrô - Censo 2022| GeoSampa 2025_<<\n",
        "\n",
        "\n",
        "estacao_metros = gpd.read_file('/content/data/input/SIRGAS_SHP_estacaometro/SIRGAS_SHP_estacaometro.shp')\n",
        "\n",
        "estacao_metros_final_porcent = get_population_close_to_object(estacao_metros,\n",
        "                               '1 km de uma estação de metrô - Censo 2022| GeoSampa 2025',\n",
        "                                buffer=1000)\n",
        "\n",
        "estacao_metros_final_porcent = estacao_metros_final_porcent['% da população distrital a até 1 km de uma estação de metrô - Censo 2022| GeoSampa 2025']"
      ],
      "metadata": {
        "id": "wFC76JIxjMzT"
      },
      "execution_count": 96,
      "outputs": []
    },
    {
      "cell_type": "markdown",
      "source": [
        "## % pretos+pardos no distrito a até 1 km de uma estação de metrô / % pretos+pardos do distrito\n",
        "\n",
        "Indicadores resultante desse codigo:\n",
        "\n",
        "- % da população distrital a até 1 km de uma estação de metrô pretos e pardos - Censo 2022| GeoSampa 2025"
      ],
      "metadata": {
        "id": "vRe2q7K-gV3i"
      }
    },
    {
      "cell_type": "code",
      "source": [
        "# >>_% da população distrital a até 1 km de uma estação de metrô pretos e pardos - Censo 2022| GeoSampa 2025_<<\n",
        "\n",
        "\n",
        "estacao_metros = gpd.read_file('/content/data/input/SIRGAS_SHP_estacaometro/SIRGAS_SHP_estacaometro.shp')\n",
        "\n",
        "estacao_metros_final_porcent_pretos_pardos = get_population_close_to_object(estacao_metros,\n",
        "                               '1 km de uma estação de metrô pretos e pardos - Censo 2022| GeoSampa 2025',\n",
        "                               'pretos_pardos',\n",
        "                                buffer=1000)\n",
        "\n",
        "estacao_metros_final_porcent_pretos_pardos = estacao_metros_final_porcent_pretos_pardos['% da população distrital a até 1 km de uma estação de metrô pretos e pardos - Censo 2022| GeoSampa 2025']"
      ],
      "metadata": {
        "id": "eTwFuxhYhARj"
      },
      "execution_count": 97,
      "outputs": []
    },
    {
      "cell_type": "markdown",
      "source": [
        "## % de pessoas no distrito a até 1 km metros de um corredor\n",
        "\n",
        "Indicadores resultante desse codigo:\n",
        "\n",
        "- % da população distrital a até 1 km de um corredor - Censo 2022|GeoSampa 2025"
      ],
      "metadata": {
        "id": "bw2Jec0g1VZh"
      }
    },
    {
      "cell_type": "code",
      "source": [
        "url_corredor = 'https://download.geosampa.prefeitura.sp.gov.br/PaginasPublicas/downloadArquivo.aspx?orig=DownloadCamadas&arq=04_Transporte%5C%5CCorredores%20de%20%D4nibus%5C%5CShapefile%5C%5CSIRGAS_SHP_corredoronibus&arqTipo=Shapefile'\n",
        "\n",
        "download_and_zip_extraction(url_corredor)"
      ],
      "metadata": {
        "id": "gGpTKL0N1aa7"
      },
      "execution_count": 98,
      "outputs": []
    },
    {
      "cell_type": "code",
      "source": [
        "corredores = gpd.read_file('/content/data/input/SIRGAS_SHP_corredoronibus_line.shp')\n",
        "\n",
        "# Transformar longitue e latitude em Point objeto\n",
        "corredores['geometry'] = corredores['geometry'].astype(str).apply(wkt.loads)\n",
        "\n",
        "corredores_geo_df = gpd.GeoDataFrame(corredores, geometry='geometry', crs=\"EPSG:31983\")\n",
        "\n",
        "target_crs = pyproj.CRS.from_epsg(4326)\n",
        "corredores_geo_df = corredores_geo_df.to_crs(target_crs)\n",
        "\n",
        "corredores_geo_df = corredores_geo_df.sjoin(distritos_sp, how='left', predicate='within')"
      ],
      "metadata": {
        "id": "cB_4aBp2aIza"
      },
      "execution_count": 99,
      "outputs": []
    },
    {
      "cell_type": "code",
      "source": [
        "corredores_without_buffer = gpd.GeoDataFrame(corredores_geo_df, geometry=\"geometry\", crs=4326).to_crs(3003)\n",
        "corredores_with_buffer = corredores_without_buffer.copy()\n",
        "corredores_with_buffer.geometry = corredores_without_buffer.geometry.buffer(1000)\n",
        "corredores_with_buffer = corredores_with_buffer.to_crs(4326)\n",
        "\n",
        "df_to_union = corredores_with_buffer.reset_index()[['geometry']]\n",
        "uniao_df = df_to_union.sjoin(df_to_union, how='left', predicate='intersects')\n",
        "over_lay_view = uniao_df.dissolve().explode().reset_index(drop=True)\n",
        "\n",
        "# Verificação Setores Interceptado\n",
        "\n",
        "populacao_distrital: list = []\n",
        "porcentagem_coberturas: list = []\n",
        "for row in over_lay_view.itertuples():\n",
        "  for row_setores in setores_maps.itertuples():\n",
        "    if row.geometry.intersects(row_setores.GEOMETRY):\n",
        "      populacao_distrital.append(row_setores)\n",
        "      porcentagem_coberturas.append(overlap_percentage(row.geometry, row_setores.GEOMETRY))"
      ],
      "metadata": {
        "id": "5zo-N7nZbVl8"
      },
      "execution_count": 100,
      "outputs": []
    },
    {
      "cell_type": "code",
      "source": [
        "# >>_% da população distrital a até 1 km de um corredor - Censo 2022|GeoSampa 2025_<<\n",
        "\n",
        "\n",
        "df_populacao_distrital_porcent = pd.DataFrame(populacao_distrital)\n",
        "df_populacao_distrital_porcent['area_coberta_corredor'] = porcentagem_coberturas\n",
        "df_populacao_distrital_porcent.V0001 = df_populacao_distrital_porcent.V0001.astype(int)\n",
        "\n",
        "corredores_final_porcent = df_populacao_distrital_porcent.groupby(['NM_DIST', 'CD_SETOR', 'V0001'], as_index=False).area_coberta_corredor.sum()\n",
        "corredores_final_porcent['Pessoas 1 km de um corredor'] = (corredores_final_porcent['area_coberta_corredor'] / 100) * corredores_final_porcent.V0001\n",
        "corredores_final_porcent['Pessoas 1 km de um corredor'] = corredores_final_porcent['Pessoas 1 km de um corredor'].round(3)\n",
        "\n",
        "corredores_final_porcent = corredores_final_porcent.groupby('NM_DIST')['Pessoas 1 km de um corredor'].sum().to_frame('Pessoas 1 km de um corredor')\n",
        "\n",
        "total_populacao_porcent = setores_maps.groupby('NM_DIST').V0001.sum().to_frame('Total População')\n",
        "\n",
        "corredores_final_porcent = pd.concat([corredores_final_porcent, total_populacao_porcent], axis=1)\n",
        "corredores_final_porcent['% da população distrital a até 1 km de um corredor - Censo 2022|GeoSampa 2025'] = ((corredores_final_porcent['Pessoas 1 km de um corredor'] / corredores_final_porcent['Total População']) * 100).round(3)\n",
        "corredores_final_porcent.fillna(0, inplace=True)\n",
        "\n",
        "corredores_final_porcent = corredores_final_porcent['% da população distrital a até 1 km de um corredor - Censo 2022|GeoSampa 2025']"
      ],
      "metadata": {
        "id": "MlvFF-lTcoZk"
      },
      "execution_count": 101,
      "outputs": []
    },
    {
      "cell_type": "markdown",
      "source": [
        "## Área verde pública por habitante (m²/hab)\n",
        "\n",
        "Indicadores resultante desse codigo:\n",
        "\n",
        "- Área verde pública por habitante (m²/hab) - Censo 2022|GeoSampa 2025\n",
        "\n",
        "Detalhes do calculo ▶ [Documentação Calculo][notebook]\n",
        "\n",
        "[notebook]: https://github.com/sepep-pmsp/coleta_cebrap/blob/main/notebooks/jupyter/area_verde_publica/treat_data/%5Bcebrap%5Darea_verde_pub_per_capita.ipynb"
      ],
      "metadata": {
        "id": "_j5vmv5a1apK"
      }
    },
    {
      "cell_type": "code",
      "source": [
        "# >>_Área verde pública por habitante (m²/hab) - Censo 2022|GeoSampa 2025_<<\n",
        "\n",
        "\n",
        "nome_indicador = 'Área verde pública por habitante (m²/hab) - Censo 2022|GeoSampa 2025'\n",
        "\n",
        "spreadsheets_verde_publica =  'https://docs.google.com/spreadsheets/d/1weO8p82jLv57MuTmitohe0CHCAlq3-f3/gviz/tq?tqx=out:csv&sheet=Sheet1'\n",
        "\n",
        "df_verde_publica = pd.read_csv(spreadsheets_verde_publica)\n",
        "\n",
        "df_verde_publica.index = df_verde_publica.NM_DIST\n",
        "df_verde_publica[nome_indicador] = df_verde_publica.avp_per_capita.str.replace(',', '.').astype(float).round(3)\n",
        "df_verde_publica = df_verde_publica[nome_indicador]"
      ],
      "metadata": {
        "id": "5_WGy37S1gtt"
      },
      "execution_count": 102,
      "outputs": []
    },
    {
      "cell_type": "markdown",
      "source": [
        "## % de domicílios em favelas e comunidades urbanas\n",
        "\n",
        "Indicadores resultante desse codigo:\n",
        "\n",
        "- % De Domicílios Em Favelas E Comunidades Urbanas - Censo 2022"
      ],
      "metadata": {
        "id": "ou4U2nIj1g5a"
      }
    },
    {
      "cell_type": "code",
      "source": [
        "url_favelas = 'https://ftp.ibge.gov.br/Censos/Censo_Demografico_2022/Favelas_e_comunidades_urbanas_Resultados_do_universo/arquivos_vetoriais/poligonos_FCUs_shp.zip'\n",
        "\n",
        "download_and_zip_extraction(url_favelas)"
      ],
      "metadata": {
        "id": "8VEB-RTE1jE5"
      },
      "execution_count": 103,
      "outputs": []
    },
    {
      "cell_type": "code",
      "source": [
        "url_setores_favelas = 'https://ftp.ibge.gov.br/Censos/Censo_Demografico_2022/Favelas_e_comunidades_urbanas_Resultados_do_universo/Anexos/FavelaseComunidadesUrbanas2022Setores_20250417.xlsx'\n",
        "favelas_setores = pd.read_excel(url_setores_favelas, sheet_name='Setores_FCUs', dtype=str)"
      ],
      "metadata": {
        "id": "wBGjLVF6wA7e"
      },
      "execution_count": 104,
      "outputs": []
    },
    {
      "cell_type": "code",
      "source": [
        "df_favelas = gpd.read_file('/content/data/input/qg_2022_670_fcu_agreg.shp')"
      ],
      "metadata": {
        "id": "DEgcXDXXsLzi"
      },
      "execution_count": 105,
      "outputs": []
    },
    {
      "cell_type": "code",
      "source": [
        "df_favelas_sp = df_favelas[df_favelas.cd_mun == '3550308'].copy()\n",
        "\n",
        "df_favelas_sp = df_favelas_sp.to_crs(4326)\n",
        "\n",
        "distritos_sp = distritos_sp.to_crs(4326)\n",
        "\n",
        "setores_maps['geometry_to_calculete'] = setores_maps.geometry\n",
        "distritos_sp['geometry_to_calculete'] = distritos_sp.geometry\n",
        "\n",
        "# Realizar o spatial join\n",
        "result = gpd.sjoin(\n",
        "    df_favelas_sp,\n",
        "    setores_maps,\n",
        "    how='inner',\n",
        "    predicate='intersects',\n",
        "    lsuffix='_overlay',\n",
        "    rsuffix='_setor'\n",
        ")"
      ],
      "metadata": {
        "id": "zKUF_aXWcz0R"
      },
      "execution_count": 106,
      "outputs": []
    },
    {
      "cell_type": "code",
      "source": [
        "result.geometry_to_calculete = result.geometry_to_calculete.to_crs(4326)\n",
        "result.geometry = result.geometry.to_crs(4326)\n",
        "\n",
        "# Calcular porcentagens\n",
        "\n",
        "result['area_coberta_corredor'] = result.apply(\n",
        "    lambda x: overlap_percentage(x.geometry, x.geometry_to_calculete) ,axis=1\n",
        ")\n",
        "\n",
        "result.fillna(0, inplace=True)"
      ],
      "metadata": {
        "id": "Q_5y20bHd5Ky"
      },
      "execution_count": 107,
      "outputs": []
    },
    {
      "cell_type": "code",
      "source": [
        "# >>_% De Domicílios Em Favelas E Comunidades Urbanas - Censo 2022_<<\n",
        "\n",
        "indicador_name = '% De Domicílios Em Favelas E Comunidades Urbanas - Censo 2022'\n",
        "columns_with_population = 'V0007'\n",
        "columns_object_name = 'Favelas E Comunidades Urbanas'\n",
        "df_populacao_distrital_porcent = result.copy()\n",
        "favelas_object_final_porcent = df_populacao_distrital_porcent.groupby(['NM_DIST', columns_with_population], as_index=False).area_coberta_corredor.sum()\n",
        "\n",
        "favelas_object_final_porcent[columns_with_population] =  favelas_object_final_porcent[columns_with_population].astype(int)\n",
        "\n",
        "setores_maps[columns_with_population] =  setores_maps[columns_with_population].astype(int)\n",
        "\n",
        "favelas_object_final_porcent[f'Pessoas {columns_object_name}'] = (favelas_object_final_porcent['area_coberta_corredor'] / 100) * favelas_object_final_porcent[columns_with_population]\n",
        "favelas_object_final_porcent[f'Pessoas {columns_object_name}'] = favelas_object_final_porcent[f'Pessoas {columns_object_name}'].round(3)\n",
        "\n",
        "favelas_object_final_porcent = favelas_object_final_porcent.groupby('NM_DIST')[f'Pessoas {columns_object_name}'].sum().to_frame(f'Pessoas {columns_object_name}')\n",
        "\n",
        "total_populacao_porcent = setores_maps.groupby('NM_DIST')[columns_with_population].sum().to_frame('Total População')\n",
        "\n",
        "favelas_object_final_porcent = pd.concat([favelas_object_final_porcent, total_populacao_porcent], axis=1)\n",
        "favelas_object_final_porcent = ((favelas_object_final_porcent[f'Pessoas {columns_object_name}'] / favelas_object_final_porcent['Total População']) * 100).round(3).to_frame(indicador_name)\n",
        "favelas_object_final_porcent.fillna(0, inplace=True)"
      ],
      "metadata": {
        "id": "flEjhIANiRDf"
      },
      "execution_count": 108,
      "outputs": []
    },
    {
      "cell_type": "markdown",
      "source": [
        "## Habitantes por domicílio\n",
        "\n",
        "Indicadores resultante desse codigo:\n",
        "\n",
        "- % Habitantes por domicílio - Censo 2022"
      ],
      "metadata": {
        "id": "Tie-1pfe1jSK"
      }
    },
    {
      "cell_type": "code",
      "source": [
        "# >>_% Habitantes por domicílio - Censo 2022_<<\n",
        "\n",
        "\n",
        "columns_int: list[int] = ['V0001', 'V0002']\n",
        "\n",
        "habitantes_domicilio = first_temp_df[['NM_DIST', 'V0001', 'V0002']].copy()\n",
        "\n",
        "habitantes_domicilio[columns_int] = habitantes_domicilio[columns_int].astype(int)\n",
        "\n",
        "habitantes_domicilio['% Habitantes por domicílio - Censo 2022'] = (habitantes_domicilio['V0001'] / habitantes_domicilio['V0002']).round(3)\n",
        "\n",
        "habitantes_domicilio.index = habitantes_domicilio.NM_DIST\n",
        "\n",
        "habitantes_domicilio = habitantes_domicilio['% Habitantes por domicílio - Censo 2022']"
      ],
      "metadata": {
        "id": "65lhFjCc1mYD"
      },
      "execution_count": 111,
      "outputs": []
    },
    {
      "cell_type": "markdown",
      "source": [
        "## % dos domicílios em áreas de risco (R3 e R4) / total de domicílios\n",
        "\n",
        "Indicadores resultante desse codigo:\n",
        "\n",
        "- % dos domicílios em áreas de risco (R3 e R4) - Censo 2020|GeoSampa 2025"
      ],
      "metadata": {
        "id": "uXcebpMa1lbM"
      }
    },
    {
      "cell_type": "code",
      "source": [
        "# Transformar longitue e latitude em Point objeto\n",
        "\n",
        "def get_distrito_from_geo(df_to_get_distrito: gpd.GeoDataFrame,\n",
        "                          df_with_distritos: gpd.GeoDataFrame) -> gpd.GeoDataFrame:\n",
        "\n",
        "  df_to_get_distrito['geometry'] = df_to_get_distrito['geometry'].astype(str).apply(wkt.loads)\n",
        "\n",
        "  df_to_get_distrito_geo_df = gpd.GeoDataFrame(df_to_get_distrito, geometry='geometry', crs=\"EPSG:31983\")\n",
        "\n",
        "  target_crs = pyproj.CRS.from_epsg(4326)\n",
        "  df_to_get_distrito_geo_df = df_to_get_distrito_geo_df.to_crs(target_crs)\n",
        "\n",
        "  df_to_get_distrito_geo_df = df_to_get_distrito_geo_df.sjoin(df_with_distritos, how='left', predicate='within')\n",
        "\n",
        "  return df_to_get_distrito_geo_df\n",
        "\n",
        "\n",
        "def processing_indicator(df_to_processing: gpd.GeoDataFrame | pd.DataFrame) -> pd.DataFrame | gpd.GeoDataFrame:\n",
        "\n",
        "  mark = df_to_processing.tx_grau_ri.str.lower().isin(['r3', 'r4'])\n",
        "\n",
        "  df_to_processing = df_to_processing[mark].copy()\n",
        "\n",
        "  df_to_processing.qt_moradia = df_to_processing.qt_moradia.astype(int)\n",
        "\n",
        "  return df_to_processing.groupby('NM_DIST').qt_moradia.count()\n",
        "\n",
        "\n",
        "def get_porcent_indicador(df_indicador: pd.DataFrame | gpd.GeoDataFrame,\n",
        "                          name_numerador: str,\n",
        "                          name_denominador: str,\n",
        "                          multiplicador: int = 100) -> pd.Series:\n",
        "\n",
        "  return ((df_indicador[name_numerador] / df_indicador[name_denominador]) * multiplicador).round(3)\n"
      ],
      "metadata": {
        "id": "vkfQy0L43o4s"
      },
      "execution_count": 112,
      "outputs": []
    },
    {
      "cell_type": "code",
      "source": [
        "distritos_sp = gpd.read_file('/content/data/input/SP_distritos_CD2022.shp', columns=['CD_DIST', 'NM_DIST', 'geometry'])\n",
        "distritos_sp = distritos_sp[distritos_sp.CD_DIST.str.contains(\"3550308\")]\n",
        "distritos_sp = distritos_sp.to_crs(4326)"
      ],
      "metadata": {
        "id": "BBCxPDS62Pg1"
      },
      "execution_count": 113,
      "outputs": []
    },
    {
      "cell_type": "code",
      "source": [
        "domicilios_sp = first_temp_df[['NM_DIST', 'V0002']].copy()\n",
        "domicilios_sp.V0002 = domicilios_sp.V0002.astype(int)\n",
        "domicilios_sp.index = domicilios_sp.NM_DIST\n",
        "domicilios_sp = domicilios_sp.V0002"
      ],
      "metadata": {
        "id": "LzLHDZXyKcy1"
      },
      "execution_count": 114,
      "outputs": []
    },
    {
      "cell_type": "code",
      "source": [
        "url_camadas = \"http://wfs.geosampa.prefeitura.sp.gov.br/geoserver/geoportal/wfs?version=1.0.0\" \\\n",
        "            \"&request=GetFeature&outputFormat=SHAPE-ZIP\" \\\n",
        "           \"&typeName=geoportal:{name_feature}\"\n",
        "\n",
        "url_risco_hidrologico,  url_risco_geologico = url_camadas.format(name_feature='risco_hidrologico'), url_camadas.format(name_feature='area_risco_geologico')\n",
        "\n",
        "df_risco_hidrologico = gpd.read_file(url_risco_hidrologico)\n",
        "df_risco_geologico = gpd.read_file(url_risco_geologico)"
      ],
      "metadata": {
        "id": "54DtyBzQ1pBp"
      },
      "execution_count": 115,
      "outputs": []
    },
    {
      "cell_type": "code",
      "source": [
        "# >>_% dos domicílios em áreas de risco (R3 e R4) - Censo 2020|GeoSampa 2025_<<\n",
        "\n",
        "\n",
        "nome_indicador = '% dos domicílios em áreas de risco (R3 e R4) - Censo 2020|GeoSampa 2025'\n",
        "\n",
        "columns_to_selected_geologico = ['tx_grau_de', 'qt_moradia', 'geometry']\n",
        "columns_to_selected_hidrologico = ['tx_grau_ri', 'qt_moradia', 'geometry']\n",
        "\n",
        "df_risco_geologico_short = df_risco_geologico[columns_to_selected_geologico].copy()\n",
        "df_risco_hidrologico_short  = df_risco_hidrologico[columns_to_selected_hidrologico].copy()\n",
        "\n",
        "df_risco_geologico_short.columns = columns_to_selected_hidrologico # igualar nome das colunas\n",
        "\n",
        "df_all_riscos = pd.concat([df_risco_geologico_short, df_risco_geologico_short])\n",
        "\n",
        "df_all_riscos = get_distrito_from_geo(df_all_riscos, distritos_sp)\n",
        "\n",
        "df_all_riscos = processing_indicator(df_all_riscos)\n",
        "\n",
        "df_all_riscos = pd.concat([df_all_riscos, domicilios_sp], axis=1)\n",
        "\n",
        "df_all_riscos.fillna(0, inplace=True)\n",
        "\n",
        "df_all_riscos[nome_indicador] = get_porcent_indicador(df_all_riscos, 'qt_moradia', 'V0002')\n",
        "\n",
        "df_all_riscos = df_all_riscos[nome_indicador]"
      ],
      "metadata": {
        "id": "ySbT5zPbBxMt"
      },
      "execution_count": 116,
      "outputs": []
    },
    {
      "cell_type": "markdown",
      "source": [
        "## % de domicílios conectados à rede / total de domicílios do distrito (ICE)\n",
        "\n",
        "Indicadores resultante desse codigo:\n",
        "\n",
        "- % De Domicílios Conectados À Rede de água - Censo 2022"
      ],
      "metadata": {
        "id": "slvyXNKB1pOj"
      }
    },
    {
      "cell_type": "code",
      "source": [
        "# >>_% De Domicílios Conectados À Rede de água - Censo 2022_<<\n",
        "\n",
        "\n",
        "columns_int: list[int] = ['V00111', 'V0002']\n",
        "\n",
        "domicilios_conectados = first_temp_df[['NM_DIST', 'V00111', 'V0002']].copy()\n",
        "\n",
        "domicilios_conectados[columns_int] = domicilios_conectados[columns_int].astype(int)\n",
        "\n",
        "domicilios_conectados['% De Domicílios Conectados À Rede de água - Censo 2022'] = ((domicilios_conectados['V00111'] / domicilios_conectados['V0002']) * 100).round(3)\n",
        "\n",
        "domicilios_conectados.index = domicilios_conectados.NM_DIST\n",
        "\n",
        "domicilios_conectados = domicilios_conectados['% De Domicílios Conectados À Rede de água - Censo 2022']"
      ],
      "metadata": {
        "id": "W7hVDne51sSB"
      },
      "execution_count": 117,
      "outputs": []
    },
    {
      "cell_type": "markdown",
      "source": [
        "## % de domicílios conectados à rede de esgoto / total de domicílios do distrito (ICE)\n",
        "\n",
        "Indicadores resultante desse codigo:\n",
        "\n",
        "- % De Domicílios Conectados À Rede de esgoto - Censo 2022"
      ],
      "metadata": {
        "id": "eUkW3_2RkvJA"
      }
    },
    {
      "cell_type": "code",
      "source": [
        "# >>_% De Domicílios Conectados À Rede de esgoto - Censo 2022_<<\n",
        "\n",
        "\n",
        "columns_int: list[int] = ['V00309', 'V0002']\n",
        "\n",
        "domicilios_conectados_esgoto = first_temp_df[['NM_DIST', 'V00309', 'V0002']].copy()\n",
        "\n",
        "domicilios_conectados_esgoto[columns_int] = domicilios_conectados_esgoto[columns_int].astype(int)\n",
        "\n",
        "domicilios_conectados_esgoto['% De Domicílios Conectados À Rede de esgoto - Censo 2022'] = ((domicilios_conectados_esgoto['V00309'] / domicilios_conectados_esgoto['V0002']) * 100).round(3)\n",
        "\n",
        "domicilios_conectados_esgoto.index = domicilios_conectados_esgoto.NM_DIST\n",
        "\n",
        "domicilios_conectados_esgoto = domicilios_conectados_esgoto['% De Domicílios Conectados À Rede de esgoto - Censo 2022']"
      ],
      "metadata": {
        "id": "C1qtWBlMko8m"
      },
      "execution_count": 118,
      "outputs": []
    },
    {
      "cell_type": "markdown",
      "source": [
        "## % de população a até 1 km de equipamentos de esporte em áreas públicas\n",
        "\n",
        "Indicadores resultante desse codigo:\n",
        "\n",
        "- % da população distrital a até 1 km de equipamentos de esporte - Censo 2022 | GeoSampa 2025"
      ],
      "metadata": {
        "id": "IwlxflD4tH1A"
      }
    },
    {
      "cell_type": "code",
      "source": [
        "url_camadas = \"http://wfs.geosampa.prefeitura.sp.gov.br/geoserver/geoportal/wfs?version=1.0.0\" \\\n",
        "            \"&request=GetFeature&outputFormat=SHAPE-ZIP\" \\\n",
        "           \"&typeName=geoportal:{name_feature}\"\n",
        "\n",
        "\n",
        "portals = [\n",
        "    'equipamento_esporte_centro_esportivo',\n",
        "    'equipamento_esporte_estadios',\n",
        "    'equipamento_esporte_clubes',\n",
        "    'equipamento_esporte_clubesdacomunidade',\n",
        "    'equipamento_esporte_outros'\n",
        "  ]\n",
        "\n",
        "dfs_equipamentos_esportivos = [gpd.read_file(url_camadas.format(name_feature=portal)) for portal in portals]"
      ],
      "metadata": {
        "id": "B5jaCQYLtKXO"
      },
      "execution_count": 119,
      "outputs": []
    },
    {
      "cell_type": "code",
      "source": [
        "df_equipamentos_esportivo = pd.concat(dfs_equipamentos_esportivos)"
      ],
      "metadata": {
        "id": "hjm1hwstCHrZ"
      },
      "execution_count": 120,
      "outputs": []
    },
    {
      "cell_type": "code",
      "source": [
        "df_equipamentos_esportivo_to_buffer = df_equipamentos_esportivo.copy()\n",
        "\n",
        "# Transformar longitue e latitude em Point objeto\n",
        "df_equipamentos_esportivo_to_buffer['geometry'] = df_equipamentos_esportivo_to_buffer['geometry'].astype(str).apply(wkt.loads)\n",
        "\n",
        "geo_df_equipamentos_esportivo_to_buffer = gpd.GeoDataFrame(df_equipamentos_esportivo_to_buffer, geometry='geometry', crs=\"EPSG:31983\")\n",
        "\n",
        "target_crs = pyproj.CRS.from_epsg(4326)\n",
        "\n",
        "geo_df_equipamentos_esportivo_to_buffer = geo_df_equipamentos_esportivo_to_buffer.to_crs(target_crs)\n",
        "\n",
        "geo_df_equipamentos_esportivo_to_buffer = geo_df_equipamentos_esportivo_to_buffer.sjoin(distritos_sp, how='left', predicate='within')"
      ],
      "metadata": {
        "id": "E3iAWHxXE6dS"
      },
      "execution_count": 121,
      "outputs": []
    },
    {
      "cell_type": "code",
      "source": [
        "equipamentos_esportivo_without_buffer = gpd.GeoDataFrame(geo_df_equipamentos_esportivo_to_buffer, geometry=\"geometry\", crs=4326).to_crs(3003)\n",
        "equipamentos_esportivo_with_buffer = equipamentos_esportivo_without_buffer.copy()\n",
        "equipamentos_esportivo_with_buffer.geometry = equipamentos_esportivo_without_buffer.geometry.buffer(1000)\n",
        "equipamentos_esportivo_with_buffer = equipamentos_esportivo_with_buffer.to_crs(4326)\n",
        "\n",
        "df_to_union = equipamentos_esportivo_with_buffer.reset_index()[['geometry']]\n",
        "uniao_df = df_to_union.sjoin(df_to_union, how='left', predicate='intersects')\n",
        "over_lay_view = uniao_df.dissolve().explode().reset_index(drop=True)\n",
        "\n",
        "# Verificação Setores Interceptado\n",
        "\n",
        "populacao_distrital: list = []\n",
        "porcentagem_coberturas: list = []\n",
        "for row in over_lay_view.itertuples():\n",
        "  for row_setores in setores_maps.itertuples():\n",
        "    if row.geometry.intersects(row_setores.GEOMETRY):\n",
        "      populacao_distrital.append(row_setores)\n",
        "      porcentagem_coberturas.append(overlap_percentage(row.geometry, row_setores.GEOMETRY))"
      ],
      "metadata": {
        "id": "w1Ijgd7BHdlq"
      },
      "execution_count": 122,
      "outputs": []
    },
    {
      "cell_type": "code",
      "source": [
        "# >>_% da população distrital a até 1 km de equipamentos de esporte - Censo 2022 | GeoSampa 2025_<<\n",
        "\n",
        "\n",
        "df_populacao_distrital_porcent = pd.DataFrame(populacao_distrital)\n",
        "df_populacao_distrital_porcent['area_coberta_corredor'] = porcentagem_coberturas\n",
        "df_populacao_distrital_porcent.V0001 = df_populacao_distrital_porcent.V0001.astype(int)\n",
        "\n",
        "equipamentos_esportivo_final_porcent = df_populacao_distrital_porcent.groupby(['NM_DIST', 'CD_SETOR', 'V0001'], as_index=False).area_coberta_corredor.sum()\n",
        "equipamentos_esportivo_final_porcent['Pessoas 1 km de equipamentos de esporte'] = (equipamentos_esportivo_final_porcent['area_coberta_corredor'] / 100) * equipamentos_esportivo_final_porcent.V0001\n",
        "equipamentos_esportivo_final_porcent['Pessoas 1 km de equipamentos de esporte'] = equipamentos_esportivo_final_porcent['Pessoas 1 km de equipamentos de esporte'].round(3)\n",
        "\n",
        "equipamentos_esportivo_final_porcent = equipamentos_esportivo_final_porcent.groupby('NM_DIST')['Pessoas 1 km de equipamentos de esporte'].sum().to_frame('Pessoas 1 km de equipamentos de esporte')\n",
        "\n",
        "total_populacao_porcent = setores_maps.groupby('NM_DIST').V0001.sum().to_frame('Total População')\n",
        "\n",
        "equipamentos_esportivo_final_porcent = pd.concat([equipamentos_esportivo_final_porcent, total_populacao_porcent], axis=1)\n",
        "equipamentos_esportivo_final_porcent['% da população distrital a até 1 km de equipamentos de esporte - Censo 2022 | GeoSampa 2025'] = ((equipamentos_esportivo_final_porcent['Pessoas 1 km de equipamentos de esporte'] / equipamentos_esportivo_final_porcent['Total População']) * 100).round(3)\n",
        "equipamentos_esportivo_final_porcent.fillna(0, inplace=True)\n",
        "\n",
        "equipamentos_esportivo_final_porcent = equipamentos_esportivo_final_porcent['% da população distrital a até 1 km de equipamentos de esporte - Censo 2022 | GeoSampa 2025']"
      ],
      "metadata": {
        "id": "_a4THIBrJZMU"
      },
      "execution_count": 123,
      "outputs": []
    },
    {
      "cell_type": "markdown",
      "source": [
        "## % pretos+pardos a até 300 metros de uma ciclovia no distrito / % pretos+pardos do distrito\n",
        "\n",
        "Indicadores resultante desse codigo:\n",
        "\n",
        "- % da população distrital a até 300 metros de uma ciclovia pretos e pardos - Censo 2022| GeoSampa 2025"
      ],
      "metadata": {
        "id": "sQu1lPsUtWiw"
      }
    },
    {
      "cell_type": "markdown",
      "source": [
        "### Calculo"
      ],
      "metadata": {
        "id": "H-aCiQ9ntj44"
      }
    },
    {
      "cell_type": "code",
      "source": [
        "url_ciclovia = 'https://download.geosampa.prefeitura.sp.gov.br/PaginasPublicas/downloadArquivo.aspx?orig=DownloadCamadas&arq=04_Transporte\\\\Rede Cicloviaria\\\\Shapefile\\\\SIRGAS_SHP_redecicloviaria&arqTipo=Shapefile'\n",
        "download_and_zip_extraction(url_ciclovia)"
      ],
      "metadata": {
        "id": "oVGBy7lNtlZn"
      },
      "execution_count": 124,
      "outputs": []
    },
    {
      "cell_type": "code",
      "source": [
        "df_ciclovia = gpd.read_file('/content/data/input/SIRGAS_SHP_redecicloviaria.shp')"
      ],
      "metadata": {
        "id": "oJ4juvx4xWrk"
      },
      "execution_count": 125,
      "outputs": []
    },
    {
      "cell_type": "code",
      "source": [
        "# >>_% da população distrital a até 300 metros de uma ciclovia pretos e pardos - Censo 2022| GeoSampa 2025_<<\n",
        "\n",
        "\n",
        "indicador_ciclovia_pretos_pardos = get_population_close_to_object(df_ciclovia,\n",
        "                               '300 metros de uma ciclovia pretos e pardos - Censo 2022| GeoSampa 2025',\n",
        "                               'pretos_pardos',\n",
        "                                buffer=300)\n",
        "\n",
        "indicador_ciclovia_pretos_pardos = indicador_ciclovia_pretos_pardos['% da população distrital a até 300 metros de uma ciclovia pretos e pardos - Censo 2022| GeoSampa 2025']"
      ],
      "metadata": {
        "id": "VRungOZ1N7gj"
      },
      "execution_count": 126,
      "outputs": []
    },
    {
      "cell_type": "markdown",
      "source": [
        "## % de pessoas até 300 metros de uma ciclovia no distrito\n",
        "\n",
        "Indicadores resultante desse codigo:\n",
        "\n",
        "- % da população distrital a até 300 metros de uma ciclovia - Censo 2022| GeoSampa 2025"
      ],
      "metadata": {
        "id": "lcJi9vqJag2G"
      }
    },
    {
      "cell_type": "code",
      "source": [
        "# >>_% da população distrital a até 300 metros de uma ciclovia - Censo 2022| GeoSampa 2025_<<\n",
        "\n",
        "indicador_ciclovia = get_population_close_to_object(df_ciclovia,\n",
        "                               '300 metros de uma ciclovia - Censo 2022| GeoSampa 2025',\n",
        "                                buffer=300)\n",
        "\n",
        "indicador_ciclovia = indicador_ciclovia['% da população distrital a até 300 metros de uma ciclovia - Censo 2022| GeoSampa 2025']"
      ],
      "metadata": {
        "id": "iAFjbfF3ammN"
      },
      "execution_count": 127,
      "outputs": []
    },
    {
      "cell_type": "markdown",
      "source": [
        "## % pretos+pardos no distrito a até 1 km metros de uma corredor / % pretos+pardos do distrito\n",
        "\n",
        "Indicadores resultante desse codigo:\n",
        "\n",
        "- % da população distrital a até 1 km metros de uma corredor pretos e pardos - Censo 2022| GeoSampa 2025"
      ],
      "metadata": {
        "id": "FXEWqfS6tYm_"
      }
    },
    {
      "cell_type": "code",
      "source": [
        "url_corredor = 'https://download.geosampa.prefeitura.sp.gov.br/PaginasPublicas/downloadArquivo.aspx?orig=DownloadCamadas&arq=04_Transporte%5C%5CCorredores%20de%20%D4nibus%5C%5CShapefile%5C%5CSIRGAS_SHP_corredoronibus&arqTipo=Shapefile'\n",
        "\n",
        "download_and_zip_extraction(url_corredor)"
      ],
      "metadata": {
        "id": "j9mOxD-ruTRX"
      },
      "execution_count": 128,
      "outputs": []
    },
    {
      "cell_type": "code",
      "source": [
        "corredores_pretos_pardos = gpd.read_file('/content/data/input/SIRGAS_SHP_corredoronibus_line.shp')"
      ],
      "metadata": {
        "id": "_JgxklRGuVRa"
      },
      "execution_count": 129,
      "outputs": []
    },
    {
      "cell_type": "code",
      "source": [
        "# >>_% da população distrital a até 1 km metros de uma corredor pretos e pardos - Censo 2022| GeoSampa 2025_<<\n",
        "\n",
        "\n",
        "indicador_corredores_pretos_pardos = get_population_close_to_object(\n",
        "    corredores_pretos_pardos,\n",
        "    '1 km metros de uma corredor pretos e pardos - Censo 2022| GeoSampa 2025',\n",
        "    'pretos_pardos')\n",
        "\n",
        "indicador_corredores_pretos_pardos = indicador_corredores_pretos_pardos['% da população distrital a até 1 km metros de uma corredor pretos e pardos - Censo 2022| GeoSampa 2025']"
      ],
      "metadata": {
        "id": "07YPhSD7tiDX"
      },
      "execution_count": 130,
      "outputs": []
    },
    {
      "cell_type": "markdown",
      "source": [
        "## % população que acessa ao menos um ponto de parada da rede de transporte diurna em até 300 m em linha reta\n",
        "\n",
        "> 5 Minutos em media para acabar a execução\n",
        "\n",
        "Indicadores resultante desse codigo:\n",
        "\n",
        "- % da população distrital a até 300 metros de ponto de parada da rede de transporte - Censo 2022| GeoSampa 2025"
      ],
      "metadata": {
        "id": "MEQtwn7ItiVw"
      }
    },
    {
      "cell_type": "code",
      "source": [
        "url_ponto_parada = 'https://download.geosampa.prefeitura.sp.gov.br/PaginasPublicas/downloadArquivo.aspx?orig=DownloadCamadas&arq=04_Transporte%5C%5C%D4nibus%20Ponto%5C%5CShapefile%5C%5CSIRGAS_SHP_pontoonibus&arqTipo=Shapefile'\n",
        "\n",
        "download_and_zip_extraction(url_ponto_parada)"
      ],
      "metadata": {
        "id": "2-s9vXZ6tmre"
      },
      "execution_count": 131,
      "outputs": []
    },
    {
      "cell_type": "code",
      "source": [
        "ponto_parada = gpd.read_file('/content/data/input/SIRGAS_SHP_pontoonibus.shp')"
      ],
      "metadata": {
        "id": "jtuExxpI7N4D"
      },
      "execution_count": 132,
      "outputs": []
    },
    {
      "cell_type": "code",
      "source": [
        "# >>_% da população distrital a até 300 metros de ponto de parada da rede de transporte - Censo 2022| GeoSampa 2025_<<\n",
        "\n",
        "indicador_ponto_parada = get_population_close_to_object(\n",
        "    ponto_parada,\n",
        "    '300 metros de ponto de parada da rede de transporte - Censo 2022| GeoSampa 2025',\n",
        "    buffer=300)\n",
        "\n",
        "indicador_ponto_parada = indicador_ponto_parada['% da população distrital a até 300 metros de ponto de parada da rede de transporte - Censo 2022| GeoSampa 2025']"
      ],
      "metadata": {
        "id": "2KN-phI67cla"
      },
      "execution_count": 133,
      "outputs": []
    },
    {
      "cell_type": "markdown",
      "source": [
        "## % dos ocupados com superior completo - 18 anos ou mais\n",
        "\n",
        "Indicadores resultante desse codigo:\n",
        "\n",
        "- % Dos Ocupados Com Superior Completo - 18 Anos Ou Mais - Origem Destino 2023"
      ],
      "metadata": {
        "id": "AKFVmLy4tm_m"
      }
    },
    {
      "cell_type": "code",
      "source": [
        "# >>_% Dos Ocupados Com Superior Completo - 18 Anos Ou Mais - Origem Destino 2023_<<\n",
        "\n",
        "\n",
        "mark_od = (df_od.MUNI_DOM == 36) & (df_od.CD_ATIVI.isin([1, 2, 3])) & (df_od.GRAU_INS.isin([5])) & (df_od.F_PESS==1)\n",
        "\n",
        "indicadorocupados_superior_completo = df_od[mark_od].copy()\n",
        "indicadorocupados_superior_completo = indicadorocupados_superior_completo[['ZONA', 'MUNI_DOM', 'IDADE', 'GRAU_INS', 'FE_VIA']]\n",
        "\n",
        "indicadorocupados_superior_completo = pd.merge(indicadorocupados_superior_completo, od_zonas, right_on='NumeroZona', left_on='ZONA')\n",
        "indicadorocupados_superior_completo = indicadorocupados_superior_completo.groupby('NomeDistri').FE_VIA.sum().to_frame('Ocupados com superior completo')\n",
        "\n",
        "mark_od = (df_od.MUNI_DOM == 36) & (df_od.F_PESS == 1) & (df_od.IDADE >= 18)\n",
        "\n",
        "indicador_trabalho= df_od[mark_od].copy()\n",
        "indicador_trabalho = indicador_trabalho[['ZONA', 'MUNI_DOM', 'IDADE', 'GRAU_INS', 'FE_VIA']]\n",
        "\n",
        "indicador_od_populacao_maior = pd.merge(indicador_trabalho, od_zonas, right_on='NumeroZona', left_on='ZONA')\n",
        "indicador_od_populacao_maior = indicador_od_populacao_maior.groupby('NomeDistri').FE_VIA.sum().to_frame('População com mais de 18')\n",
        "\n",
        "indicadorocupados_superior_completo = pd.concat([indicadorocupados_superior_completo, indicador_od_populacao_maior], axis=1)\n",
        "indicadorocupados_superior_completo.fillna(0, inplace=True)\n",
        "\n",
        "nome_indicador = '% dos ocupados com superior completo - 18 anos ou mais - Origem Destino 2023'.title()\n",
        "indicadorocupados_superior_completo[nome_indicador] = ((indicadorocupados_superior_completo['Ocupados com superior completo'] / indicadorocupados_superior_completo['População com mais de 18']) * 100).round(3)\n",
        "indicadorocupados_superior_completo = indicadorocupados_superior_completo[nome_indicador]"
      ],
      "metadata": {
        "id": "P7KoHkVwtpUt"
      },
      "execution_count": 134,
      "outputs": []
    },
    {
      "cell_type": "markdown",
      "source": [
        "## % de domicílios particulares com rendimento nominal mensal de até 1/2 S.M.\n",
        "\n",
        "Indicadores resultante desse codigo:\n",
        "\n",
        "- % De Domicílios Particulares Com Rendimento Nominal Mensal De Até 1/2 S.M - Origem Destino 2023"
      ],
      "metadata": {
        "id": "aWgAQWj-t5ow"
      }
    },
    {
      "cell_type": "code",
      "source": [
        "# >>_% De Domicílios Particulares Com Rendimento Nominal Mensal De Até 1/2 S.M - Origem Destino 2023_<<\n",
        "\n",
        "\n",
        "# MUNI_DOM: Município de Domicílio - 36: São Paulo\n",
        "# F_DOM: Identifica Primeiro Registro do Domicílio - 1: Primeiro Registro do Domicílio\n",
        "# TIPO_DOM: Tipo de Domicílio - 1: Particular\n",
        "# RENDA_FA: Renda Familiar Mensal\n",
        "# FE_DOM : Fator de Expansão do Domicílio\n",
        "\n",
        "mark_od = (df_od.MUNI_DOM == 36) & (df_od.F_DOM == 1) & (df_od.TIPO_DOM == 1) & (df_od.RENDA_FA <= 651.00)\n",
        "\n",
        "indicador_meio_salario_domicilio = df_od[mark_od].copy()\n",
        "indicador_meio_salario_domicilio = indicador_meio_salario_domicilio[['ZONA', 'MUNI_DOM', 'FE_DOM']]\n",
        "\n",
        "indicador_meio_salario_domicilio = pd.merge(indicador_meio_salario_domicilio, od_zonas, right_on='NumeroZona', left_on='ZONA')\n",
        "indicador_meio_salario_domicilio = indicador_meio_salario_domicilio.groupby('NomeDistri').FE_DOM.sum().to_frame('Domicílios particulares com rendimento nominal mensal de até 1/2 S.M')\n",
        "\n",
        "mark_od = (df_od.MUNI_DOM == 36) & (df_od.F_DOM == 1)\n",
        "\n",
        "indicador_trabalho = df_od[mark_od].copy()\n",
        "indicador_trabalho = indicador_trabalho[['ZONA', 'MUNI_DOM', 'FE_DOM']]\n",
        "\n",
        "indicador_od_domicilios = pd.merge(indicador_trabalho, od_zonas, right_on='NumeroZona', left_on='ZONA')\n",
        "indicador_od_domicilios = indicador_od_domicilios.groupby('NomeDistri').FE_DOM.sum().to_frame('domicílios')\n",
        "\n",
        "indicador_meio_salario_domicilio = pd.concat([indicador_meio_salario_domicilio, indicador_od_domicilios], axis=1)\n",
        "indicador_meio_salario_domicilio.fillna(0, inplace=True)\n",
        "\n",
        "nome_indicador = '% de domicílios particulares com rendimento nominal mensal de até 1/2 S.M - Origem Destino 2023'.title()\n",
        "indicador_meio_salario_domicilio[nome_indicador] = ((indicador_meio_salario_domicilio['Domicílios particulares com rendimento nominal mensal de até 1/2 S.M'] / indicador_meio_salario_domicilio['domicílios']) * 100).round(3)\n",
        "indicador_meio_salario_domicilio = indicador_meio_salario_domicilio[nome_indicador]"
      ],
      "metadata": {
        "id": "zstwoGK7kmOA"
      },
      "execution_count": 135,
      "outputs": []
    },
    {
      "cell_type": "markdown",
      "source": [
        "## % domicílios particulares com rendimento nominal mensal de até 1/4 S.M.\n",
        "\n",
        "Indicadores resultante desse codigo:\n",
        "\n",
        "- % De Domicílios Particulares Com Rendimento Nominal Mensal De Até 1/4 S.M - Origem Destino 2023"
      ],
      "metadata": {
        "id": "Vit0Oil4uGTP"
      }
    },
    {
      "cell_type": "code",
      "source": [
        "# >>_% De Domicílios Particulares Com Rendimento Nominal Mensal De Até 1/4 S.M - Origem Destino 2023_<<\n",
        "\n",
        "\n",
        "mark_od = (df_od.MUNI_DOM == 36) & (df_od.F_DOM == 1) & (df_od.TIPO_DOM == 1) & (df_od.RENDA_FA <= 325.50)\n",
        "\n",
        "indicador_um_quarto_salario_domicilio = df_od[mark_od].copy()\n",
        "indicador_um_quarto_salario_domicilio = indicador_um_quarto_salario_domicilio[['ZONA', 'MUNI_DOM', 'FE_DOM']]\n",
        "\n",
        "indicador_um_quarto_salario_domicilio = pd.merge(indicador_um_quarto_salario_domicilio, od_zonas, right_on='NumeroZona', left_on='ZONA')\n",
        "indicador_um_quarto_salario_domicilio = indicador_um_quarto_salario_domicilio.groupby('NomeDistri').FE_DOM.sum().to_frame('Domicílios particulares com rendimento nominal mensal de até 1/4 S.M')\n",
        "\n",
        "mark_od = (df_od.MUNI_DOM == 36) & (df_od.F_DOM == 1)\n",
        "\n",
        "indicador_trabalho = df_od[mark_od].copy()\n",
        "indicador_trabalho = indicador_trabalho[['ZONA', 'MUNI_DOM', 'FE_DOM']]\n",
        "\n",
        "indicador_od_domicilios = pd.merge(indicador_trabalho, od_zonas, right_on='NumeroZona', left_on='ZONA')\n",
        "indicador_od_domicilios = indicador_od_domicilios.groupby('NomeDistri').FE_DOM.sum().to_frame('domicílios')\n",
        "\n",
        "indicador_um_quarto_salario_domicilio = pd.concat([indicador_um_quarto_salario_domicilio, indicador_od_domicilios], axis=1)\n",
        "indicador_um_quarto_salario_domicilio.fillna(0, inplace=True)\n",
        "\n",
        "nome_indicador = '% de domicílios particulares com rendimento nominal mensal de até 1/4 S.M - Origem Destino 2023'.title()\n",
        "indicador_um_quarto_salario_domicilio[nome_indicador] = ((indicador_um_quarto_salario_domicilio['Domicílios particulares com rendimento nominal mensal de até 1/4 S.M'] / indicador_um_quarto_salario_domicilio['domicílios']) * 100).round(3)\n",
        "indicador_um_quarto_salario_domicilio = indicador_um_quarto_salario_domicilio[nome_indicador]"
      ],
      "metadata": {
        "id": "Xmw8Rtm-uH_o"
      },
      "execution_count": 136,
      "outputs": []
    },
    {
      "cell_type": "markdown",
      "source": [
        "## Renda domiciliar per capita\n",
        "\n",
        "Indicadores resultante desse codigo:\n",
        "\n",
        "- Renda Domiciliar Per Capita - Origem Destino 2023"
      ],
      "metadata": {
        "id": "uU1yltpBuYvu"
      }
    },
    {
      "cell_type": "code",
      "source": [
        "# >>_Renda Domiciliar Per Capita - Origem Destino 2023_<<\n",
        "\n",
        "\n",
        "nome_indicador = 'Renda Domiciliar Per Capita - Origem Destino 2023'.title()\n",
        "\n",
        "mark_od = (df_od.MUNI_DOM == 36) & (df_od.F_PESS == 1)\n",
        "\n",
        "indicador_renda_domiciliar = df_od[mark_od].copy()\n",
        "\n",
        "# (indicador_renda_domiciliar.RENDA_FA * indicador_renda_domiciliar.FE_PESS) =  A renda familiar com o peso\n",
        "indicador_renda_domiciliar['rfpc'] = (indicador_renda_domiciliar.RENDA_FA * indicador_renda_domiciliar.FE_FAM) / (indicador_renda_domiciliar.NO_MORAF * indicador_renda_domiciliar.FE_FAM)\n",
        "\n",
        "indicador_renda_domiciliar = pd.merge(indicador_renda_domiciliar, od_zonas, right_on='NumeroZona', left_on='ZONA')\n",
        "indicador_renda_domiciliar = indicador_renda_domiciliar.groupby('NomeDistri').rfpc.mean().to_frame(nome_indicador)"
      ],
      "metadata": {
        "id": "PJ8GoVJbTAnF"
      },
      "execution_count": 137,
      "outputs": []
    },
    {
      "cell_type": "markdown",
      "source": [
        "## Incidência distrital de chefe de família mulher sem rendimento\n",
        "\n",
        "Indicadores resultante desse codigo:\n",
        "\n",
        "- Incidência Distrital De Chefe De Família Mulher Sem Rendimento - Origem Destino 2023"
      ],
      "metadata": {
        "id": "aNHfWqsFtpnw"
      }
    },
    {
      "cell_type": "code",
      "source": [
        "# >>_Incidência Distrital De Chefe De Família Mulher Sem Rendimento - Origem Destino 2023_<<\n",
        "\n",
        "\n",
        "# MUNI_DOM: Município de Domicílio - 36: São Paulo\n",
        "# F_PESS: Identifica Primeiro Registro da Pessoa - 1: Primeiro registro da pessoa\n",
        "# SEXO: Sexo - 2: Feminino\n",
        "# SIT_FAM: Situação Familiar - 1: Pessoa Responsável\n",
        "# CO_REN_I: Condição da Renda Individual - 2: Não Tem Renda\n",
        "# FE_VIA: Fator de Expansão de Viagem\n",
        "\n",
        "mark_od = (df_od.MUNI_DOM == 36) & (df_od.F_PESS == 1) & (df_od.SEXO == 2) & (df_od.SIT_FAM == 1) & (df_od.CO_REN_I == 2)\n",
        "\n",
        "indicador_chefe_familia_mulher_sem_rendimento = df_od[mark_od].copy()\n",
        "indicador_chefe_familia_mulher_sem_rendimento = indicador_chefe_familia_mulher_sem_rendimento[['ZONA', 'MUNI_DOM', 'FE_DOM', 'FE_VIA']]\n",
        "\n",
        "indicador_chefe_familia_mulher_sem_rendimento = pd.merge(indicador_chefe_familia_mulher_sem_rendimento, od_zonas, right_on='NumeroZona', left_on='ZONA')\n",
        "indicador_chefe_familia_mulher_sem_rendimento = indicador_chefe_familia_mulher_sem_rendimento.groupby('NomeDistri').FE_VIA.sum().to_frame('chefes de família mulher sem rendimento')\n",
        "\n",
        "mark_od = (df_od.MUNI_DOM == 36) & (df_od.F_PESS == 1) & (df_od.SIT_FAM == 1)\n",
        "\n",
        "indicador_trabalho= df_od[mark_od].copy()\n",
        "indicador_trabalho = indicador_trabalho[['ZONA', 'MUNI_DOM', 'IDADE', 'GRAU_INS', 'FE_VIA']]\n",
        "\n",
        "indicador_od_populacao = pd.merge(indicador_trabalho, od_zonas, right_on='NumeroZona', left_on='ZONA')\n",
        "indicador_od_populacao = indicador_od_populacao.groupby('NomeDistri').FE_VIA.sum().to_frame('chefes de família')\n",
        "\n",
        "\n",
        "indicador_chefe_familia_mulher_sem_rendimento = pd.concat([indicador_chefe_familia_mulher_sem_rendimento, indicador_od_populacao], axis=1)\n",
        "indicador_chefe_familia_mulher_sem_rendimento.fillna(0, inplace=True)\n",
        "\n",
        "nome_indicador = 'Incidência distrital de chefe de família mulher sem rendimento - Origem Destino 2023'.title()\n",
        "indicador_chefe_familia_mulher_sem_rendimento[nome_indicador] = ((indicador_chefe_familia_mulher_sem_rendimento['chefes de família mulher sem rendimento'] / indicador_chefe_familia_mulher_sem_rendimento['chefes de família']) * 100).round(3)\n",
        "indicador_chefe_familia_mulher_sem_rendimento = indicador_chefe_familia_mulher_sem_rendimento[nome_indicador]"
      ],
      "metadata": {
        "id": "NboSkcs4t1dm"
      },
      "execution_count": 138,
      "outputs": []
    },
    {
      "cell_type": "markdown",
      "source": [
        "## Domicílios não próprios (alugado + cedido)\n",
        "\n",
        "Indicadores resultante desse codigo:\n",
        "\n",
        "- % De Domicílios Não Próprios (Alugado + Cedido) - Origem Destino 2023"
      ],
      "metadata": {
        "id": "c4JQ_BlfuQTY"
      }
    },
    {
      "cell_type": "code",
      "source": [
        "# >>_% De Domicílios Não Próprios (Alugado + Cedido) - Origem Destino 2023_<<\n",
        "\n",
        "\n",
        "# MUNI_DOM: Município de Domicílio - 36: São Paulo\n",
        "# F_DOM: Identifica Primeiro Registro do Domicílio - 1: Primeiro Registro do Domicílio\n",
        "# TIPO_DOM: Tipo de Domicílio - 1: Particular\n",
        "# FE_DOM : Fator de Expansão do Domicílio\n",
        "\n",
        "mark_od = (df_od.MUNI_DOM == 36) & (df_od.F_DOM == 1) & (df_od.CONDMORA.isin([1, 3]))\n",
        "\n",
        "indicador_domicilios_nao_proprios = df_od[mark_od].copy()\n",
        "indicador_domicilios_nao_proprios = indicador_domicilios_nao_proprios[['ZONA', 'MUNI_DOM', 'FE_DOM']]\n",
        "\n",
        "indicador_domicilios_nao_proprios = pd.merge(indicador_domicilios_nao_proprios, od_zonas, right_on='NumeroZona', left_on='ZONA')\n",
        "indicador_domicilios_nao_proprios = indicador_domicilios_nao_proprios.groupby('NomeDistri').FE_DOM.sum().to_frame('Domicílios não próprios (alugado + cedido)')\n",
        "\n",
        "mark_od = (df_od.MUNI_DOM == 36) & (df_od.F_DOM == 1)\n",
        "\n",
        "indicador_domicilios = df_od[mark_od].copy()\n",
        "indicador_domicilios = indicador_domicilios[['ZONA', 'MUNI_DOM', 'FE_DOM']]\n",
        "\n",
        "indicador_od_domicilios = pd.merge(indicador_domicilios, od_zonas, right_on='NumeroZona', left_on='ZONA')\n",
        "indicador_od_domicilios = indicador_od_domicilios.groupby('NomeDistri').FE_DOM.sum().to_frame('domicílios')\n",
        "\n",
        "indicador_domicilios_nao_proprios = pd.concat([indicador_domicilios_nao_proprios, indicador_od_domicilios], axis=1)\n",
        "indicador_domicilios_nao_proprios.fillna(0, inplace=True)\n",
        "\n",
        "nome_indicador = '% de Domicílios não próprios (alugado + cedido) - Origem Destino 2023'.title()\n",
        "indicador_domicilios_nao_proprios[nome_indicador] = ((indicador_domicilios_nao_proprios['Domicílios não próprios (alugado + cedido)'] / indicador_domicilios_nao_proprios['domicílios']) * 100).round(3)\n",
        "indicador_domicilios_nao_proprios = indicador_domicilios_nao_proprios[nome_indicador]"
      ],
      "metadata": {
        "id": "UxUB3wWxuUHH"
      },
      "execution_count": 139,
      "outputs": []
    },
    {
      "cell_type": "markdown",
      "source": [
        "## % de empregos com nível superior\n",
        "\n",
        "Indicadores resultante desse codigo:\n",
        "\n",
        "- % de empregos com nível superior - RAIS 2021\n"
      ],
      "metadata": {
        "id": "MedH4J9yuU5Q"
      }
    },
    {
      "cell_type": "code",
      "source": [
        "colunas_rename = {'ITAIM BIBI': 'Itaim Bibi',\n",
        " 'S DOMINGOS': 'São Domingos',\n",
        " 'LAJEADO': 'Lajeado',\n",
        " 'SAUDE': 'Saúde',\n",
        " 'E MATARAZZO': 'Ermelino Matarazzo',\n",
        " 'PINHEIROS': 'Pinheiros',\n",
        " 'SE': 'Sé',\n",
        " 'JAGUARA': 'Jaguara',\n",
        " 'JABAQUARA': 'Jabaquara',\n",
        " 'BELEM': 'Belém',\n",
        " 'REPUBLICA': 'República',\n",
        " 'ITAQUERA': 'Itaquera',\n",
        " 'S AMARO': 'Santo Amaro',\n",
        " 'JD PAULISTA': 'Jardim Paulista',\n",
        " 'B VISTA': 'Bela Vista',\n",
        " 'PIRITUBA': 'Pirituba',\n",
        " 'VL MARIANA': 'Vila Mariana',\n",
        " 'B FUNDA': 'Barra Funda',\n",
        " 'MORUMBI': 'Morumbi',\n",
        " 'SAPOPEMBA': 'Sapopemba',\n",
        " 'VL GUILHERM': 'Vila Guilherme',\n",
        " 'BUTANTA': 'Butantã',\n",
        " 'AT PINHEIRO': 'Alto de Pinheiros',\n",
        " 'LIBERDADE': 'Liberdade',\n",
        " 'CPO GRANDE': 'Campo Grande',\n",
        " 'VL LEOPOLDI': 'Vila Leopoldina',\n",
        " 'ANHANGUERA': 'Anhanguera',\n",
        " 'LAPA': 'Lapa',\n",
        " 'CONSOLACAO': 'Consolação',\n",
        " 'C VERDE': 'Casa Verde',\n",
        " 'MOEMA': 'Moema',\n",
        " 'JAGUARE': 'Jaguaré',\n",
        " 'B RETIRO': 'Bom Retiro',\n",
        " 'PTE RASA': 'Ponte Rasa',\n",
        " 'CAMBUCI': 'Cambuci',\n",
        " 'S LUIS': 'Jardim São Luís',\n",
        " 'PRQ CARMO': 'Parque do Carmo',\n",
        " 'PERDIZES': 'Perdizes',\n",
        " 'SACOMA': 'Sacomã',\n",
        " 'SOCORRO': 'Socorro',\n",
        " 'IPIRANGA': 'Ipiranga',\n",
        " 'CPO BELO': 'Campo Belo',\n",
        " 'JARAGUA': 'Jaraguá',\n",
        " 'S CECILIA': 'Santa Cecília',\n",
        " 'MANDAQUI': 'Mandaqui',\n",
        " 'C ADEMAR': 'Cidade Ademar',\n",
        " 'VL MARIA': 'Vila Maria',\n",
        " 'VL ANDRADE': 'Vila Andrade',\n",
        " 'VL JACUI': 'Vila Jacuí',\n",
        " 'CURSINO': 'Cursino',\n",
        " 'LIMAO': 'Limão',\n",
        " 'JD HELENA': 'Jardim Helena',\n",
        " 'VL PRUDENTE': 'Vila Prudente',\n",
        " 'SANTANA': 'Santana',\n",
        " 'TATUAPE': 'Tatuapé',\n",
        " 'PARELHEIROS': 'Parelheiros',\n",
        " 'S RAFAEL': 'São Rafael',\n",
        " 'J BONIFACIO': 'José Bonifácio',\n",
        " 'S MATEUS': 'São Mateus',\n",
        " 'A RASA': 'Água Rasa',\n",
        " 'BRAS': 'Brás',\n",
        " 'TUCURUVI': 'Tucuruvi',\n",
        " 'R TAVARES': 'Raposo Tavares',\n",
        " 'VL MEDEIROS': 'Vila Medeiros',\n",
        " 'C TIRADENTE': 'Cidade Tiradentes',\n",
        " 'ARICANDUVA': 'Aricanduva',\n",
        " 'MOOCA': 'Mooca',\n",
        " 'N CACHOEIRI': 'Cachoeirinha',\n",
        " 'VL SONIA': 'Vila Sônia',\n",
        " 'VL CURUCA': 'Vila Curuçá',\n",
        " 'C DUTRA': 'Cidade Dutra',\n",
        " 'FREGUESIA D': 'Freguesia do Ó',\n",
        " 'GRAJAU': 'Grajaú',\n",
        " 'PENHA': 'Penha',\n",
        " 'CANGAIBA': 'Cangaiba',\n",
        " 'S LUCAS': 'São Lucas',\n",
        " 'PARI': 'Pari',\n",
        " 'TREMEMBE': 'Tremembé',\n",
        " 'R PEQUENO': 'Rio Pequeno',\n",
        " 'VL FORMOSA': 'Vila Formosa',\n",
        " 'JACANA': 'Jaçanã',\n",
        " 'MARSILAC': 'Marsilac',\n",
        " 'JD ANGELA': 'Jardim Ângela',\n",
        " 'PERUS': 'Perus',\n",
        " 'S MIGUEL': 'São Miguel',\n",
        " 'CARRAO': 'Carrão',\n",
        " 'CPO LIMPO': 'Campo Limpo',\n",
        " 'ITAIM PAULI': 'Itaim Paulista',\n",
        " 'IGUATEMI': 'Iguatemi',\n",
        " 'C REDONDO': 'Capão Redondo',\n",
        " 'GUAIANAZES': 'Guaianases',\n",
        " 'VL MATILDE': 'Vila Matilde',\n",
        " 'C LIDER': 'Cidade Lider',\n",
        " 'BRASILANDIA': 'Brasilândia',\n",
        " 'A ALVIM': 'Artur Alvim',\n",
        " 'PEDREIRA': 'Pedreira'}"
      ],
      "metadata": {
        "id": "hvZGXwDR8uQH"
      },
      "execution_count": 140,
      "outputs": []
    },
    {
      "cell_type": "code",
      "source": [
        "query_escolas = \"\"\"\n",
        "with dicionario_distritos as (\n",
        "  SELECT * FROM `basedosdados.br_me_rais.dicionario`\n",
        "    WHERE nome_coluna = 'distritos_sp'AND id_tabela = 'microdados_vinculos'\n",
        "),\n",
        "dicionario_grau_instrucao as (\n",
        "  SELECT * FROM `basedosdados.br_me_rais.dicionario`\n",
        "    WHERE nome_coluna = 'grau_instrucao_apos_2005'AND id_tabela = 'microdados_vinculos'\n",
        "),\n",
        "tabela as\n",
        "(\n",
        "  SELECT\n",
        "  distritos_sp,\n",
        "  grau_instrucao_apos_2005,\n",
        "  count(*) as total\n",
        "  FROM `basedosdados.br_me_rais.microdados_vinculos`\n",
        "  where ano=2021 and distritos_sp is not null and vinculo_ativo_3112='1'\n",
        "  group by distritos_sp, grau_instrucao_apos_2005\n",
        ")\n",
        "\n",
        "select\n",
        "dicionario_distritos.valor as distrito,\n",
        "dicionario_grau_instrucao.valor as grau_escolaridade,\n",
        "total\n",
        "from tabela\n",
        "left join dicionario_distritos on tabela.distritos_sp = dicionario_distritos.chave\n",
        "left join dicionario_grau_instrucao on tabela.grau_instrucao_apos_2005 = dicionario_grau_instrucao.chave\n",
        "order by total desc\n",
        "\"\"\""
      ],
      "metadata": {
        "id": "730cEtOWud_5"
      },
      "execution_count": 141,
      "outputs": []
    },
    {
      "cell_type": "code",
      "source": [
        "# >>_% de empregos com nível superior - RAIS 2021_<<\n",
        "\n",
        "\n",
        "import basedosdados as bd\n",
        "\n",
        "\n",
        "oferta_emprego_by_escolaridade = bd.read_sql(query_escolas, billing_project_id=billing_project_id)\n",
        "\n",
        "mark = (oferta_emprego_by_escolaridade.grau_escolaridade.isin([\n",
        "    'SUP. COMP',\n",
        "    'MESTRADO',\n",
        "    'DOUTORADO'\n",
        "]))\n",
        "\n",
        "oferta_emprego_nivel_superior = oferta_emprego_by_escolaridade[mark].copy()\n",
        "oferta_emprego_nivel_superior.distrito = oferta_emprego_nivel_superior.distrito.replace(colunas_rename)\n",
        "oferta_emprego_nivel_superior = oferta_emprego_nivel_superior.groupby('distrito').total.sum().to_frame('empregos')\n",
        "\n",
        "# Selecionando coluna do indicador de 'Total de pessoas' e o nome do distrito.\n",
        "\n",
        "todos_empregos = oferta_emprego_by_escolaridade.copy()\n",
        "todos_empregos.distrito = todos_empregos.distrito.replace(colunas_rename)\n",
        "todos_empregos = todos_empregos.groupby('distrito').total.sum().to_frame('total_empregos')\n",
        "\n",
        "indicador_emprego_nivel_superior = pd.concat([oferta_emprego_nivel_superior, todos_empregos], axis=1)\n",
        "\n",
        "indicador_emprego_nivel_superior['% de empregos com nível superior - RAIS 2021'] = ((indicador_emprego_nivel_superior['empregos'] / indicador_emprego_nivel_superior['total_empregos']) * 100).round(3)\n",
        "\n",
        "indicador_emprego_nivel_superior = indicador_emprego_nivel_superior['% de empregos com nível superior - RAIS 2021']"
      ],
      "metadata": {
        "id": "KbEEsZd78zxc",
        "colab": {
          "base_uri": "https://localhost:8080/"
        },
        "outputId": "631e01f3-a44e-4776-9643-293e7235edab"
      },
      "execution_count": 142,
      "outputs": [
        {
          "output_type": "stream",
          "name": "stdout",
          "text": [
            "Downloading: 100%|\u001b[32m██████████\u001b[0m|\n"
          ]
        }
      ]
    },
    {
      "cell_type": "markdown",
      "source": [
        "## % da população a menos de 1 km de parques urbanos e lineares\n",
        "\n",
        "Indicadores resultante desse codigo:\n",
        "\n",
        "- % da população a menos de 1 km de parques urbanos e lineares - Censo 2022|GeoSampa 2025"
      ],
      "metadata": {
        "id": "loYa5rYtuggJ"
      }
    },
    {
      "cell_type": "code",
      "source": [
        "# >>_% da população a menos de 1 km de parques urbanos e lineares - Censo 2022|GeoSampa 2025_<<\n",
        "\n",
        "\n",
        "nome_indicador = '% da população a menos de 1 km de parques urbanos e lineares - Censo 2022|GeoSampa 2025'\n",
        "\n",
        "spreadsheets_parques_urbanos_lineares=  'https://docs.google.com/spreadsheets/d/1HMGYbLJNfXQXigmkgPWND9m8iUvwirWA/gviz/tq?tqx=out:csv&sheet=Sheet1'\n",
        "\n",
        "df_parques_urbanos_lineares= pd.read_csv(spreadsheets_parques_urbanos_lineares)\n",
        "\n",
        "df_parques_urbanos_lineares.index = df_parques_urbanos_lineares.NM_DIST\n",
        "df_parques_urbanos_lineares[nome_indicador] = df_parques_urbanos_lineares.pct_pop_recort.str.replace(',', '.').astype(float).round(3)\n",
        "df_parques_urbanos_lineares= df_parques_urbanos_lineares[nome_indicador]"
      ],
      "metadata": {
        "id": "stt8NJjIuhQv"
      },
      "execution_count": 143,
      "outputs": []
    },
    {
      "cell_type": "markdown",
      "source": [
        "## Cobertura vegetal per capita (m²/hab)\n",
        "\n",
        "Indicadores resultante desse codigo:\n",
        "\n",
        "- Cobertura vegetal per capita (m²/hab) - Censo 2022|GeoSampa 2025\n",
        "\n",
        "Detalhes do calculo ▶ [Documentação Calculo][notebook]\n",
        "\n",
        "[notebook]: https://github.com/sepep-pmsp/coleta_cebrap/blob/main/notebooks/jupyter/cobertura_vegetal/treat_data/%5Bcebrap%5Dcobertura_vegetal_per_capita.ipynb"
      ],
      "metadata": {
        "id": "Dap9i7-QoS0d"
      }
    },
    {
      "cell_type": "code",
      "source": [
        "# >>_Cobertura vegetal per capita (m²/hab) - Censo 2022|GeoSampa 2025_<<\n",
        "\n",
        "nome_indicador = 'Cobertura vegetal per capita (m²/hab) - Censo 2022|GeoSampa 2025'\n",
        "\n",
        "spreadsheets_cobertura_vegetal=  'https://docs.google.com/spreadsheets/d/19_QHow7O0j85QRRQQu4SE07ZhL0KYqL3/gviz/tq?tqx=out:csv&sheet=Sheet1'\n",
        "\n",
        "df_cobertura_vegetal= pd.read_csv(spreadsheets_cobertura_vegetal)\n",
        "\n",
        "df_cobertura_vegetal.index = df_cobertura_vegetal.NM_DIST\n",
        "df_cobertura_vegetal[nome_indicador] = df_cobertura_vegetal.cob_veg_per_capita.str.replace(',', '.').astype(float).round(3)\n",
        "df_cobertura_vegetal= df_cobertura_vegetal[nome_indicador]"
      ],
      "metadata": {
        "id": "ZSbTtzBDoVVV"
      },
      "execution_count": 144,
      "outputs": []
    },
    {
      "cell_type": "markdown",
      "source": [
        "## Área de inundação no território / total de área do distrito\n",
        "\n",
        "Indicadores resultante desse codigo:\n",
        "\n",
        "- Áreas de inundação no território - Censo 2022|GeoSampa 2025\n",
        "\n",
        "Detalhes do calculo ▶ [Documentação Calculo][notebook]\n",
        "\n",
        "[notebook]: https://github.com/sepep-pmsp/coleta_cebrap/blob/main/notebooks/jupyter/areas_inundacao/treat_data/%5Bcebrap%5Dinund_por_area.ipynb"
      ],
      "metadata": {
        "id": "tEd2ZVB2mD_I"
      }
    },
    {
      "cell_type": "code",
      "source": [
        "# >>_Áreas de inundação no território - Censo 2022|GeoSampa 2025_<<\n",
        "\n",
        "\n",
        "nome_indicador = 'Áreas de inundação no território - Censo 2022|GeoSampa 2025'\n",
        "\n",
        "spreadsheets_areas_inundacao=  'https://docs.google.com/spreadsheets/d/1Fqiw4B13SyQkaYPtE8yYzhhDftKJk0zK/gviz/tq?tqx=out:csv&sheet=Sheet1'\n",
        "\n",
        "df_areas_inundacao= pd.read_csv(spreadsheets_areas_inundacao)\n",
        "\n",
        "df_areas_inundacao.index = df_areas_inundacao.NM_DIST\n",
        "df_areas_inundacao[nome_indicador] = df_areas_inundacao.inund_por_area.str.replace(',', '.').astype(float)\n",
        "df_areas_inundacao = df_areas_inundacao[nome_indicador]"
      ],
      "metadata": {
        "id": "-pwWQ_VMmKAP"
      },
      "execution_count": 145,
      "outputs": []
    },
    {
      "cell_type": "markdown",
      "source": [
        "## Área de alagamento / área do distrito\n",
        "\n",
        "Indicadores resultante desse codigo:\n",
        "\n",
        "- Áreas de alagamento no território - Censo 2022|GeoSampa 2025\n",
        "\n",
        "Detalhes do calculo ▶ [Documentação Calculo][notebook_alagamento]\n",
        "\n",
        "[notebook_alagamento]: https://github.com/sepep-pmsp/coleta_cebrap/blob/main/notebooks/jupyter/areas_alagamento/treat_data/%5Bcebrap%5Dalagamento_por_area.ipynb"
      ],
      "metadata": {
        "id": "wPFeVSZjmFPN"
      }
    },
    {
      "cell_type": "code",
      "source": [
        "# >>_Áreas de alagamento no território - Censo 2022|GeoSampa 2025_<<\n",
        "\n",
        "nome_indicador = 'Áreas de alagamento no território - Censo 2022|GeoSampa 2025'\n",
        "\n",
        "spreadsheets_areas_alagamento = 'https://docs.google.com/spreadsheets/d/1mthI67ZGqtZ7_cbmbyN7eASBhoDHMtLT/gviz/tq?tqx=out:csv&sheet=Sheet1'\n",
        "\n",
        "df_areas_alagamento = pd.read_csv(spreadsheets_areas_alagamento)\n",
        "\n",
        "df_areas_alagamento.index = df_areas_alagamento.NM_DIST\n",
        "df_areas_alagamento[nome_indicador] = df_areas_alagamento.inund_por_area.str.replace(',', '.').astype(float)\n",
        "df_areas_alagamento = df_areas_alagamento[nome_indicador]"
      ],
      "metadata": {
        "id": "4XvGJjs4mKeN"
      },
      "execution_count": 146,
      "outputs": []
    },
    {
      "cell_type": "markdown",
      "source": [
        "# Junta [Censo 2022][censo-2022], [SIM 2022][ms_sim], [SINASC 2023][sinasc], [INEP Censo Escolar 2023][inep_escola] e [Mapa Desigualdade São Paulo 2024][mapadesigualdadesaopaulo2024]\n",
        "\n",
        "[censo-2022]: https://www.ibge.gov.br/estatisticas/sociais/trabalho/22827-censo-demografico-2022.html?=&t=downloads\n",
        "[sinasc]: https://basedosdados.org/dataset/48ccef51-8207-40ee-af5b-134c8ac3fb8c?table=80359f9a-8189-4693-bdf7-ebf7be0d2fff\n",
        "[ms_sim]: https://basedosdados.org/dataset/5beeec93-cbf3-43f6-9eea-9bee6a0d1683?table=dea823a5-cad7-4014-b77c-4aa33b3b0541\n",
        "[mapadesigualdadesaopaulo2024]: https://institutocidadessustentaveis.shinyapps.io/mapadesigualdadesaopaulo2024/\n",
        "[inep_escola]: https://basedosdados.org/dataset/dae21af4-4b6a-42f4-b94a-4c2061ea9de5?table=15e428cb-cce2-41f8-aec5-066d685b5bd5\n"
      ],
      "metadata": {
        "id": "DZRQsQH232ne"
      }
    },
    {
      "cell_type": "code",
      "source": [
        "dfs_indicadores: list[pd.DataFrame] = [\n",
        "    pessoas_65_censo_2022, # % de pessoas de 65 anos ou mais - Censo 2022\n",
        "    responsavel_feminino_ler_escrever, # % Pessoa responsável pelo domicílio, Sexo feminino, 15 anos ou mais, Morador não sabe ler e escrever - Censo 2022\n",
        "    pessoas_responsaveis_10_24, # Proporção de pessoas responsáveis de 12 a 24 anos - Censo 2022\n",
        "    mulheres_reponsaveis_menor_29, # Proporção de mulheres reponsáveis com menos de 15 a 29 anos - Censo 2022\n",
        "    responsaveis_nao_alfabetizadas_15, # Proporção de pessoas responsáveis não alfabetizadas 15 anos ou mais - Censo 2022\n",
        "    coleta_lixo, # Proporção que vive em domicílios urbanos com o serviço de coleta de lixo - Censo 2022\n",
        "    df_ms_sim_with_mortalidade_materna, # df_ms_sim_with_mortalidade_materna\n",
        "    df_ms_sim_mortalidade_one_year, # Mortalidade infantil (óbitos por 1.000 nascidos vivos) - SIM 2022\n",
        "    indicador_obito_evitaveis, # % Óbitos Evitáveis - SIM 2022\n",
        "    pardos_idade_escolar, # Taxa de matrículas de crianças pardas - INEP 2023/Censo 2022\n",
        "    pretos_idade_escolar, # Taxa de matrículas de crianças pretas - INEP 2023/Censo 2022\n",
        "    indicador_numero_escolas, # Quantidade de equipamentos educacionais por número de alunos matriculados - INEP 2023\n",
        "    indicador_matriculas_pre_escola_creche, # Taxa de matrículas na pre-escola e creche - INEP 2023/Censo 2022\n",
        "    indicador_populacao_distrital_final_porcent, # % da população distrital a até 1 km de uma UBS - Censo 2022|CNES 2025\n",
        "    hospitais_indicador_populacao_distrital_final_porcent, # % da população distrital a até 5 km de um Hospital - Censo 2022|CNES 2025\n",
        "    distorcao_ensino_fundamental_iniciais, # Taxa de distorção da idade-ano para o ano no Ensino Fundamental nos anos iniciais (%) - ObservaSampa 2023\n",
        "    distorcao_ensino_fundamental_finais, # Taxa de distorção da idade-ano para o ano no Ensino Fundamental nos anos finais (%) - ObservaSampa 2023\n",
        "    tabnet_pre_natal, # Proporção de nascidos vivos de mães que fizeram 7 ou mais consultas de pré natal - Tabnet DATASUS 2024\n",
        "    tabnet_baixo_peso, # Proporção de bebês com baixo peso ao nascer (menos de 2,5 kg) - Tabnet DATASUS 2024\n",
        "    tabnet_maes_adolescentes, # Bebês nascidos vivos de mães adolescentes (10 a 19 anos) - Tabnet DATASUS 2024\n",
        "    vida_perdidos, # Anos Potenciais de Vida Perdidos(APVP) - Tabnet 2020\n",
        "    indicaodor_populacao_rua, # Incidência distrital da presença da população de rua na cidade de São Paulo - Censo de População de Rua 2021\n",
        "    indicador_homicidios, # Taxa de homicídio por 100 mil hab - Secretaria da Segurança Pública 2024\n",
        "    indicador_crimes_oportunidade, # Taxa de crimes de oportunidade por 100 mil hab - Secretaria da Segurança Pública 2024\n",
        "    indicador_od_medio, # % de 18 a 22 anos com médio completo - Origem Destino 2023\n",
        "    indicador_violencia_mulheres, # Número de registro de agravos de notificação de violência contra a mulher por 100 mil mulheres - SINAN 2024\n",
        "    indicador_violencia_pretos, # Número de registro de agravos de notificação de violência contra pessoas negras por 100 mil pessoas negras - SINAN 2024\n",
        "    df_indicador_obito_transito, # Óbitos no trânsito por 100 mil habitantes - Censo 2022|Infosiga 2024\n",
        "    indicador_emprego_formal, # % Oferta de emprego formal por distrito - RAIS 2021\n",
        "    indicador_od_trabalho_porcao, # % De Empregados Sem Carteira - Origem Destino 2023\n",
        "    indicador_od_minutos_viagem, # % De Pessoas Com Até 30 Minutos De Viagem Casa X Trabalho - Origem Destino 2023\n",
        "    indicador_od_minutos_viagem_educacao, # % De Pessoas Com Até 30 Minutos De Viagem Casa X Educação - Origem Destino 2023\n",
        "    indicador_od_minutos_viagem_saude, # % De Pessoas Com Até 30 Minutos De Viagem Casa X Saúde - Origem Destino 2023\n",
        "    equipamentos_cultura_final_porcent, # % da população distrital a até 1 km de uma equipamentos de cultura - Censo 2022|GeoSampa 2025\n",
        "    estacao_metros_final_porcent, # % da população distrital a até 1 km de uma estação de metrô - Censo 2022| GeoSampa 2025\n",
        "    estacao_metros_final_porcent_pretos_pardos, # % da população distrital a até 1 km de uma estação de metrô pretos e pardos - Censo 2022| GeoSampa 2025\n",
        "    corredores_final_porcent, # % da população distrital a até 1 km de um corredor - Censo 2022|GeoSampa 2025\n",
        "    df_verde_publica, # Área verde pública por habitante (m²/hab) - Censo 2022|GeoSampa 2025\n",
        "    favelas_object_final_porcent, # % De Domicílios Em Favelas E Comunidades Urbanas - Censo 2022\n",
        "    habitantes_domicilio, # % Habitantes por domicílio - Censo 2022\n",
        "    df_all_riscos, # % dos domicílios em áreas de risco (R3 e R4) - Censo 2020|GeoSampa 2025\n",
        "    domicilios_conectados, # % De Domicílios Conectados À Rede de água - Censo 2022\n",
        "    domicilios_conectados_esgoto, # % De Domicílios Conectados À Rede de esgoto - Censo 2022\n",
        "    equipamentos_esportivo_final_porcent, # % da população distrital a até 1 km de equipamentos de esporte - Censo 2022 | GeoSampa 2025\n",
        "    indicador_ciclovia_pretos_pardos, # % da população distrital a até 300 metros de uma ciclovia pretos e pardos - Censo 2022| GeoSampa 2025\n",
        "    indicador_ciclovia, # % da população distrital a até 300 metros de uma ciclovia - Censo 2022| GeoSampa 2025\n",
        "    indicador_corredores_pretos_pardos, # % da população distrital a até 1 km metros de uma corredor pretos e pardos - Censo 2022| GeoSampa 2025\n",
        "    indicador_ponto_parada, # % da população distrital a até 300 metros de ponto de parada da rede de transporte - Censo 2022| GeoSampa 2025\n",
        "    indicadorocupados_superior_completo, # % Dos Ocupados Com Superior Completo - 18 Anos Ou Mais - Origem Destino 2023\n",
        "    indicador_meio_salario_domicilio, # % De Domicílios Particulares Com Rendimento Nominal Mensal De Até 1/2 S.M - Origem Destino 2023\n",
        "    indicador_um_quarto_salario_domicilio, # % De Domicílios Particulares Com Rendimento Nominal Mensal De Até 1/4 S.M - Origem Destino 2023\n",
        "    indicador_renda_domiciliar, # Renda Domiciliar Per Capita - Origem Destino 2023\n",
        "    indicador_chefe_familia_mulher_sem_rendimento, # Incidência Distrital De Chefe De Família Mulher Sem Rendimento - Origem Destino 2023\n",
        "    indicador_domicilios_nao_proprios, # % De Domicílios Não Próprios (Alugado + Cedido) - Origem Destino 2023\n",
        "    indicador_emprego_nivel_superior, # % de empregos com nível superior - RAIS 2021\n",
        "    df_parques_urbanos_lineares, # % da população a menos de 1 km de parques urbanos e lineares - Censo 2022|GeoSampa 2025\n",
        "    df_cobertura_vegetal, # Cobertura vegetal per capita (m²/hab) - Censo 2022|GeoSampa 2025\n",
        "    df_areas_inundacao, # Áreas de inundação no território - Censo 2022|GeoSampa 2025\n",
        "    df_areas_alagamento, # Áreas de alagamento no território - Censo 2022|GeoSampa 2025\n",
        " ]\n",
        "\n",
        "for df in dfs_indicadores:\n",
        "  df.index = [slugify(temp_index) for temp_index in df.index]\n",
        "\n",
        "dimensoes_sp = pd.concat(dfs_indicadores, axis=1)\n",
        "dimensoes_sp = dimensoes_sp.fillna(0)\n",
        "dimensoes_sp.to_excel('dimensoes_sp.xlsx')"
      ],
      "metadata": {
        "id": "AojtT0-i380L"
      },
      "execution_count": 147,
      "outputs": []
    },
    {
      "cell_type": "markdown",
      "source": [
        "# Ler arquivo completo para alteraçoes e analises"
      ],
      "metadata": {
        "id": "K2mtwWBmZApO"
      }
    },
    {
      "cell_type": "code",
      "source": [
        "import itertools\n",
        "import string\n",
        "\n",
        "def gerar_nomes_colunas_simples():\n",
        "    return list(itertools.chain(\n",
        "        string.ascii_uppercase,\n",
        "        (''.join(p) for p in itertools.product(string.ascii_uppercase, repeat=2))\n",
        "    ))"
      ],
      "metadata": {
        "id": "QcSYl17wZeBU"
      },
      "execution_count": 149,
      "outputs": []
    },
    {
      "cell_type": "markdown",
      "source": [
        "## Forma Excel"
      ],
      "metadata": {
        "id": "sugXX10jLNeV"
      }
    },
    {
      "cell_type": "code",
      "source": [
        "indicadores_dicionario_url= 'https://docs.google.com/spreadsheets/d/1Vz0dZ6n1PKcYgvQMSBRcYdbSVWHxgbGL/gviz/tq?tqx=out:csv&sheet=dicionario'\n",
        "\n",
        "columns_to_slug = ['nome_original', 'nome_indicador_final']\n",
        "\n",
        "df_indicadores_dicionario= pd.read_csv(indicadores_dicionario_url, header=0, dtype=str)\n",
        "\n",
        "df_indicadores_dicionario['slug_nome_indicador_final'] = df_indicadores_dicionario['nome_indicador_final'].apply(lambda nome: slugify(nome, remove_space=True))\n",
        "\n",
        "letra_coluna = gerar_nomes_colunas_simples()[:len(dimensoes_sp.columns) + 1]\n",
        "letra_coluna.pop(0)\n",
        "letra_coluna_indicadores = dict(zip(dimensoes_sp.columns, letra_coluna))\n",
        "\n",
        "zip_dimensa_nome_original = list(zip(\n",
        "    df_indicadores_dicionario.nome_original.values,\n",
        "    df_indicadores_dicionario.dimensao.values))\n",
        "\n",
        "\n",
        "chaves_slug = dict(zip(\n",
        "    df_indicadores_dicionario.nome_indicador_final.values,\n",
        "    zip_dimensa_nome_original\n",
        "    ))\n",
        "\n",
        "nomes_originais_from_slug = [chaves_slug.get(column)[0] for column in dimensoes_sp.columns]\n",
        "dimensoes_from_slug = [chaves_slug.get(column)[1] for column in dimensoes_sp.columns]\n",
        "\n",
        "\n",
        "data_match = {\n",
        "    'Nome Original': nomes_originais_from_slug,\n",
        "    'Dimensão': dimensoes_from_slug,\n",
        "    'Nome Indicador Final': dimensoes_sp.columns\n",
        "    }\n",
        "\n",
        "df_indicador_navegacao = pd.DataFrame(data_match)\n",
        "\n",
        "# Fazer Link para as celulas tabulares e notebook\n",
        "\n",
        "link_to_cell = 'https://docs.google.com/spreadsheets/d/1ECb3OCRM0CUw2BWwhHcS8TOwMsdDhNNi/edit?gid=650239202#gid=650239202&range={coluna}1'\n",
        "link_notebook_form = 'https://colab.research.google.com/drive/1ld_peEe_ZDt8RrAheHWRHkZnJQ0MDZPe#scrollTo={id_cell}'\n",
        "\n",
        "links_to_cell = [letra_coluna_indicadores.get(column) for column in dimensoes_sp.columns]\n",
        "links_to_cell = [link_to_cell.format(coluna=column_letras) for column_letras in links_to_cell]\n",
        "\n",
        "df_indicador_navegacao['Link Celula'] = links_to_cell\n",
        "\n",
        "# Fazer Link para as celulas notebook\n",
        "\n",
        "id_cells:list = []\n",
        "\n",
        "with open('/content/[cebrap]rascunho_dimensoes_sp.ipynb', 'r') as notebook_txt:\n",
        "  notebook_txt = json.loads(notebook_txt.read())\n",
        "\n",
        "for nome_indicador in df_indicador_navegacao['Nome Indicador Final'].values:\n",
        "  for cell_info in notebook_txt['cells']:\n",
        "    if f'>>_{nome_indicador}_<<' in ''.join(cell_info['source']):\n",
        "      # print(nome_indicador, cell_info['metadata']['id'])\n",
        "      id_cells.append(cell_info['metadata']['id'])\n",
        "      break\n",
        "\n",
        "df_indicador_navegacao['Link Notebook'] = [link_notebook_form.format(id_cell=id_cell) for id_cell  in id_cells]\n",
        "\n",
        "df_indicador_navegacao.to_excel('indicadores_links_atualizar.xlsx', index=False)"
      ],
      "metadata": {
        "id": "jbORmJfEkJ6Z"
      },
      "execution_count": 169,
      "outputs": []
    },
    {
      "cell_type": "markdown",
      "source": [
        "# Fazer MarkDown"
      ],
      "metadata": {
        "id": "a4CGhjabNfJa"
      }
    },
    {
      "cell_type": "markdown",
      "source": [
        "https://docs.google.com/spreadsheets/d/1Vz0dZ6n1PKcYgvQMSBRcYdbSVWHxgbGL/edit?gid=250491946#gid=250491946"
      ],
      "metadata": {
        "id": "SW0oygCMNoJy"
      }
    },
    {
      "cell_type": "code",
      "source": [
        "def form_url_short_markdown(url: str) -> str:\n",
        "\n",
        "  short_markdown_url = f'[:link:]({url})'\n",
        "  return short_markdown_url"
      ],
      "metadata": {
        "id": "1xs_J4xegsaJ"
      },
      "execution_count": 170,
      "outputs": []
    },
    {
      "cell_type": "code",
      "source": [
        "df_indicadores_links = df_indicador_navegacao.copy()\n",
        "df_indicadores_links[['Link Celula', 'Link Notebook']] = df_indicadores_links[['Link Celula', 'Link Notebook']].map(form_url_short_markdown)\n",
        "df_indicadores_links['Nome Indicador Final'] = df_indicadores_links['Nome Indicador Final'].str.replace('|', '/')\n",
        "df_indicadores_links['Nome Original'] = df_indicadores_links['Nome Original'].str.replace('|', '/')"
      ],
      "metadata": {
        "id": "Bh97mqL-Ngh2"
      },
      "execution_count": 179,
      "outputs": []
    },
    {
      "cell_type": "code",
      "source": [
        "for dimensao in df_indicadores_links.Dimensão.unique():\n",
        "  mark = (df_indicadores_links['Dimensão'] == dimensao)\n",
        "  df_indicadores_links[mark].to_markdown(f'{dimensao}.txt', index=False)"
      ],
      "metadata": {
        "id": "wlknVl2WhRX4"
      },
      "execution_count": 181,
      "outputs": []
    }
  ]
}