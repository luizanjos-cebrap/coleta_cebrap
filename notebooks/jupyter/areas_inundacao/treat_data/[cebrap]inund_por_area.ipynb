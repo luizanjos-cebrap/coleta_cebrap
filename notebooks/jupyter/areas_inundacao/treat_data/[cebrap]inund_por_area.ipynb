{
 "cells": [
  {
   "cell_type": "code",
   "execution_count": 1,
   "id": "439b2c2c-fa5b-47a5-9db5-ed9263d9193e",
   "metadata": {},
   "outputs": [
    {
     "name": "stdout",
     "output_type": "stream",
     "text": [
      "O diretorio do seu projeto é coleta_cebrap\n",
      "Caminho absoluto do diretorio encontrado C:\\Users\\Olívia\\Desktop\\batatinhas\\coleta_cebrap\n",
      "Caminho no path.\n"
     ]
    }
   ],
   "source": [
    "try:\n",
    "    from configuracoes_notebooks import set_proj_dir\n",
    "    set_proj_dir()\n",
    "except:\n",
    "    from teste import diretorio_teste\n",
    "    diretorio_teste()"
   ]
  },
  {
   "cell_type": "code",
   "execution_count": 2,
   "id": "5d8e3656-d75e-4d41-9f54-f5b51704bd92",
   "metadata": {},
   "outputs": [],
   "source": [
    "import geopandas as gpd\n",
    "import os\n",
    "\n",
    "from notebooks.jupyter import utils\n",
    "from utils import (\n",
    "    get_data_diretorio,\n",
    "    save_parquet_excel,\n",
    ")"
   ]
  },
  {
   "cell_type": "markdown",
   "id": "f61fb3c3-bacb-4a67-a84e-6e60bb05919f",
   "metadata": {},
   "source": [
    "# Ocorrências de Inundações / Área do Distritos"
   ]
  },
  {
   "cell_type": "code",
   "execution_count": 3,
   "id": "0b2c7631-3e12-4f72-b76c-c0bcabadbeee",
   "metadata": {},
   "outputs": [],
   "source": [
    "data_path = get_data_diretorio()\n",
    "assets_path = os.path.join(\n",
    "    data_path,\n",
    "    'assets'\n",
    ")"
   ]
  },
  {
   "cell_type": "markdown",
   "id": "d3f5b641-35de-46c3-a1b9-4e92c2b18007",
   "metadata": {},
   "source": [
    "# Dependências\n",
    "Este notebook é dependente do arquivo resultante do notebok '.inund_por_dist'"
   ]
  },
  {
   "cell_type": "code",
   "execution_count": 4,
   "id": "5b968dee-005e-4f42-83e8-97c74d9474e5",
   "metadata": {},
   "outputs": [],
   "source": [
    "gdf_distritos = gpd.read_parquet(\n",
    "    os.path.join(\n",
    "        assets_path,\n",
    "        'areas_inundacao',\n",
    "        'qt_ocorrencias_inund_distrito.parquet'\n",
    "    )\n",
    ")"
   ]
  },
  {
   "cell_type": "markdown",
   "id": "523c48d1-5b09-4696-b539-6c89fc3ba3c7",
   "metadata": {},
   "source": [
    "# Cálculo"
   ]
  },
  {
   "cell_type": "code",
   "execution_count": 5,
   "id": "122411c2-626c-45ec-93de-b26ea21e0d8b",
   "metadata": {},
   "outputs": [],
   "source": [
    "gdf_distritos['inund_por_area'] = (\n",
    "    gdf_distritos['qt_inund_ocor'] / gdf_distritos['geometry'].area\n",
    ")"
   ]
  },
  {
   "cell_type": "code",
   "execution_count": 6,
   "id": "a7d4c457-f553-4334-81f3-b8a1654332f0",
   "metadata": {},
   "outputs": [
    {
     "data": {
      "text/html": [
       "<div>\n",
       "<style scoped>\n",
       "    .dataframe tbody tr th:only-of-type {\n",
       "        vertical-align: middle;\n",
       "    }\n",
       "\n",
       "    .dataframe tbody tr th {\n",
       "        vertical-align: top;\n",
       "    }\n",
       "\n",
       "    .dataframe thead th {\n",
       "        text-align: right;\n",
       "    }\n",
       "</style>\n",
       "<table border=\"1\" class=\"dataframe\">\n",
       "  <thead>\n",
       "    <tr style=\"text-align: right;\">\n",
       "      <th></th>\n",
       "      <th>CD_MUN</th>\n",
       "      <th>NM_MUN</th>\n",
       "      <th>CD_DIST</th>\n",
       "      <th>NM_DIST</th>\n",
       "      <th>CD_RGINT</th>\n",
       "      <th>NM_RGINT</th>\n",
       "      <th>CD_RGI</th>\n",
       "      <th>NM_RGI</th>\n",
       "      <th>CD_CONCURB</th>\n",
       "      <th>NM_CONCURB</th>\n",
       "      <th>AREA_KM2</th>\n",
       "      <th>total_pop</th>\n",
       "      <th>total_dom</th>\n",
       "      <th>geometry</th>\n",
       "      <th>qt_inund_ocor</th>\n",
       "      <th>inund_por_area</th>\n",
       "    </tr>\n",
       "  </thead>\n",
       "  <tbody>\n",
       "    <tr>\n",
       "      <th>9</th>\n",
       "      <td>3550308</td>\n",
       "      <td>São Paulo</td>\n",
       "      <td>355030810</td>\n",
       "      <td>BRAS</td>\n",
       "      <td>3501</td>\n",
       "      <td>São Paulo</td>\n",
       "      <td>350001</td>\n",
       "      <td>São Paulo</td>\n",
       "      <td>3550308</td>\n",
       "      <td>São Paulo/SP</td>\n",
       "      <td>3.637969</td>\n",
       "      <td>38750</td>\n",
       "      <td>19761</td>\n",
       "      <td>POLYGON ((335303.631 7394197.266, 335273.072 7...</td>\n",
       "      <td>0.0</td>\n",
       "      <td>0.000000e+00</td>\n",
       "    </tr>\n",
       "    <tr>\n",
       "      <th>60</th>\n",
       "      <td>3550308</td>\n",
       "      <td>São Paulo</td>\n",
       "      <td>355030861</td>\n",
       "      <td>PERUS</td>\n",
       "      <td>3501</td>\n",
       "      <td>São Paulo</td>\n",
       "      <td>350001</td>\n",
       "      <td>São Paulo</td>\n",
       "      <td>3550308</td>\n",
       "      <td>São Paulo/SP</td>\n",
       "      <td>23.636765</td>\n",
       "      <td>87716</td>\n",
       "      <td>34379</td>\n",
       "      <td>POLYGON ((321923.417 7412300.951, 321941.7 741...</td>\n",
       "      <td>9.0</td>\n",
       "      <td>3.807679e-07</td>\n",
       "    </tr>\n",
       "    <tr>\n",
       "      <th>76</th>\n",
       "      <td>3550308</td>\n",
       "      <td>São Paulo</td>\n",
       "      <td>355030877</td>\n",
       "      <td>SAUDE</td>\n",
       "      <td>3501</td>\n",
       "      <td>São Paulo</td>\n",
       "      <td>350001</td>\n",
       "      <td>São Paulo</td>\n",
       "      <td>3550308</td>\n",
       "      <td>São Paulo/SP</td>\n",
       "      <td>9.237295</td>\n",
       "      <td>128469</td>\n",
       "      <td>65598</td>\n",
       "      <td>POLYGON ((332835.435 7389140.186, 333003.906 7...</td>\n",
       "      <td>1.0</td>\n",
       "      <td>1.082684e-07</td>\n",
       "    </tr>\n",
       "  </tbody>\n",
       "</table>\n",
       "</div>"
      ],
      "text/plain": [
       "     CD_MUN     NM_MUN    CD_DIST NM_DIST CD_RGINT   NM_RGINT  CD_RGI  \\\n",
       "9   3550308  São Paulo  355030810    BRAS     3501  São Paulo  350001   \n",
       "60  3550308  São Paulo  355030861   PERUS     3501  São Paulo  350001   \n",
       "76  3550308  São Paulo  355030877   SAUDE     3501  São Paulo  350001   \n",
       "\n",
       "       NM_RGI CD_CONCURB    NM_CONCURB   AREA_KM2  total_pop total_dom  \\\n",
       "9   São Paulo    3550308  São Paulo/SP   3.637969      38750     19761   \n",
       "60  São Paulo    3550308  São Paulo/SP  23.636765      87716     34379   \n",
       "76  São Paulo    3550308  São Paulo/SP   9.237295     128469     65598   \n",
       "\n",
       "                                             geometry  qt_inund_ocor  \\\n",
       "9   POLYGON ((335303.631 7394197.266, 335273.072 7...            0.0   \n",
       "60  POLYGON ((321923.417 7412300.951, 321941.7 741...            9.0   \n",
       "76  POLYGON ((332835.435 7389140.186, 333003.906 7...            1.0   \n",
       "\n",
       "    inund_por_area  \n",
       "9     0.000000e+00  \n",
       "60    3.807679e-07  \n",
       "76    1.082684e-07  "
      ]
     },
     "execution_count": 6,
     "metadata": {},
     "output_type": "execute_result"
    }
   ],
   "source": [
    "gdf_distritos.sample(3)"
   ]
  },
  {
   "cell_type": "markdown",
   "id": "0593a9ea-5281-43e0-9242-088fbfddb795",
   "metadata": {},
   "source": [
    "# Padronização de Entrega"
   ]
  },
  {
   "cell_type": "code",
   "execution_count": 7,
   "id": "2789c109-a67d-469b-bd07-0e83cddbd585",
   "metadata": {},
   "outputs": [
    {
     "data": {
      "text/plain": [
       "Index(['CD_MUN', 'NM_MUN', 'CD_DIST', 'NM_DIST', 'CD_RGINT', 'NM_RGINT',\n",
       "       'CD_RGI', 'NM_RGI', 'CD_CONCURB', 'NM_CONCURB', 'AREA_KM2', 'total_pop',\n",
       "       'total_dom', 'geometry', 'qt_inund_ocor', 'inund_por_area'],\n",
       "      dtype='object')"
      ]
     },
     "execution_count": 7,
     "metadata": {},
     "output_type": "execute_result"
    }
   ],
   "source": [
    "gdf_distritos.columns\n"
   ]
  },
  {
   "cell_type": "code",
   "execution_count": 8,
   "id": "e1a88967-20b2-402f-bba2-74d71fd24bbf",
   "metadata": {},
   "outputs": [],
   "source": [
    "drop_cols={\n",
    "    'CD_MUN',\n",
    "    'NM_MUN',\n",
    "    'CD_RGINT',\n",
    "    'NM_RGINT',\n",
    "    'CD_RGI',\n",
    "    'NM_RGI',\n",
    "    'CD_CONCURB',\n",
    "    'NM_CONCURB',\n",
    "    'AREA_KM2',\n",
    "    'geometry'\n",
    "}\n",
    "\n",
    "gdf_distritos.drop(\n",
    "    columns=drop_cols,\n",
    "    axis=1,\n",
    "    inplace=True\n",
    ")"
   ]
  },
  {
   "cell_type": "code",
   "execution_count": 9,
   "id": "7bf1cf19-edce-46f2-baf4-fee34332ad42",
   "metadata": {},
   "outputs": [
    {
     "data": {
      "text/html": [
       "<div>\n",
       "<style scoped>\n",
       "    .dataframe tbody tr th:only-of-type {\n",
       "        vertical-align: middle;\n",
       "    }\n",
       "\n",
       "    .dataframe tbody tr th {\n",
       "        vertical-align: top;\n",
       "    }\n",
       "\n",
       "    .dataframe thead th {\n",
       "        text-align: right;\n",
       "    }\n",
       "</style>\n",
       "<table border=\"1\" class=\"dataframe\">\n",
       "  <thead>\n",
       "    <tr style=\"text-align: right;\">\n",
       "      <th></th>\n",
       "      <th>CD_DIST</th>\n",
       "      <th>NM_DIST</th>\n",
       "      <th>total_pop</th>\n",
       "      <th>total_dom</th>\n",
       "      <th>qt_inund_ocor</th>\n",
       "      <th>inund_por_area</th>\n",
       "    </tr>\n",
       "  </thead>\n",
       "  <tbody>\n",
       "    <tr>\n",
       "      <th>78</th>\n",
       "      <td>355030879</td>\n",
       "      <td>SOCORRO</td>\n",
       "      <td>38051</td>\n",
       "      <td>16549</td>\n",
       "      <td>1.0</td>\n",
       "      <td>8.155926e-08</td>\n",
       "    </tr>\n",
       "    <tr>\n",
       "      <th>90</th>\n",
       "      <td>355030891</td>\n",
       "      <td>VILA MATILDE</td>\n",
       "      <td>103558</td>\n",
       "      <td>45322</td>\n",
       "      <td>0.0</td>\n",
       "      <td>0.000000e+00</td>\n",
       "    </tr>\n",
       "  </tbody>\n",
       "</table>\n",
       "</div>"
      ],
      "text/plain": [
       "      CD_DIST       NM_DIST  total_pop total_dom  qt_inund_ocor  \\\n",
       "78  355030879       SOCORRO      38051     16549            1.0   \n",
       "90  355030891  VILA MATILDE     103558     45322            0.0   \n",
       "\n",
       "    inund_por_area  \n",
       "78    8.155926e-08  \n",
       "90    0.000000e+00  "
      ]
     },
     "execution_count": 9,
     "metadata": {},
     "output_type": "execute_result"
    }
   ],
   "source": [
    "gdf_distritos.sample(2)"
   ]
  },
  {
   "cell_type": "code",
   "execution_count": 10,
   "id": "a07fb281-05ea-458f-bfeb-ac0462ece248",
   "metadata": {},
   "outputs": [],
   "source": [
    "gdf_distritos.set_index('NM_DIST', inplace=True)"
   ]
  },
  {
   "cell_type": "code",
   "execution_count": 11,
   "id": "0cf16a1f-677f-4bd4-b8d7-b523b9ad5c9d",
   "metadata": {},
   "outputs": [
    {
     "data": {
      "text/html": [
       "<div>\n",
       "<style scoped>\n",
       "    .dataframe tbody tr th:only-of-type {\n",
       "        vertical-align: middle;\n",
       "    }\n",
       "\n",
       "    .dataframe tbody tr th {\n",
       "        vertical-align: top;\n",
       "    }\n",
       "\n",
       "    .dataframe thead th {\n",
       "        text-align: right;\n",
       "    }\n",
       "</style>\n",
       "<table border=\"1\" class=\"dataframe\">\n",
       "  <thead>\n",
       "    <tr style=\"text-align: right;\">\n",
       "      <th></th>\n",
       "      <th>CD_DIST</th>\n",
       "      <th>total_pop</th>\n",
       "      <th>total_dom</th>\n",
       "      <th>qt_inund_ocor</th>\n",
       "      <th>inund_por_area</th>\n",
       "    </tr>\n",
       "    <tr>\n",
       "      <th>NM_DIST</th>\n",
       "      <th></th>\n",
       "      <th></th>\n",
       "      <th></th>\n",
       "      <th></th>\n",
       "      <th></th>\n",
       "    </tr>\n",
       "  </thead>\n",
       "  <tbody>\n",
       "    <tr>\n",
       "      <th>PONTE RASA</th>\n",
       "      <td>355030864</td>\n",
       "      <td>89881</td>\n",
       "      <td>36258</td>\n",
       "      <td>5.0</td>\n",
       "      <td>7.629488e-07</td>\n",
       "    </tr>\n",
       "    <tr>\n",
       "      <th>PIRITUBA</th>\n",
       "      <td>355030863</td>\n",
       "      <td>179724</td>\n",
       "      <td>78342</td>\n",
       "      <td>5.0</td>\n",
       "      <td>2.932241e-07</td>\n",
       "    </tr>\n",
       "  </tbody>\n",
       "</table>\n",
       "</div>"
      ],
      "text/plain": [
       "              CD_DIST  total_pop total_dom  qt_inund_ocor  inund_por_area\n",
       "NM_DIST                                                                  \n",
       "PONTE RASA  355030864      89881     36258            5.0    7.629488e-07\n",
       "PIRITUBA    355030863     179724     78342            5.0    2.932241e-07"
      ]
     },
     "execution_count": 11,
     "metadata": {},
     "output_type": "execute_result"
    }
   ],
   "source": [
    "gdf_distritos.sample(2)"
   ]
  },
  {
   "cell_type": "markdown",
   "id": "50cf2ed8-8361-45d2-97c6-d6082d72573f",
   "metadata": {},
   "source": [
    "# Salvar GDF"
   ]
  },
  {
   "cell_type": "code",
   "execution_count": 12,
   "id": "edd031b3-9e3a-4594-9656-13ed1bcf065c",
   "metadata": {},
   "outputs": [],
   "source": [
    "save_parquet_excel(\n",
    "    gdf_distritos,\n",
    "    fname='inundacao_por_area_distrito',\n",
    "    data_path = assets_path,\n",
    "    data_subpath = 'areas_inundacao'\n",
    ")"
   ]
  }
 ],
 "metadata": {
  "kernelspec": {
   "display_name": "Python 3 (ipykernel)",
   "language": "python",
   "name": "python3"
  },
  "language_info": {
   "codemirror_mode": {
    "name": "ipython",
    "version": 3
   },
   "file_extension": ".py",
   "mimetype": "text/x-python",
   "name": "python",
   "nbconvert_exporter": "python",
   "pygments_lexer": "ipython3",
   "version": "3.12.4"
  }
 },
 "nbformat": 4,
 "nbformat_minor": 5
}
