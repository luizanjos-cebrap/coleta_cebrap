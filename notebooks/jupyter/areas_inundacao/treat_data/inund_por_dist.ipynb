{
 "cells": [
  {
   "cell_type": "code",
   "execution_count": 1,
   "id": "803f5520-a769-4e79-aa37-b2bca95cea22",
   "metadata": {},
   "outputs": [
    {
     "name": "stdout",
     "output_type": "stream",
     "text": [
      "O diretorio do seu projeto é coleta_cebrap\n",
      "Caminho absoluto do diretorio encontrado C:\\Users\\Olívia\\Desktop\\batatinhas\\coleta_cebrap\n",
      "Caminho no path.\n"
     ]
    }
   ],
   "source": [
    "from configuracoes_notebooks import set_proj_dir\n",
    "set_proj_dir()"
   ]
  },
  {
   "cell_type": "code",
   "execution_count": 2,
   "id": "bfcbc4ff-5aee-46bd-b433-e3594842e32a",
   "metadata": {},
   "outputs": [],
   "source": [
    "import geopandas as gpd\n",
    "import os\n",
    "\n",
    "from notebooks.jupyter import utils\n",
    "from utils import (\n",
    "    get_data_diretorio,\n",
    "    save_parquet_excel,\n",
    ")"
   ]
  },
  {
   "cell_type": "markdown",
   "id": "11e2a2ce-bb4e-47a4-a87d-a744d68c8b90",
   "metadata": {},
   "source": [
    "# Ocorrências de inundações por distrito\n",
    "Com base nas intersecções que temos, podemos somar os pontas para sabermos o total em cada distrito"
   ]
  },
  {
   "cell_type": "code",
   "execution_count": 3,
   "id": "514ff063-5a64-4e62-8f48-322805f7d18f",
   "metadata": {},
   "outputs": [],
   "source": [
    "data_path = get_data_diretorio()\n",
    "assets_path = os.path.join(\n",
    "    data_path,\n",
    "    'assets'\n",
    ")"
   ]
  },
  {
   "cell_type": "markdown",
   "id": "c076f43c-1b58-421a-9f83-59f0170118f2",
   "metadata": {},
   "source": [
    "# Dependências\n",
    "Este notebook é dependente dos arquivos resultantes dos notebooks \"overlay_pontos_inundacao_2024\" e \"../../arborizacao_viaria/malha_distritos\""
   ]
  },
  {
   "cell_type": "code",
   "execution_count": 4,
   "id": "6888eea0-3d61-4f3e-9c8c-c0f24946c058",
   "metadata": {},
   "outputs": [],
   "source": [
    "gdf_distritos = gpd.read_parquet(\n",
    "    os.path.join(\n",
    "        assets_path,\n",
    "        'distrito_ibge.parquet'\n",
    "    )\n",
    ")"
   ]
  },
  {
   "cell_type": "code",
   "execution_count": 5,
   "id": "e636f850-8326-4a69-83bf-8bc0948d23d2",
   "metadata": {},
   "outputs": [],
   "source": [
    "overlay_inund = gpd.read_parquet(\n",
    "    os.path.join(\n",
    "        assets_path,\n",
    "        'areas_inundacao',\n",
    "        'interseccao_inundacoes2024_distritos.parquet'\n",
    "    )\n",
    ")"
   ]
  },
  {
   "cell_type": "markdown",
   "id": "521fc25c-406e-4207-84e1-f8b4f8bac09b",
   "metadata": {},
   "source": [
    "# Soma de pontos por distrito"
   ]
  },
  {
   "cell_type": "code",
   "execution_count": 6,
   "id": "42ee0fae-3d01-4a9b-8fcd-eb45b904e7cb",
   "metadata": {},
   "outputs": [],
   "source": [
    "for i, distrito in enumerate(gdf_distritos['CD_DIST']):\n",
    "    gdf_distritos.loc[gdf_distritos['CD_DIST']==distrito, 'qt_inund_ocor'] = (\n",
    "        len(\n",
    "            overlay_inund\n",
    "            .loc[overlay_inund['CD_DIST'] == distrito]\n",
    "        )\n",
    "    )"
   ]
  },
  {
   "cell_type": "code",
   "execution_count": 7,
   "id": "db7cb96c-f02b-42fc-b69a-612f334266fc",
   "metadata": {},
   "outputs": [
    {
     "data": {
      "text/html": [
       "<div>\n",
       "<style scoped>\n",
       "    .dataframe tbody tr th:only-of-type {\n",
       "        vertical-align: middle;\n",
       "    }\n",
       "\n",
       "    .dataframe tbody tr th {\n",
       "        vertical-align: top;\n",
       "    }\n",
       "\n",
       "    .dataframe thead th {\n",
       "        text-align: right;\n",
       "    }\n",
       "</style>\n",
       "<table border=\"1\" class=\"dataframe\">\n",
       "  <thead>\n",
       "    <tr style=\"text-align: right;\">\n",
       "      <th></th>\n",
       "      <th>CD_MUN</th>\n",
       "      <th>NM_MUN</th>\n",
       "      <th>CD_DIST</th>\n",
       "      <th>NM_DIST</th>\n",
       "      <th>CD_RGINT</th>\n",
       "      <th>NM_RGINT</th>\n",
       "      <th>CD_RGI</th>\n",
       "      <th>NM_RGI</th>\n",
       "      <th>CD_CONCURB</th>\n",
       "      <th>NM_CONCURB</th>\n",
       "      <th>AREA_KM2</th>\n",
       "      <th>total_pop</th>\n",
       "      <th>total_dom</th>\n",
       "      <th>geometry</th>\n",
       "      <th>qt_inund_ocor</th>\n",
       "    </tr>\n",
       "  </thead>\n",
       "  <tbody>\n",
       "    <tr>\n",
       "      <th>53</th>\n",
       "      <td>3550308</td>\n",
       "      <td>São Paulo</td>\n",
       "      <td>355030854</td>\n",
       "      <td>MORUMBI</td>\n",
       "      <td>3501</td>\n",
       "      <td>São Paulo</td>\n",
       "      <td>350001</td>\n",
       "      <td>São Paulo</td>\n",
       "      <td>3550308</td>\n",
       "      <td>São Paulo/SP</td>\n",
       "      <td>11.462372</td>\n",
       "      <td>43690</td>\n",
       "      <td>20710</td>\n",
       "      <td>POLYGON ((325192.046 7387331.143, 325166.217 7...</td>\n",
       "      <td>0.0</td>\n",
       "    </tr>\n",
       "    <tr>\n",
       "      <th>54</th>\n",
       "      <td>3550308</td>\n",
       "      <td>São Paulo</td>\n",
       "      <td>355030855</td>\n",
       "      <td>PARELHEIROS</td>\n",
       "      <td>3501</td>\n",
       "      <td>São Paulo</td>\n",
       "      <td>350001</td>\n",
       "      <td>São Paulo</td>\n",
       "      <td>3550308</td>\n",
       "      <td>São Paulo/SP</td>\n",
       "      <td>151.459856</td>\n",
       "      <td>153687</td>\n",
       "      <td>62104</td>\n",
       "      <td>POLYGON ((324472.495 7358116.496, 324448.399 7...</td>\n",
       "      <td>10.0</td>\n",
       "    </tr>\n",
       "  </tbody>\n",
       "</table>\n",
       "</div>"
      ],
      "text/plain": [
       "     CD_MUN     NM_MUN    CD_DIST      NM_DIST CD_RGINT   NM_RGINT  CD_RGI  \\\n",
       "53  3550308  São Paulo  355030854      MORUMBI     3501  São Paulo  350001   \n",
       "54  3550308  São Paulo  355030855  PARELHEIROS     3501  São Paulo  350001   \n",
       "\n",
       "       NM_RGI CD_CONCURB    NM_CONCURB    AREA_KM2  total_pop total_dom  \\\n",
       "53  São Paulo    3550308  São Paulo/SP   11.462372      43690     20710   \n",
       "54  São Paulo    3550308  São Paulo/SP  151.459856     153687     62104   \n",
       "\n",
       "                                             geometry  qt_inund_ocor  \n",
       "53  POLYGON ((325192.046 7387331.143, 325166.217 7...            0.0  \n",
       "54  POLYGON ((324472.495 7358116.496, 324448.399 7...           10.0  "
      ]
     },
     "execution_count": 7,
     "metadata": {},
     "output_type": "execute_result"
    }
   ],
   "source": [
    "gdf_distritos.sample(2)"
   ]
  },
  {
   "cell_type": "markdown",
   "id": "8dee6fe8-0033-4b22-a2dd-4a06105ad642",
   "metadata": {},
   "source": [
    "# Conferir"
   ]
  },
  {
   "cell_type": "markdown",
   "id": "5acc0dce-864e-4d08-959f-68a988d3ded3",
   "metadata": {},
   "source": [
    "Distritos sem pontos de ocorrências de inundações:"
   ]
  },
  {
   "cell_type": "code",
   "execution_count": 8,
   "id": "0e383a74-e1e7-4359-b26d-71ea81738c52",
   "metadata": {},
   "outputs": [
    {
     "data": {
      "text/plain": [
       "(38, 15)"
      ]
     },
     "execution_count": 8,
     "metadata": {},
     "output_type": "execute_result"
    }
   ],
   "source": [
    "zero_dists=(\n",
    "    gdf_distritos\n",
    "    .loc[gdf_distritos['qt_inund_ocor']==float(0)]\n",
    ")\n",
    "zero_dists.shape"
   ]
  },
  {
   "cell_type": "code",
   "execution_count": 9,
   "id": "4ed00575-98ef-46ac-bc7c-b37d195f706b",
   "metadata": {},
   "outputs": [
    {
     "data": {
      "text/html": [
       "<div>\n",
       "<style scoped>\n",
       "    .dataframe tbody tr th:only-of-type {\n",
       "        vertical-align: middle;\n",
       "    }\n",
       "\n",
       "    .dataframe tbody tr th {\n",
       "        vertical-align: top;\n",
       "    }\n",
       "\n",
       "    .dataframe thead th {\n",
       "        text-align: right;\n",
       "    }\n",
       "</style>\n",
       "<table border=\"1\" class=\"dataframe\">\n",
       "  <thead>\n",
       "    <tr style=\"text-align: right;\">\n",
       "      <th></th>\n",
       "      <th>CD_MUN</th>\n",
       "      <th>NM_MUN</th>\n",
       "      <th>CD_DIST</th>\n",
       "      <th>NM_DIST</th>\n",
       "      <th>CD_RGINT</th>\n",
       "      <th>NM_RGINT</th>\n",
       "      <th>CD_RGI</th>\n",
       "      <th>NM_RGI</th>\n",
       "      <th>CD_CONCURB</th>\n",
       "      <th>NM_CONCURB</th>\n",
       "      <th>AREA_KM2</th>\n",
       "      <th>total_pop</th>\n",
       "      <th>total_dom</th>\n",
       "      <th>geometry</th>\n",
       "      <th>qt_inund_ocor</th>\n",
       "    </tr>\n",
       "  </thead>\n",
       "  <tbody>\n",
       "    <tr>\n",
       "      <th>94</th>\n",
       "      <td>3550308</td>\n",
       "      <td>São Paulo</td>\n",
       "      <td>355030895</td>\n",
       "      <td>SAO DOMINGOS</td>\n",
       "      <td>3501</td>\n",
       "      <td>São Paulo</td>\n",
       "      <td>350001</td>\n",
       "      <td>São Paulo</td>\n",
       "      <td>3550308</td>\n",
       "      <td>São Paulo/SP</td>\n",
       "      <td>9.914590</td>\n",
       "      <td>88884</td>\n",
       "      <td>37746</td>\n",
       "      <td>POLYGON ((321653.073 7399213.8, 321651.611 739...</td>\n",
       "      <td>0.0</td>\n",
       "    </tr>\n",
       "    <tr>\n",
       "      <th>53</th>\n",
       "      <td>3550308</td>\n",
       "      <td>São Paulo</td>\n",
       "      <td>355030854</td>\n",
       "      <td>MORUMBI</td>\n",
       "      <td>3501</td>\n",
       "      <td>São Paulo</td>\n",
       "      <td>350001</td>\n",
       "      <td>São Paulo</td>\n",
       "      <td>3550308</td>\n",
       "      <td>São Paulo/SP</td>\n",
       "      <td>11.462372</td>\n",
       "      <td>43690</td>\n",
       "      <td>20710</td>\n",
       "      <td>POLYGON ((325192.046 7387331.143, 325166.217 7...</td>\n",
       "      <td>0.0</td>\n",
       "    </tr>\n",
       "  </tbody>\n",
       "</table>\n",
       "</div>"
      ],
      "text/plain": [
       "     CD_MUN     NM_MUN    CD_DIST       NM_DIST CD_RGINT   NM_RGINT  CD_RGI  \\\n",
       "94  3550308  São Paulo  355030895  SAO DOMINGOS     3501  São Paulo  350001   \n",
       "53  3550308  São Paulo  355030854       MORUMBI     3501  São Paulo  350001   \n",
       "\n",
       "       NM_RGI CD_CONCURB    NM_CONCURB   AREA_KM2  total_pop total_dom  \\\n",
       "94  São Paulo    3550308  São Paulo/SP   9.914590      88884     37746   \n",
       "53  São Paulo    3550308  São Paulo/SP  11.462372      43690     20710   \n",
       "\n",
       "                                             geometry  qt_inund_ocor  \n",
       "94  POLYGON ((321653.073 7399213.8, 321651.611 739...            0.0  \n",
       "53  POLYGON ((325192.046 7387331.143, 325166.217 7...            0.0  "
      ]
     },
     "execution_count": 9,
     "metadata": {},
     "output_type": "execute_result"
    }
   ],
   "source": [
    "zero_dists.sample(2)"
   ]
  },
  {
   "cell_type": "markdown",
   "id": "59d8a44b-71d8-4e0b-aa00-d7d1b1a8c7ef",
   "metadata": {},
   "source": [
    "Distrito com o maior número de ocorrências de inundações:"
   ]
  },
  {
   "cell_type": "code",
   "execution_count": 10,
   "id": "a02724b3-1616-4139-bf02-9b98fd56a5c7",
   "metadata": {},
   "outputs": [
    {
     "data": {
      "text/html": [
       "<div>\n",
       "<style scoped>\n",
       "    .dataframe tbody tr th:only-of-type {\n",
       "        vertical-align: middle;\n",
       "    }\n",
       "\n",
       "    .dataframe tbody tr th {\n",
       "        vertical-align: top;\n",
       "    }\n",
       "\n",
       "    .dataframe thead th {\n",
       "        text-align: right;\n",
       "    }\n",
       "</style>\n",
       "<table border=\"1\" class=\"dataframe\">\n",
       "  <thead>\n",
       "    <tr style=\"text-align: right;\">\n",
       "      <th></th>\n",
       "      <th>CD_MUN</th>\n",
       "      <th>NM_MUN</th>\n",
       "      <th>CD_DIST</th>\n",
       "      <th>NM_DIST</th>\n",
       "      <th>CD_RGINT</th>\n",
       "      <th>NM_RGINT</th>\n",
       "      <th>CD_RGI</th>\n",
       "      <th>NM_RGI</th>\n",
       "      <th>CD_CONCURB</th>\n",
       "      <th>NM_CONCURB</th>\n",
       "      <th>AREA_KM2</th>\n",
       "      <th>total_pop</th>\n",
       "      <th>total_dom</th>\n",
       "      <th>geometry</th>\n",
       "      <th>qt_inund_ocor</th>\n",
       "    </tr>\n",
       "  </thead>\n",
       "  <tbody>\n",
       "    <tr>\n",
       "      <th>36</th>\n",
       "      <td>3550308</td>\n",
       "      <td>São Paulo</td>\n",
       "      <td>355030837</td>\n",
       "      <td>ITAQUERA</td>\n",
       "      <td>3501</td>\n",
       "      <td>São Paulo</td>\n",
       "      <td>350001</td>\n",
       "      <td>São Paulo</td>\n",
       "      <td>3550308</td>\n",
       "      <td>São Paulo/SP</td>\n",
       "      <td>14.699172</td>\n",
       "      <td>210960</td>\n",
       "      <td>85467</td>\n",
       "      <td>POLYGON ((351668.035 7394259.261, 351646.256 7...</td>\n",
       "      <td>18.0</td>\n",
       "    </tr>\n",
       "  </tbody>\n",
       "</table>\n",
       "</div>"
      ],
      "text/plain": [
       "     CD_MUN     NM_MUN    CD_DIST   NM_DIST CD_RGINT   NM_RGINT  CD_RGI  \\\n",
       "36  3550308  São Paulo  355030837  ITAQUERA     3501  São Paulo  350001   \n",
       "\n",
       "       NM_RGI CD_CONCURB    NM_CONCURB   AREA_KM2  total_pop total_dom  \\\n",
       "36  São Paulo    3550308  São Paulo/SP  14.699172     210960     85467   \n",
       "\n",
       "                                             geometry  qt_inund_ocor  \n",
       "36  POLYGON ((351668.035 7394259.261, 351646.256 7...           18.0  "
      ]
     },
     "execution_count": 10,
     "metadata": {},
     "output_type": "execute_result"
    }
   ],
   "source": [
    "(\n",
    "    gdf_distritos\n",
    "    .loc[gdf_distritos['qt_inund_ocor']==gdf_distritos['qt_inund_ocor'].max()]\n",
    ")"
   ]
  },
  {
   "cell_type": "markdown",
   "id": "ba20f1ee-babb-493a-aae5-14102098aa13",
   "metadata": {},
   "source": [
    "Distrito com o menor número de inundações (excluindo os sem ocorrência nenhuma):"
   ]
  },
  {
   "cell_type": "code",
   "execution_count": 11,
   "id": "f4030910-1731-42e9-b259-95e78b5b8274",
   "metadata": {},
   "outputs": [
    {
     "data": {
      "text/plain": [
       "(23, 15)"
      ]
     },
     "execution_count": 11,
     "metadata": {},
     "output_type": "execute_result"
    }
   ],
   "source": [
    "min_positiv=(\n",
    "    gdf_distritos\n",
    "    .loc[gdf_distritos['qt_inund_ocor']>0]\n",
    ")\n",
    "min_dists=(\n",
    "    gdf_distritos\n",
    "    .loc[gdf_distritos['qt_inund_ocor']==min_positiv['qt_inund_ocor'].min()]\n",
    ")\n",
    "min_dists.shape"
   ]
  },
  {
   "cell_type": "code",
   "execution_count": 12,
   "id": "c0459c91-9d5d-4416-aad6-1ce65b7d995c",
   "metadata": {},
   "outputs": [
    {
     "data": {
      "text/html": [
       "<div>\n",
       "<style scoped>\n",
       "    .dataframe tbody tr th:only-of-type {\n",
       "        vertical-align: middle;\n",
       "    }\n",
       "\n",
       "    .dataframe tbody tr th {\n",
       "        vertical-align: top;\n",
       "    }\n",
       "\n",
       "    .dataframe thead th {\n",
       "        text-align: right;\n",
       "    }\n",
       "</style>\n",
       "<table border=\"1\" class=\"dataframe\">\n",
       "  <thead>\n",
       "    <tr style=\"text-align: right;\">\n",
       "      <th></th>\n",
       "      <th>CD_MUN</th>\n",
       "      <th>NM_MUN</th>\n",
       "      <th>CD_DIST</th>\n",
       "      <th>NM_DIST</th>\n",
       "      <th>CD_RGINT</th>\n",
       "      <th>NM_RGINT</th>\n",
       "      <th>CD_RGI</th>\n",
       "      <th>NM_RGI</th>\n",
       "      <th>CD_CONCURB</th>\n",
       "      <th>NM_CONCURB</th>\n",
       "      <th>AREA_KM2</th>\n",
       "      <th>total_pop</th>\n",
       "      <th>total_dom</th>\n",
       "      <th>geometry</th>\n",
       "      <th>qt_inund_ocor</th>\n",
       "    </tr>\n",
       "  </thead>\n",
       "  <tbody>\n",
       "    <tr>\n",
       "      <th>3</th>\n",
       "      <td>3550308</td>\n",
       "      <td>São Paulo</td>\n",
       "      <td>355030804</td>\n",
       "      <td>ARICANDUVA</td>\n",
       "      <td>3501</td>\n",
       "      <td>São Paulo</td>\n",
       "      <td>350001</td>\n",
       "      <td>São Paulo</td>\n",
       "      <td>3550308</td>\n",
       "      <td>São Paulo/SP</td>\n",
       "      <td>6.847188</td>\n",
       "      <td>89574</td>\n",
       "      <td>37225</td>\n",
       "      <td>POLYGON ((345121.729 7390756.39, 345114.818 73...</td>\n",
       "      <td>1.0</td>\n",
       "    </tr>\n",
       "    <tr>\n",
       "      <th>6</th>\n",
       "      <td>3550308</td>\n",
       "      <td>São Paulo</td>\n",
       "      <td>355030807</td>\n",
       "      <td>BELA VISTA</td>\n",
       "      <td>3501</td>\n",
       "      <td>São Paulo</td>\n",
       "      <td>350001</td>\n",
       "      <td>São Paulo</td>\n",
       "      <td>3550308</td>\n",
       "      <td>São Paulo/SP</td>\n",
       "      <td>2.760756</td>\n",
       "      <td>60024</td>\n",
       "      <td>41033</td>\n",
       "      <td>POLYGON ((331713.373 7392672.088, 331705.437 7...</td>\n",
       "      <td>1.0</td>\n",
       "    </tr>\n",
       "  </tbody>\n",
       "</table>\n",
       "</div>"
      ],
      "text/plain": [
       "    CD_MUN     NM_MUN    CD_DIST     NM_DIST CD_RGINT   NM_RGINT  CD_RGI  \\\n",
       "3  3550308  São Paulo  355030804  ARICANDUVA     3501  São Paulo  350001   \n",
       "6  3550308  São Paulo  355030807  BELA VISTA     3501  São Paulo  350001   \n",
       "\n",
       "      NM_RGI CD_CONCURB    NM_CONCURB  AREA_KM2  total_pop total_dom  \\\n",
       "3  São Paulo    3550308  São Paulo/SP  6.847188      89574     37225   \n",
       "6  São Paulo    3550308  São Paulo/SP  2.760756      60024     41033   \n",
       "\n",
       "                                            geometry  qt_inund_ocor  \n",
       "3  POLYGON ((345121.729 7390756.39, 345114.818 73...            1.0  \n",
       "6  POLYGON ((331713.373 7392672.088, 331705.437 7...            1.0  "
      ]
     },
     "execution_count": 12,
     "metadata": {},
     "output_type": "execute_result"
    }
   ],
   "source": [
    "min_dists.sample(2)"
   ]
  },
  {
   "cell_type": "markdown",
   "id": "7687426a-4e8c-4d92-80b4-12f857b87b84",
   "metadata": {},
   "source": [
    "Nós vimos que a subprefeitura com mais pontos de ocorrências de inundação é a de São Miguel Paulista. Vamos confirmar se mantém quando calculamos pelos distritos:"
   ]
  },
  {
   "cell_type": "code",
   "execution_count": 13,
   "id": "73c54aa6-7e45-4fbb-8499-748e9c35f8b2",
   "metadata": {},
   "outputs": [
    {
     "data": {
      "text/plain": [
       "Index(['data', 'ocorrencia', 'nm_subpref', 'id_ocorrencias', 'CD_MUN',\n",
       "       'NM_MUN', 'CD_DIST', 'NM_DIST', 'CD_RGINT', 'NM_RGINT', 'CD_RGI',\n",
       "       'NM_RGI', 'CD_CONCURB', 'NM_CONCURB', 'AREA_KM2', 'total_pop',\n",
       "       'total_dom', 'geometry'],\n",
       "      dtype='object')"
      ]
     },
     "execution_count": 13,
     "metadata": {},
     "output_type": "execute_result"
    }
   ],
   "source": [
    "overlay_inund.columns"
   ]
  },
  {
   "cell_type": "code",
   "execution_count": 14,
   "id": "db83d6c5-78cb-41ac-84c0-6d751e8d4c5e",
   "metadata": {},
   "outputs": [],
   "source": [
    "subpref_confere = gdf_distritos.copy()\n",
    "for i, distrito in enumerate(subpref_confere['CD_DIST']):\n",
    "    if overlay_inund['CD_DIST'].str.contains(distrito).any():\n",
    "        subpref_confere.loc[subpref_confere['CD_DIST']==distrito, 'subpref']=(\n",
    "            overlay_inund\n",
    "            .loc[overlay_inund['CD_DIST']==distrito]\n",
    "            .head(1)['nm_subpref']\n",
    "            .values[0]\n",
    "        )"
   ]
  },
  {
   "cell_type": "code",
   "execution_count": 15,
   "id": "8a534650-80e7-41c3-8d15-0e1d10eb48f3",
   "metadata": {},
   "outputs": [
    {
     "data": {
      "text/html": [
       "<div>\n",
       "<style scoped>\n",
       "    .dataframe tbody tr th:only-of-type {\n",
       "        vertical-align: middle;\n",
       "    }\n",
       "\n",
       "    .dataframe tbody tr th {\n",
       "        vertical-align: top;\n",
       "    }\n",
       "\n",
       "    .dataframe thead th {\n",
       "        text-align: right;\n",
       "    }\n",
       "</style>\n",
       "<table border=\"1\" class=\"dataframe\">\n",
       "  <thead>\n",
       "    <tr style=\"text-align: right;\">\n",
       "      <th></th>\n",
       "      <th>CD_MUN</th>\n",
       "      <th>NM_MUN</th>\n",
       "      <th>CD_DIST</th>\n",
       "      <th>NM_DIST</th>\n",
       "      <th>CD_RGINT</th>\n",
       "      <th>NM_RGINT</th>\n",
       "      <th>CD_RGI</th>\n",
       "      <th>NM_RGI</th>\n",
       "      <th>CD_CONCURB</th>\n",
       "      <th>NM_CONCURB</th>\n",
       "      <th>AREA_KM2</th>\n",
       "      <th>total_pop</th>\n",
       "      <th>total_dom</th>\n",
       "      <th>geometry</th>\n",
       "      <th>qt_inund_ocor</th>\n",
       "      <th>subpref</th>\n",
       "    </tr>\n",
       "  </thead>\n",
       "  <tbody>\n",
       "    <tr>\n",
       "      <th>87</th>\n",
       "      <td>3550308</td>\n",
       "      <td>São Paulo</td>\n",
       "      <td>355030888</td>\n",
       "      <td>VILA LEOPOLDINA</td>\n",
       "      <td>3501</td>\n",
       "      <td>São Paulo</td>\n",
       "      <td>350001</td>\n",
       "      <td>São Paulo</td>\n",
       "      <td>3550308</td>\n",
       "      <td>São Paulo/SP</td>\n",
       "      <td>6.988733</td>\n",
       "      <td>46875</td>\n",
       "      <td>20673</td>\n",
       "      <td>POLYGON ((324497.89 7396536.095, 324494.684 73...</td>\n",
       "      <td>1.0</td>\n",
       "      <td>LA - LAPA</td>\n",
       "    </tr>\n",
       "    <tr>\n",
       "      <th>64</th>\n",
       "      <td>3550308</td>\n",
       "      <td>São Paulo</td>\n",
       "      <td>355030865</td>\n",
       "      <td>RAPOSO TAVARES</td>\n",
       "      <td>3501</td>\n",
       "      <td>São Paulo</td>\n",
       "      <td>350001</td>\n",
       "      <td>São Paulo</td>\n",
       "      <td>3550308</td>\n",
       "      <td>São Paulo/SP</td>\n",
       "      <td>12.164313</td>\n",
       "      <td>117738</td>\n",
       "      <td>49006</td>\n",
       "      <td>POLYGON ((319022.919 7388900.499, 318990.285 7...</td>\n",
       "      <td>5.0</td>\n",
       "      <td>BT - BUTANTA</td>\n",
       "    </tr>\n",
       "    <tr>\n",
       "      <th>33</th>\n",
       "      <td>3550308</td>\n",
       "      <td>São Paulo</td>\n",
       "      <td>355030834</td>\n",
       "      <td>IPIRANGA</td>\n",
       "      <td>3501</td>\n",
       "      <td>São Paulo</td>\n",
       "      <td>350001</td>\n",
       "      <td>São Paulo</td>\n",
       "      <td>3550308</td>\n",
       "      <td>São Paulo/SP</td>\n",
       "      <td>11.026457</td>\n",
       "      <td>116271</td>\n",
       "      <td>53804</td>\n",
       "      <td>POLYGON ((338824.283 7388385.211, 338823.81 73...</td>\n",
       "      <td>0.0</td>\n",
       "      <td>NaN</td>\n",
       "    </tr>\n",
       "    <tr>\n",
       "      <th>38</th>\n",
       "      <td>3550308</td>\n",
       "      <td>São Paulo</td>\n",
       "      <td>355030839</td>\n",
       "      <td>JACANA</td>\n",
       "      <td>3501</td>\n",
       "      <td>São Paulo</td>\n",
       "      <td>350001</td>\n",
       "      <td>São Paulo</td>\n",
       "      <td>3550308</td>\n",
       "      <td>São Paulo/SP</td>\n",
       "      <td>7.473932</td>\n",
       "      <td>87329</td>\n",
       "      <td>34705</td>\n",
       "      <td>POLYGON ((339057.719 7403206.175, 339043.253 7...</td>\n",
       "      <td>1.0</td>\n",
       "      <td>JT - JACANA/TREMEMBE</td>\n",
       "    </tr>\n",
       "    <tr>\n",
       "      <th>15</th>\n",
       "      <td>3550308</td>\n",
       "      <td>São Paulo</td>\n",
       "      <td>355030816</td>\n",
       "      <td>CAMPO GRANDE</td>\n",
       "      <td>3501</td>\n",
       "      <td>São Paulo</td>\n",
       "      <td>350001</td>\n",
       "      <td>São Paulo</td>\n",
       "      <td>3550308</td>\n",
       "      <td>São Paulo/SP</td>\n",
       "      <td>12.991325</td>\n",
       "      <td>115925</td>\n",
       "      <td>50009</td>\n",
       "      <td>POLYGON ((329675.249 7379393.452, 329715.641 7...</td>\n",
       "      <td>0.0</td>\n",
       "      <td>NaN</td>\n",
       "    </tr>\n",
       "  </tbody>\n",
       "</table>\n",
       "</div>"
      ],
      "text/plain": [
       "     CD_MUN     NM_MUN    CD_DIST          NM_DIST CD_RGINT   NM_RGINT  \\\n",
       "87  3550308  São Paulo  355030888  VILA LEOPOLDINA     3501  São Paulo   \n",
       "64  3550308  São Paulo  355030865   RAPOSO TAVARES     3501  São Paulo   \n",
       "33  3550308  São Paulo  355030834         IPIRANGA     3501  São Paulo   \n",
       "38  3550308  São Paulo  355030839           JACANA     3501  São Paulo   \n",
       "15  3550308  São Paulo  355030816     CAMPO GRANDE     3501  São Paulo   \n",
       "\n",
       "    CD_RGI     NM_RGI CD_CONCURB    NM_CONCURB   AREA_KM2  total_pop  \\\n",
       "87  350001  São Paulo    3550308  São Paulo/SP   6.988733      46875   \n",
       "64  350001  São Paulo    3550308  São Paulo/SP  12.164313     117738   \n",
       "33  350001  São Paulo    3550308  São Paulo/SP  11.026457     116271   \n",
       "38  350001  São Paulo    3550308  São Paulo/SP   7.473932      87329   \n",
       "15  350001  São Paulo    3550308  São Paulo/SP  12.991325     115925   \n",
       "\n",
       "   total_dom                                           geometry  \\\n",
       "87     20673  POLYGON ((324497.89 7396536.095, 324494.684 73...   \n",
       "64     49006  POLYGON ((319022.919 7388900.499, 318990.285 7...   \n",
       "33     53804  POLYGON ((338824.283 7388385.211, 338823.81 73...   \n",
       "38     34705  POLYGON ((339057.719 7403206.175, 339043.253 7...   \n",
       "15     50009  POLYGON ((329675.249 7379393.452, 329715.641 7...   \n",
       "\n",
       "    qt_inund_ocor               subpref  \n",
       "87            1.0             LA - LAPA  \n",
       "64            5.0          BT - BUTANTA  \n",
       "33            0.0                   NaN  \n",
       "38            1.0  JT - JACANA/TREMEMBE  \n",
       "15            0.0                   NaN  "
      ]
     },
     "execution_count": 15,
     "metadata": {},
     "output_type": "execute_result"
    }
   ],
   "source": [
    "subpref_confere.sample(5)"
   ]
  },
  {
   "cell_type": "markdown",
   "id": "7ff8950d-5d7c-4572-91a6-a4df504272cd",
   "metadata": {},
   "source": [
    "# Salvar GDF"
   ]
  },
  {
   "cell_type": "code",
   "execution_count": 16,
   "id": "f19c1c28-552d-41e4-a44f-6a53630f52ea",
   "metadata": {},
   "outputs": [],
   "source": [
    "save_parquet_excel(\n",
    "    gdf_distritos,\n",
    "    fname='qt_ocorrencias_inund_distrito',\n",
    "    data_path = assets_path,\n",
    "    data_subpath= 'areas_inundacao'\n",
    ")"
   ]
  }
 ],
 "metadata": {
  "kernelspec": {
   "display_name": "Python 3 (ipykernel)",
   "language": "python",
   "name": "python3"
  },
  "language_info": {
   "codemirror_mode": {
    "name": "ipython",
    "version": 3
   },
   "file_extension": ".py",
   "mimetype": "text/x-python",
   "name": "python",
   "nbconvert_exporter": "python",
   "pygments_lexer": "ipython3",
   "version": "3.12.4"
  }
 },
 "nbformat": 4,
 "nbformat_minor": 5
}
