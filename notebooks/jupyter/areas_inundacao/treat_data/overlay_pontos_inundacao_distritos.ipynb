{
 "cells": [
  {
   "cell_type": "code",
   "execution_count": 1,
   "id": "c8a3c75c-2163-4914-b2a6-f4f4e186680d",
   "metadata": {},
   "outputs": [
    {
     "name": "stdout",
     "output_type": "stream",
     "text": [
      "O diretorio do seu projeto é coleta_cebrap\n",
      "Caminho absoluto do diretorio encontrado C:\\Users\\Olívia\\Desktop\\batatinhas\\coleta_cebrap\n",
      "Caminho no path.\n"
     ]
    }
   ],
   "source": [
    "from configuracoes_notebooks import set_proj_dir\n",
    "set_proj_dir()"
   ]
  },
  {
   "cell_type": "code",
   "execution_count": 2,
   "id": "1f2986ed-3afe-4363-ba7d-a4181314e516",
   "metadata": {},
   "outputs": [],
   "source": [
    "import geopandas as gpd\n",
    "import os\n",
    "\n",
    "from notebooks.jupyter import utils\n",
    "from utils import (\n",
    "    get_data_diretorio,\n",
    "    save_parquet_excel,\n",
    ")"
   ]
  },
  {
   "cell_type": "markdown",
   "id": "85781b47-81bf-4d2e-af5d-4d6d5bdf0dd6",
   "metadata": {},
   "source": [
    "# Ocorrências de inundações por Distrito\n",
    "Intersecção entre a camada de distritos e a de pontos de ocorrências de inundação, pelo método 'overlay intersection'."
   ]
  },
  {
   "cell_type": "code",
   "execution_count": 3,
   "id": "39fc5478-3bb5-48b8-9205-940e35c7502b",
   "metadata": {},
   "outputs": [],
   "source": [
    "data_path=get_data_diretorio()\n",
    "assets_path=os.path.join(\n",
    "    data_path,\n",
    "    'assets'\n",
    ")"
   ]
  },
  {
   "cell_type": "markdown",
   "id": "cd29ee5c-79cf-42d3-ad74-a4b9ea138e06",
   "metadata": {},
   "source": [
    "# Dependências\n",
    "Este notebooks é dependente dos arquivos resultantes dos notebooks \"pontos_inundacao_2024\" e \"../../arborizacao_viaria/malha_distritos\""
   ]
  },
  {
   "cell_type": "code",
   "execution_count": 4,
   "id": "6888eea0-3d61-4f3e-9c8c-c0f24946c058",
   "metadata": {},
   "outputs": [],
   "source": [
    "gdf_distritos = gpd.read_parquet(\n",
    "    os.path.join(\n",
    "        assets_path,\n",
    "        'distrito_ibge.parquet'\n",
    "    )\n",
    ")"
   ]
  },
  {
   "cell_type": "code",
   "execution_count": 5,
   "id": "9d133732-b254-4376-ac79-9c39f29b019b",
   "metadata": {},
   "outputs": [],
   "source": [
    "gdf_inund = gpd.read_parquet(\n",
    "    os.path.join(\n",
    "        assets_path,\n",
    "        'areas_inundacao',\n",
    "        'pontos_inundacoes_2024.parquet'\n",
    "    )\n",
    ")"
   ]
  },
  {
   "cell_type": "code",
   "execution_count": 6,
   "id": "c4ed662a-be9c-4454-8f40-32d03bd77de8",
   "metadata": {},
   "outputs": [
    {
     "data": {
      "text/plain": [
       "(237, 5)"
      ]
     },
     "execution_count": 6,
     "metadata": {},
     "output_type": "execute_result"
    }
   ],
   "source": [
    "gdf_inund.shape"
   ]
  },
  {
   "cell_type": "markdown",
   "id": "b3b7103b-fd5c-45df-b757-cac343ddde02",
   "metadata": {},
   "source": [
    "# Overlay Intersection\n",
    "Após realizar a intersecção teremos uma tabela com os pontos e as informações dos distritos em que se encontram"
   ]
  },
  {
   "cell_type": "code",
   "execution_count": 7,
   "id": "83ad53e1-d832-4a00-8f5b-75edd13fc434",
   "metadata": {},
   "outputs": [],
   "source": [
    "overlay_inund = gpd.overlay(\n",
    "    gdf_inund,\n",
    "    gdf_distritos,\n",
    "    how='intersection',\n",
    "    keep_geom_type=True\n",
    ")"
   ]
  },
  {
   "cell_type": "code",
   "execution_count": 8,
   "id": "488b05c8-75f2-4a44-a957-6d0a1bcd6edd",
   "metadata": {},
   "outputs": [
    {
     "data": {
      "text/plain": [
       "(237, 18)"
      ]
     },
     "execution_count": 8,
     "metadata": {},
     "output_type": "execute_result"
    }
   ],
   "source": [
    "overlay_inund.shape"
   ]
  },
  {
   "cell_type": "markdown",
   "id": "3faa8494-d104-4f87-a84c-a67d2d7aae47",
   "metadata": {},
   "source": [
    "# Conferir informações\n",
    "É possível que algum ponto tenha sido apagado por estar na área de fronteira entre dois distritos, ou fora da área do município, devido a alguma incompatibilidade das malhas."
   ]
  },
  {
   "cell_type": "markdown",
   "id": "c0d9af80-f6f0-4856-bc7b-a4f0549db387",
   "metadata": {},
   "source": [
    "Primeiro, vamos ver se algum ponto não apareceu na intersecção:"
   ]
  },
  {
   "cell_type": "code",
   "execution_count": 9,
   "id": "d7fa4dfb-89c1-49d5-b319-638749d6fc07",
   "metadata": {},
   "outputs": [
    {
     "data": {
      "text/html": [
       "<div>\n",
       "<style scoped>\n",
       "    .dataframe tbody tr th:only-of-type {\n",
       "        vertical-align: middle;\n",
       "    }\n",
       "\n",
       "    .dataframe tbody tr th {\n",
       "        vertical-align: top;\n",
       "    }\n",
       "\n",
       "    .dataframe thead th {\n",
       "        text-align: right;\n",
       "    }\n",
       "</style>\n",
       "<table border=\"1\" class=\"dataframe\">\n",
       "  <thead>\n",
       "    <tr style=\"text-align: right;\">\n",
       "      <th></th>\n",
       "      <th>data</th>\n",
       "      <th>ocorrencia</th>\n",
       "      <th>nm_subpref</th>\n",
       "      <th>id_ocorrencias</th>\n",
       "      <th>geometry</th>\n",
       "    </tr>\n",
       "  </thead>\n",
       "  <tbody>\n",
       "    <tr>\n",
       "      <th>9</th>\n",
       "      <td>2024-02-14</td>\n",
       "      <td>INUNDACAO</td>\n",
       "      <td>SM - SAO MATEUS</td>\n",
       "      <td>32143986</td>\n",
       "      <td>POINT (355448.985 7389817.135)</td>\n",
       "    </tr>\n",
       "  </tbody>\n",
       "</table>\n",
       "</div>"
      ],
      "text/plain": [
       "        data ocorrencia       nm_subpref id_ocorrencias  \\\n",
       "9 2024-02-14  INUNDACAO  SM - SAO MATEUS       32143986   \n",
       "\n",
       "                         geometry  \n",
       "9  POINT (355448.985 7389817.135)  "
      ]
     },
     "execution_count": 9,
     "metadata": {},
     "output_type": "execute_result"
    }
   ],
   "source": [
    "gdf_inund.sample()"
   ]
  },
  {
   "cell_type": "code",
   "execution_count": 10,
   "id": "8915a943-9b80-4539-a3b8-1601341d1db9",
   "metadata": {},
   "outputs": [
    {
     "data": {
      "text/html": [
       "<div>\n",
       "<style scoped>\n",
       "    .dataframe tbody tr th:only-of-type {\n",
       "        vertical-align: middle;\n",
       "    }\n",
       "\n",
       "    .dataframe tbody tr th {\n",
       "        vertical-align: top;\n",
       "    }\n",
       "\n",
       "    .dataframe thead th {\n",
       "        text-align: right;\n",
       "    }\n",
       "</style>\n",
       "<table border=\"1\" class=\"dataframe\">\n",
       "  <thead>\n",
       "    <tr style=\"text-align: right;\">\n",
       "      <th></th>\n",
       "      <th>data</th>\n",
       "      <th>ocorrencia</th>\n",
       "      <th>nm_subpref</th>\n",
       "      <th>id_ocorrencias</th>\n",
       "      <th>geometry</th>\n",
       "    </tr>\n",
       "  </thead>\n",
       "  <tbody>\n",
       "  </tbody>\n",
       "</table>\n",
       "</div>"
      ],
      "text/plain": [
       "Empty GeoDataFrame\n",
       "Columns: [data, ocorrencia, nm_subpref, id_ocorrencias, geometry]\n",
       "Index: []"
      ]
     },
     "execution_count": 10,
     "metadata": {},
     "output_type": "execute_result"
    }
   ],
   "source": [
    "gdf_inund.loc[~gdf_inund['id_ocorrencias'].isin(\n",
    "    overlay_inund['id_ocorrencias']\n",
    ")]"
   ]
  },
  {
   "cell_type": "code",
   "execution_count": 11,
   "id": "b249e5e9-9817-40b5-abbb-d69a636509eb",
   "metadata": {},
   "outputs": [
    {
     "name": "stdout",
     "output_type": "stream",
     "text": [
      "O distrito com mais ocorrências de inundações é: ITAQUERA\n"
     ]
    }
   ],
   "source": [
    "print(\n",
    "    f'O distrito com mais ocorrências de inundações é: {\n",
    "        overlay_inund['NM_DIST'].mode()[0]\n",
    "    }'\n",
    ")"
   ]
  },
  {
   "cell_type": "markdown",
   "id": "79fb9271-d959-4ac1-86e2-ecffff3f3b0a",
   "metadata": {},
   "source": [
    "# Salvar GDF"
   ]
  },
  {
   "cell_type": "code",
   "execution_count": 12,
   "id": "e3b89936-5e22-4ed3-bec7-2989084b6408",
   "metadata": {},
   "outputs": [],
   "source": [
    "save_parquet_excel(\n",
    "    overlay_inund,\n",
    "    fname='interseccao_inundacoes2024_distritos',\n",
    "    data_path=assets_path,\n",
    "    data_subpath = 'areas_inundacao'\n",
    ")"
   ]
  }
 ],
 "metadata": {
  "kernelspec": {
   "display_name": "Python 3 (ipykernel)",
   "language": "python",
   "name": "python3"
  },
  "language_info": {
   "codemirror_mode": {
    "name": "ipython",
    "version": 3
   },
   "file_extension": ".py",
   "mimetype": "text/x-python",
   "name": "python",
   "nbconvert_exporter": "python",
   "pygments_lexer": "ipython3",
   "version": "3.12.4"
  }
 },
 "nbformat": 4,
 "nbformat_minor": 5
}
