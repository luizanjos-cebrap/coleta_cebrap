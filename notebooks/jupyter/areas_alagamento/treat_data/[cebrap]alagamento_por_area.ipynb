{
 "cells": [
  {
   "cell_type": "code",
   "execution_count": 1,
   "id": "439b2c2c-fa5b-47a5-9db5-ed9263d9193e",
   "metadata": {},
   "outputs": [
    {
     "name": "stdout",
     "output_type": "stream",
     "text": [
      "O diretorio do seu projeto é coleta_cebrap\n",
      "Caminho absoluto do diretorio encontrado C:\\Users\\Olívia\\Desktop\\batatinhas\\coleta_cebrap\n",
      "Caminho no path.\n"
     ]
    }
   ],
   "source": [
    "try:\n",
    "    from configuracoes_notebooks import set_proj_dir\n",
    "    set_proj_dir()\n",
    "except:\n",
    "    from teste import diretorio_teste\n",
    "    diretorio_teste()"
   ]
  },
  {
   "cell_type": "code",
   "execution_count": 2,
   "id": "5d8e3656-d75e-4d41-9f54-f5b51704bd92",
   "metadata": {},
   "outputs": [],
   "source": [
    "import geopandas as gpd\n",
    "import os\n",
    "\n",
    "from notebooks.jupyter import utils\n",
    "from utils import (\n",
    "    get_data_diretorio,\n",
    "    save_parquet_excel,\n",
    ")"
   ]
  },
  {
   "cell_type": "markdown",
   "id": "f61fb3c3-bacb-4a67-a84e-6e60bb05919f",
   "metadata": {},
   "source": [
    "# Ocorrências de Inundações / Área do Distritos"
   ]
  },
  {
   "cell_type": "code",
   "execution_count": 3,
   "id": "0b2c7631-3e12-4f72-b76c-c0bcabadbeee",
   "metadata": {},
   "outputs": [],
   "source": [
    "data_path = get_data_diretorio()\n",
    "assets_path = os.path.join(\n",
    "    data_path,\n",
    "    'assets'\n",
    ")"
   ]
  },
  {
   "cell_type": "markdown",
   "id": "d3f5b641-35de-46c3-a1b9-4e92c2b18007",
   "metadata": {},
   "source": [
    "# Dependências\n",
    "Este notebook é dependente do arquivo resultante do notebok '.alaga_por_dist'"
   ]
  },
  {
   "cell_type": "code",
   "execution_count": 4,
   "id": "5b968dee-005e-4f42-83e8-97c74d9474e5",
   "metadata": {},
   "outputs": [],
   "source": [
    "gdf_distritos = gpd.read_parquet(\n",
    "    os.path.join(\n",
    "        assets_path,\n",
    "        'areas_alagamento',\n",
    "        'qt_ocorrencias_alaga_distrito.parquet'\n",
    "    )\n",
    ")"
   ]
  },
  {
   "cell_type": "code",
   "execution_count": 5,
   "id": "a7d4c457-f553-4334-81f3-b8a1654332f0",
   "metadata": {},
   "outputs": [
    {
     "data": {
      "text/html": [
       "<div>\n",
       "<style scoped>\n",
       "    .dataframe tbody tr th:only-of-type {\n",
       "        vertical-align: middle;\n",
       "    }\n",
       "\n",
       "    .dataframe tbody tr th {\n",
       "        vertical-align: top;\n",
       "    }\n",
       "\n",
       "    .dataframe thead th {\n",
       "        text-align: right;\n",
       "    }\n",
       "</style>\n",
       "<table border=\"1\" class=\"dataframe\">\n",
       "  <thead>\n",
       "    <tr style=\"text-align: right;\">\n",
       "      <th></th>\n",
       "      <th>CD_MUN</th>\n",
       "      <th>NM_MUN</th>\n",
       "      <th>CD_DIST</th>\n",
       "      <th>NM_DIST</th>\n",
       "      <th>CD_RGINT</th>\n",
       "      <th>NM_RGINT</th>\n",
       "      <th>CD_RGI</th>\n",
       "      <th>NM_RGI</th>\n",
       "      <th>CD_CONCURB</th>\n",
       "      <th>NM_CONCURB</th>\n",
       "      <th>AREA_KM2</th>\n",
       "      <th>total_pop</th>\n",
       "      <th>total_dom</th>\n",
       "      <th>geometry</th>\n",
       "      <th>qt_alaga_ocor</th>\n",
       "    </tr>\n",
       "  </thead>\n",
       "  <tbody>\n",
       "    <tr>\n",
       "      <th>81</th>\n",
       "      <td>3550308</td>\n",
       "      <td>São Paulo</td>\n",
       "      <td>355030882</td>\n",
       "      <td>TUCURUVI</td>\n",
       "      <td>3501</td>\n",
       "      <td>São Paulo</td>\n",
       "      <td>350001</td>\n",
       "      <td>São Paulo</td>\n",
       "      <td>3550308</td>\n",
       "      <td>São Paulo/SP</td>\n",
       "      <td>9.448038</td>\n",
       "      <td>99559</td>\n",
       "      <td>46695</td>\n",
       "      <td>POLYGON ((337127.372 7403854.043, 337182.947 7...</td>\n",
       "      <td>0.0</td>\n",
       "    </tr>\n",
       "    <tr>\n",
       "      <th>77</th>\n",
       "      <td>3550308</td>\n",
       "      <td>São Paulo</td>\n",
       "      <td>355030878</td>\n",
       "      <td>SE</td>\n",
       "      <td>3501</td>\n",
       "      <td>São Paulo</td>\n",
       "      <td>350001</td>\n",
       "      <td>São Paulo</td>\n",
       "      <td>3550308</td>\n",
       "      <td>São Paulo/SP</td>\n",
       "      <td>2.180669</td>\n",
       "      <td>23832</td>\n",
       "      <td>13885</td>\n",
       "      <td>POLYGON ((333930.933 7394149.741, 333884.447 7...</td>\n",
       "      <td>0.0</td>\n",
       "    </tr>\n",
       "    <tr>\n",
       "      <th>71</th>\n",
       "      <td>3550308</td>\n",
       "      <td>São Paulo</td>\n",
       "      <td>355030872</td>\n",
       "      <td>SAO LUCAS</td>\n",
       "      <td>3501</td>\n",
       "      <td>São Paulo</td>\n",
       "      <td>350001</td>\n",
       "      <td>São Paulo</td>\n",
       "      <td>3550308</td>\n",
       "      <td>São Paulo/SP</td>\n",
       "      <td>9.665411</td>\n",
       "      <td>138038</td>\n",
       "      <td>60157</td>\n",
       "      <td>POLYGON ((342744.375 7388097.162, 342725.06 73...</td>\n",
       "      <td>1.0</td>\n",
       "    </tr>\n",
       "  </tbody>\n",
       "</table>\n",
       "</div>"
      ],
      "text/plain": [
       "     CD_MUN     NM_MUN    CD_DIST    NM_DIST CD_RGINT   NM_RGINT  CD_RGI  \\\n",
       "81  3550308  São Paulo  355030882   TUCURUVI     3501  São Paulo  350001   \n",
       "77  3550308  São Paulo  355030878         SE     3501  São Paulo  350001   \n",
       "71  3550308  São Paulo  355030872  SAO LUCAS     3501  São Paulo  350001   \n",
       "\n",
       "       NM_RGI CD_CONCURB    NM_CONCURB  AREA_KM2  total_pop total_dom  \\\n",
       "81  São Paulo    3550308  São Paulo/SP  9.448038      99559     46695   \n",
       "77  São Paulo    3550308  São Paulo/SP  2.180669      23832     13885   \n",
       "71  São Paulo    3550308  São Paulo/SP  9.665411     138038     60157   \n",
       "\n",
       "                                             geometry  qt_alaga_ocor  \n",
       "81  POLYGON ((337127.372 7403854.043, 337182.947 7...            0.0  \n",
       "77  POLYGON ((333930.933 7394149.741, 333884.447 7...            0.0  \n",
       "71  POLYGON ((342744.375 7388097.162, 342725.06 73...            1.0  "
      ]
     },
     "execution_count": 5,
     "metadata": {},
     "output_type": "execute_result"
    }
   ],
   "source": [
    "gdf_distritos.sample(3)"
   ]
  },
  {
   "cell_type": "markdown",
   "id": "523c48d1-5b09-4696-b539-6c89fc3ba3c7",
   "metadata": {},
   "source": [
    "# Cálculo"
   ]
  },
  {
   "cell_type": "code",
   "execution_count": 6,
   "id": "122411c2-626c-45ec-93de-b26ea21e0d8b",
   "metadata": {},
   "outputs": [],
   "source": [
    "gdf_distritos['inund_por_area'] = (\n",
    "    gdf_distritos['qt_alaga_ocor'] / gdf_distritos['geometry'].area\n",
    ")"
   ]
  },
  {
   "cell_type": "markdown",
   "id": "0593a9ea-5281-43e0-9242-088fbfddb795",
   "metadata": {},
   "source": [
    "# Padronização de Entrega"
   ]
  },
  {
   "cell_type": "code",
   "execution_count": 7,
   "id": "2789c109-a67d-469b-bd07-0e83cddbd585",
   "metadata": {},
   "outputs": [
    {
     "data": {
      "text/plain": [
       "Index(['CD_MUN', 'NM_MUN', 'CD_DIST', 'NM_DIST', 'CD_RGINT', 'NM_RGINT',\n",
       "       'CD_RGI', 'NM_RGI', 'CD_CONCURB', 'NM_CONCURB', 'AREA_KM2', 'total_pop',\n",
       "       'total_dom', 'geometry', 'qt_alaga_ocor', 'inund_por_area'],\n",
       "      dtype='object')"
      ]
     },
     "execution_count": 7,
     "metadata": {},
     "output_type": "execute_result"
    }
   ],
   "source": [
    "gdf_distritos.columns\n"
   ]
  },
  {
   "cell_type": "code",
   "execution_count": 8,
   "id": "e1a88967-20b2-402f-bba2-74d71fd24bbf",
   "metadata": {},
   "outputs": [],
   "source": [
    "drop_cols={\n",
    "    'CD_MUN',\n",
    "    'NM_MUN',\n",
    "    'CD_RGINT',\n",
    "    'NM_RGINT',\n",
    "    'CD_RGI',\n",
    "    'NM_RGI',\n",
    "    'CD_CONCURB',\n",
    "    'NM_CONCURB',\n",
    "    'AREA_KM2',\n",
    "    'geometry'\n",
    "}\n",
    "\n",
    "gdf_distritos.drop(\n",
    "    columns=drop_cols,\n",
    "    axis=1,\n",
    "    inplace=True\n",
    ")"
   ]
  },
  {
   "cell_type": "code",
   "execution_count": 9,
   "id": "7bf1cf19-edce-46f2-baf4-fee34332ad42",
   "metadata": {},
   "outputs": [
    {
     "data": {
      "text/html": [
       "<div>\n",
       "<style scoped>\n",
       "    .dataframe tbody tr th:only-of-type {\n",
       "        vertical-align: middle;\n",
       "    }\n",
       "\n",
       "    .dataframe tbody tr th {\n",
       "        vertical-align: top;\n",
       "    }\n",
       "\n",
       "    .dataframe thead th {\n",
       "        text-align: right;\n",
       "    }\n",
       "</style>\n",
       "<table border=\"1\" class=\"dataframe\">\n",
       "  <thead>\n",
       "    <tr style=\"text-align: right;\">\n",
       "      <th></th>\n",
       "      <th>CD_DIST</th>\n",
       "      <th>NM_DIST</th>\n",
       "      <th>total_pop</th>\n",
       "      <th>total_dom</th>\n",
       "      <th>qt_alaga_ocor</th>\n",
       "      <th>inund_por_area</th>\n",
       "    </tr>\n",
       "  </thead>\n",
       "  <tbody>\n",
       "    <tr>\n",
       "      <th>57</th>\n",
       "      <td>355030858</td>\n",
       "      <td>PEDREIRA</td>\n",
       "      <td>163586</td>\n",
       "      <td>64002</td>\n",
       "      <td>1.0</td>\n",
       "      <td>5.410681e-08</td>\n",
       "    </tr>\n",
       "    <tr>\n",
       "      <th>64</th>\n",
       "      <td>355030865</td>\n",
       "      <td>RAPOSO TAVARES</td>\n",
       "      <td>117738</td>\n",
       "      <td>49006</td>\n",
       "      <td>5.0</td>\n",
       "      <td>4.110302e-07</td>\n",
       "    </tr>\n",
       "  </tbody>\n",
       "</table>\n",
       "</div>"
      ],
      "text/plain": [
       "      CD_DIST         NM_DIST  total_pop total_dom  qt_alaga_ocor  \\\n",
       "57  355030858        PEDREIRA     163586     64002            1.0   \n",
       "64  355030865  RAPOSO TAVARES     117738     49006            5.0   \n",
       "\n",
       "    inund_por_area  \n",
       "57    5.410681e-08  \n",
       "64    4.110302e-07  "
      ]
     },
     "execution_count": 9,
     "metadata": {},
     "output_type": "execute_result"
    }
   ],
   "source": [
    "gdf_distritos.sample(2)"
   ]
  },
  {
   "cell_type": "code",
   "execution_count": 10,
   "id": "a07fb281-05ea-458f-bfeb-ac0462ece248",
   "metadata": {},
   "outputs": [],
   "source": [
    "gdf_distritos.set_index('NM_DIST', inplace=True)"
   ]
  },
  {
   "cell_type": "code",
   "execution_count": 11,
   "id": "0cf16a1f-677f-4bd4-b8d7-b523b9ad5c9d",
   "metadata": {},
   "outputs": [
    {
     "data": {
      "text/html": [
       "<div>\n",
       "<style scoped>\n",
       "    .dataframe tbody tr th:only-of-type {\n",
       "        vertical-align: middle;\n",
       "    }\n",
       "\n",
       "    .dataframe tbody tr th {\n",
       "        vertical-align: top;\n",
       "    }\n",
       "\n",
       "    .dataframe thead th {\n",
       "        text-align: right;\n",
       "    }\n",
       "</style>\n",
       "<table border=\"1\" class=\"dataframe\">\n",
       "  <thead>\n",
       "    <tr style=\"text-align: right;\">\n",
       "      <th></th>\n",
       "      <th>CD_DIST</th>\n",
       "      <th>total_pop</th>\n",
       "      <th>total_dom</th>\n",
       "      <th>qt_alaga_ocor</th>\n",
       "      <th>inund_por_area</th>\n",
       "    </tr>\n",
       "    <tr>\n",
       "      <th>NM_DIST</th>\n",
       "      <th></th>\n",
       "      <th></th>\n",
       "      <th></th>\n",
       "      <th></th>\n",
       "      <th></th>\n",
       "    </tr>\n",
       "  </thead>\n",
       "  <tbody>\n",
       "    <tr>\n",
       "      <th>GRAJAU</th>\n",
       "      <td>355030830</td>\n",
       "      <td>384873</td>\n",
       "      <td>154205</td>\n",
       "      <td>4.0</td>\n",
       "      <td>4.321050e-08</td>\n",
       "    </tr>\n",
       "    <tr>\n",
       "      <th>MOEMA</th>\n",
       "      <td>355030832</td>\n",
       "      <td>81899</td>\n",
       "      <td>46035</td>\n",
       "      <td>1.0</td>\n",
       "      <td>1.098326e-07</td>\n",
       "    </tr>\n",
       "  </tbody>\n",
       "</table>\n",
       "</div>"
      ],
      "text/plain": [
       "           CD_DIST  total_pop total_dom  qt_alaga_ocor  inund_por_area\n",
       "NM_DIST                                                               \n",
       "GRAJAU   355030830     384873    154205            4.0    4.321050e-08\n",
       "MOEMA    355030832      81899     46035            1.0    1.098326e-07"
      ]
     },
     "execution_count": 11,
     "metadata": {},
     "output_type": "execute_result"
    }
   ],
   "source": [
    "gdf_distritos.sample(2)"
   ]
  },
  {
   "cell_type": "markdown",
   "id": "50cf2ed8-8361-45d2-97c6-d6082d72573f",
   "metadata": {},
   "source": [
    "# Salvar GDF"
   ]
  },
  {
   "cell_type": "code",
   "execution_count": 12,
   "id": "edd031b3-9e3a-4594-9656-13ed1bcf065c",
   "metadata": {},
   "outputs": [],
   "source": [
    "save_parquet_excel(\n",
    "    gdf_distritos,\n",
    "    fname='alagamento_por_area_distrito',\n",
    "    data_path = assets_path,\n",
    "    data_subpath = 'areas_alagamento'\n",
    ")"
   ]
  },
  {
   "cell_type": "code",
   "execution_count": null,
   "id": "e0fbd831-b394-4d5e-9d05-bbe876c20dce",
   "metadata": {},
   "outputs": [],
   "source": []
  }
 ],
 "metadata": {
  "kernelspec": {
   "display_name": "Python 3 (ipykernel)",
   "language": "python",
   "name": "python3"
  },
  "language_info": {
   "codemirror_mode": {
    "name": "ipython",
    "version": 3
   },
   "file_extension": ".py",
   "mimetype": "text/x-python",
   "name": "python",
   "nbconvert_exporter": "python",
   "pygments_lexer": "ipython3",
   "version": "3.12.4"
  }
 },
 "nbformat": 4,
 "nbformat_minor": 5
}
