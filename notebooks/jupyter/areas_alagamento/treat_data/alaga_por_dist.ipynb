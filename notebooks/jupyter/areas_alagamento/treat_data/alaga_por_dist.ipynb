{
 "cells": [
  {
   "cell_type": "code",
   "execution_count": 1,
   "id": "803f5520-a769-4e79-aa37-b2bca95cea22",
   "metadata": {},
   "outputs": [
    {
     "name": "stdout",
     "output_type": "stream",
     "text": [
      "O diretorio do seu projeto é coleta_cebrap\n",
      "Caminho absoluto do diretorio encontrado C:\\Users\\Olívia\\Desktop\\batatinhas\\coleta_cebrap\n",
      "Caminho no path.\n"
     ]
    }
   ],
   "source": [
    "from configuracoes_notebooks import set_proj_dir\n",
    "set_proj_dir()"
   ]
  },
  {
   "cell_type": "code",
   "execution_count": 2,
   "id": "bfcbc4ff-5aee-46bd-b433-e3594842e32a",
   "metadata": {},
   "outputs": [],
   "source": [
    "import geopandas as gpd\n",
    "import os\n",
    "\n",
    "from notebooks.jupyter import utils\n",
    "from utils import (\n",
    "    get_data_diretorio,\n",
    "    save_parquet_excel,\n",
    ")"
   ]
  },
  {
   "cell_type": "markdown",
   "id": "11e2a2ce-bb4e-47a4-a87d-a744d68c8b90",
   "metadata": {},
   "source": [
    "# Ocorrências de alagamentos por distrito\n",
    "Com base nas intersecções que temos, podemos somar os pontos para sabermos o total em cada distrito"
   ]
  },
  {
   "cell_type": "code",
   "execution_count": 3,
   "id": "514ff063-5a64-4e62-8f48-322805f7d18f",
   "metadata": {},
   "outputs": [],
   "source": [
    "data_path = get_data_diretorio()\n",
    "assets_path = os.path.join(\n",
    "    data_path,\n",
    "    'assets'\n",
    ")"
   ]
  },
  {
   "cell_type": "markdown",
   "id": "c076f43c-1b58-421a-9f83-59f0170118f2",
   "metadata": {},
   "source": [
    "# Dependências\n",
    "Este notebook é dependente dos arquivos resultantes dos notebooks \"overlay_pontos_inundacao_2024\" e \"../../arborizacao_viaria/malha_distritos\""
   ]
  },
  {
   "cell_type": "code",
   "execution_count": 4,
   "id": "6888eea0-3d61-4f3e-9c8c-c0f24946c058",
   "metadata": {},
   "outputs": [],
   "source": [
    "gdf_distritos = gpd.read_parquet(\n",
    "    os.path.join(\n",
    "        assets_path,\n",
    "        'distrito_ibge.parquet'\n",
    "    )\n",
    ")"
   ]
  },
  {
   "cell_type": "code",
   "execution_count": 5,
   "id": "e636f850-8326-4a69-83bf-8bc0948d23d2",
   "metadata": {},
   "outputs": [],
   "source": [
    "overlay_alaga = gpd.read_parquet(\n",
    "    os.path.join(\n",
    "        assets_path,\n",
    "        'areas_alagamento',\n",
    "        'interseccao_alagamentos2024_distritos.parquet'\n",
    "    )\n",
    ")"
   ]
  },
  {
   "cell_type": "markdown",
   "id": "521fc25c-406e-4207-84e1-f8b4f8bac09b",
   "metadata": {},
   "source": [
    "# Soma de pontos por distrito"
   ]
  },
  {
   "cell_type": "code",
   "execution_count": 6,
   "id": "42ee0fae-3d01-4a9b-8fcd-eb45b904e7cb",
   "metadata": {},
   "outputs": [],
   "source": [
    "for i, distrito in enumerate(gdf_distritos['CD_DIST']):\n",
    "    (\n",
    "        gdf_distritos\n",
    "        .loc[gdf_distritos['CD_DIST']==distrito,\n",
    "        'qt_alaga_ocor']\n",
    "    )= len(\n",
    "            overlay_alaga\n",
    "            .loc[overlay_alaga['CD_DIST'] == distrito]\n",
    "        )"
   ]
  },
  {
   "cell_type": "code",
   "execution_count": 7,
   "id": "db7cb96c-f02b-42fc-b69a-612f334266fc",
   "metadata": {},
   "outputs": [
    {
     "data": {
      "text/html": [
       "<div>\n",
       "<style scoped>\n",
       "    .dataframe tbody tr th:only-of-type {\n",
       "        vertical-align: middle;\n",
       "    }\n",
       "\n",
       "    .dataframe tbody tr th {\n",
       "        vertical-align: top;\n",
       "    }\n",
       "\n",
       "    .dataframe thead th {\n",
       "        text-align: right;\n",
       "    }\n",
       "</style>\n",
       "<table border=\"1\" class=\"dataframe\">\n",
       "  <thead>\n",
       "    <tr style=\"text-align: right;\">\n",
       "      <th></th>\n",
       "      <th>CD_MUN</th>\n",
       "      <th>NM_MUN</th>\n",
       "      <th>CD_DIST</th>\n",
       "      <th>NM_DIST</th>\n",
       "      <th>CD_RGINT</th>\n",
       "      <th>NM_RGINT</th>\n",
       "      <th>CD_RGI</th>\n",
       "      <th>NM_RGI</th>\n",
       "      <th>CD_CONCURB</th>\n",
       "      <th>NM_CONCURB</th>\n",
       "      <th>AREA_KM2</th>\n",
       "      <th>total_pop</th>\n",
       "      <th>total_dom</th>\n",
       "      <th>geometry</th>\n",
       "      <th>qt_alaga_ocor</th>\n",
       "    </tr>\n",
       "  </thead>\n",
       "  <tbody>\n",
       "    <tr>\n",
       "      <th>25</th>\n",
       "      <td>3550308</td>\n",
       "      <td>São Paulo</td>\n",
       "      <td>355030826</td>\n",
       "      <td>CONSOLACAO</td>\n",
       "      <td>3501</td>\n",
       "      <td>São Paulo</td>\n",
       "      <td>350001</td>\n",
       "      <td>São Paulo</td>\n",
       "      <td>3550308</td>\n",
       "      <td>São Paulo/SP</td>\n",
       "      <td>3.786948</td>\n",
       "      <td>53144</td>\n",
       "      <td>35777</td>\n",
       "      <td>POLYGON ((331116.481 7395552.671, 331137.408 7...</td>\n",
       "      <td>0.0</td>\n",
       "    </tr>\n",
       "    <tr>\n",
       "      <th>19</th>\n",
       "      <td>3550308</td>\n",
       "      <td>São Paulo</td>\n",
       "      <td>355030820</td>\n",
       "      <td>CARRAO</td>\n",
       "      <td>3501</td>\n",
       "      <td>São Paulo</td>\n",
       "      <td>350001</td>\n",
       "      <td>São Paulo</td>\n",
       "      <td>3550308</td>\n",
       "      <td>São Paulo/SP</td>\n",
       "      <td>7.785398</td>\n",
       "      <td>84397</td>\n",
       "      <td>37987</td>\n",
       "      <td>POLYGON ((342726.019 7393623.533, 342704.551 7...</td>\n",
       "      <td>6.0</td>\n",
       "    </tr>\n",
       "  </tbody>\n",
       "</table>\n",
       "</div>"
      ],
      "text/plain": [
       "     CD_MUN     NM_MUN    CD_DIST     NM_DIST CD_RGINT   NM_RGINT  CD_RGI  \\\n",
       "25  3550308  São Paulo  355030826  CONSOLACAO     3501  São Paulo  350001   \n",
       "19  3550308  São Paulo  355030820      CARRAO     3501  São Paulo  350001   \n",
       "\n",
       "       NM_RGI CD_CONCURB    NM_CONCURB  AREA_KM2  total_pop total_dom  \\\n",
       "25  São Paulo    3550308  São Paulo/SP  3.786948      53144     35777   \n",
       "19  São Paulo    3550308  São Paulo/SP  7.785398      84397     37987   \n",
       "\n",
       "                                             geometry  qt_alaga_ocor  \n",
       "25  POLYGON ((331116.481 7395552.671, 331137.408 7...            0.0  \n",
       "19  POLYGON ((342726.019 7393623.533, 342704.551 7...            6.0  "
      ]
     },
     "execution_count": 7,
     "metadata": {},
     "output_type": "execute_result"
    }
   ],
   "source": [
    "gdf_distritos.sample(2)"
   ]
  },
  {
   "cell_type": "markdown",
   "id": "8dee6fe8-0033-4b22-a2dd-4a06105ad642",
   "metadata": {},
   "source": [
    "# Conferir"
   ]
  },
  {
   "cell_type": "markdown",
   "id": "5acc0dce-864e-4d08-959f-68a988d3ded3",
   "metadata": {},
   "source": [
    "Distritos sem pontos de ocorrências de inundações:"
   ]
  },
  {
   "cell_type": "code",
   "execution_count": 8,
   "id": "0e383a74-e1e7-4359-b26d-71ea81738c52",
   "metadata": {},
   "outputs": [
    {
     "data": {
      "text/plain": [
       "(41, 15)"
      ]
     },
     "execution_count": 8,
     "metadata": {},
     "output_type": "execute_result"
    }
   ],
   "source": [
    "zero_dists=(\n",
    "    gdf_distritos\n",
    "    .loc[gdf_distritos['qt_alaga_ocor']==float(0)]\n",
    ")\n",
    "zero_dists.shape"
   ]
  },
  {
   "cell_type": "code",
   "execution_count": 9,
   "id": "4ed00575-98ef-46ac-bc7c-b37d195f706b",
   "metadata": {},
   "outputs": [
    {
     "data": {
      "text/html": [
       "<div>\n",
       "<style scoped>\n",
       "    .dataframe tbody tr th:only-of-type {\n",
       "        vertical-align: middle;\n",
       "    }\n",
       "\n",
       "    .dataframe tbody tr th {\n",
       "        vertical-align: top;\n",
       "    }\n",
       "\n",
       "    .dataframe thead th {\n",
       "        text-align: right;\n",
       "    }\n",
       "</style>\n",
       "<table border=\"1\" class=\"dataframe\">\n",
       "  <thead>\n",
       "    <tr style=\"text-align: right;\">\n",
       "      <th></th>\n",
       "      <th>CD_MUN</th>\n",
       "      <th>NM_MUN</th>\n",
       "      <th>CD_DIST</th>\n",
       "      <th>NM_DIST</th>\n",
       "      <th>CD_RGINT</th>\n",
       "      <th>NM_RGINT</th>\n",
       "      <th>CD_RGI</th>\n",
       "      <th>NM_RGI</th>\n",
       "      <th>CD_CONCURB</th>\n",
       "      <th>NM_CONCURB</th>\n",
       "      <th>AREA_KM2</th>\n",
       "      <th>total_pop</th>\n",
       "      <th>total_dom</th>\n",
       "      <th>geometry</th>\n",
       "      <th>qt_alaga_ocor</th>\n",
       "    </tr>\n",
       "  </thead>\n",
       "  <tbody>\n",
       "    <tr>\n",
       "      <th>38</th>\n",
       "      <td>3550308</td>\n",
       "      <td>São Paulo</td>\n",
       "      <td>355030839</td>\n",
       "      <td>JACANA</td>\n",
       "      <td>3501</td>\n",
       "      <td>São Paulo</td>\n",
       "      <td>350001</td>\n",
       "      <td>São Paulo</td>\n",
       "      <td>3550308</td>\n",
       "      <td>São Paulo/SP</td>\n",
       "      <td>7.473932</td>\n",
       "      <td>87329</td>\n",
       "      <td>34705</td>\n",
       "      <td>POLYGON ((339057.719 7403206.175, 339043.253 7...</td>\n",
       "      <td>0.0</td>\n",
       "    </tr>\n",
       "    <tr>\n",
       "      <th>50</th>\n",
       "      <td>3550308</td>\n",
       "      <td>São Paulo</td>\n",
       "      <td>355030851</td>\n",
       "      <td>MANDAQUI</td>\n",
       "      <td>3501</td>\n",
       "      <td>São Paulo</td>\n",
       "      <td>350001</td>\n",
       "      <td>São Paulo</td>\n",
       "      <td>3550308</td>\n",
       "      <td>São Paulo/SP</td>\n",
       "      <td>13.202709</td>\n",
       "      <td>103665</td>\n",
       "      <td>45143</td>\n",
       "      <td>POLYGON ((332902.165 7405221.112, 332904.48 74...</td>\n",
       "      <td>0.0</td>\n",
       "    </tr>\n",
       "  </tbody>\n",
       "</table>\n",
       "</div>"
      ],
      "text/plain": [
       "     CD_MUN     NM_MUN    CD_DIST   NM_DIST CD_RGINT   NM_RGINT  CD_RGI  \\\n",
       "38  3550308  São Paulo  355030839    JACANA     3501  São Paulo  350001   \n",
       "50  3550308  São Paulo  355030851  MANDAQUI     3501  São Paulo  350001   \n",
       "\n",
       "       NM_RGI CD_CONCURB    NM_CONCURB   AREA_KM2  total_pop total_dom  \\\n",
       "38  São Paulo    3550308  São Paulo/SP   7.473932      87329     34705   \n",
       "50  São Paulo    3550308  São Paulo/SP  13.202709     103665     45143   \n",
       "\n",
       "                                             geometry  qt_alaga_ocor  \n",
       "38  POLYGON ((339057.719 7403206.175, 339043.253 7...            0.0  \n",
       "50  POLYGON ((332902.165 7405221.112, 332904.48 74...            0.0  "
      ]
     },
     "execution_count": 9,
     "metadata": {},
     "output_type": "execute_result"
    }
   ],
   "source": [
    "zero_dists.sample(2)"
   ]
  },
  {
   "cell_type": "markdown",
   "id": "59d8a44b-71d8-4e0b-aa00-d7d1b1a8c7ef",
   "metadata": {},
   "source": [
    "Distrito com o maior número de ocorrências de inundações:"
   ]
  },
  {
   "cell_type": "code",
   "execution_count": 10,
   "id": "a02724b3-1616-4139-bf02-9b98fd56a5c7",
   "metadata": {},
   "outputs": [
    {
     "data": {
      "text/html": [
       "<div>\n",
       "<style scoped>\n",
       "    .dataframe tbody tr th:only-of-type {\n",
       "        vertical-align: middle;\n",
       "    }\n",
       "\n",
       "    .dataframe tbody tr th {\n",
       "        vertical-align: top;\n",
       "    }\n",
       "\n",
       "    .dataframe thead th {\n",
       "        text-align: right;\n",
       "    }\n",
       "</style>\n",
       "<table border=\"1\" class=\"dataframe\">\n",
       "  <thead>\n",
       "    <tr style=\"text-align: right;\">\n",
       "      <th></th>\n",
       "      <th>CD_MUN</th>\n",
       "      <th>NM_MUN</th>\n",
       "      <th>CD_DIST</th>\n",
       "      <th>NM_DIST</th>\n",
       "      <th>CD_RGINT</th>\n",
       "      <th>NM_RGINT</th>\n",
       "      <th>CD_RGI</th>\n",
       "      <th>NM_RGI</th>\n",
       "      <th>CD_CONCURB</th>\n",
       "      <th>NM_CONCURB</th>\n",
       "      <th>AREA_KM2</th>\n",
       "      <th>total_pop</th>\n",
       "      <th>total_dom</th>\n",
       "      <th>geometry</th>\n",
       "      <th>qt_alaga_ocor</th>\n",
       "    </tr>\n",
       "  </thead>\n",
       "  <tbody>\n",
       "    <tr>\n",
       "      <th>43</th>\n",
       "      <td>3550308</td>\n",
       "      <td>São Paulo</td>\n",
       "      <td>355030844</td>\n",
       "      <td>JARDIM HELENA</td>\n",
       "      <td>3501</td>\n",
       "      <td>São Paulo</td>\n",
       "      <td>350001</td>\n",
       "      <td>São Paulo</td>\n",
       "      <td>3550308</td>\n",
       "      <td>São Paulo/SP</td>\n",
       "      <td>9.133494</td>\n",
       "      <td>129409</td>\n",
       "      <td>48496</td>\n",
       "      <td>POLYGON ((355699.653 7401143.506, 355536.385 7...</td>\n",
       "      <td>36.0</td>\n",
       "    </tr>\n",
       "  </tbody>\n",
       "</table>\n",
       "</div>"
      ],
      "text/plain": [
       "     CD_MUN     NM_MUN    CD_DIST        NM_DIST CD_RGINT   NM_RGINT  CD_RGI  \\\n",
       "43  3550308  São Paulo  355030844  JARDIM HELENA     3501  São Paulo  350001   \n",
       "\n",
       "       NM_RGI CD_CONCURB    NM_CONCURB  AREA_KM2  total_pop total_dom  \\\n",
       "43  São Paulo    3550308  São Paulo/SP  9.133494     129409     48496   \n",
       "\n",
       "                                             geometry  qt_alaga_ocor  \n",
       "43  POLYGON ((355699.653 7401143.506, 355536.385 7...           36.0  "
      ]
     },
     "execution_count": 10,
     "metadata": {},
     "output_type": "execute_result"
    }
   ],
   "source": [
    "(\n",
    "    gdf_distritos\n",
    "    .loc[gdf_distritos['qt_alaga_ocor']==gdf_distritos['qt_alaga_ocor'].max()]\n",
    ")"
   ]
  },
  {
   "cell_type": "markdown",
   "id": "ba20f1ee-babb-493a-aae5-14102098aa13",
   "metadata": {},
   "source": [
    "Distrito com o menor número de alagamentos (excluindo os sem ocorrência nenhuma):"
   ]
  },
  {
   "cell_type": "code",
   "execution_count": 11,
   "id": "f4030910-1731-42e9-b259-95e78b5b8274",
   "metadata": {},
   "outputs": [
    {
     "data": {
      "text/plain": [
       "(24, 15)"
      ]
     },
     "execution_count": 11,
     "metadata": {},
     "output_type": "execute_result"
    }
   ],
   "source": [
    "min_positiv=(\n",
    "    gdf_distritos\n",
    "    .loc[gdf_distritos['qt_alaga_ocor']>0]\n",
    ")\n",
    "min_dists=(\n",
    "    gdf_distritos\n",
    "    .loc[gdf_distritos['qt_alaga_ocor']==min_positiv['qt_alaga_ocor'].min()]\n",
    ")\n",
    "min_dists.shape"
   ]
  },
  {
   "cell_type": "code",
   "execution_count": 12,
   "id": "c0459c91-9d5d-4416-aad6-1ce65b7d995c",
   "metadata": {},
   "outputs": [
    {
     "data": {
      "text/html": [
       "<div>\n",
       "<style scoped>\n",
       "    .dataframe tbody tr th:only-of-type {\n",
       "        vertical-align: middle;\n",
       "    }\n",
       "\n",
       "    .dataframe tbody tr th {\n",
       "        vertical-align: top;\n",
       "    }\n",
       "\n",
       "    .dataframe thead th {\n",
       "        text-align: right;\n",
       "    }\n",
       "</style>\n",
       "<table border=\"1\" class=\"dataframe\">\n",
       "  <thead>\n",
       "    <tr style=\"text-align: right;\">\n",
       "      <th></th>\n",
       "      <th>CD_MUN</th>\n",
       "      <th>NM_MUN</th>\n",
       "      <th>CD_DIST</th>\n",
       "      <th>NM_DIST</th>\n",
       "      <th>CD_RGINT</th>\n",
       "      <th>NM_RGINT</th>\n",
       "      <th>CD_RGI</th>\n",
       "      <th>NM_RGI</th>\n",
       "      <th>CD_CONCURB</th>\n",
       "      <th>NM_CONCURB</th>\n",
       "      <th>AREA_KM2</th>\n",
       "      <th>total_pop</th>\n",
       "      <th>total_dom</th>\n",
       "      <th>geometry</th>\n",
       "      <th>qt_alaga_ocor</th>\n",
       "    </tr>\n",
       "  </thead>\n",
       "  <tbody>\n",
       "    <tr>\n",
       "      <th>28</th>\n",
       "      <td>3550308</td>\n",
       "      <td>São Paulo</td>\n",
       "      <td>355030829</td>\n",
       "      <td>FREGUESIA DO O</td>\n",
       "      <td>3501</td>\n",
       "      <td>São Paulo</td>\n",
       "      <td>350001</td>\n",
       "      <td>São Paulo</td>\n",
       "      <td>3550308</td>\n",
       "      <td>São Paulo/SP</td>\n",
       "      <td>11.038192</td>\n",
       "      <td>137240</td>\n",
       "      <td>59796</td>\n",
       "      <td>POLYGON ((327061.163 7399198.253, 327009.96 73...</td>\n",
       "      <td>1.0</td>\n",
       "    </tr>\n",
       "    <tr>\n",
       "      <th>91</th>\n",
       "      <td>3550308</td>\n",
       "      <td>São Paulo</td>\n",
       "      <td>355030892</td>\n",
       "      <td>VILA MEDEIROS</td>\n",
       "      <td>3501</td>\n",
       "      <td>São Paulo</td>\n",
       "      <td>350001</td>\n",
       "      <td>São Paulo</td>\n",
       "      <td>3550308</td>\n",
       "      <td>São Paulo/SP</td>\n",
       "      <td>7.875923</td>\n",
       "      <td>114939</td>\n",
       "      <td>48273</td>\n",
       "      <td>POLYGON ((338883.438 7400767.46, 338872.694 74...</td>\n",
       "      <td>1.0</td>\n",
       "    </tr>\n",
       "  </tbody>\n",
       "</table>\n",
       "</div>"
      ],
      "text/plain": [
       "     CD_MUN     NM_MUN    CD_DIST         NM_DIST CD_RGINT   NM_RGINT  CD_RGI  \\\n",
       "28  3550308  São Paulo  355030829  FREGUESIA DO O     3501  São Paulo  350001   \n",
       "91  3550308  São Paulo  355030892   VILA MEDEIROS     3501  São Paulo  350001   \n",
       "\n",
       "       NM_RGI CD_CONCURB    NM_CONCURB   AREA_KM2  total_pop total_dom  \\\n",
       "28  São Paulo    3550308  São Paulo/SP  11.038192     137240     59796   \n",
       "91  São Paulo    3550308  São Paulo/SP   7.875923     114939     48273   \n",
       "\n",
       "                                             geometry  qt_alaga_ocor  \n",
       "28  POLYGON ((327061.163 7399198.253, 327009.96 73...            1.0  \n",
       "91  POLYGON ((338883.438 7400767.46, 338872.694 74...            1.0  "
      ]
     },
     "execution_count": 12,
     "metadata": {},
     "output_type": "execute_result"
    }
   ],
   "source": [
    "min_dists.sample(2)"
   ]
  },
  {
   "cell_type": "markdown",
   "id": "7687426a-4e8c-4d92-80b4-12f857b87b84",
   "metadata": {},
   "source": [
    "Nós vimos que a subprefeitura com mais pontos de ocorrências de inundação é a de São Miguel Paulista. Vamos confirmar se mantém quando calculamos pelos distritos:"
   ]
  },
  {
   "cell_type": "code",
   "execution_count": 13,
   "id": "73c54aa6-7e45-4fbb-8499-748e9c35f8b2",
   "metadata": {},
   "outputs": [
    {
     "data": {
      "text/plain": [
       "Index(['data', 'ocorrencia', 'nm_subpref', 'id_ocorrencias', 'CD_MUN',\n",
       "       'NM_MUN', 'CD_DIST', 'NM_DIST', 'CD_RGINT', 'NM_RGINT', 'CD_RGI',\n",
       "       'NM_RGI', 'CD_CONCURB', 'NM_CONCURB', 'AREA_KM2', 'total_pop',\n",
       "       'total_dom', 'geometry'],\n",
       "      dtype='object')"
      ]
     },
     "execution_count": 13,
     "metadata": {},
     "output_type": "execute_result"
    }
   ],
   "source": [
    "overlay_alaga.columns"
   ]
  },
  {
   "cell_type": "code",
   "execution_count": 14,
   "id": "db83d6c5-78cb-41ac-84c0-6d751e8d4c5e",
   "metadata": {},
   "outputs": [],
   "source": [
    "subpref_confere = gdf_distritos.copy()\n",
    "for i, distrito in enumerate(subpref_confere['CD_DIST']):\n",
    "    if overlay_alaga['CD_DIST'].str.contains(distrito).any():\n",
    "        (\n",
    "            subpref_confere\n",
    "            .loc[subpref_confere['CD_DIST']==distrito, \n",
    "            'subpref']\n",
    "        )=(\n",
    "            overlay_alaga\n",
    "            .loc[overlay_alaga['CD_DIST']==distrito]\n",
    "            .head(1)['nm_subpref']\n",
    "            .values[0]\n",
    "        )"
   ]
  },
  {
   "cell_type": "code",
   "execution_count": 15,
   "id": "8a534650-80e7-41c3-8d15-0e1d10eb48f3",
   "metadata": {},
   "outputs": [
    {
     "data": {
      "text/html": [
       "<div>\n",
       "<style scoped>\n",
       "    .dataframe tbody tr th:only-of-type {\n",
       "        vertical-align: middle;\n",
       "    }\n",
       "\n",
       "    .dataframe tbody tr th {\n",
       "        vertical-align: top;\n",
       "    }\n",
       "\n",
       "    .dataframe thead th {\n",
       "        text-align: right;\n",
       "    }\n",
       "</style>\n",
       "<table border=\"1\" class=\"dataframe\">\n",
       "  <thead>\n",
       "    <tr style=\"text-align: right;\">\n",
       "      <th></th>\n",
       "      <th>CD_MUN</th>\n",
       "      <th>NM_MUN</th>\n",
       "      <th>CD_DIST</th>\n",
       "      <th>NM_DIST</th>\n",
       "      <th>CD_RGINT</th>\n",
       "      <th>NM_RGINT</th>\n",
       "      <th>CD_RGI</th>\n",
       "      <th>NM_RGI</th>\n",
       "      <th>CD_CONCURB</th>\n",
       "      <th>NM_CONCURB</th>\n",
       "      <th>AREA_KM2</th>\n",
       "      <th>total_pop</th>\n",
       "      <th>total_dom</th>\n",
       "      <th>geometry</th>\n",
       "      <th>qt_alaga_ocor</th>\n",
       "      <th>subpref</th>\n",
       "    </tr>\n",
       "  </thead>\n",
       "  <tbody>\n",
       "    <tr>\n",
       "      <th>53</th>\n",
       "      <td>3550308</td>\n",
       "      <td>São Paulo</td>\n",
       "      <td>355030854</td>\n",
       "      <td>MORUMBI</td>\n",
       "      <td>3501</td>\n",
       "      <td>São Paulo</td>\n",
       "      <td>350001</td>\n",
       "      <td>São Paulo</td>\n",
       "      <td>3550308</td>\n",
       "      <td>São Paulo/SP</td>\n",
       "      <td>11.462372</td>\n",
       "      <td>43690</td>\n",
       "      <td>20710</td>\n",
       "      <td>POLYGON ((325192.046 7387331.143, 325166.217 7...</td>\n",
       "      <td>0.0</td>\n",
       "      <td>NaN</td>\n",
       "    </tr>\n",
       "    <tr>\n",
       "      <th>39</th>\n",
       "      <td>3550308</td>\n",
       "      <td>São Paulo</td>\n",
       "      <td>355030840</td>\n",
       "      <td>JAGUARA</td>\n",
       "      <td>3501</td>\n",
       "      <td>São Paulo</td>\n",
       "      <td>350001</td>\n",
       "      <td>São Paulo</td>\n",
       "      <td>3550308</td>\n",
       "      <td>São Paulo/SP</td>\n",
       "      <td>4.533105</td>\n",
       "      <td>24730</td>\n",
       "      <td>10783</td>\n",
       "      <td>POLYGON ((320979.577 7398155.785, 320973.947 7...</td>\n",
       "      <td>0.0</td>\n",
       "      <td>NaN</td>\n",
       "    </tr>\n",
       "    <tr>\n",
       "      <th>14</th>\n",
       "      <td>3550308</td>\n",
       "      <td>São Paulo</td>\n",
       "      <td>355030815</td>\n",
       "      <td>CAMPO BELO</td>\n",
       "      <td>3501</td>\n",
       "      <td>São Paulo</td>\n",
       "      <td>350001</td>\n",
       "      <td>São Paulo</td>\n",
       "      <td>3550308</td>\n",
       "      <td>São Paulo/SP</td>\n",
       "      <td>8.842744</td>\n",
       "      <td>71034</td>\n",
       "      <td>36663</td>\n",
       "      <td>POLYGON ((329439.691 7384123.427, 329399.519 7...</td>\n",
       "      <td>3.0</td>\n",
       "      <td>SA - SANTO AMARO</td>\n",
       "    </tr>\n",
       "  </tbody>\n",
       "</table>\n",
       "</div>"
      ],
      "text/plain": [
       "     CD_MUN     NM_MUN    CD_DIST     NM_DIST CD_RGINT   NM_RGINT  CD_RGI  \\\n",
       "53  3550308  São Paulo  355030854     MORUMBI     3501  São Paulo  350001   \n",
       "39  3550308  São Paulo  355030840     JAGUARA     3501  São Paulo  350001   \n",
       "14  3550308  São Paulo  355030815  CAMPO BELO     3501  São Paulo  350001   \n",
       "\n",
       "       NM_RGI CD_CONCURB    NM_CONCURB   AREA_KM2  total_pop total_dom  \\\n",
       "53  São Paulo    3550308  São Paulo/SP  11.462372      43690     20710   \n",
       "39  São Paulo    3550308  São Paulo/SP   4.533105      24730     10783   \n",
       "14  São Paulo    3550308  São Paulo/SP   8.842744      71034     36663   \n",
       "\n",
       "                                             geometry  qt_alaga_ocor  \\\n",
       "53  POLYGON ((325192.046 7387331.143, 325166.217 7...            0.0   \n",
       "39  POLYGON ((320979.577 7398155.785, 320973.947 7...            0.0   \n",
       "14  POLYGON ((329439.691 7384123.427, 329399.519 7...            3.0   \n",
       "\n",
       "             subpref  \n",
       "53               NaN  \n",
       "39               NaN  \n",
       "14  SA - SANTO AMARO  "
      ]
     },
     "execution_count": 15,
     "metadata": {},
     "output_type": "execute_result"
    }
   ],
   "source": [
    "subpref_confere.sample(3)"
   ]
  },
  {
   "cell_type": "markdown",
   "id": "7ff8950d-5d7c-4572-91a6-a4df504272cd",
   "metadata": {},
   "source": [
    "# Salvar GDF"
   ]
  },
  {
   "cell_type": "code",
   "execution_count": 16,
   "id": "f19c1c28-552d-41e4-a44f-6a53630f52ea",
   "metadata": {},
   "outputs": [],
   "source": [
    "save_parquet_excel(\n",
    "    gdf_distritos,\n",
    "    fname='qt_ocorrencias_alaga_distrito',\n",
    "    data_path = assets_path,\n",
    "    data_subpath= 'areas_alagamento'\n",
    ")"
   ]
  }
 ],
 "metadata": {
  "kernelspec": {
   "display_name": "Python 3 (ipykernel)",
   "language": "python",
   "name": "python3"
  },
  "language_info": {
   "codemirror_mode": {
    "name": "ipython",
    "version": 3
   },
   "file_extension": ".py",
   "mimetype": "text/x-python",
   "name": "python",
   "nbconvert_exporter": "python",
   "pygments_lexer": "ipython3",
   "version": "3.12.4"
  }
 },
 "nbformat": 4,
 "nbformat_minor": 5
}
